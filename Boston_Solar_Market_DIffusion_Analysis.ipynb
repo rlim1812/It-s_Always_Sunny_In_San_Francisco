{
 "cells": [
  {
   "cell_type": "markdown",
   "metadata": {},
   "source": [
    "[Link to the destination](#the_destination)"
   ]
  },
  {
   "cell_type": "markdown",
   "metadata": {
    "collapsed": false
   },
   "source": [
    "## NOW FOCUSED ON OWN-OCCUPIED SINGLE FAMILY"
   ]
  },
  {
   "cell_type": "markdown",
   "metadata": {},
   "source": [
    "### updates since last version:\n",
    "\n",
    "Added new features pertaining to aggregate stats. Best rfc for 2010-15 had nearly 50/50 accuracy\n",
    "\n",
    "Now focus on mappping / visualization and timing effects"
   ]
  },
  {
   "cell_type": "code",
   "execution_count": 1,
   "metadata": {
    "collapsed": false
   },
   "outputs": [],
   "source": [
    "import pandas as pd\n",
    "import numpy as np\n",
    "import shapely\n",
    "import fiona\n",
    "from shapely import geometry\n",
    "from shapely.geometry import Polygon\n",
    "from shapely.geometry import MultiPolygon\n",
    "from shapely.geometry import Point\n",
    "import json\n",
    "import geopandas as gpd\n",
    "import matplotlib.pyplot as plt\n",
    "import seaborn as sb\n",
    "%matplotlib inline\n",
    "import mplleaflet as mpl\n",
    "import pysal as ps\n"
   ]
  },
  {
   "cell_type": "code",
   "execution_count": 2,
   "metadata": {
    "collapsed": false
   },
   "outputs": [
    {
     "name": "stderr",
     "output_type": "stream",
     "text": [
      "/Applications/anaconda/envs/dsi/lib/python2.7/site-packages/sklearn/cross_validation.py:44: DeprecationWarning: This module was deprecated in version 0.18 in favor of the model_selection module into which all the refactored classes and functions are moved. Also note that the interface of the new CV iterators are different from that of this module. This module will be removed in 0.20.\n",
      "  \"This module will be removed in 0.20.\", DeprecationWarning)\n",
      "/Applications/anaconda/envs/dsi/lib/python2.7/site-packages/sklearn/grid_search.py:43: DeprecationWarning: This module was deprecated in version 0.18 in favor of the model_selection module into which all the refactored classes and functions are moved. This module will be removed in 0.20.\n",
      "  DeprecationWarning)\n"
     ]
    }
   ],
   "source": [
    "# IMPORT MODULES FOR REGRESSION / CLASSIFICATION\n",
    "\n",
    "\n",
    "from sklearn.preprocessing import PolynomialFeatures, StandardScaler, Imputer\n",
    "from sklearn.model_selection import StratifiedShuffleSplit\n",
    "\n",
    "from sklearn.cross_validation import cross_val_score, KFold, train_test_split\n",
    "from sklearn.metrics import confusion_matrix, accuracy_score, classification_report, roc_auc_score\n",
    "from sklearn.grid_search import GridSearchCV\n",
    "\n",
    "from sklearn.linear_model import LogisticRegression, Ridge, Lasso, RidgeCV, LassoCV\n",
    "from sklearn.tree import DecisionTreeRegressor\n",
    "from sklearn.ensemble import RandomForestClassifier, ExtraTreesClassifier, BaggingClassifier\n",
    "from sklearn.svm import SVC\n",
    "\n"
   ]
  },
  {
   "cell_type": "markdown",
   "metadata": {},
   "source": [
    "### Start with most recent backup copy of the combined dataframe"
   ]
  },
  {
   "cell_type": "code",
   "execution_count": 3,
   "metadata": {
    "collapsed": false
   },
   "outputs": [
    {
     "name": "stderr",
     "output_type": "stream",
     "text": [
      "/Applications/anaconda/envs/dsi/lib/python2.7/site-packages/IPython/core/interactiveshell.py:2723: DtypeWarning: Columns (171,172,212,224,231,256,306,309) have mixed types. Specify dtype option on import or set low_memory=False.\n",
      "  interactivity=interactivity, compiler=compiler, result=result)\n"
     ]
    }
   ],
   "source": [
    "model_file = pd.read_csv('/Users/DavidStier/Downloads/Model_File_CT-backup4.csv')"
   ]
  },
  {
   "cell_type": "code",
   "execution_count": 4,
   "metadata": {
    "collapsed": false
   },
   "outputs": [
    {
     "data": {
      "text/plain": [
       "(92052, 365)"
      ]
     },
     "execution_count": 4,
     "metadata": {},
     "output_type": "execute_result"
    }
   ],
   "source": [
    "model_file.shape"
   ]
  },
  {
   "cell_type": "markdown",
   "metadata": {},
   "source": [
    "### Clean up 'legacy issues' from imported csv"
   ]
  },
  {
   "cell_type": "code",
   "execution_count": 5,
   "metadata": {
    "collapsed": false
   },
   "outputs": [],
   "source": [
    "first_pass_model_file_col_list = model_file.columns.tolist()\n",
    "first_pass_model_file_dtypes_list = model_file.dtypes.tolist()\n",
    "first_pass_model_file_first_Row = model_file[1:2]\n",
    "first_pass_model_file_first_Row.to_csv('/Users/DavidStier/Downloads/first_pass_model_filerow7.csv')"
   ]
  },
  {
   "cell_type": "code",
   "execution_count": 6,
   "metadata": {
    "collapsed": false
   },
   "outputs": [],
   "source": [
    "## \n",
    "# Model file had included 2 features that were proxies for having installed solar\n",
    "##\n",
    "\n",
    "model_file.drop(['Valuation_all_sol_prmts'], inplace = True, axis = 1)\n",
    "model_file.drop(['NUM_PERMITS_for_solar'], inplace = True, axis = 1)\n",
    "\n",
    "## \n",
    "#  Model file 'neighborhood' and Outbuilding 1-3 columns had mixed content types - specifically the # zero was entered for some rows\n",
    "##\n",
    "\n",
    "model_file['neighborhood'].replace(0,'Not Provided',inplace=True)\n",
    "model_file['Outbldg_1'].replace(0,'Not Provided',inplace=True)\n",
    "model_file['Outbldg_2'].replace(0,'Not Provided',inplace=True)\n",
    "model_file['Outbldg_3'].replace(0,'Not Provided',inplace=True)\n",
    "model_file['Outbldg_3'].replace('0','Not Provided',inplace=True)\n",
    "\n",
    "##\n",
    "# Some census tract columns had 'nan' instead of NaN and Dtype needs to be Float\n",
    "##\n",
    "\n",
    "model_file['ctbdp040var_HC01_VC66'].replace(['-'],0, inplace = True) \n",
    "model_file['ctbdp040var_HC01_VC66'] = model_file['ctbdp040var_HC01_VC66'].astype(float)\n",
    "\n",
    "model_file['ctbdp040var_HC01_VC67'].replace(['-'],0, inplace = True) \n",
    "model_file['ctbdp040var_HC01_VC67'] = model_file['ctbdp040var_HC01_VC67'].astype(float)\n",
    "\n",
    "model_file['ctbdp040var_HC01_VC143'].replace(['-'],0, inplace = True) \n",
    "model_file['ctbdp040var_HC01_VC143'].replace(['4,000+'],4000, inplace = True) \n",
    "model_file['ctbdp040var_HC01_VC143'] = model_file['ctbdp040var_HC01_VC143'].astype(float)\n",
    "\n",
    "model_file['ctbdp040var_HC01_VC151'].replace(['-'],0, inplace = True) \n",
    "model_file['ctbdp040var_HC01_VC151'].replace(['1,000+'],1000, inplace = True) \n",
    "model_file['ctbdp040var_HC01_VC151'].replace(['100-'],100, inplace = True) \n",
    "model_file['ctbdp040var_HC01_VC151'] = model_file['ctbdp040var_HC01_VC151'].astype(float)\n",
    "\n",
    "model_file['ctbdp040var_HC01_VC185'].replace(['-'],0, inplace = True) \n",
    "model_file['ctbdp040var_HC01_VC185'].replace(['100-'],100, inplace = True) \n",
    "model_file['ctbdp040var_HC01_VC185'].replace(['2,000+'],2000, inplace = True) \n",
    "model_file['ctbdp040var_HC01_VC185'] = model_file['ctbdp040var_HC01_VC185'].astype(float)\n",
    "\n",
    "model_file['ctb19049var_HD01_VD03'].replace(['2,500-'],2500, inplace = True) \n",
    "model_file['ctb19049var_HD01_VD03'].replace(['-'],0, inplace = True) \n",
    "model_file['ctb19049var_HD01_VD03'] = model_file['ctb19049var_HD01_VD03'].astype(float)\n",
    "\n",
    "model_file['ctb19049var_HD01_VD06'].replace(['-'],0, inplace = True) \n",
    "model_file['ctb19049var_HD01_VD06'] = model_file['ctb19049var_HD01_VD06'].astype(float)\n",
    "\n",
    "model_file['ctbdp040var_HC01_VC125'].replace(['1,000,000+'],1000000, inplace=True)  #nan and '-' and 1,000,000+\n",
    "model_file['ctbdp040var_HC01_VC125'].replace(['-'],0, inplace = True)  #nan and '-' and 1,000,000+\n",
    "model_file['ctbdp040var_HC01_VC125'] = model_file['ctbdp040var_HC01_VC125'].astype(float)\n",
    "\n"
   ]
  },
  {
   "cell_type": "code",
   "execution_count": 7,
   "metadata": {
    "collapsed": false
   },
   "outputs": [],
   "source": [
    "##\n",
    "# Remove other permit activity if parcel installed solar that same year\n",
    "# some homes may have had other electrical or structural work done at the same time as when they installed solar\n",
    "\n",
    "\n",
    "reset_permit_info  =   {2016 : ['NOT_Top2016PermTypdollars','NOT_Top2016PermTypNum','Top2016PermTypdollars', 'Top2016PermTypNum'],\n",
    "                        2015  : ['NOT_Top2015PermTypdollars','NOT_Top2015PermTypNum','Top2015PermTypdollars', 'Top2015PermTypNum'],\n",
    "                        2014  : ['NOT_Top2014PermTypdollars','NOT_Top2014PermTypNum','Top2014PermTypdollars', 'Top2014PermTypNum'],\n",
    "                        2013  : ['NOT_Top2013PermTypdollars','NOT_Top2013PermTypNum','Top2013PermTypdollars', 'Top2013PermTypNum'],\n",
    "                        2012  : ['NOT_Top2012PermTypdollars','NOT_Top2012PermTypNum','Top2012PermTypdollars', 'Top2012PermTypNum'],\n",
    "                        2011  : ['NOT_Top2011PermTypdollars','NOT_Top2011PermTypNum','Top2011PermTypdollars', 'Top2011PermTypNum'], \n",
    "                        2010  : ['NOT_Top2010PermTypdollars','NOT_Top2010PermTypNum','Top2010PermTypdollars', 'Top2010PermTypNum']}\n",
    "\n",
    "for key, value in reset_permit_info.items():\n",
    "    model_file.loc[model_file['Year_SOLAR'] == key,  value] = 0\n"
   ]
  },
  {
   "cell_type": "code",
   "execution_count": 8,
   "metadata": {
    "collapsed": false
   },
   "outputs": [
    {
     "name": "stdout",
     "output_type": "stream",
     "text": [
      "5451990761.01\n",
      "3846780651.87\n",
      ">>>>>>>>>>\n",
      "1134857483.1\n",
      "1052600682.56\n"
     ]
    }
   ],
   "source": [
    "##\n",
    "# Check to make sure that the calc's affected the #s appropriately (eyeball check)\n",
    "#\n",
    "\n",
    "print model_file['NOT_Top2015PermTypdollars'].sum()\n",
    "print model_file['NOT_Top2014PermTypdollars'].sum()\n",
    "print '>>>>>>>>>>'\n",
    "print model_file['Top2015PermTypdollars'].sum()\n",
    "print model_file['Top2014PermTypdollars'].sum()\n"
   ]
  },
  {
   "cell_type": "markdown",
   "metadata": {},
   "source": [
    "## Add 1/4 mile square grids"
   ]
  },
  {
   "cell_type": "code",
   "execution_count": 9,
   "metadata": {
    "collapsed": false
   },
   "outputs": [],
   "source": [
    "min_lat = 42.22\n",
    "max_lat = 42.4\n",
    "min_lon = -71.2\n",
    "max_lon = -70.97\n",
    "Qlat_incr = 0.001812\n",
    "Qlon_incr = 0.002438\n",
    "\n",
    "#Now that lat and lon are associated with the PIDs we want, use lambda on model_file to call on the PID_LAT_LON dframe\n",
    "model_file['Qmile_grid_cell_R']  = (model_file['Longitude']- min_lon) // Qlon_incr\n",
    "model_file['Qmile_grid_cell_C'] = (model_file['Latitude']- min_lat) // Qlat_incr\n",
    "model_file['Qmile_grid_cell'] =  zip(model_file['Qmile_grid_cell_C'],model_file['Qmile_grid_cell_R'])\n"
   ]
  },
  {
   "cell_type": "code",
   "execution_count": 10,
   "metadata": {
    "collapsed": false
   },
   "outputs": [
    {
     "data": {
      "text/plain": [
       "(92052, 366)"
      ]
     },
     "execution_count": 10,
     "metadata": {},
     "output_type": "execute_result"
    }
   ],
   "source": [
    "model_file.shape"
   ]
  },
  {
   "cell_type": "code",
   "execution_count": 11,
   "metadata": {
    "collapsed": false
   },
   "outputs": [
    {
     "data": {
      "text/plain": [
       "804"
      ]
     },
     "execution_count": 11,
     "metadata": {},
     "output_type": "execute_result"
    }
   ],
   "source": [
    "len(model_file['hmile_grid_cell'].unique())"
   ]
  },
  {
   "cell_type": "code",
   "execution_count": 12,
   "metadata": {
    "collapsed": false
   },
   "outputs": [
    {
     "data": {
      "text/plain": [
       "array([   nan,  2015.,  2011.,  2014.,  2016.,  2012.,  2013.,  2010.])"
      ]
     },
     "execution_count": 12,
     "metadata": {},
     "output_type": "execute_result"
    }
   ],
   "source": [
    "model_file['Year_SOLAR'].unique()"
   ]
  },
  {
   "cell_type": "code",
   "execution_count": 13,
   "metadata": {
    "collapsed": false
   },
   "outputs": [],
   "source": [
    "# save out a copy of the model datafile:\n",
    "# model_file.to_csv('/Users/DavidStier/Downloads/Model_File-backup_TUESDAY.csv')\n",
    "#model_file.to_json('/Users/DavidStier/Downloads/Model_Filebackup2.json')\n",
    "# describe_file = model_file.describe()\n",
    "# describe_file.to_csv('/Users/DavidStier/Downloads/Ctractcombined_described2_TUESDAY.csv')"
   ]
  },
  {
   "cell_type": "markdown",
   "metadata": {},
   "source": [
    "## Bring in census tract and other shapefiles for leaflet"
   ]
  },
  {
   "cell_type": "markdown",
   "metadata": {},
   "source": [
    "## Feature engineering - parcel level data"
   ]
  },
  {
   "cell_type": "code",
   "execution_count": 14,
   "metadata": {
    "collapsed": false
   },
   "outputs": [
    {
     "data": {
      "text/plain": [
       "\"\\n# Possible new features to add based on all properties in addr_group:\\n\\nmodel_file['num_block_SFR_remodeled_pre_1980']\\nmodel_file['num_block_SFR_remodeled_1980_89']\\nmodel_file['num_block_SFR_remodeled_1990_99']\\nmodel_file['num_block_SFR_remodeled_2000_05']\\nmodel_file['num_block_SFR_remodeled_2006_10']\\nmodel_file['num_block_SFR_remodeled_2011_15']\\n\\nASSESSED VALUE percentiles\\nmodel_file['bldg_vs_land_value_ratio']\\n\""
      ]
     },
     "execution_count": 14,
     "metadata": {},
     "output_type": "execute_result"
    }
   ],
   "source": [
    "'''\n",
    "# Possible new features to add based on all properties in addr_group:\n",
    "\n",
    "model_file['num_block_SFR_remodeled_pre_1980']\n",
    "model_file['num_block_SFR_remodeled_1980_89']\n",
    "model_file['num_block_SFR_remodeled_1990_99']\n",
    "model_file['num_block_SFR_remodeled_2000_05']\n",
    "model_file['num_block_SFR_remodeled_2006_10']\n",
    "model_file['num_block_SFR_remodeled_2011_15']\n",
    "\n",
    "ASSESSED VALUE percentiles\n",
    "model_file['bldg_vs_land_value_ratio']\n",
    "'''\n"
   ]
  },
  {
   "cell_type": "code",
   "execution_count": 15,
   "metadata": {
    "collapsed": false
   },
   "outputs": [],
   "source": [
    "#model_file['tot_rooms_per_k_lot_sf'] = [model_file['R_TOTAL_RM'] / model_file['LAND_SF'] if x > 0 else 0 for x in model_file['LAND_SF']]\n",
    "# model_file['yrs_since_2016_when_remodeled2'] = 0.0\n",
    "# for i in range(92052):\n",
    "#     if model_file['YR_REMOD'][i] > 0:\n",
    "#         model_file['yrs_since_2016_when_remodeled2'][i] = 2016 - model_file['YR_REMOD'][i]\n",
    "#     else:\n",
    "#         model_file['yrs_since_2016_when_remodeled2'][i] = 0.0\n",
    "# model_file['yrs_since_2016_when_remodeled2'].value_counts()"
   ]
  },
  {
   "cell_type": "code",
   "execution_count": null,
   "metadata": {
    "collapsed": false
   },
   "outputs": [],
   "source": []
  },
  {
   "cell_type": "code",
   "execution_count": 16,
   "metadata": {
    "collapsed": false
   },
   "outputs": [
    {
     "data": {
      "text/plain": [
       "(92052, 373)"
      ]
     },
     "execution_count": 16,
     "metadata": {},
     "output_type": "execute_result"
    }
   ],
   "source": [
    "#model_file['bldg_vs_land_value_ratio'] = model_file['AV_BLDG'] / model_file['AV_LAND'] - did not use as it can go to infinity\n",
    "model_file['home_age_in_2016'] = 2016 - model_file['YR_BUILT']\n",
    "\n",
    "                                                \n",
    "                                                \n",
    "\n",
    "model_file['home_age_when_remodeled'] = model_file['YR_REMOD'] - model_file['YR_BUILT']\n",
    "model_file['yrs_since_2016_when_remodeled'] = 2016 - model_file['YR_REMOD']\n",
    "\n",
    "model_file['bathrooms_all_qty'] = model_file['R_FULL_BTH'] + model_file['R_HALF_BTH']\n",
    "model_file['shape_vs_length'] = model_file['SHAPESTAre'] / model_file['SHAPESTLen']\n",
    "model_file['tot_rooms_per_k_bldg_sf'] = model_file['R_TOTAL_RM'] / model_file['LIVING_ARE'] \n",
    "model_file['is_solar'] = [1 if x > 0 else 0 for x in model_file['Year_SOLAR'] ]\n",
    "\n",
    "# Convert Owner Occupied to 0/1 from y/n so that it can be aggregated:\n",
    "model_file['OWN_OCC'] = [1 if x == 'Y' else 0 for x in model_file['OWN_OCC'] ]\n",
    "\n",
    "# Dummify certain categorical columns now:\n",
    "\n",
    "\n",
    "\n",
    "#model_file['bldg_vs_land_size_ratio'] = model_file['LIVING_ARE'] / model_file['LAND_SF'] - this goes to infinity\n",
    "#model_file['home_age_last_top_permitType_done'] = \n",
    "model_file.shape"
   ]
  },
  {
   "cell_type": "code",
   "execution_count": 17,
   "metadata": {
    "collapsed": false
   },
   "outputs": [
    {
     "data": {
      "text/plain": [
       "pandas.core.frame.DataFrame"
      ]
     },
     "execution_count": 17,
     "metadata": {},
     "output_type": "execute_result"
    }
   ],
   "source": [
    "Heat_Type_dummied = pd.get_dummies(model_file['Heat_Type'],prefix = 'Heat_Type_')\n",
    "LU_dummied =pd.get_dummies(model_file['LU'],prefix = 'LU_')\n",
    "R_ROOF_TYP_dummied = pd.get_dummies(model_file['R_ROOF_TYP'],prefix = 'R_ROOF_TYPE_')\n",
    "\n",
    "type(Heat_Type_dummied)"
   ]
  },
  {
   "cell_type": "code",
   "execution_count": 18,
   "metadata": {
    "collapsed": false
   },
   "outputs": [],
   "source": [
    "model_file = pd.concat([model_file, Heat_Type_dummied, LU_dummied, R_ROOF_TYP_dummied], axis = 1)"
   ]
  },
  {
   "cell_type": "code",
   "execution_count": 19,
   "metadata": {
    "collapsed": false
   },
   "outputs": [
    {
     "data": {
      "text/plain": [
       "(92052, 407)"
      ]
     },
     "execution_count": 19,
     "metadata": {},
     "output_type": "execute_result"
    }
   ],
   "source": [
    "model_file.shape"
   ]
  },
  {
   "cell_type": "markdown",
   "metadata": {},
   "source": [
    "### Select 'top' features to use for merging the aggregated calcs.  This will limit the # of new features\n",
    "Based on early RandomForest Classifier results, have selected those features that had at least .002 contribution"
   ]
  },
  {
   "cell_type": "code",
   "execution_count": 20,
   "metadata": {
    "collapsed": true
   },
   "outputs": [],
   "source": [
    "top_aggr_features = ['addr_group','hmile_grid_cell','Qmile_grid_cell','neighborhood','FIPS','NOT_Top2015PermTypNum','NOT_Top2015PermTypdollars','NOT_Top2014PermTypdollars',\n",
    "                     'NOT_Top2013PermTypdollars','NOT_Top2014PermTypNum','GROSS_AREA','NOT_Top2013PermTypNum',\n",
    "                     'SHAPESTLen','NOT_Top2012PermTypdollars','AV_LAND','home_age_when_remodeled','LIVING_ARE',\n",
    "                     'home_age_in_2016','bldg_vs_land_value_ratio','tot_rooms_per_k_bldg_sf','LAND_SF','YR_REMOD',\n",
    "                     'NOT_Top2012PermTypNum','YR_BUILT','shape_vs_length','NUM_FLOORS', 'OWN_OCC','qmile_grid_cell_R',\n",
    "                     'yrs_since_2016_when_remodeled','Outbldg_1_Sqft','Exterior_Wall_Alum/Vinyl',\n",
    "                     'NOT_Top2011PermTypdollars','R_TOTAL_RM','AV_BLDG','ctb1001var_HD01_VD41','ctb25093var_HD01_VD21',\n",
    "                     'R_BDRMS','SHAPESTAre','st_num_group','Thr12014to2015_Street-Sidewalk','qmile_grid_cell_C',\n",
    "                     'NOT_Top2010PermTypdollars','Thr12014to2015_excluded','R_FULL_BTH','PID','Heat_Type__Electric',\n",
    "                     'LU__Residential Condo Unit','LU__Mixed Use Res/Comm', 'LU__Commercial','LU__Apartments 7 Units above','LU__Apartments 4-6 Units', \n",
    "                     'LU__Residential Single Family', 'LU__Residential Three Family', 'LU__Residential Two Family',\n",
    "                     'LU__Residential Land', 'LU__Exempt','LU__Commercial Land', 'LU__Commercial Condo Unit','LU__Industrial',\n",
    "                     'Thr12011to2013_Recycling-Pickup', 'Thr12011to2013_Trees','Thr12014to2015_Trees','Thr12011to2013_Housing','Thr12011to2013_Building','Thr12014to2015_Building','Thr12011to2013_excluded', 'Thr12014to2015_excluded','Thr12015_excluded',\n",
    "                     'Thr12014to2015_Housing','Thr12014to2015_Recycling-Pickup', 'is_solar','Thr12011_Recycling-Pickup','Thr12012_Recycling-Pickup','Thr12013_Recycling-Pickup','Thr12014_Recycling-Pickup','Thr12015_Recycling-Pickup', 'Thr12012_Trees','Thr12013_Trees' ,'Thr12014_Trees']"
   ]
  },
  {
   "cell_type": "code",
   "execution_count": 21,
   "metadata": {
    "collapsed": false
   },
   "outputs": [],
   "source": [
    "model_file_aggr_cols = pd.DataFrame()\n",
    "for i in model_file.columns:\n",
    "    if i in top_aggr_features:\n",
    "        model_file_aggr_cols[i] = model_file[i]"
   ]
  },
  {
   "cell_type": "code",
   "execution_count": 22,
   "metadata": {
    "collapsed": false
   },
   "outputs": [
    {
     "data": {
      "text/html": [
       "<div>\n",
       "<table border=\"1\" class=\"dataframe\">\n",
       "  <thead>\n",
       "    <tr style=\"text-align: right;\">\n",
       "      <th></th>\n",
       "      <th>0</th>\n",
       "      <th>1</th>\n",
       "      <th>2</th>\n",
       "      <th>3</th>\n",
       "    </tr>\n",
       "  </thead>\n",
       "  <tbody>\n",
       "    <tr>\n",
       "      <th>AV_BLDG</th>\n",
       "      <td>235300</td>\n",
       "      <td>281200</td>\n",
       "      <td>244700</td>\n",
       "      <td>227800</td>\n",
       "    </tr>\n",
       "    <tr>\n",
       "      <th>AV_LAND</th>\n",
       "      <td>129900</td>\n",
       "      <td>121000</td>\n",
       "      <td>121400</td>\n",
       "      <td>121900</td>\n",
       "    </tr>\n",
       "    <tr>\n",
       "      <th>GROSS_AREA</th>\n",
       "      <td>3353</td>\n",
       "      <td>3299</td>\n",
       "      <td>3392</td>\n",
       "      <td>3108</td>\n",
       "    </tr>\n",
       "    <tr>\n",
       "      <th>LAND_SF</th>\n",
       "      <td>1150</td>\n",
       "      <td>1150</td>\n",
       "      <td>1150</td>\n",
       "      <td>1150</td>\n",
       "    </tr>\n",
       "    <tr>\n",
       "      <th>LIVING_ARE</th>\n",
       "      <td>2202</td>\n",
       "      <td>2307</td>\n",
       "      <td>2268</td>\n",
       "      <td>2028</td>\n",
       "    </tr>\n",
       "    <tr>\n",
       "      <th>NUM_FLOORS</th>\n",
       "      <td>3</td>\n",
       "      <td>3</td>\n",
       "      <td>3</td>\n",
       "      <td>3</td>\n",
       "    </tr>\n",
       "    <tr>\n",
       "      <th>OWN_OCC</th>\n",
       "      <td>1</td>\n",
       "      <td>0</td>\n",
       "      <td>0</td>\n",
       "      <td>0</td>\n",
       "    </tr>\n",
       "    <tr>\n",
       "      <th>PID</th>\n",
       "      <td>100001000</td>\n",
       "      <td>100002000</td>\n",
       "      <td>100003000</td>\n",
       "      <td>100004000</td>\n",
       "    </tr>\n",
       "    <tr>\n",
       "      <th>R_BDRMS</th>\n",
       "      <td>6</td>\n",
       "      <td>3</td>\n",
       "      <td>5</td>\n",
       "      <td>5</td>\n",
       "    </tr>\n",
       "    <tr>\n",
       "      <th>R_FULL_BTH</th>\n",
       "      <td>3</td>\n",
       "      <td>3</td>\n",
       "      <td>3</td>\n",
       "      <td>3</td>\n",
       "    </tr>\n",
       "    <tr>\n",
       "      <th>R_TOTAL_RM</th>\n",
       "      <td>12</td>\n",
       "      <td>9</td>\n",
       "      <td>13</td>\n",
       "      <td>11</td>\n",
       "    </tr>\n",
       "    <tr>\n",
       "      <th>SHAPESTAre</th>\n",
       "      <td>210.211</td>\n",
       "      <td>197.875</td>\n",
       "      <td>195.145</td>\n",
       "      <td>203.188</td>\n",
       "    </tr>\n",
       "    <tr>\n",
       "      <th>SHAPESTLen</th>\n",
       "      <td>65.8427</td>\n",
       "      <td>64.6974</td>\n",
       "      <td>64.3452</td>\n",
       "      <td>64.8983</td>\n",
       "    </tr>\n",
       "    <tr>\n",
       "      <th>YR_BUILT</th>\n",
       "      <td>1900</td>\n",
       "      <td>1920</td>\n",
       "      <td>1905</td>\n",
       "      <td>1900</td>\n",
       "    </tr>\n",
       "    <tr>\n",
       "      <th>YR_REMOD</th>\n",
       "      <td>0</td>\n",
       "      <td>2000</td>\n",
       "      <td>1985</td>\n",
       "      <td>1991</td>\n",
       "    </tr>\n",
       "    <tr>\n",
       "      <th>st_num_group</th>\n",
       "      <td>1</td>\n",
       "      <td>1</td>\n",
       "      <td>1</td>\n",
       "      <td>2</td>\n",
       "    </tr>\n",
       "    <tr>\n",
       "      <th>addr_group</th>\n",
       "      <td>PUTNAM ST-1.0</td>\n",
       "      <td>LEXINGTON ST-1.0</td>\n",
       "      <td>LEXINGTON ST-1.0</td>\n",
       "      <td>LEXINGTON ST-2.0</td>\n",
       "    </tr>\n",
       "    <tr>\n",
       "      <th>NOT_Top2010PermTypdollars</th>\n",
       "      <td>350</td>\n",
       "      <td>0</td>\n",
       "      <td>0</td>\n",
       "      <td>0</td>\n",
       "    </tr>\n",
       "    <tr>\n",
       "      <th>NOT_Top2011PermTypdollars</th>\n",
       "      <td>0</td>\n",
       "      <td>0</td>\n",
       "      <td>0</td>\n",
       "      <td>0</td>\n",
       "    </tr>\n",
       "    <tr>\n",
       "      <th>NOT_Top2012PermTypdollars</th>\n",
       "      <td>0</td>\n",
       "      <td>0</td>\n",
       "      <td>0</td>\n",
       "      <td>0</td>\n",
       "    </tr>\n",
       "    <tr>\n",
       "      <th>NOT_Top2013PermTypdollars</th>\n",
       "      <td>0</td>\n",
       "      <td>0</td>\n",
       "      <td>0</td>\n",
       "      <td>0</td>\n",
       "    </tr>\n",
       "    <tr>\n",
       "      <th>NOT_Top2014PermTypdollars</th>\n",
       "      <td>0</td>\n",
       "      <td>0</td>\n",
       "      <td>0</td>\n",
       "      <td>0</td>\n",
       "    </tr>\n",
       "    <tr>\n",
       "      <th>NOT_Top2015PermTypdollars</th>\n",
       "      <td>0</td>\n",
       "      <td>0</td>\n",
       "      <td>0</td>\n",
       "      <td>0</td>\n",
       "    </tr>\n",
       "    <tr>\n",
       "      <th>NOT_Top2012PermTypNum</th>\n",
       "      <td>0</td>\n",
       "      <td>0</td>\n",
       "      <td>0</td>\n",
       "      <td>0</td>\n",
       "    </tr>\n",
       "    <tr>\n",
       "      <th>NOT_Top2013PermTypNum</th>\n",
       "      <td>0</td>\n",
       "      <td>0</td>\n",
       "      <td>0</td>\n",
       "      <td>0</td>\n",
       "    </tr>\n",
       "    <tr>\n",
       "      <th>NOT_Top2014PermTypNum</th>\n",
       "      <td>0</td>\n",
       "      <td>0</td>\n",
       "      <td>0</td>\n",
       "      <td>0</td>\n",
       "    </tr>\n",
       "    <tr>\n",
       "      <th>NOT_Top2015PermTypNum</th>\n",
       "      <td>0</td>\n",
       "      <td>0</td>\n",
       "      <td>0</td>\n",
       "      <td>0</td>\n",
       "    </tr>\n",
       "    <tr>\n",
       "      <th>Outbldg_1_Sqft</th>\n",
       "      <td>280</td>\n",
       "      <td>0</td>\n",
       "      <td>0</td>\n",
       "      <td>0</td>\n",
       "    </tr>\n",
       "    <tr>\n",
       "      <th>Thr12011to2013_Building</th>\n",
       "      <td>1</td>\n",
       "      <td>NaN</td>\n",
       "      <td>NaN</td>\n",
       "      <td>NaN</td>\n",
       "    </tr>\n",
       "    <tr>\n",
       "      <th>Thr12011to2013_Housing</th>\n",
       "      <td>0</td>\n",
       "      <td>NaN</td>\n",
       "      <td>NaN</td>\n",
       "      <td>NaN</td>\n",
       "    </tr>\n",
       "    <tr>\n",
       "      <th>...</th>\n",
       "      <td>...</td>\n",
       "      <td>...</td>\n",
       "      <td>...</td>\n",
       "      <td>...</td>\n",
       "    </tr>\n",
       "    <tr>\n",
       "      <th>Thr12014_Recycling-Pickup</th>\n",
       "      <td>0</td>\n",
       "      <td>NaN</td>\n",
       "      <td>NaN</td>\n",
       "      <td>NaN</td>\n",
       "    </tr>\n",
       "    <tr>\n",
       "      <th>Thr12014_Trees</th>\n",
       "      <td>0</td>\n",
       "      <td>NaN</td>\n",
       "      <td>NaN</td>\n",
       "      <td>NaN</td>\n",
       "    </tr>\n",
       "    <tr>\n",
       "      <th>Thr12015_Recycling-Pickup</th>\n",
       "      <td>0</td>\n",
       "      <td>NaN</td>\n",
       "      <td>NaN</td>\n",
       "      <td>NaN</td>\n",
       "    </tr>\n",
       "    <tr>\n",
       "      <th>Thr12015_excluded</th>\n",
       "      <td>0</td>\n",
       "      <td>NaN</td>\n",
       "      <td>NaN</td>\n",
       "      <td>NaN</td>\n",
       "    </tr>\n",
       "    <tr>\n",
       "      <th>FIPS</th>\n",
       "      <td>2.50251e+10</td>\n",
       "      <td>2.50251e+10</td>\n",
       "      <td>2.50251e+10</td>\n",
       "      <td>2.50251e+10</td>\n",
       "    </tr>\n",
       "    <tr>\n",
       "      <th>neighborhood</th>\n",
       "      <td>East Boston</td>\n",
       "      <td>East Boston</td>\n",
       "      <td>East Boston</td>\n",
       "      <td>East Boston</td>\n",
       "    </tr>\n",
       "    <tr>\n",
       "      <th>hmile_grid_cell</th>\n",
       "      <td>(43.0, 34.0)</td>\n",
       "      <td>(44.0, 34.0)</td>\n",
       "      <td>(44.0, 34.0)</td>\n",
       "      <td>(44.0, 34.0)</td>\n",
       "    </tr>\n",
       "    <tr>\n",
       "      <th>ctb25093var_HD01_VD21</th>\n",
       "      <td>170</td>\n",
       "      <td>170</td>\n",
       "      <td>170</td>\n",
       "      <td>170</td>\n",
       "    </tr>\n",
       "    <tr>\n",
       "      <th>ctb1001var_HD01_VD41</th>\n",
       "      <td>116</td>\n",
       "      <td>116</td>\n",
       "      <td>116</td>\n",
       "      <td>116</td>\n",
       "    </tr>\n",
       "    <tr>\n",
       "      <th>Qmile_grid_cell</th>\n",
       "      <td>(87.0, 68.0)</td>\n",
       "      <td>(87.0, 68.0)</td>\n",
       "      <td>(87.0, 68.0)</td>\n",
       "      <td>(88.0, 68.0)</td>\n",
       "    </tr>\n",
       "    <tr>\n",
       "      <th>home_age_in_2016</th>\n",
       "      <td>116</td>\n",
       "      <td>96</td>\n",
       "      <td>111</td>\n",
       "      <td>116</td>\n",
       "    </tr>\n",
       "    <tr>\n",
       "      <th>home_age_when_remodeled</th>\n",
       "      <td>-1900</td>\n",
       "      <td>80</td>\n",
       "      <td>80</td>\n",
       "      <td>91</td>\n",
       "    </tr>\n",
       "    <tr>\n",
       "      <th>yrs_since_2016_when_remodeled</th>\n",
       "      <td>2016</td>\n",
       "      <td>16</td>\n",
       "      <td>31</td>\n",
       "      <td>25</td>\n",
       "    </tr>\n",
       "    <tr>\n",
       "      <th>shape_vs_length</th>\n",
       "      <td>3.19262</td>\n",
       "      <td>3.05847</td>\n",
       "      <td>3.03278</td>\n",
       "      <td>3.13086</td>\n",
       "    </tr>\n",
       "    <tr>\n",
       "      <th>tot_rooms_per_k_bldg_sf</th>\n",
       "      <td>0.00544959</td>\n",
       "      <td>0.00390117</td>\n",
       "      <td>0.00573192</td>\n",
       "      <td>0.00542406</td>\n",
       "    </tr>\n",
       "    <tr>\n",
       "      <th>is_solar</th>\n",
       "      <td>0</td>\n",
       "      <td>0</td>\n",
       "      <td>0</td>\n",
       "      <td>0</td>\n",
       "    </tr>\n",
       "    <tr>\n",
       "      <th>Heat_Type__Electric</th>\n",
       "      <td>0</td>\n",
       "      <td>0</td>\n",
       "      <td>0</td>\n",
       "      <td>0</td>\n",
       "    </tr>\n",
       "    <tr>\n",
       "      <th>LU__Apartments 4-6 Units</th>\n",
       "      <td>0</td>\n",
       "      <td>0</td>\n",
       "      <td>0</td>\n",
       "      <td>0</td>\n",
       "    </tr>\n",
       "    <tr>\n",
       "      <th>LU__Apartments 7 Units above</th>\n",
       "      <td>0</td>\n",
       "      <td>0</td>\n",
       "      <td>0</td>\n",
       "      <td>0</td>\n",
       "    </tr>\n",
       "    <tr>\n",
       "      <th>LU__Commercial</th>\n",
       "      <td>0</td>\n",
       "      <td>0</td>\n",
       "      <td>0</td>\n",
       "      <td>0</td>\n",
       "    </tr>\n",
       "    <tr>\n",
       "      <th>LU__Commercial Condo Unit</th>\n",
       "      <td>0</td>\n",
       "      <td>0</td>\n",
       "      <td>0</td>\n",
       "      <td>0</td>\n",
       "    </tr>\n",
       "    <tr>\n",
       "      <th>LU__Commercial Land</th>\n",
       "      <td>0</td>\n",
       "      <td>0</td>\n",
       "      <td>0</td>\n",
       "      <td>0</td>\n",
       "    </tr>\n",
       "    <tr>\n",
       "      <th>LU__Exempt</th>\n",
       "      <td>0</td>\n",
       "      <td>0</td>\n",
       "      <td>0</td>\n",
       "      <td>0</td>\n",
       "    </tr>\n",
       "    <tr>\n",
       "      <th>LU__Industrial</th>\n",
       "      <td>0</td>\n",
       "      <td>0</td>\n",
       "      <td>0</td>\n",
       "      <td>0</td>\n",
       "    </tr>\n",
       "    <tr>\n",
       "      <th>LU__Mixed Use Res/Comm</th>\n",
       "      <td>0</td>\n",
       "      <td>0</td>\n",
       "      <td>0</td>\n",
       "      <td>0</td>\n",
       "    </tr>\n",
       "    <tr>\n",
       "      <th>LU__Residential Condo Unit</th>\n",
       "      <td>0</td>\n",
       "      <td>0</td>\n",
       "      <td>0</td>\n",
       "      <td>0</td>\n",
       "    </tr>\n",
       "    <tr>\n",
       "      <th>LU__Residential Land</th>\n",
       "      <td>0</td>\n",
       "      <td>0</td>\n",
       "      <td>0</td>\n",
       "      <td>0</td>\n",
       "    </tr>\n",
       "    <tr>\n",
       "      <th>LU__Residential Single Family</th>\n",
       "      <td>0</td>\n",
       "      <td>0</td>\n",
       "      <td>0</td>\n",
       "      <td>0</td>\n",
       "    </tr>\n",
       "    <tr>\n",
       "      <th>LU__Residential Three Family</th>\n",
       "      <td>1</td>\n",
       "      <td>1</td>\n",
       "      <td>1</td>\n",
       "      <td>1</td>\n",
       "    </tr>\n",
       "    <tr>\n",
       "      <th>LU__Residential Two Family</th>\n",
       "      <td>0</td>\n",
       "      <td>0</td>\n",
       "      <td>0</td>\n",
       "      <td>0</td>\n",
       "    </tr>\n",
       "  </tbody>\n",
       "</table>\n",
       "<p>74 rows × 4 columns</p>\n",
       "</div>"
      ],
      "text/plain": [
       "                                           0                 1  \\\n",
       "AV_BLDG                               235300            281200   \n",
       "AV_LAND                               129900            121000   \n",
       "GROSS_AREA                              3353              3299   \n",
       "LAND_SF                                 1150              1150   \n",
       "LIVING_ARE                              2202              2307   \n",
       "NUM_FLOORS                                 3                 3   \n",
       "OWN_OCC                                    1                 0   \n",
       "PID                                100001000         100002000   \n",
       "R_BDRMS                                    6                 3   \n",
       "R_FULL_BTH                                 3                 3   \n",
       "R_TOTAL_RM                                12                 9   \n",
       "SHAPESTAre                           210.211           197.875   \n",
       "SHAPESTLen                           65.8427           64.6974   \n",
       "YR_BUILT                                1900              1920   \n",
       "YR_REMOD                                   0              2000   \n",
       "st_num_group                               1                 1   \n",
       "addr_group                     PUTNAM ST-1.0  LEXINGTON ST-1.0   \n",
       "NOT_Top2010PermTypdollars                350                 0   \n",
       "NOT_Top2011PermTypdollars                  0                 0   \n",
       "NOT_Top2012PermTypdollars                  0                 0   \n",
       "NOT_Top2013PermTypdollars                  0                 0   \n",
       "NOT_Top2014PermTypdollars                  0                 0   \n",
       "NOT_Top2015PermTypdollars                  0                 0   \n",
       "NOT_Top2012PermTypNum                      0                 0   \n",
       "NOT_Top2013PermTypNum                      0                 0   \n",
       "NOT_Top2014PermTypNum                      0                 0   \n",
       "NOT_Top2015PermTypNum                      0                 0   \n",
       "Outbldg_1_Sqft                           280                 0   \n",
       "Thr12011to2013_Building                    1               NaN   \n",
       "Thr12011to2013_Housing                     0               NaN   \n",
       "...                                      ...               ...   \n",
       "Thr12014_Recycling-Pickup                  0               NaN   \n",
       "Thr12014_Trees                             0               NaN   \n",
       "Thr12015_Recycling-Pickup                  0               NaN   \n",
       "Thr12015_excluded                          0               NaN   \n",
       "FIPS                             2.50251e+10       2.50251e+10   \n",
       "neighborhood                     East Boston       East Boston   \n",
       "hmile_grid_cell                 (43.0, 34.0)      (44.0, 34.0)   \n",
       "ctb25093var_HD01_VD21                    170               170   \n",
       "ctb1001var_HD01_VD41                     116               116   \n",
       "Qmile_grid_cell                 (87.0, 68.0)      (87.0, 68.0)   \n",
       "home_age_in_2016                         116                96   \n",
       "home_age_when_remodeled                -1900                80   \n",
       "yrs_since_2016_when_remodeled           2016                16   \n",
       "shape_vs_length                      3.19262           3.05847   \n",
       "tot_rooms_per_k_bldg_sf           0.00544959        0.00390117   \n",
       "is_solar                                   0                 0   \n",
       "Heat_Type__Electric                        0                 0   \n",
       "LU__Apartments 4-6 Units                   0                 0   \n",
       "LU__Apartments 7 Units above               0                 0   \n",
       "LU__Commercial                             0                 0   \n",
       "LU__Commercial Condo Unit                  0                 0   \n",
       "LU__Commercial Land                        0                 0   \n",
       "LU__Exempt                                 0                 0   \n",
       "LU__Industrial                             0                 0   \n",
       "LU__Mixed Use Res/Comm                     0                 0   \n",
       "LU__Residential Condo Unit                 0                 0   \n",
       "LU__Residential Land                       0                 0   \n",
       "LU__Residential Single Family              0                 0   \n",
       "LU__Residential Three Family               1                 1   \n",
       "LU__Residential Two Family                 0                 0   \n",
       "\n",
       "                                              2                 3  \n",
       "AV_BLDG                                  244700            227800  \n",
       "AV_LAND                                  121400            121900  \n",
       "GROSS_AREA                                 3392              3108  \n",
       "LAND_SF                                    1150              1150  \n",
       "LIVING_ARE                                 2268              2028  \n",
       "NUM_FLOORS                                    3                 3  \n",
       "OWN_OCC                                       0                 0  \n",
       "PID                                   100003000         100004000  \n",
       "R_BDRMS                                       5                 5  \n",
       "R_FULL_BTH                                    3                 3  \n",
       "R_TOTAL_RM                                   13                11  \n",
       "SHAPESTAre                              195.145           203.188  \n",
       "SHAPESTLen                              64.3452           64.8983  \n",
       "YR_BUILT                                   1905              1900  \n",
       "YR_REMOD                                   1985              1991  \n",
       "st_num_group                                  1                 2  \n",
       "addr_group                     LEXINGTON ST-1.0  LEXINGTON ST-2.0  \n",
       "NOT_Top2010PermTypdollars                     0                 0  \n",
       "NOT_Top2011PermTypdollars                     0                 0  \n",
       "NOT_Top2012PermTypdollars                     0                 0  \n",
       "NOT_Top2013PermTypdollars                     0                 0  \n",
       "NOT_Top2014PermTypdollars                     0                 0  \n",
       "NOT_Top2015PermTypdollars                     0                 0  \n",
       "NOT_Top2012PermTypNum                         0                 0  \n",
       "NOT_Top2013PermTypNum                         0                 0  \n",
       "NOT_Top2014PermTypNum                         0                 0  \n",
       "NOT_Top2015PermTypNum                         0                 0  \n",
       "Outbldg_1_Sqft                                0                 0  \n",
       "Thr12011to2013_Building                     NaN               NaN  \n",
       "Thr12011to2013_Housing                      NaN               NaN  \n",
       "...                                         ...               ...  \n",
       "Thr12014_Recycling-Pickup                   NaN               NaN  \n",
       "Thr12014_Trees                              NaN               NaN  \n",
       "Thr12015_Recycling-Pickup                   NaN               NaN  \n",
       "Thr12015_excluded                           NaN               NaN  \n",
       "FIPS                                2.50251e+10       2.50251e+10  \n",
       "neighborhood                        East Boston       East Boston  \n",
       "hmile_grid_cell                    (44.0, 34.0)      (44.0, 34.0)  \n",
       "ctb25093var_HD01_VD21                       170               170  \n",
       "ctb1001var_HD01_VD41                        116               116  \n",
       "Qmile_grid_cell                    (87.0, 68.0)      (88.0, 68.0)  \n",
       "home_age_in_2016                            111               116  \n",
       "home_age_when_remodeled                      80                91  \n",
       "yrs_since_2016_when_remodeled                31                25  \n",
       "shape_vs_length                         3.03278           3.13086  \n",
       "tot_rooms_per_k_bldg_sf              0.00573192        0.00542406  \n",
       "is_solar                                      0                 0  \n",
       "Heat_Type__Electric                           0                 0  \n",
       "LU__Apartments 4-6 Units                      0                 0  \n",
       "LU__Apartments 7 Units above                  0                 0  \n",
       "LU__Commercial                                0                 0  \n",
       "LU__Commercial Condo Unit                     0                 0  \n",
       "LU__Commercial Land                           0                 0  \n",
       "LU__Exempt                                    0                 0  \n",
       "LU__Industrial                                0                 0  \n",
       "LU__Mixed Use Res/Comm                        0                 0  \n",
       "LU__Residential Condo Unit                    0                 0  \n",
       "LU__Residential Land                          0                 0  \n",
       "LU__Residential Single Family                 0                 0  \n",
       "LU__Residential Three Family                  1                 1  \n",
       "LU__Residential Two Family                    0                 0  \n",
       "\n",
       "[74 rows x 4 columns]"
      ]
     },
     "execution_count": 22,
     "metadata": {},
     "output_type": "execute_result"
    }
   ],
   "source": [
    "model_file_aggr_cols.head(4).T"
   ]
  },
  {
   "cell_type": "code",
   "execution_count": 23,
   "metadata": {
    "collapsed": false
   },
   "outputs": [
    {
     "data": {
      "text/plain": [
       "\"\\n###\\n\\nThe sdev won't work if there are any string values in the df\\n##\\n\""
      ]
     },
     "execution_count": 23,
     "metadata": {},
     "output_type": "execute_result"
    }
   ],
   "source": [
    "\n",
    "model_file_addr_count = model_file_aggr_cols.groupby('addr_group',as_index = False).count()\n",
    "#model_file_addr_num_recs = model_file.groupby('addr_group',as_index = False).size() # this is just the same value across all col's\n",
    "model_file_addr_mean = model_file_aggr_cols.groupby('addr_group',as_index = False).mean()\n",
    "model_file_addr_median = model_file_aggr_cols.groupby('addr_group',as_index = False).median()\n",
    "#model_file_addr_mode = model_aggr_on.groupby('addr_group').mode()\n",
    "#model_file_addr_sdev = model_aggr_on.groupby('addr_group',as_index = False).std()\n",
    "model_file_addr_sum = model_file_aggr_cols.groupby('addr_group',as_index = False).sum()\n",
    "\n",
    "model_file_halfMile_count = model_file_aggr_cols.groupby('hmile_grid_cell',as_index = False).count()\n",
    "model_file_halfMile_mean = model_file_aggr_cols.groupby('hmile_grid_cell',as_index = False).mean()\n",
    "model_file_halfMile_median = model_file_aggr_cols.groupby('hmile_grid_cell',as_index = False).median()\n",
    "model_file_halfMile_sum = model_file_aggr_cols.groupby('hmile_grid_cell',as_index = False).sum()\n",
    "\n",
    "model_file_QtrMile_count = model_file_aggr_cols.groupby('Qmile_grid_cell',as_index = False).count()\n",
    "model_file_QtrMile_mean = model_file_aggr_cols.groupby('Qmile_grid_cell',as_index = False).mean()\n",
    "model_file_QtrMile_median = model_file_aggr_cols.groupby('Qmile_grid_cell',as_index = False).median()\n",
    "model_file_QtrMile_sum = model_file_aggr_cols.groupby('Qmile_grid_cell',as_index = False).sum()\n",
    "\n",
    "model_file_nbrhood_count = model_file_aggr_cols.groupby('neighborhood',as_index = False).count()\n",
    "model_file_nbrhood_mean = model_file_aggr_cols.groupby('neighborhood',as_index = False).mean()\n",
    "model_file_nbrhood_median = model_file_aggr_cols.groupby('neighborhood',as_index = False).median()\n",
    "#model_file_nbrhood_mode = model_aggr_on.groupby('neighborhood',as_index = False).mode()\n",
    "#model_file_nbrhood_sdev = model_aggr_on.groupby('neighborhood',as_index = False).std()\n",
    "model_file_nbrhood_sum = model_file_aggr_cols.groupby('neighborhood',as_index = False).sum()\n",
    "\n",
    "model_file_centrct_count = model_file_aggr_cols.groupby('FIPS',as_index = False).count()\n",
    "model_file_centrct_mean = model_file_aggr_cols.groupby('FIPS',as_index = False).mean()\n",
    "model_file_centrct_median = model_file_aggr_cols.groupby('FIPS',as_index = False).median()\n",
    "#model_file_centrct_mode = model_aggr_on.groupby('FIPS',as_index = False).mode()\n",
    "#model_file_centrct_sdev = model_aggr_on.groupby('FIPS',as_index = False).std()\n",
    "model_file_centrct_sum = model_file_aggr_cols.groupby('FIPS',as_index = False).sum()\n",
    "\n",
    "\n",
    "\"\"\"\n",
    "###\n",
    "\n",
    "The sdev won't work if there are any string values in the df\n",
    "##\n",
    "\"\"\""
   ]
  },
  {
   "cell_type": "code",
   "execution_count": 24,
   "metadata": {
    "collapsed": false
   },
   "outputs": [
    {
     "data": {
      "text/plain": [
       "(92052, 407)"
      ]
     },
     "execution_count": 24,
     "metadata": {},
     "output_type": "execute_result"
    }
   ],
   "source": [
    "model_file.shape"
   ]
  },
  {
   "cell_type": "markdown",
   "metadata": {},
   "source": [
    "### Create joined file aggregate level stats (eg 1 table for sum, count, median @ level = ____ and merge that to the main model file"
   ]
  },
  {
   "cell_type": "code",
   "execution_count": 25,
   "metadata": {
    "collapsed": false
   },
   "outputs": [],
   "source": [
    "# first, rename columns so that merge will not try to add suffixes (or not find) a column:\n",
    "# Note, the 2 lists are for reference. I just cut and pasted into the lambda functions below:\n",
    "\n",
    "# aggregate_tables = ['model_file_addr_count','model_file_addr_mean','model_file_addr_median',\n",
    "#                     'model_file_halfMile_count','model_file_halfMile_mean','model_file_halfMile_median',\n",
    "#                     'model_file_nbrhood_count','model_file_nbrhood_mean','model_file_nbrhood_median',\n",
    "#                    'model_file_centrct_count', 'model_file_centrct_mean', 'model_file_centrct_median']\n",
    "\n",
    "# aggregate_suffixes = ['addr_ct','addr_av','add_md','hmil_ct','hmil_av','hmil_md',\n",
    "#                     'nbhd_ct','nbhd_av','nbhd_md','ctrt_ct', 'ctrt_av', 'ctrt_md']\n",
    "\n",
    "# The lambda functions:\n",
    "model_file_addr_count.rename(columns = lambda x: x + '_FOR_addr_cnt', inplace = True)\n",
    "model_file_addr_mean.rename(columns = lambda x: x + '_FOR_addr_avg', inplace = True)\n",
    "model_file_addr_median.rename(columns = lambda x: x + '_FOR_addr_med', inplace = True)\n",
    "model_file_QtrMile_count.rename(columns = lambda x: x + '_FOR_Qmil_cnt', inplace = True)\n",
    "model_file_QtrMile_mean.rename(columns = lambda x: x + '_FOR_Qmil_avg', inplace = True)\n",
    "model_file_QtrMile_median.rename(columns = lambda x: x + '_FOR_Qmil_med', inplace = True)\n",
    "model_file_halfMile_count.rename(columns = lambda x: x + '_FOR_hmil_cnt', inplace = True)\n",
    "model_file_halfMile_mean.rename(columns = lambda x: x + '_FOR_hmil_avg', inplace = True)\n",
    "model_file_halfMile_median.rename(columns = lambda x: x + '_FOR_hmil_med', inplace = True)\n",
    "model_file_nbrhood_count.rename(columns = lambda x: x + '_FOR_nbhd_cnt', inplace = True)\n",
    "model_file_nbrhood_mean.rename(columns = lambda x: x + '_FOR_nbhd_avg', inplace = True)\n",
    "model_file_nbrhood_median.rename(columns = lambda x: x + '_FOR_nbhd_med', inplace = True)\n",
    "model_file_centrct_count.rename(columns = lambda x: x + '_FOR_ctrt_cnt', inplace = True)\n",
    "model_file_centrct_mean.rename(columns = lambda x: x + '_FOR_ctrt_avg', inplace = True)\n",
    "model_file_centrct_median.rename(columns = lambda x: x + '_FOR_ctrt_med', inplace = True)\n"
   ]
  },
  {
   "cell_type": "code",
   "execution_count": 26,
   "metadata": {
    "collapsed": false
   },
   "outputs": [],
   "source": [
    "\n",
    "# second, join one and two files as :\n",
    "addr_group_step2 = pd.merge(model_file_addr_count, model_file_addr_median, left_on = 'addr_group_FOR_addr_cnt', right_on = 'addr_group_FOR_addr_med', how = 'left', suffixes=('', '_y'))\n",
    "# # # add in third for :\n",
    "addr_group_final = pd.merge(addr_group_step2, model_file_addr_mean, left_on = 'addr_group_FOR_addr_cnt', right_on ='addr_group_FOR_addr_avg', how = 'left' )\n",
    "# # # merge the final to model_file\n",
    "model_file_agg_ip = pd.merge(model_file, addr_group_final, left_on = 'addr_group', right_on ='addr_group_FOR_addr_cnt', how = 'left')\n",
    "\n",
    "#repeat procedure for grids and merge to main file\n",
    "grid_step2 = pd.merge(model_file_QtrMile_count, model_file_QtrMile_median,  left_on = 'Qmile_grid_cell_FOR_Qmil_cnt', right_on = 'Qmile_grid_cell_FOR_Qmil_med', how = 'left')\n",
    "grid_final = pd.merge(grid_step2, model_file_QtrMile_mean,  left_on = 'Qmile_grid_cell_FOR_Qmil_cnt', right_on = 'Qmile_grid_cell_FOR_Qmil_avg', how = 'left')\n",
    "model_file_agg_ip2 = pd.merge(model_file_agg_ip, grid_final, left_on = 'Qmile_grid_cell', right_on = 'Qmile_grid_cell_FOR_Qmil_cnt', how = 'left')\n",
    "\n",
    "nhood_step2 = pd.merge(model_file_nbrhood_count, model_file_nbrhood_median, left_on = 'neighborhood_FOR_nbhd_cnt', right_on = 'neighborhood_FOR_nbhd_med', how = 'left')\n",
    "nhood_final = pd.merge(nhood_step2, model_file_nbrhood_mean , left_on = 'neighborhood_FOR_nbhd_cnt', right_on = 'neighborhood_FOR_nbhd_avg', how = 'left')\n",
    "model_file_agg_ip3 = pd.merge(model_file_agg_ip2, nhood_final, left_on = 'neighborhood', right_on = 'neighborhood_FOR_nbhd_cnt', how = 'left')\n",
    "\n",
    "ctrt_step2 = pd.merge(model_file_centrct_count, model_file_centrct_median, left_on = 'FIPS_FOR_ctrt_cnt', right_on = 'FIPS_FOR_ctrt_med', how = 'left')\n",
    "ctrt_final = pd.merge(ctrt_step2, model_file_centrct_mean, left_on = 'FIPS_FOR_ctrt_cnt', right_on = 'FIPS_FOR_ctrt_avg', how = 'left')\n",
    "model_agg_ip4 = pd.merge(model_file_agg_ip3, ctrt_final, left_on = 'FIPS', right_on = 'FIPS_FOR_ctrt_cnt', how = 'left')\n",
    "\n",
    "# added hmile grid 'back in' to the mix, put at end of merge process to save time retyping code\n",
    "\n",
    "Hgrid_step2 = pd.merge(model_file_halfMile_count, model_file_halfMile_median,  left_on = 'hmile_grid_cell_FOR_hmil_cnt', right_on = 'hmile_grid_cell_FOR_hmil_med', how = 'left')\n",
    "Hgrid_final = pd.merge(Hgrid_step2, model_file_halfMile_mean,  left_on = 'hmile_grid_cell_FOR_hmil_cnt', right_on = 'hmile_grid_cell_FOR_hmil_avg', how = 'left')\n",
    "model_file_agg_ip5 = pd.merge(model_agg_ip4, Hgrid_final, left_on = 'hmile_grid_cell', right_on = 'hmile_grid_cell_FOR_hmil_cnt', how = 'left')\n"
   ]
  },
  {
   "cell_type": "markdown",
   "metadata": {},
   "source": [
    "### delete 'in-process' files and rename final file back to model_file"
   ]
  },
  {
   "cell_type": "code",
   "execution_count": 27,
   "metadata": {
    "collapsed": false
   },
   "outputs": [],
   "source": [
    "del addr_group_step2\n",
    "del addr_group_final\n",
    "del model_file_agg_ip\n",
    "del grid_step2\n",
    "del grid_final\n",
    "del model_file_agg_ip2\n",
    "del nhood_step2\n",
    "del nhood_final\n",
    "del model_file_agg_ip3\n",
    "del ctrt_step2\n",
    "del ctrt_final\n",
    "del model_agg_ip4\n",
    "del Hgrid_step2\n",
    "del Hgrid_final\n",
    "\n",
    "\n",
    "\n",
    "model_file = model_file_agg_ip5"
   ]
  },
  {
   "cell_type": "code",
   "execution_count": 28,
   "metadata": {
    "collapsed": false
   },
   "outputs": [
    {
     "data": {
      "text/plain": [
       "(92052, 1485)"
      ]
     },
     "execution_count": 28,
     "metadata": {},
     "output_type": "execute_result"
    }
   ],
   "source": [
    "model_file.shape"
   ]
  },
  {
   "cell_type": "code",
   "execution_count": 29,
   "metadata": {
    "collapsed": false
   },
   "outputs": [],
   "source": [
    "del model_file_agg_ip5"
   ]
  },
  {
   "cell_type": "markdown",
   "metadata": {},
   "source": [
    "## confirm all joined columns are ready for get_dummies and remove non-informative col's"
   ]
  },
  {
   "cell_type": "code",
   "execution_count": 30,
   "metadata": {
    "collapsed": false
   },
   "outputs": [
    {
     "data": {
      "text/plain": [
       "[dtype('int64'),\n",
       " dtype('int64'),\n",
       " dtype('int64'),\n",
       " dtype('int64'),\n",
       " dtype('float64'),\n",
       " dtype('float64'),\n",
       " dtype('float64'),\n",
       " dtype('O'),\n",
       " dtype('float64'),\n",
       " dtype('int64'),\n",
       " dtype('int64'),\n",
       " dtype('int64'),\n",
       " dtype('int64'),\n",
       " dtype('O'),\n",
       " dtype('float64'),\n",
       " dtype('O'),\n",
       " dtype('O'),\n",
       " dtype('float64'),\n",
       " dtype('float64'),\n",
       " dtype('float64'),\n",
       " dtype('O'),\n",
       " dtype('float64'),\n",
       " dtype('O'),\n",
       " dtype('float64'),\n",
       " dtype('float64'),\n",
       " dtype('float64'),\n",
       " dtype('O'),\n",
       " dtype('float64'),\n",
       " dtype('float64'),\n",
       " dtype('O'),\n",
       " dtype('O'),\n",
       " dtype('bool'),\n",
       " dtype('float64'),\n",
       " dtype('O'),\n",
       " dtype('O'),\n",
       " dtype('float64'),\n",
       " dtype('float64'),\n",
       " dtype('float64'),\n",
       " dtype('float64'),\n",
       " dtype('float64'),\n",
       " dtype('float64'),\n",
       " dtype('float64'),\n",
       " dtype('float64'),\n",
       " dtype('float64'),\n",
       " dtype('float64'),\n",
       " dtype('float64'),\n",
       " dtype('float64'),\n",
       " dtype('float64'),\n",
       " dtype('float64'),\n",
       " dtype('float64'),\n",
       " dtype('float64'),\n",
       " dtype('float64'),\n",
       " dtype('float64'),\n",
       " dtype('float64'),\n",
       " dtype('float64'),\n",
       " dtype('float64'),\n",
       " dtype('float64'),\n",
       " dtype('float64'),\n",
       " dtype('float64'),\n",
       " dtype('float64'),\n",
       " dtype('float64'),\n",
       " dtype('float64'),\n",
       " dtype('float64'),\n",
       " dtype('float64'),\n",
       " dtype('float64'),\n",
       " dtype('float64'),\n",
       " dtype('float64'),\n",
       " dtype('float64'),\n",
       " dtype('int64'),\n",
       " dtype('O'),\n",
       " dtype('O'),\n",
       " dtype('O'),\n",
       " dtype('O'),\n",
       " dtype('O'),\n",
       " dtype('O'),\n",
       " dtype('O'),\n",
       " dtype('O'),\n",
       " dtype('O'),\n",
       " dtype('O'),\n",
       " dtype('O'),\n",
       " dtype('float64'),\n",
       " dtype('O'),\n",
       " dtype('O'),\n",
       " dtype('float64'),\n",
       " dtype('float64'),\n",
       " dtype('float64'),\n",
       " dtype('O'),\n",
       " dtype('O'),\n",
       " dtype('O'),\n",
       " dtype('O'),\n",
       " dtype('float64'),\n",
       " dtype('float64'),\n",
       " dtype('float64'),\n",
       " dtype('float64'),\n",
       " dtype('float64'),\n",
       " dtype('float64'),\n",
       " dtype('float64'),\n",
       " dtype('float64'),\n",
       " dtype('float64'),\n",
       " dtype('float64'),\n",
       " dtype('float64'),\n",
       " dtype('float64'),\n",
       " dtype('float64'),\n",
       " dtype('float64'),\n",
       " dtype('float64'),\n",
       " dtype('float64'),\n",
       " dtype('float64'),\n",
       " dtype('float64'),\n",
       " dtype('float64'),\n",
       " dtype('float64'),\n",
       " dtype('float64'),\n",
       " dtype('float64'),\n",
       " dtype('float64'),\n",
       " dtype('float64'),\n",
       " dtype('float64'),\n",
       " dtype('float64'),\n",
       " dtype('float64'),\n",
       " dtype('float64'),\n",
       " dtype('float64'),\n",
       " dtype('float64'),\n",
       " dtype('float64'),\n",
       " dtype('float64'),\n",
       " dtype('float64'),\n",
       " dtype('float64'),\n",
       " dtype('float64'),\n",
       " dtype('float64'),\n",
       " dtype('float64'),\n",
       " dtype('float64'),\n",
       " dtype('float64'),\n",
       " dtype('float64'),\n",
       " dtype('float64'),\n",
       " dtype('float64'),\n",
       " dtype('float64'),\n",
       " dtype('float64'),\n",
       " dtype('float64'),\n",
       " dtype('float64'),\n",
       " dtype('float64'),\n",
       " dtype('float64'),\n",
       " dtype('float64'),\n",
       " dtype('float64'),\n",
       " dtype('float64'),\n",
       " dtype('float64'),\n",
       " dtype('float64'),\n",
       " dtype('float64'),\n",
       " dtype('float64'),\n",
       " dtype('float64'),\n",
       " dtype('float64'),\n",
       " dtype('float64'),\n",
       " dtype('float64'),\n",
       " dtype('float64'),\n",
       " dtype('float64'),\n",
       " dtype('float64'),\n",
       " dtype('float64'),\n",
       " dtype('float64'),\n",
       " dtype('float64'),\n",
       " dtype('float64'),\n",
       " dtype('float64'),\n",
       " dtype('bool'),\n",
       " dtype('float64'),\n",
       " dtype('float64'),\n",
       " dtype('O'),\n",
       " dtype('float64'),\n",
       " dtype('float64'),\n",
       " dtype('O'),\n",
       " dtype('float64'),\n",
       " dtype('float64'),\n",
       " dtype('float64'),\n",
       " dtype('float64'),\n",
       " dtype('float64'),\n",
       " dtype('float64'),\n",
       " dtype('float64'),\n",
       " dtype('float64'),\n",
       " dtype('float64'),\n",
       " dtype('float64'),\n",
       " dtype('float64'),\n",
       " dtype('float64'),\n",
       " dtype('float64'),\n",
       " dtype('float64'),\n",
       " dtype('float64'),\n",
       " dtype('float64'),\n",
       " dtype('float64'),\n",
       " dtype('float64'),\n",
       " dtype('float64'),\n",
       " dtype('float64'),\n",
       " dtype('float64'),\n",
       " dtype('float64'),\n",
       " dtype('float64'),\n",
       " dtype('float64'),\n",
       " dtype('float64'),\n",
       " dtype('float64'),\n",
       " dtype('float64'),\n",
       " dtype('float64'),\n",
       " dtype('float64'),\n",
       " dtype('float64'),\n",
       " dtype('float64'),\n",
       " dtype('float64'),\n",
       " dtype('float64'),\n",
       " dtype('float64'),\n",
       " dtype('float64'),\n",
       " dtype('float64'),\n",
       " dtype('float64'),\n",
       " dtype('float64'),\n",
       " dtype('float64'),\n",
       " dtype('float64'),\n",
       " dtype('float64'),\n",
       " dtype('float64'),\n",
       " dtype('float64'),\n",
       " dtype('float64'),\n",
       " dtype('float64'),\n",
       " dtype('float64'),\n",
       " dtype('float64'),\n",
       " dtype('float64'),\n",
       " dtype('float64'),\n",
       " dtype('float64'),\n",
       " dtype('float64'),\n",
       " dtype('float64'),\n",
       " dtype('float64'),\n",
       " dtype('float64'),\n",
       " dtype('float64'),\n",
       " dtype('float64'),\n",
       " dtype('float64'),\n",
       " dtype('float64'),\n",
       " dtype('float64'),\n",
       " dtype('float64'),\n",
       " dtype('float64'),\n",
       " dtype('float64'),\n",
       " dtype('float64'),\n",
       " dtype('float64'),\n",
       " dtype('float64'),\n",
       " dtype('float64'),\n",
       " dtype('float64'),\n",
       " dtype('float64'),\n",
       " dtype('float64'),\n",
       " dtype('float64'),\n",
       " dtype('float64'),\n",
       " dtype('float64'),\n",
       " dtype('float64'),\n",
       " dtype('float64'),\n",
       " dtype('float64'),\n",
       " dtype('float64'),\n",
       " dtype('float64'),\n",
       " dtype('float64'),\n",
       " dtype('float64'),\n",
       " dtype('float64'),\n",
       " dtype('float64'),\n",
       " dtype('float64'),\n",
       " dtype('float64'),\n",
       " dtype('float64'),\n",
       " dtype('float64'),\n",
       " dtype('float64'),\n",
       " dtype('float64'),\n",
       " dtype('float64'),\n",
       " dtype('float64'),\n",
       " dtype('float64'),\n",
       " dtype('float64'),\n",
       " dtype('float64'),\n",
       " dtype('float64'),\n",
       " dtype('float64'),\n",
       " dtype('float64'),\n",
       " dtype('float64'),\n",
       " dtype('float64'),\n",
       " dtype('float64'),\n",
       " dtype('float64'),\n",
       " dtype('float64'),\n",
       " dtype('float64'),\n",
       " dtype('float64'),\n",
       " dtype('float64'),\n",
       " dtype('float64'),\n",
       " dtype('float64'),\n",
       " dtype('float64'),\n",
       " dtype('float64'),\n",
       " dtype('float64'),\n",
       " dtype('float64'),\n",
       " dtype('float64'),\n",
       " dtype('float64'),\n",
       " dtype('float64'),\n",
       " dtype('float64'),\n",
       " dtype('float64'),\n",
       " dtype('float64'),\n",
       " dtype('float64'),\n",
       " dtype('float64'),\n",
       " dtype('float64'),\n",
       " dtype('float64'),\n",
       " dtype('float64'),\n",
       " dtype('float64'),\n",
       " dtype('float64'),\n",
       " dtype('float64'),\n",
       " dtype('float64'),\n",
       " dtype('float64'),\n",
       " dtype('float64'),\n",
       " dtype('float64'),\n",
       " dtype('float64'),\n",
       " dtype('float64'),\n",
       " dtype('float64'),\n",
       " dtype('float64'),\n",
       " dtype('float64'),\n",
       " dtype('float64'),\n",
       " dtype('float64'),\n",
       " dtype('float64'),\n",
       " dtype('float64'),\n",
       " dtype('float64'),\n",
       " dtype('float64'),\n",
       " dtype('float64'),\n",
       " dtype('float64'),\n",
       " dtype('float64'),\n",
       " dtype('float64'),\n",
       " dtype('float64'),\n",
       " dtype('float64'),\n",
       " dtype('float64'),\n",
       " dtype('float64'),\n",
       " dtype('float64'),\n",
       " dtype('float64'),\n",
       " dtype('float64'),\n",
       " dtype('float64'),\n",
       " dtype('float64'),\n",
       " dtype('float64'),\n",
       " dtype('float64'),\n",
       " dtype('float64'),\n",
       " dtype('float64'),\n",
       " dtype('float64'),\n",
       " dtype('float64'),\n",
       " dtype('float64'),\n",
       " dtype('float64'),\n",
       " dtype('float64'),\n",
       " dtype('float64'),\n",
       " dtype('float64'),\n",
       " dtype('float64'),\n",
       " dtype('float64'),\n",
       " dtype('float64'),\n",
       " dtype('float64'),\n",
       " dtype('float64'),\n",
       " dtype('float64'),\n",
       " dtype('float64'),\n",
       " dtype('float64'),\n",
       " dtype('float64'),\n",
       " dtype('float64'),\n",
       " dtype('float64'),\n",
       " dtype('float64'),\n",
       " dtype('float64'),\n",
       " dtype('float64'),\n",
       " dtype('float64'),\n",
       " dtype('float64'),\n",
       " dtype('float64'),\n",
       " dtype('float64'),\n",
       " dtype('float64'),\n",
       " dtype('float64'),\n",
       " dtype('float64'),\n",
       " dtype('float64'),\n",
       " dtype('float64'),\n",
       " dtype('float64'),\n",
       " dtype('float64'),\n",
       " dtype('float64'),\n",
       " dtype('float64'),\n",
       " dtype('float64'),\n",
       " dtype('float64'),\n",
       " dtype('float64'),\n",
       " dtype('float64'),\n",
       " dtype('float64'),\n",
       " dtype('float64'),\n",
       " dtype('float64'),\n",
       " dtype('float64'),\n",
       " dtype('float64'),\n",
       " dtype('float64'),\n",
       " dtype('float64'),\n",
       " dtype('float64'),\n",
       " dtype('O'),\n",
       " dtype('float64'),\n",
       " dtype('float64'),\n",
       " dtype('float64'),\n",
       " dtype('float64'),\n",
       " dtype('float64'),\n",
       " dtype('float64'),\n",
       " dtype('int64'),\n",
       " dtype('float64'),\n",
       " dtype('float64'),\n",
       " dtype('float64'),\n",
       " dtype('float64'),\n",
       " dtype('float64'),\n",
       " dtype('float64'),\n",
       " dtype('float64'),\n",
       " dtype('float64'),\n",
       " dtype('float64'),\n",
       " dtype('float64'),\n",
       " dtype('float64'),\n",
       " dtype('float64'),\n",
       " dtype('float64'),\n",
       " dtype('float64'),\n",
       " dtype('float64'),\n",
       " dtype('float64'),\n",
       " dtype('float64'),\n",
       " dtype('float64'),\n",
       " dtype('float64'),\n",
       " dtype('float64'),\n",
       " dtype('float64'),\n",
       " dtype('float64'),\n",
       " dtype('float64'),\n",
       " dtype('float64'),\n",
       " dtype('float64'),\n",
       " dtype('float64'),\n",
       " dtype('float64'),\n",
       " dtype('float64'),\n",
       " dtype('float64'),\n",
       " dtype('float64'),\n",
       " dtype('float64'),\n",
       " dtype('float64'),\n",
       " dtype('float64'),\n",
       " dtype('float64'),\n",
       " dtype('O'),\n",
       " dtype('int64'),\n",
       " dtype('int64'),\n",
       " dtype('int64'),\n",
       " dtype('int64'),\n",
       " dtype('int64'),\n",
       " dtype('int64'),\n",
       " dtype('int64'),\n",
       " dtype('int64'),\n",
       " dtype('int64'),\n",
       " dtype('int64'),\n",
       " dtype('int64'),\n",
       " dtype('int64'),\n",
       " dtype('int64'),\n",
       " dtype('int64'),\n",
       " dtype('int64'),\n",
       " dtype('int64'),\n",
       " dtype('int64'),\n",
       " dtype('int64'),\n",
       " dtype('int64'),\n",
       " dtype('int64'),\n",
       " dtype('int64'),\n",
       " dtype('int64'),\n",
       " dtype('int64'),\n",
       " dtype('int64'),\n",
       " dtype('int64'),\n",
       " dtype('int64'),\n",
       " dtype('int64'),\n",
       " dtype('int64'),\n",
       " dtype('int64'),\n",
       " dtype('int64'),\n",
       " dtype('int64'),\n",
       " dtype('int64'),\n",
       " dtype('int64'),\n",
       " dtype('int64'),\n",
       " dtype('int64'),\n",
       " dtype('int64'),\n",
       " dtype('int64'),\n",
       " dtype('int64'),\n",
       " dtype('int64'),\n",
       " dtype('int64'),\n",
       " dtype('int64'),\n",
       " dtype('int64'),\n",
       " dtype('int64'),\n",
       " dtype('int64'),\n",
       " dtype('int64'),\n",
       " dtype('int64'),\n",
       " dtype('int64'),\n",
       " dtype('int64'),\n",
       " dtype('int64'),\n",
       " dtype('int64'),\n",
       " dtype('int64'),\n",
       " dtype('int64'),\n",
       " dtype('int64'),\n",
       " dtype('int64'),\n",
       " dtype('int64'),\n",
       " dtype('int64'),\n",
       " dtype('int64'),\n",
       " dtype('int64'),\n",
       " dtype('int64'),\n",
       " dtype('int64'),\n",
       " dtype('int64'),\n",
       " dtype('int64'),\n",
       " dtype('int64'),\n",
       " dtype('int64'),\n",
       " dtype('int64'),\n",
       " dtype('int64'),\n",
       " dtype('int64'),\n",
       " dtype('int64'),\n",
       " dtype('int64'),\n",
       " dtype('int64'),\n",
       " dtype('int64'),\n",
       " dtype('int64'),\n",
       " dtype('int64'),\n",
       " dtype('O'),\n",
       " dtype('float64'),\n",
       " dtype('float64'),\n",
       " dtype('float64'),\n",
       " dtype('float64'),\n",
       " dtype('float64'),\n",
       " dtype('float64'),\n",
       " dtype('float64'),\n",
       " dtype('float64'),\n",
       " dtype('float64'),\n",
       " dtype('float64'),\n",
       " dtype('float64'),\n",
       " dtype('float64'),\n",
       " dtype('float64'),\n",
       " dtype('float64'),\n",
       " dtype('float64'),\n",
       " dtype('float64'),\n",
       " dtype('float64'),\n",
       " dtype('float64'),\n",
       " dtype('float64'),\n",
       " dtype('float64'),\n",
       " dtype('float64'),\n",
       " dtype('float64'),\n",
       " dtype('float64'),\n",
       " dtype('float64'),\n",
       " dtype('float64'),\n",
       " dtype('float64'),\n",
       " dtype('float64'),\n",
       " dtype('float64'),\n",
       " dtype('float64'),\n",
       " dtype('float64'),\n",
       " dtype('float64'),\n",
       " dtype('float64'),\n",
       " dtype('float64'),\n",
       " dtype('float64'),\n",
       " dtype('float64'),\n",
       " dtype('float64'),\n",
       " dtype('float64'),\n",
       " dtype('float64'),\n",
       " dtype('float64'),\n",
       " dtype('float64'),\n",
       " dtype('float64'),\n",
       " dtype('float64'),\n",
       " dtype('float64'),\n",
       " dtype('float64'),\n",
       " dtype('float64'),\n",
       " dtype('float64'),\n",
       " dtype('float64'),\n",
       " dtype('float64'),\n",
       " dtype('float64'),\n",
       " dtype('float64'),\n",
       " dtype('float64'),\n",
       " dtype('float64'),\n",
       " dtype('float64'),\n",
       " dtype('float64'),\n",
       " dtype('float64'),\n",
       " dtype('float64'),\n",
       " dtype('float64'),\n",
       " dtype('float64'),\n",
       " dtype('float64'),\n",
       " dtype('float64'),\n",
       " dtype('float64'),\n",
       " dtype('float64'),\n",
       " dtype('float64'),\n",
       " dtype('float64'),\n",
       " dtype('float64'),\n",
       " dtype('float64'),\n",
       " dtype('float64'),\n",
       " dtype('float64'),\n",
       " dtype('float64'),\n",
       " dtype('float64'),\n",
       " dtype('O'),\n",
       " dtype('float64'),\n",
       " dtype('float64'),\n",
       " dtype('float64'),\n",
       " dtype('float64'),\n",
       " dtype('float64'),\n",
       " dtype('float64'),\n",
       " dtype('float64'),\n",
       " dtype('float64'),\n",
       " dtype('float64'),\n",
       " dtype('float64'),\n",
       " dtype('float64'),\n",
       " dtype('float64'),\n",
       " dtype('float64'),\n",
       " dtype('float64'),\n",
       " dtype('float64'),\n",
       " dtype('float64'),\n",
       " dtype('float64'),\n",
       " dtype('float64'),\n",
       " dtype('float64'),\n",
       " dtype('float64'),\n",
       " dtype('float64'),\n",
       " dtype('float64'),\n",
       " dtype('float64'),\n",
       " dtype('float64'),\n",
       " dtype('float64'),\n",
       " dtype('float64'),\n",
       " dtype('float64'),\n",
       " dtype('float64'),\n",
       " dtype('float64'),\n",
       " dtype('float64'),\n",
       " dtype('float64'),\n",
       " dtype('float64'),\n",
       " dtype('float64'),\n",
       " dtype('float64'),\n",
       " dtype('float64'),\n",
       " dtype('float64'),\n",
       " dtype('float64'),\n",
       " dtype('float64'),\n",
       " dtype('float64'),\n",
       " dtype('float64'),\n",
       " dtype('float64'),\n",
       " dtype('float64'),\n",
       " dtype('float64'),\n",
       " dtype('float64'),\n",
       " dtype('float64'),\n",
       " dtype('float64'),\n",
       " dtype('float64'),\n",
       " dtype('float64'),\n",
       " dtype('float64'),\n",
       " dtype('float64'),\n",
       " dtype('float64'),\n",
       " dtype('float64'),\n",
       " dtype('float64'),\n",
       " dtype('float64'),\n",
       " dtype('float64'),\n",
       " dtype('float64'),\n",
       " dtype('float64'),\n",
       " dtype('float64'),\n",
       " dtype('float64'),\n",
       " dtype('float64'),\n",
       " dtype('float64'),\n",
       " dtype('float64'),\n",
       " dtype('float64'),\n",
       " dtype('float64'),\n",
       " dtype('float64'),\n",
       " dtype('float64'),\n",
       " dtype('float64'),\n",
       " dtype('float64'),\n",
       " dtype('float64'),\n",
       " dtype('float64'),\n",
       " dtype('O'),\n",
       " dtype('int64'),\n",
       " dtype('int64'),\n",
       " dtype('int64'),\n",
       " dtype('int64'),\n",
       " dtype('int64'),\n",
       " dtype('int64'),\n",
       " dtype('int64'),\n",
       " dtype('int64'),\n",
       " dtype('int64'),\n",
       " dtype('int64'),\n",
       " dtype('int64'),\n",
       " dtype('int64'),\n",
       " dtype('int64'),\n",
       " dtype('int64'),\n",
       " dtype('int64'),\n",
       " dtype('int64'),\n",
       " dtype('int64'),\n",
       " dtype('int64'),\n",
       " dtype('int64'),\n",
       " dtype('int64'),\n",
       " dtype('int64'),\n",
       " dtype('int64'),\n",
       " dtype('int64'),\n",
       " dtype('int64'),\n",
       " dtype('int64'),\n",
       " dtype('int64'),\n",
       " dtype('int64'),\n",
       " dtype('int64'),\n",
       " dtype('int64'),\n",
       " dtype('int64'),\n",
       " dtype('int64'),\n",
       " dtype('int64'),\n",
       " dtype('int64'),\n",
       " dtype('int64'),\n",
       " dtype('int64'),\n",
       " dtype('int64'),\n",
       " dtype('int64'),\n",
       " dtype('int64'),\n",
       " dtype('int64'),\n",
       " dtype('int64'),\n",
       " dtype('int64'),\n",
       " dtype('int64'),\n",
       " dtype('int64'),\n",
       " dtype('int64'),\n",
       " dtype('int64'),\n",
       " dtype('int64'),\n",
       " dtype('int64'),\n",
       " dtype('int64'),\n",
       " dtype('int64'),\n",
       " dtype('int64'),\n",
       " dtype('int64'),\n",
       " dtype('int64'),\n",
       " dtype('int64'),\n",
       " dtype('int64'),\n",
       " dtype('int64'),\n",
       " dtype('int64'),\n",
       " dtype('int64'),\n",
       " dtype('int64'),\n",
       " dtype('int64'),\n",
       " dtype('int64'),\n",
       " dtype('int64'),\n",
       " dtype('int64'),\n",
       " dtype('int64'),\n",
       " dtype('int64'),\n",
       " dtype('int64'),\n",
       " dtype('int64'),\n",
       " dtype('int64'),\n",
       " dtype('int64'),\n",
       " dtype('int64'),\n",
       " dtype('int64'),\n",
       " dtype('int64'),\n",
       " dtype('int64'),\n",
       " dtype('int64'),\n",
       " dtype('O'),\n",
       " dtype('float64'),\n",
       " dtype('float64'),\n",
       " dtype('float64'),\n",
       " dtype('float64'),\n",
       " dtype('float64'),\n",
       " dtype('float64'),\n",
       " dtype('float64'),\n",
       " dtype('float64'),\n",
       " dtype('float64'),\n",
       " dtype('float64'),\n",
       " dtype('float64'),\n",
       " dtype('float64'),\n",
       " dtype('float64'),\n",
       " dtype('float64'),\n",
       " dtype('float64'),\n",
       " dtype('float64'),\n",
       " dtype('float64'),\n",
       " dtype('float64'),\n",
       " dtype('float64'),\n",
       " dtype('float64'),\n",
       " dtype('float64'),\n",
       " dtype('float64'),\n",
       " dtype('float64'),\n",
       " dtype('float64'),\n",
       " dtype('float64'),\n",
       " dtype('float64'),\n",
       " dtype('float64'),\n",
       " dtype('float64'),\n",
       " dtype('float64'),\n",
       " dtype('float64'),\n",
       " dtype('float64'),\n",
       " dtype('float64'),\n",
       " dtype('float64'),\n",
       " dtype('float64'),\n",
       " dtype('float64'),\n",
       " dtype('float64'),\n",
       " dtype('float64'),\n",
       " dtype('float64'),\n",
       " dtype('float64'),\n",
       " dtype('float64'),\n",
       " dtype('float64'),\n",
       " dtype('float64'),\n",
       " dtype('float64'),\n",
       " dtype('float64'),\n",
       " dtype('float64'),\n",
       " dtype('float64'),\n",
       " dtype('float64'),\n",
       " dtype('float64'),\n",
       " dtype('float64'),\n",
       " dtype('float64'),\n",
       " dtype('float64'),\n",
       " dtype('float64'),\n",
       " dtype('float64'),\n",
       " dtype('float64'),\n",
       " dtype('float64'),\n",
       " dtype('float64'),\n",
       " dtype('float64'),\n",
       " dtype('float64'),\n",
       " dtype('float64'),\n",
       " dtype('float64'),\n",
       " dtype('float64'),\n",
       " dtype('float64'),\n",
       " dtype('float64'),\n",
       " dtype('float64'),\n",
       " dtype('float64'),\n",
       " dtype('float64'),\n",
       " dtype('float64'),\n",
       " dtype('float64'),\n",
       " dtype('float64'),\n",
       " dtype('float64'),\n",
       " dtype('O'),\n",
       " dtype('float64'),\n",
       " dtype('float64'),\n",
       " dtype('float64'),\n",
       " dtype('float64'),\n",
       " dtype('float64'),\n",
       " dtype('float64'),\n",
       " dtype('float64'),\n",
       " dtype('float64'),\n",
       " dtype('float64'),\n",
       " dtype('float64'),\n",
       " dtype('float64'),\n",
       " dtype('float64'),\n",
       " dtype('float64'),\n",
       " dtype('float64'),\n",
       " dtype('float64'),\n",
       " dtype('float64'),\n",
       " dtype('float64'),\n",
       " dtype('float64'),\n",
       " dtype('float64'),\n",
       " dtype('float64'),\n",
       " dtype('float64'),\n",
       " dtype('float64'),\n",
       " dtype('float64'),\n",
       " dtype('float64'),\n",
       " dtype('float64'),\n",
       " dtype('float64'),\n",
       " dtype('float64'),\n",
       " dtype('float64'),\n",
       " dtype('float64'),\n",
       " dtype('float64'),\n",
       " dtype('float64'),\n",
       " dtype('float64'),\n",
       " dtype('float64'),\n",
       " dtype('float64'),\n",
       " dtype('float64'),\n",
       " dtype('float64'),\n",
       " dtype('float64'),\n",
       " dtype('float64'),\n",
       " dtype('float64'),\n",
       " dtype('float64'),\n",
       " dtype('float64'),\n",
       " dtype('float64'),\n",
       " dtype('float64'),\n",
       " dtype('float64'),\n",
       " dtype('float64'),\n",
       " dtype('float64'),\n",
       " dtype('float64'),\n",
       " dtype('float64'),\n",
       " dtype('float64'),\n",
       " dtype('float64'),\n",
       " dtype('float64'),\n",
       " dtype('float64'),\n",
       " dtype('float64'),\n",
       " dtype('float64'),\n",
       " dtype('float64'),\n",
       " dtype('float64'),\n",
       " dtype('float64'),\n",
       " dtype('float64'),\n",
       " dtype('float64'),\n",
       " dtype('float64'),\n",
       " dtype('float64'),\n",
       " dtype('float64'),\n",
       " dtype('float64'),\n",
       " dtype('float64'),\n",
       " dtype('float64'),\n",
       " dtype('float64'),\n",
       " dtype('float64'),\n",
       " dtype('float64'),\n",
       " dtype('float64'),\n",
       " dtype('float64'),\n",
       " dtype('O'),\n",
       " dtype('float64'),\n",
       " dtype('float64'),\n",
       " dtype('float64'),\n",
       " dtype('float64'),\n",
       " dtype('float64'),\n",
       " dtype('float64'),\n",
       " dtype('float64'),\n",
       " dtype('float64'),\n",
       " dtype('float64'),\n",
       " dtype('float64'),\n",
       " dtype('float64'),\n",
       " dtype('float64'),\n",
       " dtype('float64'),\n",
       " dtype('float64'),\n",
       " dtype('float64'),\n",
       " dtype('float64'),\n",
       " dtype('float64'),\n",
       " dtype('float64'),\n",
       " dtype('float64'),\n",
       " dtype('float64'),\n",
       " dtype('float64'),\n",
       " dtype('float64'),\n",
       " dtype('float64'),\n",
       " dtype('float64'),\n",
       " dtype('float64'),\n",
       " dtype('float64'),\n",
       " dtype('float64'),\n",
       " dtype('float64'),\n",
       " dtype('float64'),\n",
       " dtype('float64'),\n",
       " dtype('float64'),\n",
       " dtype('float64'),\n",
       " dtype('float64'),\n",
       " dtype('float64'),\n",
       " dtype('float64'),\n",
       " dtype('float64'),\n",
       " dtype('float64'),\n",
       " dtype('float64'),\n",
       " dtype('float64'),\n",
       " dtype('float64'),\n",
       " dtype('float64'),\n",
       " dtype('float64'),\n",
       " dtype('float64'),\n",
       " dtype('float64'),\n",
       " dtype('float64'),\n",
       " dtype('float64'),\n",
       " dtype('float64'),\n",
       " dtype('float64'),\n",
       " dtype('float64'),\n",
       " dtype('float64'),\n",
       " dtype('float64'),\n",
       " dtype('float64'),\n",
       " dtype('float64'),\n",
       " dtype('float64'),\n",
       " dtype('float64'),\n",
       " dtype('float64'),\n",
       " dtype('float64'),\n",
       " dtype('float64'),\n",
       " dtype('float64'),\n",
       " dtype('float64'),\n",
       " dtype('float64'),\n",
       " dtype('float64'),\n",
       " dtype('float64'),\n",
       " dtype('float64'),\n",
       " dtype('float64'),\n",
       " dtype('float64'),\n",
       " dtype('float64'),\n",
       " dtype('float64'),\n",
       " dtype('float64'),\n",
       " dtype('float64'),\n",
       " dtype('float64'),\n",
       " dtype('float64'),\n",
       " dtype('float64'),\n",
       " dtype('O'),\n",
       " dtype('float64'),\n",
       " dtype('float64'),\n",
       " dtype('float64'),\n",
       " dtype('float64'),\n",
       " dtype('float64'),\n",
       " dtype('float64'),\n",
       " dtype('float64'),\n",
       " dtype('float64'),\n",
       " dtype('float64'),\n",
       " dtype('float64'),\n",
       " dtype('float64'),\n",
       " dtype('float64'),\n",
       " dtype('float64'),\n",
       " dtype('float64'),\n",
       " dtype('float64'),\n",
       " dtype('float64'),\n",
       " dtype('float64'),\n",
       " dtype('float64'),\n",
       " dtype('float64'),\n",
       " dtype('float64'),\n",
       " dtype('float64'),\n",
       " dtype('float64'),\n",
       " dtype('float64'),\n",
       " dtype('float64'),\n",
       " dtype('float64'),\n",
       " dtype('float64'),\n",
       " dtype('float64'),\n",
       " dtype('float64'),\n",
       " dtype('float64'),\n",
       " dtype('float64'),\n",
       " dtype('float64'),\n",
       " dtype('float64'),\n",
       " dtype('float64'),\n",
       " dtype('float64'),\n",
       " dtype('float64'),\n",
       " dtype('float64'),\n",
       " dtype('float64'),\n",
       " dtype('float64'),\n",
       " dtype('float64'),\n",
       " dtype('float64'),\n",
       " dtype('float64'),\n",
       " dtype('float64'),\n",
       " dtype('float64'),\n",
       " dtype('float64'),\n",
       " dtype('float64'),\n",
       " dtype('float64'),\n",
       " dtype('float64'),\n",
       " dtype('float64'),\n",
       " dtype('float64'),\n",
       " dtype('float64'),\n",
       " dtype('float64'),\n",
       " dtype('float64'),\n",
       " dtype('float64'),\n",
       " dtype('float64'),\n",
       " dtype('float64'),\n",
       " dtype('float64'),\n",
       " dtype('float64'),\n",
       " dtype('float64'),\n",
       " dtype('float64'),\n",
       " dtype('float64'),\n",
       " dtype('float64'),\n",
       " dtype('float64'),\n",
       " dtype('float64'),\n",
       " dtype('float64'),\n",
       " dtype('float64'),\n",
       " dtype('float64'),\n",
       " dtype('float64'),\n",
       " dtype('float64'),\n",
       " dtype('float64'),\n",
       " dtype('float64'),\n",
       " dtype('O'),\n",
       " dtype('float64'),\n",
       " dtype('float64'),\n",
       " dtype('float64'),\n",
       " dtype('float64'),\n",
       " dtype('float64'),\n",
       " dtype('float64'),\n",
       " dtype('float64'),\n",
       " dtype('float64'),\n",
       " dtype('float64'),\n",
       " dtype('float64'),\n",
       " dtype('float64'),\n",
       " dtype('float64'),\n",
       " dtype('float64'),\n",
       " dtype('float64'),\n",
       " dtype('float64'),\n",
       " ...]"
      ]
     },
     "execution_count": 30,
     "metadata": {},
     "output_type": "execute_result"
    }
   ],
   "source": [
    "aggregated_model_file_columns_list = model_file.columns.tolist()\n",
    "aggregated_model_file_dtypes_list = model_file.dtypes.tolist()\n",
    "aggregated_model_file_first_Row = model_file[1:2]\n",
    "aggregated_model_file_first_Row.to_csv('/Users/DavidStier/Downloads/aggregated_model_filerow1QMILE7.csv')\n",
    "aggregated_model_file_dtypes_list"
   ]
  },
  {
   "cell_type": "code",
   "execution_count": 31,
   "metadata": {
    "collapsed": false
   },
   "outputs": [],
   "source": [
    "model_value_cols = model_file.select_dtypes(include=['float64', 'int64','int','float']).columns.tolist()"
   ]
  },
  {
   "cell_type": "code",
   "execution_count": 32,
   "metadata": {
    "collapsed": false
   },
   "outputs": [],
   "source": [
    "#model_value_cols"
   ]
  },
  {
   "cell_type": "markdown",
   "metadata": {},
   "source": [
    "### drop aggregate 'name' columns "
   ]
  },
  {
   "cell_type": "code",
   "execution_count": 33,
   "metadata": {
    "collapsed": false
   },
   "outputs": [],
   "source": [
    "aggr_name_cols_to_drop =[ \n",
    "'addr_group_FOR_addr_cnt', 'Qmile_grid_cell_FOR_addr_cnt', 'hmile_grid_cell_FOR_addr_cnt', 'neighborhood_FOR_addr_cnt', 'FIPS_FOR_addr_cnt',\n",
    "'addr_group_FOR_addr_med', 'FIPS_FOR_addr_med',\n",
    "'addr_group_FOR_addr_avg', 'FIPS_FOR_addr_avg',\n",
    "\n",
    "'Qmile_grid_cell_FOR_Qmil_cnt', 'hmile_grid_cell_FOR_Qmil_cnt', 'neighborhood_FOR_Qmil_cnt', 'FIPS_FOR_Qmil_cnt',\n",
    "'Qmile_grid_cell_FOR_Qmil_med','FIPS_FOR_Qmil_med',\n",
    "'Qmile_grid_cell_FOR_Qmil_avg','FIPS_FOR_Qmil_avg',\n",
    "\n",
    "'hmile_grid_cell_FOR_hmil_cnt', 'Qmile_grid_cell_FOR_hmil_cnt', 'neighborhood_FOR_hmil_cnt', 'FIPS_FOR_hmil_cnt',\n",
    "'hmile_grid_cell_FOR_hmil_med','FIPS_FOR_hmil_med',\n",
    "'hmile_grid_cell_FOR_hmil_avg','FIPS_FOR_hmil_avg',\n",
    "\n",
    "'neighborhood_FOR_nbhd_cnt', 'Qmile_grid_cell_FOR_nbhd_cnt', 'hmile_grid_cell_FOR_nbhd_cnt', 'FIPS_FOR_nbhd_cnt',\n",
    "'neighborhood_FOR_nbhd_med','FIPS_FOR_nbhd_med',\n",
    "'neighborhood_FOR_nbhd_avg','FIPS_FOR_nbhd_avg',\n",
    "\n",
    "'FIPS_FOR_ctrt_cnt', 'Qmile_grid_cell_FOR_ctrt_cnt', 'hmile_grid_cell_FOR_ctrt_cnt', 'neighborhood_FOR_ctrt_cnt', \n",
    "'FIPS_FOR_ctrt_med', \n",
    "'FIPS_FOR_ctrt_avg', \n",
    "    \n",
    "'PID_FOR_addr_avg', 'PID_FOR_addr_med',\n",
    "'PID_FOR_Qmil_avg', 'PID_FOR_Qmil_med',\n",
    "'PID_FOR_hmil_avg', 'PID_FOR_hmil_med',\n",
    "'PID_FOR_nbhd_avg', 'PID_FOR_nbhd_med',\n",
    "'PID_FOR_ctrt_avg', 'PID_FOR_ctrt_med',\n",
    "'GEO.id2'\n",
    "]\n",
    "\n",
    "model_file.drop(aggr_name_cols_to_drop, inplace = True, axis = 1)"
   ]
  },
  {
   "cell_type": "markdown",
   "metadata": {},
   "source": [
    "##   Add features based on aggregated stats"
   ]
  },
  {
   "cell_type": "code",
   "execution_count": 34,
   "metadata": {
    "collapsed": false
   },
   "outputs": [
    {
     "data": {
      "text/html": [
       "<div>\n",
       "<table border=\"1\" class=\"dataframe\">\n",
       "  <thead>\n",
       "    <tr style=\"text-align: right;\">\n",
       "      <th>LU</th>\n",
       "      <th>Agricultural/Horticultural</th>\n",
       "      <th>Apartments 4-6 Units</th>\n",
       "      <th>Apartments 7 Units above</th>\n",
       "      <th>Commercial</th>\n",
       "      <th>Commercial Condo Unit</th>\n",
       "      <th>Commercial Land</th>\n",
       "      <th>Condominium Parking</th>\n",
       "      <th>Exempt</th>\n",
       "      <th>Exempt 121A</th>\n",
       "      <th>Industrial</th>\n",
       "      <th>Mixed Use Res/Comm</th>\n",
       "      <th>Residential Condo Unit</th>\n",
       "      <th>Residential Land</th>\n",
       "      <th>Residential Single Family</th>\n",
       "      <th>Residential Three Family</th>\n",
       "      <th>Residential Two Family</th>\n",
       "      <th>XX</th>\n",
       "    </tr>\n",
       "    <tr>\n",
       "      <th>addr_group</th>\n",
       "      <th></th>\n",
       "      <th></th>\n",
       "      <th></th>\n",
       "      <th></th>\n",
       "      <th></th>\n",
       "      <th></th>\n",
       "      <th></th>\n",
       "      <th></th>\n",
       "      <th></th>\n",
       "      <th></th>\n",
       "      <th></th>\n",
       "      <th></th>\n",
       "      <th></th>\n",
       "      <th></th>\n",
       "      <th></th>\n",
       "      <th></th>\n",
       "      <th></th>\n",
       "    </tr>\n",
       "  </thead>\n",
       "  <tbody>\n",
       "    <tr>\n",
       "      <th>A ST-2.0</th>\n",
       "      <td>NaN</td>\n",
       "      <td>NaN</td>\n",
       "      <td>NaN</td>\n",
       "      <td>1.0</td>\n",
       "      <td>NaN</td>\n",
       "      <td>2.0</td>\n",
       "      <td>NaN</td>\n",
       "      <td>NaN</td>\n",
       "      <td>NaN</td>\n",
       "      <td>NaN</td>\n",
       "      <td>NaN</td>\n",
       "      <td>NaN</td>\n",
       "      <td>NaN</td>\n",
       "      <td>NaN</td>\n",
       "      <td>NaN</td>\n",
       "      <td>NaN</td>\n",
       "      <td>NaN</td>\n",
       "    </tr>\n",
       "  </tbody>\n",
       "</table>\n",
       "</div>"
      ],
      "text/plain": [
       "LU          Agricultural/Horticultural  Apartments 4-6 Units  \\\n",
       "addr_group                                                     \n",
       "A ST-2.0                           NaN                   NaN   \n",
       "\n",
       "LU          Apartments 7 Units above  Commercial  Commercial Condo Unit  \\\n",
       "addr_group                                                                \n",
       "A ST-2.0                         NaN         1.0                    NaN   \n",
       "\n",
       "LU          Commercial Land  Condominium Parking  Exempt  Exempt 121A  \\\n",
       "addr_group                                                              \n",
       "A ST-2.0                2.0                  NaN     NaN          NaN   \n",
       "\n",
       "LU          Industrial  Mixed Use Res/Comm  Residential Condo Unit  \\\n",
       "addr_group                                                           \n",
       "A ST-2.0           NaN                 NaN                     NaN   \n",
       "\n",
       "LU          Residential Land  Residential Single Family  \\\n",
       "addr_group                                                \n",
       "A ST-2.0                 NaN                        NaN   \n",
       "\n",
       "LU          Residential Three Family  Residential Two Family  XX  \n",
       "addr_group                                                        \n",
       "A ST-2.0                         NaN                     NaN NaN  "
      ]
     },
     "execution_count": 34,
     "metadata": {},
     "output_type": "execute_result"
    }
   ],
   "source": [
    "testing_pivot = pd.pivot_table(model_file, index = 'addr_group', columns = 'LU', aggfunc = 'size')\n",
    "testing_pivot.query('addr_group == [\"A ST-2.0\"]')#['Commercial Land']\n",
    "# 'Manager == [\"Debra Henley\"]')"
   ]
  },
  {
   "cell_type": "code",
   "execution_count": 35,
   "metadata": {
    "collapsed": false
   },
   "outputs": [
    {
     "data": {
      "text/html": [
       "<div>\n",
       "<table border=\"1\" class=\"dataframe\">\n",
       "  <thead>\n",
       "    <tr style=\"text-align: right;\">\n",
       "      <th>LU</th>\n",
       "      <th>Agricultural/Horticultural</th>\n",
       "      <th>Apartments 4-6 Units</th>\n",
       "      <th>Apartments 7 Units above</th>\n",
       "      <th>Commercial</th>\n",
       "      <th>Commercial Condo Unit</th>\n",
       "      <th>Commercial Land</th>\n",
       "      <th>Condominium Parking</th>\n",
       "      <th>Exempt</th>\n",
       "      <th>Exempt 121A</th>\n",
       "      <th>Industrial</th>\n",
       "      <th>Mixed Use Res/Comm</th>\n",
       "      <th>Residential Condo Unit</th>\n",
       "      <th>Residential Land</th>\n",
       "      <th>Residential Single Family</th>\n",
       "      <th>Residential Three Family</th>\n",
       "      <th>Residential Two Family</th>\n",
       "      <th>XX</th>\n",
       "    </tr>\n",
       "    <tr>\n",
       "      <th>addr_group</th>\n",
       "      <th></th>\n",
       "      <th></th>\n",
       "      <th></th>\n",
       "      <th></th>\n",
       "      <th></th>\n",
       "      <th></th>\n",
       "      <th></th>\n",
       "      <th></th>\n",
       "      <th></th>\n",
       "      <th></th>\n",
       "      <th></th>\n",
       "      <th></th>\n",
       "      <th></th>\n",
       "      <th></th>\n",
       "      <th></th>\n",
       "      <th></th>\n",
       "      <th></th>\n",
       "    </tr>\n",
       "  </thead>\n",
       "  <tbody>\n",
       "    <tr>\n",
       "      <th>A ST-0.0</th>\n",
       "      <td>NaN</td>\n",
       "      <td>NaN</td>\n",
       "      <td>NaN</td>\n",
       "      <td>4.0</td>\n",
       "      <td>NaN</td>\n",
       "      <td>4.0</td>\n",
       "      <td>NaN</td>\n",
       "      <td>1.0</td>\n",
       "      <td>NaN</td>\n",
       "      <td>1.0</td>\n",
       "      <td>3.0</td>\n",
       "      <td>NaN</td>\n",
       "      <td>NaN</td>\n",
       "      <td>NaN</td>\n",
       "      <td>NaN</td>\n",
       "      <td>NaN</td>\n",
       "      <td>NaN</td>\n",
       "    </tr>\n",
       "    <tr>\n",
       "      <th>A ST-1.0</th>\n",
       "      <td>NaN</td>\n",
       "      <td>NaN</td>\n",
       "      <td>NaN</td>\n",
       "      <td>NaN</td>\n",
       "      <td>NaN</td>\n",
       "      <td>5.0</td>\n",
       "      <td>NaN</td>\n",
       "      <td>1.0</td>\n",
       "      <td>NaN</td>\n",
       "      <td>NaN</td>\n",
       "      <td>NaN</td>\n",
       "      <td>NaN</td>\n",
       "      <td>NaN</td>\n",
       "      <td>NaN</td>\n",
       "      <td>NaN</td>\n",
       "      <td>NaN</td>\n",
       "      <td>NaN</td>\n",
       "    </tr>\n",
       "    <tr>\n",
       "      <th>A ST-2.0</th>\n",
       "      <td>NaN</td>\n",
       "      <td>NaN</td>\n",
       "      <td>NaN</td>\n",
       "      <td>1.0</td>\n",
       "      <td>NaN</td>\n",
       "      <td>2.0</td>\n",
       "      <td>NaN</td>\n",
       "      <td>NaN</td>\n",
       "      <td>NaN</td>\n",
       "      <td>NaN</td>\n",
       "      <td>NaN</td>\n",
       "      <td>NaN</td>\n",
       "      <td>NaN</td>\n",
       "      <td>NaN</td>\n",
       "      <td>NaN</td>\n",
       "      <td>NaN</td>\n",
       "      <td>NaN</td>\n",
       "    </tr>\n",
       "    <tr>\n",
       "      <th>A ST-3.0</th>\n",
       "      <td>NaN</td>\n",
       "      <td>NaN</td>\n",
       "      <td>1.0</td>\n",
       "      <td>3.0</td>\n",
       "      <td>NaN</td>\n",
       "      <td>NaN</td>\n",
       "      <td>NaN</td>\n",
       "      <td>NaN</td>\n",
       "      <td>NaN</td>\n",
       "      <td>NaN</td>\n",
       "      <td>2.0</td>\n",
       "      <td>NaN</td>\n",
       "      <td>NaN</td>\n",
       "      <td>NaN</td>\n",
       "      <td>NaN</td>\n",
       "      <td>NaN</td>\n",
       "      <td>NaN</td>\n",
       "    </tr>\n",
       "    <tr>\n",
       "      <th>A ST-nan</th>\n",
       "      <td>NaN</td>\n",
       "      <td>NaN</td>\n",
       "      <td>NaN</td>\n",
       "      <td>NaN</td>\n",
       "      <td>NaN</td>\n",
       "      <td>4.0</td>\n",
       "      <td>NaN</td>\n",
       "      <td>4.0</td>\n",
       "      <td>NaN</td>\n",
       "      <td>NaN</td>\n",
       "      <td>NaN</td>\n",
       "      <td>NaN</td>\n",
       "      <td>NaN</td>\n",
       "      <td>NaN</td>\n",
       "      <td>NaN</td>\n",
       "      <td>NaN</td>\n",
       "      <td>NaN</td>\n",
       "    </tr>\n",
       "  </tbody>\n",
       "</table>\n",
       "</div>"
      ],
      "text/plain": [
       "LU          Agricultural/Horticultural  Apartments 4-6 Units  \\\n",
       "addr_group                                                     \n",
       "A ST-0.0                           NaN                   NaN   \n",
       "A ST-1.0                           NaN                   NaN   \n",
       "A ST-2.0                           NaN                   NaN   \n",
       "A ST-3.0                           NaN                   NaN   \n",
       "A ST-nan                           NaN                   NaN   \n",
       "\n",
       "LU          Apartments 7 Units above  Commercial  Commercial Condo Unit  \\\n",
       "addr_group                                                                \n",
       "A ST-0.0                         NaN         4.0                    NaN   \n",
       "A ST-1.0                         NaN         NaN                    NaN   \n",
       "A ST-2.0                         NaN         1.0                    NaN   \n",
       "A ST-3.0                         1.0         3.0                    NaN   \n",
       "A ST-nan                         NaN         NaN                    NaN   \n",
       "\n",
       "LU          Commercial Land  Condominium Parking  Exempt  Exempt 121A  \\\n",
       "addr_group                                                              \n",
       "A ST-0.0                4.0                  NaN     1.0          NaN   \n",
       "A ST-1.0                5.0                  NaN     1.0          NaN   \n",
       "A ST-2.0                2.0                  NaN     NaN          NaN   \n",
       "A ST-3.0                NaN                  NaN     NaN          NaN   \n",
       "A ST-nan                4.0                  NaN     4.0          NaN   \n",
       "\n",
       "LU          Industrial  Mixed Use Res/Comm  Residential Condo Unit  \\\n",
       "addr_group                                                           \n",
       "A ST-0.0           1.0                 3.0                     NaN   \n",
       "A ST-1.0           NaN                 NaN                     NaN   \n",
       "A ST-2.0           NaN                 NaN                     NaN   \n",
       "A ST-3.0           NaN                 2.0                     NaN   \n",
       "A ST-nan           NaN                 NaN                     NaN   \n",
       "\n",
       "LU          Residential Land  Residential Single Family  \\\n",
       "addr_group                                                \n",
       "A ST-0.0                 NaN                        NaN   \n",
       "A ST-1.0                 NaN                        NaN   \n",
       "A ST-2.0                 NaN                        NaN   \n",
       "A ST-3.0                 NaN                        NaN   \n",
       "A ST-nan                 NaN                        NaN   \n",
       "\n",
       "LU          Residential Three Family  Residential Two Family  XX  \n",
       "addr_group                                                        \n",
       "A ST-0.0                         NaN                     NaN NaN  \n",
       "A ST-1.0                         NaN                     NaN NaN  \n",
       "A ST-2.0                         NaN                     NaN NaN  \n",
       "A ST-3.0                         NaN                     NaN NaN  \n",
       "A ST-nan                         NaN                     NaN NaN  "
      ]
     },
     "execution_count": 35,
     "metadata": {},
     "output_type": "execute_result"
    }
   ],
   "source": [
    "addr_LU_pivot = pd.DataFrame(testing_pivot)\n",
    "addr_LU_pivot.head()"
   ]
  },
  {
   "cell_type": "code",
   "execution_count": 36,
   "metadata": {
    "collapsed": false
   },
   "outputs": [
    {
     "data": {
      "text/plain": [
       "(92052, 1435)"
      ]
     },
     "execution_count": 36,
     "metadata": {},
     "output_type": "execute_result"
    }
   ],
   "source": [
    "model_file.shape"
   ]
  },
  {
   "cell_type": "code",
   "execution_count": 37,
   "metadata": {
    "collapsed": false
   },
   "outputs": [
    {
     "data": {
      "text/html": [
       "<div>\n",
       "<table border=\"1\" class=\"dataframe\">\n",
       "  <thead>\n",
       "    <tr style=\"text-align: right;\">\n",
       "      <th></th>\n",
       "      <th>addr_group</th>\n",
       "      <th>Agricultural/Horticultural</th>\n",
       "      <th>Apartments 4-6 Units</th>\n",
       "      <th>Apartments 7 Units above</th>\n",
       "      <th>Commercial</th>\n",
       "      <th>Commercial Condo Unit</th>\n",
       "      <th>Commercial Land</th>\n",
       "      <th>Condominium Parking</th>\n",
       "      <th>Exempt</th>\n",
       "      <th>Exempt 121A</th>\n",
       "      <th>Industrial</th>\n",
       "      <th>Mixed Use Res/Comm</th>\n",
       "      <th>Residential Land</th>\n",
       "      <th>Residential Single Family</th>\n",
       "      <th>Residential Three Family</th>\n",
       "      <th>Residential Two Family</th>\n",
       "      <th>XX</th>\n",
       "    </tr>\n",
       "  </thead>\n",
       "  <tbody>\n",
       "    <tr>\n",
       "      <th>0</th>\n",
       "      <td>A ST-0.0</td>\n",
       "      <td>NaN</td>\n",
       "      <td>NaN</td>\n",
       "      <td>NaN</td>\n",
       "      <td>4.0</td>\n",
       "      <td>NaN</td>\n",
       "      <td>4.0</td>\n",
       "      <td>NaN</td>\n",
       "      <td>1.0</td>\n",
       "      <td>NaN</td>\n",
       "      <td>1.0</td>\n",
       "      <td>2.0</td>\n",
       "      <td>NaN</td>\n",
       "      <td>NaN</td>\n",
       "      <td>NaN</td>\n",
       "      <td>NaN</td>\n",
       "      <td>NaN</td>\n",
       "    </tr>\n",
       "    <tr>\n",
       "      <th>1</th>\n",
       "      <td>A ST-1.0</td>\n",
       "      <td>NaN</td>\n",
       "      <td>NaN</td>\n",
       "      <td>NaN</td>\n",
       "      <td>NaN</td>\n",
       "      <td>NaN</td>\n",
       "      <td>5.0</td>\n",
       "      <td>NaN</td>\n",
       "      <td>1.0</td>\n",
       "      <td>NaN</td>\n",
       "      <td>NaN</td>\n",
       "      <td>NaN</td>\n",
       "      <td>NaN</td>\n",
       "      <td>NaN</td>\n",
       "      <td>NaN</td>\n",
       "      <td>NaN</td>\n",
       "      <td>NaN</td>\n",
       "    </tr>\n",
       "    <tr>\n",
       "      <th>2</th>\n",
       "      <td>A ST-2.0</td>\n",
       "      <td>NaN</td>\n",
       "      <td>NaN</td>\n",
       "      <td>NaN</td>\n",
       "      <td>1.0</td>\n",
       "      <td>NaN</td>\n",
       "      <td>2.0</td>\n",
       "      <td>NaN</td>\n",
       "      <td>NaN</td>\n",
       "      <td>NaN</td>\n",
       "      <td>NaN</td>\n",
       "      <td>NaN</td>\n",
       "      <td>NaN</td>\n",
       "      <td>NaN</td>\n",
       "      <td>NaN</td>\n",
       "      <td>NaN</td>\n",
       "      <td>NaN</td>\n",
       "    </tr>\n",
       "    <tr>\n",
       "      <th>3</th>\n",
       "      <td>A ST-3.0</td>\n",
       "      <td>NaN</td>\n",
       "      <td>NaN</td>\n",
       "      <td>1.0</td>\n",
       "      <td>2.0</td>\n",
       "      <td>NaN</td>\n",
       "      <td>NaN</td>\n",
       "      <td>NaN</td>\n",
       "      <td>NaN</td>\n",
       "      <td>NaN</td>\n",
       "      <td>NaN</td>\n",
       "      <td>2.0</td>\n",
       "      <td>NaN</td>\n",
       "      <td>NaN</td>\n",
       "      <td>NaN</td>\n",
       "      <td>NaN</td>\n",
       "      <td>NaN</td>\n",
       "    </tr>\n",
       "    <tr>\n",
       "      <th>4</th>\n",
       "      <td>A ST-nan</td>\n",
       "      <td>NaN</td>\n",
       "      <td>NaN</td>\n",
       "      <td>NaN</td>\n",
       "      <td>NaN</td>\n",
       "      <td>NaN</td>\n",
       "      <td>4.0</td>\n",
       "      <td>NaN</td>\n",
       "      <td>4.0</td>\n",
       "      <td>NaN</td>\n",
       "      <td>NaN</td>\n",
       "      <td>NaN</td>\n",
       "      <td>NaN</td>\n",
       "      <td>NaN</td>\n",
       "      <td>NaN</td>\n",
       "      <td>NaN</td>\n",
       "      <td>NaN</td>\n",
       "    </tr>\n",
       "  </tbody>\n",
       "</table>\n",
       "</div>"
      ],
      "text/plain": [
       "  addr_group  Agricultural/Horticultural  Apartments 4-6 Units  \\\n",
       "0   A ST-0.0                         NaN                   NaN   \n",
       "1   A ST-1.0                         NaN                   NaN   \n",
       "2   A ST-2.0                         NaN                   NaN   \n",
       "3   A ST-3.0                         NaN                   NaN   \n",
       "4   A ST-nan                         NaN                   NaN   \n",
       "\n",
       "   Apartments 7 Units above  Commercial  Commercial Condo Unit  \\\n",
       "0                       NaN         4.0                    NaN   \n",
       "1                       NaN         NaN                    NaN   \n",
       "2                       NaN         1.0                    NaN   \n",
       "3                       1.0         2.0                    NaN   \n",
       "4                       NaN         NaN                    NaN   \n",
       "\n",
       "   Commercial Land  Condominium Parking  Exempt  Exempt 121A  Industrial  \\\n",
       "0              4.0                  NaN     1.0          NaN         1.0   \n",
       "1              5.0                  NaN     1.0          NaN         NaN   \n",
       "2              2.0                  NaN     NaN          NaN         NaN   \n",
       "3              NaN                  NaN     NaN          NaN         NaN   \n",
       "4              4.0                  NaN     4.0          NaN         NaN   \n",
       "\n",
       "   Mixed Use Res/Comm  Residential Land  Residential Single Family  \\\n",
       "0                 2.0               NaN                        NaN   \n",
       "1                 NaN               NaN                        NaN   \n",
       "2                 NaN               NaN                        NaN   \n",
       "3                 2.0               NaN                        NaN   \n",
       "4                 NaN               NaN                        NaN   \n",
       "\n",
       "   Residential Three Family  Residential Two Family  XX  \n",
       "0                       NaN                     NaN NaN  \n",
       "1                       NaN                     NaN NaN  \n",
       "2                       NaN                     NaN NaN  \n",
       "3                       NaN                     NaN NaN  \n",
       "4                       NaN                     NaN NaN  "
      ]
     },
     "execution_count": 37,
     "metadata": {},
     "output_type": "execute_result"
    }
   ],
   "source": [
    "#addr_LU_pivot.to_csv('/Users/DavidStier/Downloads/LUpivot.csv')\n",
    "addrLUfrom_CSV = pd.read_csv('/Users/DavidStier/Downloads/LUpivot.csv')\n",
    "addrLUfrom_CSV.head()"
   ]
  },
  {
   "cell_type": "code",
   "execution_count": 38,
   "metadata": {
    "collapsed": false
   },
   "outputs": [
    {
     "data": {
      "text/plain": [
       "(7386, 17)"
      ]
     },
     "execution_count": 38,
     "metadata": {},
     "output_type": "execute_result"
    }
   ],
   "source": [
    "addrLUfrom_CSV.shape"
   ]
  },
  {
   "cell_type": "code",
   "execution_count": 39,
   "metadata": {
    "collapsed": true
   },
   "outputs": [],
   "source": [
    "addrLUfrom_CSV.fillna(0, inplace = True)"
   ]
  },
  {
   "cell_type": "code",
   "execution_count": 40,
   "metadata": {
    "collapsed": false
   },
   "outputs": [],
   "source": [
    "model_file = pd.merge(model_file, addrLUfrom_CSV, left_on = 'addr_group', right_on = 'addr_group', suffixes= (\"_x\",\"_addr_group_cnt\"))"
   ]
  },
  {
   "cell_type": "code",
   "execution_count": 41,
   "metadata": {
    "collapsed": false
   },
   "outputs": [
    {
     "data": {
      "text/plain": [
       "(89334, 1451)"
      ]
     },
     "execution_count": 41,
     "metadata": {},
     "output_type": "execute_result"
    }
   ],
   "source": [
    "model_file.shape"
   ]
  },
  {
   "cell_type": "code",
   "execution_count": 42,
   "metadata": {
    "collapsed": false
   },
   "outputs": [
    {
     "data": {
      "text/html": [
       "<div>\n",
       "<table border=\"1\" class=\"dataframe\">\n",
       "  <thead>\n",
       "    <tr style=\"text-align: right;\">\n",
       "      <th></th>\n",
       "      <th>Unnamed: 0</th>\n",
       "      <th>AV_BLDG</th>\n",
       "      <th>AV_LAND</th>\n",
       "      <th>GIS_ID</th>\n",
       "      <th>GROSS_AREA</th>\n",
       "      <th>LAND_SF</th>\n",
       "      <th>LIVING_ARE</th>\n",
       "      <th>LU</th>\n",
       "      <th>NUM_FLOORS</th>\n",
       "      <th>OWN_OCC</th>\n",
       "      <th>...</th>\n",
       "      <th>Condominium Parking</th>\n",
       "      <th>Exempt</th>\n",
       "      <th>Exempt 121A</th>\n",
       "      <th>Industrial</th>\n",
       "      <th>Mixed Use Res/Comm</th>\n",
       "      <th>Residential Land</th>\n",
       "      <th>Residential Single Family</th>\n",
       "      <th>Residential Three Family</th>\n",
       "      <th>Residential Two Family</th>\n",
       "      <th>XX</th>\n",
       "    </tr>\n",
       "  </thead>\n",
       "  <tbody>\n",
       "    <tr>\n",
       "      <th>0</th>\n",
       "      <td>0</td>\n",
       "      <td>235300</td>\n",
       "      <td>129900</td>\n",
       "      <td>100001000</td>\n",
       "      <td>3353.0</td>\n",
       "      <td>1150.0</td>\n",
       "      <td>2202.0</td>\n",
       "      <td>Residential Three Family</td>\n",
       "      <td>3.0</td>\n",
       "      <td>1</td>\n",
       "      <td>...</td>\n",
       "      <td>0.0</td>\n",
       "      <td>0.0</td>\n",
       "      <td>0.0</td>\n",
       "      <td>0.0</td>\n",
       "      <td>5.0</td>\n",
       "      <td>0.0</td>\n",
       "      <td>7.0</td>\n",
       "      <td>28.0</td>\n",
       "      <td>7.0</td>\n",
       "      <td>0.0</td>\n",
       "    </tr>\n",
       "    <tr>\n",
       "      <th>1</th>\n",
       "      <td>51</td>\n",
       "      <td>56000</td>\n",
       "      <td>114600</td>\n",
       "      <td>100052000</td>\n",
       "      <td>2478.0</td>\n",
       "      <td>1618.0</td>\n",
       "      <td>1658.0</td>\n",
       "      <td>Residential Single Family</td>\n",
       "      <td>2.0</td>\n",
       "      <td>0</td>\n",
       "      <td>...</td>\n",
       "      <td>0.0</td>\n",
       "      <td>0.0</td>\n",
       "      <td>0.0</td>\n",
       "      <td>0.0</td>\n",
       "      <td>5.0</td>\n",
       "      <td>0.0</td>\n",
       "      <td>7.0</td>\n",
       "      <td>28.0</td>\n",
       "      <td>7.0</td>\n",
       "      <td>0.0</td>\n",
       "    </tr>\n",
       "    <tr>\n",
       "      <th>2</th>\n",
       "      <td>52</td>\n",
       "      <td>156900</td>\n",
       "      <td>122700</td>\n",
       "      <td>100053000</td>\n",
       "      <td>2730.0</td>\n",
       "      <td>1864.0</td>\n",
       "      <td>1816.0</td>\n",
       "      <td>Residential Single Family</td>\n",
       "      <td>2.0</td>\n",
       "      <td>1</td>\n",
       "      <td>...</td>\n",
       "      <td>0.0</td>\n",
       "      <td>0.0</td>\n",
       "      <td>0.0</td>\n",
       "      <td>0.0</td>\n",
       "      <td>5.0</td>\n",
       "      <td>0.0</td>\n",
       "      <td>7.0</td>\n",
       "      <td>28.0</td>\n",
       "      <td>7.0</td>\n",
       "      <td>0.0</td>\n",
       "    </tr>\n",
       "    <tr>\n",
       "      <th>3</th>\n",
       "      <td>53</td>\n",
       "      <td>163700</td>\n",
       "      <td>137500</td>\n",
       "      <td>100054000</td>\n",
       "      <td>2964.0</td>\n",
       "      <td>1640.0</td>\n",
       "      <td>2190.0</td>\n",
       "      <td>Residential Three Family</td>\n",
       "      <td>3.0</td>\n",
       "      <td>1</td>\n",
       "      <td>...</td>\n",
       "      <td>0.0</td>\n",
       "      <td>0.0</td>\n",
       "      <td>0.0</td>\n",
       "      <td>0.0</td>\n",
       "      <td>5.0</td>\n",
       "      <td>0.0</td>\n",
       "      <td>7.0</td>\n",
       "      <td>28.0</td>\n",
       "      <td>7.0</td>\n",
       "      <td>0.0</td>\n",
       "    </tr>\n",
       "    <tr>\n",
       "      <th>4</th>\n",
       "      <td>54</td>\n",
       "      <td>227700</td>\n",
       "      <td>137200</td>\n",
       "      <td>100055000</td>\n",
       "      <td>2972.0</td>\n",
       "      <td>1640.0</td>\n",
       "      <td>2088.0</td>\n",
       "      <td>Residential Three Family</td>\n",
       "      <td>3.0</td>\n",
       "      <td>0</td>\n",
       "      <td>...</td>\n",
       "      <td>0.0</td>\n",
       "      <td>0.0</td>\n",
       "      <td>0.0</td>\n",
       "      <td>0.0</td>\n",
       "      <td>5.0</td>\n",
       "      <td>0.0</td>\n",
       "      <td>7.0</td>\n",
       "      <td>28.0</td>\n",
       "      <td>7.0</td>\n",
       "      <td>0.0</td>\n",
       "    </tr>\n",
       "    <tr>\n",
       "      <th>5</th>\n",
       "      <td>2600</td>\n",
       "      <td>206400</td>\n",
       "      <td>112800</td>\n",
       "      <td>102991000</td>\n",
       "      <td>3344.0</td>\n",
       "      <td>1250.0</td>\n",
       "      <td>2251.0</td>\n",
       "      <td>Residential Two Family</td>\n",
       "      <td>2.5</td>\n",
       "      <td>1</td>\n",
       "      <td>...</td>\n",
       "      <td>0.0</td>\n",
       "      <td>0.0</td>\n",
       "      <td>0.0</td>\n",
       "      <td>0.0</td>\n",
       "      <td>5.0</td>\n",
       "      <td>0.0</td>\n",
       "      <td>7.0</td>\n",
       "      <td>28.0</td>\n",
       "      <td>7.0</td>\n",
       "      <td>0.0</td>\n",
       "    </tr>\n",
       "    <tr>\n",
       "      <th>6</th>\n",
       "      <td>2601</td>\n",
       "      <td>148900</td>\n",
       "      <td>97100</td>\n",
       "      <td>102992000</td>\n",
       "      <td>2330.0</td>\n",
       "      <td>1050.0</td>\n",
       "      <td>1441.0</td>\n",
       "      <td>Residential Single Family</td>\n",
       "      <td>2.0</td>\n",
       "      <td>1</td>\n",
       "      <td>...</td>\n",
       "      <td>0.0</td>\n",
       "      <td>0.0</td>\n",
       "      <td>0.0</td>\n",
       "      <td>0.0</td>\n",
       "      <td>5.0</td>\n",
       "      <td>0.0</td>\n",
       "      <td>7.0</td>\n",
       "      <td>28.0</td>\n",
       "      <td>7.0</td>\n",
       "      <td>0.0</td>\n",
       "    </tr>\n",
       "    <tr>\n",
       "      <th>7</th>\n",
       "      <td>2602</td>\n",
       "      <td>142300</td>\n",
       "      <td>97400</td>\n",
       "      <td>102993000</td>\n",
       "      <td>1984.0</td>\n",
       "      <td>1050.0</td>\n",
       "      <td>1232.0</td>\n",
       "      <td>Residential Single Family</td>\n",
       "      <td>2.0</td>\n",
       "      <td>1</td>\n",
       "      <td>...</td>\n",
       "      <td>0.0</td>\n",
       "      <td>0.0</td>\n",
       "      <td>0.0</td>\n",
       "      <td>0.0</td>\n",
       "      <td>5.0</td>\n",
       "      <td>0.0</td>\n",
       "      <td>7.0</td>\n",
       "      <td>28.0</td>\n",
       "      <td>7.0</td>\n",
       "      <td>0.0</td>\n",
       "    </tr>\n",
       "    <tr>\n",
       "      <th>8</th>\n",
       "      <td>2603</td>\n",
       "      <td>281800</td>\n",
       "      <td>131000</td>\n",
       "      <td>102994000</td>\n",
       "      <td>4005.0</td>\n",
       "      <td>1450.0</td>\n",
       "      <td>2650.0</td>\n",
       "      <td>Residential Three Family</td>\n",
       "      <td>2.5</td>\n",
       "      <td>0</td>\n",
       "      <td>...</td>\n",
       "      <td>0.0</td>\n",
       "      <td>0.0</td>\n",
       "      <td>0.0</td>\n",
       "      <td>0.0</td>\n",
       "      <td>5.0</td>\n",
       "      <td>0.0</td>\n",
       "      <td>7.0</td>\n",
       "      <td>28.0</td>\n",
       "      <td>7.0</td>\n",
       "      <td>0.0</td>\n",
       "    </tr>\n",
       "    <tr>\n",
       "      <th>9</th>\n",
       "      <td>5909</td>\n",
       "      <td>157300</td>\n",
       "      <td>112400</td>\n",
       "      <td>106670000</td>\n",
       "      <td>2720.0</td>\n",
       "      <td>1575.0</td>\n",
       "      <td>1488.0</td>\n",
       "      <td>Residential Single Family</td>\n",
       "      <td>2.0</td>\n",
       "      <td>1</td>\n",
       "      <td>...</td>\n",
       "      <td>0.0</td>\n",
       "      <td>0.0</td>\n",
       "      <td>0.0</td>\n",
       "      <td>0.0</td>\n",
       "      <td>5.0</td>\n",
       "      <td>0.0</td>\n",
       "      <td>7.0</td>\n",
       "      <td>28.0</td>\n",
       "      <td>7.0</td>\n",
       "      <td>0.0</td>\n",
       "    </tr>\n",
       "    <tr>\n",
       "      <th>10</th>\n",
       "      <td>5910</td>\n",
       "      <td>265900</td>\n",
       "      <td>158900</td>\n",
       "      <td>106671000</td>\n",
       "      <td>3640.0</td>\n",
       "      <td>2500.0</td>\n",
       "      <td>2530.0</td>\n",
       "      <td>Residential Three Family</td>\n",
       "      <td>3.0</td>\n",
       "      <td>1</td>\n",
       "      <td>...</td>\n",
       "      <td>0.0</td>\n",
       "      <td>0.0</td>\n",
       "      <td>0.0</td>\n",
       "      <td>0.0</td>\n",
       "      <td>5.0</td>\n",
       "      <td>0.0</td>\n",
       "      <td>7.0</td>\n",
       "      <td>28.0</td>\n",
       "      <td>7.0</td>\n",
       "      <td>0.0</td>\n",
       "    </tr>\n",
       "    <tr>\n",
       "      <th>11</th>\n",
       "      <td>5911</td>\n",
       "      <td>220400</td>\n",
       "      <td>123600</td>\n",
       "      <td>106672000</td>\n",
       "      <td>2854.0</td>\n",
       "      <td>1250.0</td>\n",
       "      <td>2153.0</td>\n",
       "      <td>Residential Three Family</td>\n",
       "      <td>3.0</td>\n",
       "      <td>1</td>\n",
       "      <td>...</td>\n",
       "      <td>0.0</td>\n",
       "      <td>0.0</td>\n",
       "      <td>0.0</td>\n",
       "      <td>0.0</td>\n",
       "      <td>5.0</td>\n",
       "      <td>0.0</td>\n",
       "      <td>7.0</td>\n",
       "      <td>28.0</td>\n",
       "      <td>7.0</td>\n",
       "      <td>0.0</td>\n",
       "    </tr>\n",
       "  </tbody>\n",
       "</table>\n",
       "<p>12 rows × 1451 columns</p>\n",
       "</div>"
      ],
      "text/plain": [
       "    Unnamed: 0  AV_BLDG  AV_LAND     GIS_ID  GROSS_AREA  LAND_SF  LIVING_ARE  \\\n",
       "0            0   235300   129900  100001000      3353.0   1150.0      2202.0   \n",
       "1           51    56000   114600  100052000      2478.0   1618.0      1658.0   \n",
       "2           52   156900   122700  100053000      2730.0   1864.0      1816.0   \n",
       "3           53   163700   137500  100054000      2964.0   1640.0      2190.0   \n",
       "4           54   227700   137200  100055000      2972.0   1640.0      2088.0   \n",
       "5         2600   206400   112800  102991000      3344.0   1250.0      2251.0   \n",
       "6         2601   148900    97100  102992000      2330.0   1050.0      1441.0   \n",
       "7         2602   142300    97400  102993000      1984.0   1050.0      1232.0   \n",
       "8         2603   281800   131000  102994000      4005.0   1450.0      2650.0   \n",
       "9         5909   157300   112400  106670000      2720.0   1575.0      1488.0   \n",
       "10        5910   265900   158900  106671000      3640.0   2500.0      2530.0   \n",
       "11        5911   220400   123600  106672000      2854.0   1250.0      2153.0   \n",
       "\n",
       "                           LU  NUM_FLOORS  OWN_OCC ...   Condominium Parking  \\\n",
       "0    Residential Three Family         3.0        1 ...                   0.0   \n",
       "1   Residential Single Family         2.0        0 ...                   0.0   \n",
       "2   Residential Single Family         2.0        1 ...                   0.0   \n",
       "3    Residential Three Family         3.0        1 ...                   0.0   \n",
       "4    Residential Three Family         3.0        0 ...                   0.0   \n",
       "5      Residential Two Family         2.5        1 ...                   0.0   \n",
       "6   Residential Single Family         2.0        1 ...                   0.0   \n",
       "7   Residential Single Family         2.0        1 ...                   0.0   \n",
       "8    Residential Three Family         2.5        0 ...                   0.0   \n",
       "9   Residential Single Family         2.0        1 ...                   0.0   \n",
       "10   Residential Three Family         3.0        1 ...                   0.0   \n",
       "11   Residential Three Family         3.0        1 ...                   0.0   \n",
       "\n",
       "    Exempt  Exempt 121A Industrial  Mixed Use Res/Comm Residential Land  \\\n",
       "0      0.0          0.0        0.0                 5.0              0.0   \n",
       "1      0.0          0.0        0.0                 5.0              0.0   \n",
       "2      0.0          0.0        0.0                 5.0              0.0   \n",
       "3      0.0          0.0        0.0                 5.0              0.0   \n",
       "4      0.0          0.0        0.0                 5.0              0.0   \n",
       "5      0.0          0.0        0.0                 5.0              0.0   \n",
       "6      0.0          0.0        0.0                 5.0              0.0   \n",
       "7      0.0          0.0        0.0                 5.0              0.0   \n",
       "8      0.0          0.0        0.0                 5.0              0.0   \n",
       "9      0.0          0.0        0.0                 5.0              0.0   \n",
       "10     0.0          0.0        0.0                 5.0              0.0   \n",
       "11     0.0          0.0        0.0                 5.0              0.0   \n",
       "\n",
       "   Residential Single Family  Residential Three Family  \\\n",
       "0                        7.0                      28.0   \n",
       "1                        7.0                      28.0   \n",
       "2                        7.0                      28.0   \n",
       "3                        7.0                      28.0   \n",
       "4                        7.0                      28.0   \n",
       "5                        7.0                      28.0   \n",
       "6                        7.0                      28.0   \n",
       "7                        7.0                      28.0   \n",
       "8                        7.0                      28.0   \n",
       "9                        7.0                      28.0   \n",
       "10                       7.0                      28.0   \n",
       "11                       7.0                      28.0   \n",
       "\n",
       "    Residential Two Family   XX  \n",
       "0                      7.0  0.0  \n",
       "1                      7.0  0.0  \n",
       "2                      7.0  0.0  \n",
       "3                      7.0  0.0  \n",
       "4                      7.0  0.0  \n",
       "5                      7.0  0.0  \n",
       "6                      7.0  0.0  \n",
       "7                      7.0  0.0  \n",
       "8                      7.0  0.0  \n",
       "9                      7.0  0.0  \n",
       "10                     7.0  0.0  \n",
       "11                     7.0  0.0  \n",
       "\n",
       "[12 rows x 1451 columns]"
      ]
     },
     "execution_count": 42,
     "metadata": {},
     "output_type": "execute_result"
    }
   ],
   "source": [
    "model_file[0:12]"
   ]
  },
  {
   "cell_type": "code",
   "execution_count": 43,
   "metadata": {
    "collapsed": false
   },
   "outputs": [],
   "source": [
    "##\n",
    "# Address group level:\n",
    "model_file['Resl_Tax_parcels_per_addr'] = model_file['Residential Single Family'] + model_file['Residential Two Family'] + model_file['Residential Three Family'] + model_file['Apartments 4-6 Units'] + model_file['Apartments 7 Units above'] # +model_file['Residential Condo Unit']\n",
    "model_file['Comml_Tax_parcels_per_addr'] = model_file['Commercial'] + model_file['Commercial Land'] + model_file[ 'Mixed Use Res/Comm'] + model_file['Commercial Condo Unit'] + model_file['Industrial']\n",
    "model_file['OTHER_Tax_parcels_per_addr'] = model_file['Residential Land'] + model_file['Agricultural/Horticultural'] + model_file['Exempt']\n",
    "model_file['ALL_Tax_parcels_per_addr'] = model_file['Resl_Tax_parcels_per_addr'] + model_file['Comml_Tax_parcels_per_addr'] + model_file['OTHER_Tax_parcels_per_addr']\n",
    "\n",
    "# ##\n",
    "# # Qtr-mile group level:\n",
    "# model_file['Resl_Tax_parcels_per_Qmil'] = model_file['LU__Residential Single Family_FOR_Qmil_cnt'] + model_file['LU__Residential Two Family_FOR_Qmil_cnt'] + model_file['LU__Residential Three Family_FOR_Qmil_cnt'] + model_file['LU__Apartments 4-6 Units_FOR_Qmil_cnt'] + model_file['LU__Apartments 7 Units above_FOR_Qmil_cnt'] + model_file['LU__Residential Condo Unit_FOR_Qmil_cnt']\n",
    "# model_file['Comml_Tax_parcels_per_Qmil'] = model_file['LU__Commercial_FOR_Qmil_cnt'] + model_file['LU__Commercial Land_FOR_Qmil_cnt'] + model_file[ 'LU__Mixed Use Res/Comm_FOR_Qmil_cnt'] + model_file['LU__Commercial Condo Unit_FOR_Qmil_cnt'] + model_file['LU__Industrial_FOR_Qmil_cnt']\n",
    "# model_file['OTHER_Tax_parcels_per_Qmil'] = model_file['LU__Residential Land_FOR_Qmil_cnt'] + model_file['LU__Agricultural/Horticultural'] + model_file['LU__Exempt_FOR_Qmil_cnt'] \n",
    "# model_file['ALL_Tax_parcels_per_Qmil'] = model_file['Resl_Tax_parcels_per_Qmil'] + model_file['Comml_Tax_parcels_per_Qmil'] + model_file['OTHER_Tax_parcels_per_Qmil']\n",
    "\n",
    "# ##\n",
    "# # Half-mile group level:\n",
    "# model_file['Resl_Tax_parcels_per_hmil'] = model_file['LU__Residential Single Family_FOR_hmil_cnt'] + model_file['LU__Residential Two Family_FOR_hmil_cnt'] + model_file['LU__Residential Three Family_FOR_hmil_cnt'] + model_file['LU__Apartments 4-6 Units_FOR_hmil_cnt'] + model_file['LU__Apartments 7 Units above_FOR_hmil_cnt'] + model_file['LU__Residential Condo Unit_FOR_hmil_cnt']\n",
    "# model_file['Comml_Tax_parcels_per_hmil'] = model_file['LU__Commercial_FOR_hmil_cnt'] + model_file['LU__Commercial Land_FOR_hmil_cnt'] + model_file[ 'LU__Mixed Use Res/Comm_FOR_hmil_cnt'] + model_file['LU__Commercial Condo Unit_FOR_hmil_cnt'] + model_file['LU__Industrial_FOR_hmil_cnt']\n",
    "# model_file['OTHER_Tax_parcels_per_hmil'] = model_file['LU__Residential Land_FOR_hmil_cnt'] + model_file['LU__Agricultural/Horticultural'] + model_file['LU__Exempt_FOR_hmil_cnt'] \n",
    "# model_file['ALL_Tax_parcels_per_hmil'] = model_file['Resl_Tax_parcels_per_hmil'] + model_file['Comml_Tax_parcels_per_hmil'] + model_file['OTHER_Tax_parcels_per_hmil']\n",
    "\n",
    "# ##\n",
    "# # Neighborhood group level:\n",
    "# model_file['Resl_Tax_parcels_per_nbhd'] = model_file['LU__Residential Single Family_FOR_nbhd_cnt'] + model_file['LU__Residential Two Family_FOR_nbhd_cnt'] + model_file['LU__Residential Three Family_FOR_nbhd_cnt'] + model_file['LU__Apartments 4-6 Units_FOR_nbhd_cnt'] + model_file['LU__Apartments 7 Units above_FOR_nbhd_cnt'] + model_file['LU__Residential Condo Unit_FOR_nbhd_cnt']\n",
    "# model_file['Comml_Tax_parcels_per_nbhd'] = model_file['LU__Commercial_FOR_nbhd_cnt'] + model_file['LU__Commercial Land_FOR_nbhd_cnt'] + model_file[ 'LU__Mixed Use Res/Comm_FOR_nbhd_cnt'] + model_file['LU__Commercial Condo Unit_FOR_nbhd_cnt'] + model_file['LU__Industrial_FOR_nbhd_cnt']\n",
    "# model_file['OTHER_Tax_parcels_per_nbhd'] = model_file['LU__Residential Land_FOR_nbhd_cnt'] + model_file['LU__Agricultural/Horticultural'] + model_file['LU__Exempt_FOR_nbhd_cnt'] \n",
    "# model_file['ALL_Tax_parcels_per_nbhd'] = model_file['Resl_Tax_parcels_per_nbhd'] + model_file['Comml_Tax_parcels_per_nbhd'] + model_file['OTHER_Tax_parcels_per_nbhd']\n",
    "\n",
    "# ##\n",
    "# # Census Tract level:\n",
    "# model_file['Resl_Tax_parcels_per_ctrt'] = model_file['LU__Residential Single Family_FOR_ctrt_cnt'] + model_file['LU__Residential Two Family_FOR_ctrt_cnt'] + model_file['LU__Residential Three Family_FOR_ctrt_cnt'] + model_file['LU__Apartments 4-6 Units_FOR_ctrt_cnt'] + model_file['LU__Apartments 7 Units above_FOR_ctrt_cnt'] + model_file['LU__Residential Condo Unit_FOR_ctrt_cnt']\n",
    "# model_file['Comml_Tax_parcels_per_ctrt'] = model_file['LU__Commercial_FOR_ctrt_cnt'] + model_file['LU__Commercial Land_FOR_ctrt_cnt'] + model_file[ 'LU__Mixed Use Res/Comm_FOR_ctrt_cnt'] + model_file['LU__Commercial Condo Unit_FOR_ctrt_cnt'] + model_file['LU__Industrial_FOR_ctrt_cnt']\n",
    "# model_file['OTHER_Tax_parcels_per_ctrt'] = model_file['LU__Residential Land_FOR_ctrt_cnt'] + model_file['LU__Agricultural/Horticultural'] + model_file['LU__Exempt_FOR_ctrt_cnt'] \n",
    "# model_file['ALL_Tax_parcels_per_ctrt'] = model_file['Resl_Tax_parcels_per_ctrt'] + model_file['Comml_Tax_parcels_per_ctrt'] + model_file['OTHER_Tax_parcels_per_ctrt']"
   ]
  },
  {
   "cell_type": "code",
   "execution_count": 44,
   "metadata": {
    "collapsed": false
   },
   "outputs": [],
   "source": [
    "##\n",
    "# Address group level:\n",
    "\n",
    "model_file['LU_Single_Family_pct_of_rsl_addr'] = model_file['Residential Single Family'] / model_file['Resl_Tax_parcels_per_addr']\n",
    "model_file['LU_Three_Six_family_pct_of_rsl_addr'] = (model_file['Residential Two Family'] + model_file['Residential Three Family'] + model_file['Apartments 4-6 Units'] ) / model_file['Resl_Tax_parcels_per_addr']\n",
    "model_file['LU_Two_Family_pct_of_rsl_addr'] = model_file['Residential Two Family'] / model_file['Resl_Tax_parcels_per_addr']\n",
    "model_file['LU_Three_Family_pct_of_rsl_addr'] = model_file['Residential Three Family'] / model_file['Resl_Tax_parcels_per_addr']\n",
    "model_file['Apts_4to6_pct_of_rsl_addr'] = model_file['Apartments 4-6 Units'] / model_file['Resl_Tax_parcels_per_addr']\n",
    "model_file['Apts_7plus_pct_of_rsl_addr'] = model_file['Apartments 7 Units above'] /model_file['Resl_Tax_parcels_per_addr']\n",
    "#model_file['Resl_Condo_Unit_pct_of_rsl_addr'] = model_file['Residential Condo Unit'] /model_file['Resl_Tax_parcels_per_addr']\n",
    "model_file['LU_ALL_Multi_housing_pct_of_addr'] = (model_file['Residential Two Family'] + model_file['Residential Three Family'] + model_file['Apartments 4-6 Units'] + model_file['Apartments 7 Units above'] ) / model_file['Resl_Tax_parcels_per_addr']\n",
    "model_file['Mixed_Use_ResComml_pct_of_addr'] = model_file['Mixed Use Res/Comm'] / model_file['ALL_Tax_parcels_per_addr']\n",
    "model_file['Comml_pct_of_addr'] = model_file['Comml_Tax_parcels_per_addr'] / model_file['ALL_Tax_parcels_per_addr'] \n",
    "\n",
    "# ##\n",
    "# # Qtr-mile group level:\n",
    "# model_file['LU_Single_Family_pct_of_rsl_Qmil'] = model_file['LU__Residential Single Family_FOR_Qmil_cnt'] / model_file['Resl_Tax_parcels_per_Qmil']\n",
    "# model_file['LU_Three_Six_family_pct_of_rsl_Qmil'] = (model_file['LU__Residential Two Family_FOR_Qmil_cnt'] + model_file['LU__Residential Three Family_FOR_Qmil_cnt'] + model_file['LU__Apartments 4-6 Units_FOR_Qmil_cnt'] ) / model_file['Resl_Tax_parcels_per_Qmil']\n",
    "# model_file['LU_Two_Family_pct_of_rsl_Qmil'] = model_file['LU__Residential Two Family_FOR_Qmil_cnt'] / model_file['Resl_Tax_parcels_per_Qmil']\n",
    "# model_file['LU_Three_Family_pct_of_rsl_Qmil'] = model_file['LU__Residential Three Family_FOR_Qmil_cnt'] / model_file['Resl_Tax_parcels_per_Qmil']\n",
    "# model_file['LU__Apts_4to6_pct_of_rsl_Qmil'] = model_file['LU__Apartments 4-6 Units_FOR_Qmil_cnt'] / model_file['Resl_Tax_parcels_per_Qmil']\n",
    "# model_file['LU__Apts_7plus_pct_of_rsl_Qmil'] = model_file['LU__Apartments 7 Units above_FOR_Qmil_cnt'] / model_file['Resl_Tax_parcels_per_Qmil']\n",
    "# model_file['LU__Resl_Condo_Unit_pct_of_rsl_Qmil'] = model_file['LU__Residential Condo Unit_FOR_Qmil_cnt'] / model_file['Resl_Tax_parcels_per_Qmil']\n",
    "# model_file['LU_ALL_Multi_housing_pct_of_Qmil'] = (model_file['LU__Residential Two Family_FOR_Qmil_cnt'] + model_file['LU__Residential Three Family_FOR_Qmil_cnt'] + model_file['LU__Apartments 4-6 Units_FOR_Qmil_cnt'] + model_file['LU__Apartments 7 Units above_FOR_Qmil_cnt'] + model_file['LU__Residential Condo Unit_FOR_Qmil_cnt']) / model_file['Resl_Tax_parcels_per_Qmil']\n",
    "# model_file['LU__Mixed_Use_ResComml_pct_of_Qmil'] = model_file['LU__Mixed Use Res/Comm_FOR_Qmil_cnt'] / model_file['ALL_Tax_parcels_per_Qmil']\n",
    "# model_file['LU__Comml_pct_of_Qmil'] = model_file['Comml_Tax_parcels_per_Qmil'] / model_file['ALL_Tax_parcels_per_Qmil'] \n",
    "\n",
    "\n",
    "# ##\n",
    "# # Half-mile group level:\n",
    "# model_file['LU_Single_Family_pct_of_rsl_hmil'] = model_file['LU__Residential Single Family_FOR_hmil_cnt'] / model_file['Resl_Tax_parcels_per_hmil']\n",
    "# model_file['LU_Three_Six_family_pct_of_rsl_hmil'] = (model_file['LU__Residential Two Family_FOR_hmil_cnt'] + model_file['LU__Residential Three Family_FOR_hmil_cnt'] + model_file['LU__Apartments 4-6 Units_FOR_hmil_cnt'] ) / model_file['Resl_Tax_parcels_per_hmil']\n",
    "# model_file['LU_Two_Family_pct_of_rsl_hmil'] = model_file['LU__Residential Two Family_FOR_hmil_cnt'] / model_file['Resl_Tax_parcels_per_hmil']\n",
    "# model_file['LU_Three_Family_pct_of_rsl_hmil'] = model_file['LU__Residential Three Family_FOR_hmil_cnt'] / model_file['Resl_Tax_parcels_per_hmil']\n",
    "# model_file['LU__Apts_4to6_pct_of_rsl_hmil'] = model_file['LU__Apartments 4-6 Units_FOR_hmil_cnt'] / model_file['Resl_Tax_parcels_per_hmil']\n",
    "# model_file['LU__Apts_7plus_pct_of_rsl_hmil'] = model_file['LU__Apartments 7 Units above_FOR_hmil_cnt'] / model_file['Resl_Tax_parcels_per_hmil']\n",
    "# model_file['LU__Resl_Condo_Unit_pct_of_rsl_hmil'] = model_file['LU__Residential Condo Unit_FOR_hmil_cnt'] / model_file['Resl_Tax_parcels_per_hmil']\n",
    "# model_file['LU_ALL_Multi_housing_pct_of_hmil'] = (model_file['LU__Residential Two Family_FOR_hmil_cnt'] + model_file['LU__Residential Three Family_FOR_hmil_cnt'] + model_file['LU__Apartments 4-6 Units_FOR_hmil_cnt'] + model_file['LU__Apartments 7 Units above_FOR_hmil_cnt'] + model_file['LU__Residential Condo Unit_FOR_hmil_cnt']) / model_file['Resl_Tax_parcels_per_hmil']\n",
    "# model_file['LU__Mixed_Use_ResComml_pct_of_hmil'] = model_file['LU__Mixed Use Res/Comm_FOR_hmil_cnt'] / model_file['ALL_Tax_parcels_per_hmil']\n",
    "# model_file['LU__Comml_pct_of_hmil'] = model_file['Comml_Tax_parcels_per_hmil'] / model_file['ALL_Tax_parcels_per_hmil'] \n",
    "\n",
    "# ##\n",
    "# # Neighborhood group level:\n",
    "# model_file['LU_Single_Family_pct_of_rsl_nbhd'] = model_file['LU__Residential Single Family_FOR_nbhd_cnt'] / model_file['Resl_Tax_parcels_per_nbhd']\n",
    "# model_file['LU_Three_Six_family_pct_of_rsl_nbhd'] = (model_file['LU__Residential Two Family_FOR_nbhd_cnt'] + model_file['LU__Residential Three Family_FOR_nbhd_cnt'] + model_file['LU__Apartments 4-6 Units_FOR_nbhd_cnt'] ) / model_file['Resl_Tax_parcels_per_nbhd']\n",
    "# model_file['LU_Two_Family_pct_of_rsl_nbhd'] = model_file['LU__Residential Two Family_FOR_nbhd_cnt'] / model_file['Resl_Tax_parcels_per_nbhd']\n",
    "# model_file['LU_Three_Family_pct_of_rsl_nbhd'] = model_file['LU__Residential Three Family_FOR_nbhd_cnt'] / model_file['Resl_Tax_parcels_per_nbhd']\n",
    "# model_file['LU__Apts_4to6_pct_of_rsl_nbhd'] = model_file['LU__Apartments 4-6 Units_FOR_nbhd_cnt'] / model_file['Resl_Tax_parcels_per_nbhd']\n",
    "# model_file['LU__Apts_7plus_pct_of_rsl_nbhd'] = model_file['LU__Apartments 7 Units above_FOR_nbhd_cnt'] / model_file['Resl_Tax_parcels_per_nbhd']\n",
    "# model_file['LU__Resl_Condo_Unit_pct_of_rsl_nbhd'] = model_file['LU__Residential Condo Unit_FOR_nbhd_cnt'] / model_file['Resl_Tax_parcels_per_nbhd']\n",
    "# model_file['LU_ALL_Multi_housing_pct_of_nbhd'] = (model_file['LU__Residential Two Family_FOR_nbhd_cnt'] + model_file['LU__Residential Three Family_FOR_nbhd_cnt'] + model_file['LU__Apartments 4-6 Units_FOR_nbhd_cnt'] + model_file['LU__Apartments 7 Units above_FOR_nbhd_cnt'] + model_file['LU__Residential Condo Unit_FOR_nbhd_cnt']) / model_file['Resl_Tax_parcels_per_nbhd']\n",
    "# model_file['LU__Mixed_Use_ResComml_pct_of_nbhd'] = model_file['LU__Mixed Use Res/Comm_FOR_nbhd_cnt'] / model_file['ALL_Tax_parcels_per_nbhd']\n",
    "# model_file['LU__Comml_pct_of_nbhd'] = model_file['Comml_Tax_parcels_per_nbhd'] / model_file['ALL_Tax_parcels_per_nbhd'] \n",
    "\n",
    "# ## \n",
    "# # Census tract level:\n",
    "# model_file['LU_Single_Family_pct_of_rsl_ctrt'] = model_file['LU__Residential Single Family_FOR_ctrt_cnt'] / model_file['Resl_Tax_parcels_per_ctrt']\n",
    "# model_file['LU_Three_Six_family_pct_of_rsl_ctrt'] = (model_file['LU__Residential Two Family_FOR_ctrt_cnt'] + model_file['LU__Residential Three Family_FOR_ctrt_cnt'] + model_file['LU__Apartments 4-6 Units_FOR_ctrt_cnt'] ) / model_file['Resl_Tax_parcels_per_ctrt']\n",
    "# model_file['LU_Two_Family_pct_of_rsl_ctrt'] = model_file['LU__Residential Two Family_FOR_ctrt_cnt'] / model_file['Resl_Tax_parcels_per_ctrt']\n",
    "# model_file['LU_Three_Family_pct_of_rsl_ctrt'] = model_file['LU__Residential Three Family_FOR_ctrt_cnt'] / model_file['Resl_Tax_parcels_per_ctrt']\n",
    "# model_file['LU__Apts_4to6_pct_of_rsl_ctrt'] = model_file['LU__Apartments 4-6 Units_FOR_ctrt_cnt'] / model_file['Resl_Tax_parcels_per_ctrt']\n",
    "# model_file['LU__Apts_7plus_pct_of_rsl_ctrt'] = model_file['LU__Apartments 7 Units above_FOR_ctrt_cnt'] / model_file['Resl_Tax_parcels_per_ctrt']\n",
    "# model_file['LU__Resl_Condo_Unit_pct_of_rsl_ctrt'] = model_file['LU__Residential Condo Unit_FOR_ctrt_cnt'] / model_file['Resl_Tax_parcels_per_ctrt']\n",
    "# model_file['LU_ALL_Multi_housing_pct_of_ctrt'] = (model_file['LU__Residential Two Family_FOR_ctrt_cnt'] + model_file['LU__Residential Three Family_FOR_ctrt_cnt'] + model_file['LU__Apartments 4-6 Units_FOR_ctrt_cnt'] + model_file['LU__Apartments 7 Units above_FOR_ctrt_cnt'] + model_file['LU__Residential Condo Unit_FOR_ctrt_cnt']) / model_file['Resl_Tax_parcels_per_ctrt']\n",
    "# model_file['LU__Mixed_Use_ResComml_pct_of_ctrt'] = model_file['LU__Mixed Use Res/Comm_FOR_ctrt_cnt'] / model_file['ALL_Tax_parcels_per_ctrt']\n",
    "# model_file['LU__Comml_pct_of_ctrt'] = model_file['Comml_Tax_parcels_per_ctrt'] / model_file['ALL_Tax_parcels_per_ctrt']\n"
   ]
  },
  {
   "cell_type": "code",
   "execution_count": 45,
   "metadata": {
    "collapsed": false
   },
   "outputs": [],
   "source": [
    "## \n",
    "# Ratio of TOTAL ROOMS\n",
    "##\n",
    "model_file['R_TOTAL_RM_VS_addr_gr_AVG'] = model_file['R_TOTAL_RM'] / model_file['R_TOTAL_RM_FOR_addr_avg']\n",
    "model_file['R_TOTAL_RM_VS_Qmil_gr_AVG'] = model_file['R_TOTAL_RM'] / model_file['R_TOTAL_RM_FOR_Qmil_avg']\n",
    "model_file['R_TOTAL_RM_VS_hmil_gr_AVG'] = model_file['R_TOTAL_RM'] / model_file['R_TOTAL_RM_FOR_hmil_avg']\n",
    "model_file['R_TOTAL_RM_VS_nbhd_gr_AVG'] = model_file['R_TOTAL_RM'] / model_file['R_TOTAL_RM_FOR_nbhd_avg']\n",
    "model_file['R_TOTAL_RM_VS_ctrt_gr_AVG'] = model_file['R_TOTAL_RM'] / model_file['R_TOTAL_RM_FOR_ctrt_avg']\n",
    "\n",
    "# #model_file['R_TOTAL_RM_VS_addr_gr_MED'] = model_file['R_TOTAL_RM'] / model_file['R_TOTAL_RM_FOR_addr_med']\n",
    "# model_file['R_TOTAL_RM_VS_Qmil_gr_MED'] = model_file['R_TOTAL_RM'] / model_file['R_TOTAL_RM_FOR_Qmil_med']\n",
    "# model_file['R_TOTAL_RM_VS_hmil_gr_MED'] = model_file['R_TOTAL_RM'] / model_file['R_TOTAL_RM_FOR_hmil_med']\n",
    "# model_file['R_TOTAL_RM_VS_nbhd_gr_MED'] = model_file['R_TOTAL_RM'] / model_file['R_TOTAL_RM_FOR_nbhd_med']\n",
    "# model_file['R_TOTAL_RM_VS_ctrt_gr_MED'] = model_file['R_TOTAL_RM'] / model_file['R_TOTAL_RM_FOR_ctrt_med']\n",
    "\n",
    "## \n",
    "# Ratio of LIVING AREA\n",
    "##\n",
    "model_file['LIVING_ARE_VS_addr_gr_AVG'] = model_file['LIVING_ARE'] / model_file['LIVING_ARE_FOR_addr_avg']\n",
    "model_file['LIVING_ARE_VS_Qmil_gr_AVG'] = model_file['LIVING_ARE'] / model_file['LIVING_ARE_FOR_Qmil_avg']\n",
    "model_file['LIVING_ARE_VS_hmil_gr_AVG'] = model_file['LIVING_ARE'] / model_file['LIVING_ARE_FOR_hmil_avg']\n",
    "model_file['LIVING_ARE_VS_nbhd_gr_AVG'] = model_file['LIVING_ARE'] / model_file['LIVING_ARE_FOR_nbhd_avg']\n",
    "model_file['LIVING_ARE_VS_ctrt_gr_AVG'] = model_file['LIVING_ARE'] / model_file['LIVING_ARE_FOR_ctrt_avg']\n",
    "\n",
    "# model_file['LIVING_ARE_VS_addr_gr_MED'] = model_file['LIVING_ARE'] / model_file['LIVING_ARE_FOR_addr_med']\n",
    "# model_file['LIVING_ARE_VS_Qmil_gr_MED'] = model_file['LIVING_ARE'] / model_file['LIVING_ARE_FOR_Qmil_med']\n",
    "# model_file['LIVING_ARE_VS_hmil_gr_MED'] = model_file['LIVING_ARE'] / model_file['LIVING_ARE_FOR_hmil_med']\n",
    "# model_file['LIVING_ARE_VS_nbhd_gr_MED'] = model_file['LIVING_ARE'] / model_file['LIVING_ARE_FOR_nbhd_med']\n",
    "# model_file['LIVING_ARE_VS_ctrt_gr_MED'] = model_file['LIVING_ARE'] / model_file['LIVING_ARE_FOR_ctrt_med']\n",
    "\n",
    "\n",
    "## \n",
    "# Ratio of NUM FLOORS\n",
    "##\n",
    "model_file['NUM_FLOORS_VS_addr_gr_AVG'] = model_file['NUM_FLOORS'] / model_file['NUM_FLOORS_FOR_addr_avg']\n",
    "model_file['NUM_FLOORS_VS_Qmil_gr_AVG'] = model_file['NUM_FLOORS'] / model_file['NUM_FLOORS_FOR_Qmil_avg']\n",
    "model_file['NUM_FLOORS_VS_hmil_gr_AVG'] = model_file['NUM_FLOORS'] / model_file['NUM_FLOORS_FOR_hmil_avg']\n",
    "model_file['NUM_FLOORS_VS_nbhd_gr_AVG'] = model_file['NUM_FLOORS'] / model_file['NUM_FLOORS_FOR_nbhd_avg']\n",
    "model_file['NUM_FLOORS_VS_ctrt_gr_AVG'] = model_file['NUM_FLOORS'] / model_file['NUM_FLOORS_FOR_ctrt_avg']\n",
    "\n",
    "# model_file['NUM_FLOORS_VS_addr_gr_MED'] = model_file['NUM_FLOORS'] / model_file['NUM_FLOORS_FOR_addr_med']\n",
    "# model_file['NUM_FLOORS_VS_Qmil_gr_MED'] = model_file['NUM_FLOORS'] / model_file['NUM_FLOORS_FOR_Qmil_med']\n",
    "# model_file['NUM_FLOORS_VS_hmil_gr_MED'] = model_file['NUM_FLOORS'] / model_file['NUM_FLOORS_FOR_hmil_med']\n",
    "# model_file['NUM_FLOORS_VS_nbhd_gr_MED'] = model_file['NUM_FLOORS'] / model_file['NUM_FLOORS_FOR_nbhd_med']\n",
    "# model_file['NUM_FLOORS_VS_ctrt_gr_MED'] = model_file['NUM_FLOORS'] / model_file['NUM_FLOORS_FOR_ctrt_med']\n",
    "\n",
    "\n",
    "## \n",
    "# Ratio of Heat Type Electric\n",
    "##\n",
    "model_file['Heat_Type__Electric_VS_addr_gr_AVG'] = model_file['Heat_Type__Electric'] / model_file['Heat_Type__Electric_FOR_addr_avg']\n",
    "model_file['Heat_Type__Electric_VS_Qmil_gr_AVG'] = model_file['Heat_Type__Electric'] / model_file['Heat_Type__Electric_FOR_Qmil_avg']\n",
    "model_file['Heat_Type__Electric_VS_hmil_gr_AVG'] = model_file['Heat_Type__Electric'] / model_file['Heat_Type__Electric_FOR_hmil_avg']\n",
    "model_file['Heat_Type__Electric_VS_nbhd_gr_AVG'] = model_file['Heat_Type__Electric'] / model_file['Heat_Type__Electric_FOR_nbhd_avg']\n",
    "model_file['Heat_Type__Electric_VS_ctrt_gr_AVG'] = model_file['Heat_Type__Electric'] / model_file['Heat_Type__Electric_FOR_ctrt_avg']\n",
    "\n",
    "# model_file['Heat_Type__Electric_VS_addr_gr_MED'] = model_file['Heat_Type__Electric'] / model_file['Heat_Type__Electric_FOR_addr_med']\n",
    "# model_file['Heat_Type__Electric_VS_Qmil_gr_MED'] = model_file['Heat_Type__Electric'] / model_file['Heat_Type__Electric_FOR_Qmil_med']\n",
    "# model_file['Heat_Type__Electric_VS_hmil_gr_MED'] = model_file['Heat_Type__Electric'] / model_file['Heat_Type__Electric_FOR_hmil_med']\n",
    "# model_file['Heat_Type__Electric_VS_nbhd_gr_MED'] = model_file['Heat_Type__Electric'] / model_file['Heat_Type__Electric_FOR_nbhd_med']\n",
    "# model_file['Heat_Type__Electric_VS_ctrt_gr_MED'] = model_file['Heat_Type__Electric'] / model_file['Heat_Type__Electric_FOR_ctrt_med']\n",
    "\n",
    "## \n",
    "# Ratio of Thr12011to2013_excluded\n",
    "##\n",
    "model_file['Thr12011to2013_excluded_VS_addr_gr_AVG'] = model_file['Thr12011to2013_excluded'] / model_file['Thr12011to2013_excluded_FOR_addr_avg']\n",
    "model_file['Thr12011to2013_excluded_VS_Qmil_gr_AVG'] = model_file['Thr12011to2013_excluded'] / model_file['Thr12011to2013_excluded_FOR_Qmil_avg']\n",
    "model_file['Thr12011to2013_excluded_VS_hmil_gr_AVG'] = model_file['Thr12011to2013_excluded'] / model_file['Thr12011to2013_excluded_FOR_hmil_avg']\n",
    "model_file['Thr12011to2013_excluded_VS_nbhd_gr_AVG'] = model_file['Thr12011to2013_excluded'] / model_file['Thr12011to2013_excluded_FOR_nbhd_avg']\n",
    "model_file['Thr12011to2013_excluded_VS_ctrt_gr_AVG'] = model_file['Thr12011to2013_excluded'] / model_file['Thr12011to2013_excluded_FOR_ctrt_avg']\n",
    "\n",
    "# model_file['Thr12011to2013_excluded_VS_addr_gr_MED'] = model_file['Thr12011to2013_excluded'] / model_file['Thr12011to2013_excluded_FOR_addr_med']\n",
    "# model_file['Thr12011to2013_excluded_VS_Qmil_gr_MED'] = model_file['Thr12011to2013_excluded'] / model_file['Thr12011to2013_excluded_FOR_Qmil_med']\n",
    "# model_file['Thr12011to2013_excluded_VS_hmil_gr_MED'] = model_file['Thr12011to2013_excluded'] / model_file['Thr12011to2013_excluded_FOR_hmil_med']\n",
    "# model_file['Thr12011to2013_excluded_VS_nbhd_gr_MED'] = model_file['Thr12011to2013_excluded'] / model_file['Thr12011to2013_excluded_FOR_nbhd_med']\n",
    "# model_file['Thr12011to2013_excluded_VS_ctrt_gr_MED'] = model_file['Thr12011to2013_excluded'] / model_file['Thr12011to2013_excluded_FOR_ctrt_med']\n",
    "\n",
    "## \n",
    "# Ratio of Thr12014to2015_excluded\n",
    "##\n",
    "model_file['Thr12014to2015_excluded_VS_addr_gr_AVG'] = model_file['Thr12014to2015_excluded'] / model_file['Thr12014to2015_excluded_FOR_addr_avg']\n",
    "model_file['Thr12014to2015_excluded_VS_Qmil_gr_AVG'] = model_file['Thr12014to2015_excluded'] / model_file['Thr12014to2015_excluded_FOR_Qmil_avg']\n",
    "model_file['Thr12014to2015_excluded_VS_hmil_gr_AVG'] = model_file['Thr12014to2015_excluded'] / model_file['Thr12014to2015_excluded_FOR_hmil_avg']\n",
    "model_file['Thr12014to2015_excluded_VS_nbhd_gr_AVG'] = model_file['Thr12014to2015_excluded'] / model_file['Thr12014to2015_excluded_FOR_nbhd_avg']\n",
    "model_file['Thr12014to2015_excluded_VS_ctrt_gr_AVG'] = model_file['Thr12014to2015_excluded'] / model_file['Thr12014to2015_excluded_FOR_ctrt_avg']\n",
    "\n",
    "# model_file['Thr12014to2015_excluded_VS_addr_gr_MED'] = model_file['Thr12014to2015_excluded'] / model_file['Thr12014to2015_excluded_FOR_addr_med']\n",
    "# model_file['Thr12014to2015_excluded_VS_Qmil_gr_MED'] = model_file['Thr12014to2015_excluded'] / model_file['Thr12014to2015_excluded_FOR_Qmil_med']\n",
    "# model_file['Thr12014to2015_excluded_VS_hmil_gr_MED'] = model_file['Thr12014to2015_excluded'] / model_file['Thr12014to2015_excluded_FOR_hmil_med']\n",
    "# model_file['Thr12014to2015_excluded_VS_nbhd_gr_MED'] = model_file['Thr12014to2015_excluded'] / model_file['Thr12014to2015_excluded_FOR_nbhd_med']\n",
    "# model_file['Thr12014to2015_excluded_VS_ctrt_gr_MED'] = model_file['Thr12014to2015_excluded'] / model_file['Thr12014to2015_excluded_FOR_ctrt_med']\n",
    "\n",
    "## \n",
    "# Ratio of Thr12015_excluded\n",
    "##\n",
    "model_file['Thr12015_excluded_VS_addr_gr_AVG'] = model_file['Thr12015_excluded'] / model_file['Thr12015_excluded_FOR_addr_avg']\n",
    "model_file['Thr12015_excluded_VS_Qmil_gr_AVG'] = model_file['Thr12015_excluded'] / model_file['Thr12015_excluded_FOR_Qmil_avg']\n",
    "model_file['Thr12015_excluded_VS_hmil_gr_AVG'] = model_file['Thr12015_excluded'] / model_file['Thr12015_excluded_FOR_hmil_avg']\n",
    "model_file['Thr12015_excluded_VS_nbhd_gr_AVG'] = model_file['Thr12015_excluded'] / model_file['Thr12015_excluded_FOR_nbhd_avg']\n",
    "model_file['Thr12015_excluded_VS_ctrt_gr_AVG'] = model_file['Thr12015_excluded'] / model_file['Thr12015_excluded_FOR_ctrt_avg']\n",
    "\n",
    "# model_file['Thr12015_excluded_VS_addr_gr_MED'] = model_file['Thr12015_excluded'] / model_file['Thr12015_excluded_FOR_addr_med']\n",
    "# model_file['Thr12015_excluded_VS_Qmil_gr_MED'] = model_file['Thr12015_excluded'] / model_file['Thr12015_excluded_FOR_Qmil_med']\n",
    "# model_file['Thr12015_excluded_VS_hmil_gr_MED'] = model_file['Thr12015_excluded'] / model_file['Thr12015_excluded_FOR_hmil_med']\n",
    "# model_file['Thr12015_excluded_VS_nbhd_gr_MED'] = model_file['Thr12015_excluded'] / model_file['Thr12015_excluded_FOR_nbhd_med']\n",
    "# model_file['Thr12015_excluded_VS_ctrt_gr_MED'] = model_file['Thr12015_excluded'] / model_file['Thr12015_excluded_FOR_ctrt_med']\n",
    "\n",
    "## \n",
    "# Ratio of Thr12014to2015_Building\n",
    "##\n",
    "model_file['Thr12014to2015_Building_VS_addr_gr_AVG'] = model_file['Thr12014to2015_Building'] / model_file['Thr12014to2015_Building_FOR_addr_avg']\n",
    "model_file['Thr12014to2015_Building_VS_Qmil_gr_AVG'] = model_file['Thr12014to2015_Building'] / model_file['Thr12014to2015_Building_FOR_Qmil_avg']\n",
    "model_file['Thr12014to2015_Building_VS_hmil_gr_AVG'] = model_file['Thr12014to2015_Building'] / model_file['Thr12014to2015_Building_FOR_hmil_avg']\n",
    "model_file['Thr12014to2015_Building_VS_nbhd_gr_AVG'] = model_file['Thr12014to2015_Building'] / model_file['Thr12014to2015_Building_FOR_nbhd_avg']\n",
    "model_file['Thr12014to2015_Building_VS_ctrt_gr_AVG'] = model_file['Thr12014to2015_Building'] / model_file['Thr12014to2015_Building_FOR_ctrt_avg']\n",
    "\n",
    "# model_file['Thr12014to2015_Building_VS_addr_gr_MED'] = model_file['Thr12014to2015_Building'] / model_file['Thr12014to2015_Building_FOR_addr_med']\n",
    "# model_file['Thr12014to2015_Building_VS_Qmil_gr_MED'] = model_file['Thr12014to2015_Building'] / model_file['Thr12014to2015_Building_FOR_Qmil_med']\n",
    "# model_file['Thr12014to2015_Building_VS_hmil_gr_MED'] = model_file['Thr12014to2015_Building'] / model_file['Thr12014to2015_Building_FOR_hmil_med']\n",
    "# model_file['Thr12014to2015_Building_VS_nbhd_gr_MED'] = model_file['Thr12014to2015_Building'] / model_file['Thr12014to2015_Building_FOR_nbhd_med']\n",
    "# model_file['Thr12014to2015_Building_VS_ctrt_gr_MED'] = model_file['Thr12014to2015_Building'] / model_file['Thr12014to2015_Building_FOR_ctrt_med']\n",
    "\n",
    "## \n",
    "# Ratio of Thr12014to2015_Recycling-Pickup\n",
    "##\n",
    "model_file['Thr12014to2015_Recycling-Pickup_VS_addr_gr_AVG'] = model_file['Thr12014to2015_Recycling-Pickup'] / model_file['Thr12014to2015_Recycling-Pickup_FOR_addr_avg']\n",
    "model_file['Thr12014to2015_Recycling-Pickup_VS_Qmil_gr_AVG'] = model_file['Thr12014to2015_Recycling-Pickup'] / model_file['Thr12014to2015_Recycling-Pickup_FOR_Qmil_avg']\n",
    "model_file['Thr12014to2015_Recycling-Pickup_VS_hmil_gr_AVG'] = model_file['Thr12014to2015_Recycling-Pickup'] / model_file['Thr12014to2015_Recycling-Pickup_FOR_hmil_avg']\n",
    "model_file['Thr12014to2015_Recycling-Pickup_VS_nbhd_gr_AVG'] = model_file['Thr12014to2015_Recycling-Pickup'] / model_file['Thr12014to2015_Recycling-Pickup_FOR_nbhd_avg']\n",
    "model_file['Thr12014to2015_Recycling-Pickup_VS_ctrt_gr_AVG'] = model_file['Thr12014to2015_Recycling-Pickup'] / model_file['Thr12014to2015_Recycling-Pickup_FOR_ctrt_avg']\n",
    "\n",
    "# model_file['Thr12014to2015_Recycling-Pickup_VS_addr_gr_MED'] = model_file['Thr12014to2015_Recycling-Pickup'] / model_file['Thr12014to2015_Recycling-Pickup_FOR_addr_med']\n",
    "# model_file['Thr12014to2015_Recycling-Pickup_VS_Qmil_gr_MED'] = model_file['Thr12014to2015_Recycling-Pickup'] / model_file['Thr12014to2015_Recycling-Pickup_FOR_Qmil_med']\n",
    "# model_file['Thr12014to2015_Recycling-Pickup_VS_hmil_gr_MED'] = model_file['Thr12014to2015_Recycling-Pickup'] / model_file['Thr12014to2015_Recycling-Pickup_FOR_hmil_med']\n",
    "# model_file['Thr12014to2015_Recycling-Pickup_VS_nbhd_gr_MED'] = model_file['Thr12014to2015_Recycling-Pickup'] / model_file['Thr12014to2015_Recycling-Pickup_FOR_nbhd_med']\n",
    "# model_file['Thr12014to2015_Recycling-Pickup_VS_ctrt_gr_MED'] = model_file['Thr12014to2015_Recycling-Pickup'] / model_file['Thr12014to2015_Recycling-Pickup_FOR_ctrt_med']\n",
    "## \n",
    "# Ratio of Shape vs. Len\n",
    "##\n",
    "model_file['shp_v_len_VS_addr_gr_AVG'] = model_file['shape_vs_length'] / model_file['shape_vs_length_FOR_addr_avg']\n",
    "model_file['shp_v_len_VS_Qmil_gr_AVG'] = model_file['shape_vs_length'] / model_file['shape_vs_length_FOR_Qmil_avg']\n",
    "model_file['shp_v_len_VS_hmil_gr_AVG'] = model_file['shape_vs_length'] / model_file['shape_vs_length_FOR_hmil_avg']\n",
    "model_file['shp_v_len_VS_nbhd_gr_AVG'] = model_file['shape_vs_length'] / model_file['shape_vs_length_FOR_nbhd_avg']\n",
    "model_file['shp_v_len_VS_ctrt_gr_AVG'] = model_file['shape_vs_length'] / model_file['shape_vs_length_FOR_ctrt_avg']\n",
    "\n",
    "model_file['shp_v_len_VS_addr_gr_MED'] = model_file['shape_vs_length'] / model_file['shape_vs_length_FOR_addr_med']\n",
    "model_file['shp_v_len_VS_Qmil_gr_MED'] = model_file['shape_vs_length'] / model_file['shape_vs_length_FOR_Qmil_med']\n",
    "model_file['shp_v_len_VS_hmil_gr_MED'] = model_file['shape_vs_length'] / model_file['shape_vs_length_FOR_hmil_med']\n",
    "model_file['shp_v_len_VS_nbhd_gr_MED'] = model_file['shape_vs_length'] / model_file['shape_vs_length_FOR_nbhd_med']\n",
    "model_file['shp_v_len_VS_ctrt_gr_MED'] = model_file['shape_vs_length'] / model_file['shape_vs_length_FOR_ctrt_med']\n",
    "\n",
    "##\n",
    "#  Age of home in 2016\n",
    "##\n",
    "model_file['YR_BUILT_VS_addr_gr_AVG'] = model_file['YR_BUILT'] / model_file['YR_BUILT_FOR_addr_avg']\n",
    "model_file['YR_BUILT_VS_Qmil_gr_AVG'] = model_file['YR_BUILT'] / model_file['YR_BUILT_FOR_Qmil_avg']\n",
    "model_file['YR_BUILT_VS_hmil_gr_AVG'] = model_file['YR_BUILT'] / model_file['YR_BUILT_FOR_hmil_avg']\n",
    "model_file['YR_BUILT_VS_nbhd_gr_AVG'] = model_file['YR_BUILT'] / model_file['YR_BUILT_FOR_nbhd_avg']\n",
    "model_file['YR_BUILT_VS_ctrt_gr_AVG'] = model_file['YR_BUILT'] / model_file['YR_BUILT_FOR_ctrt_avg']\n",
    "\n",
    "model_file['YR_BUILT_VS_addr_gr_MED'] = model_file['YR_BUILT'] / model_file['YR_BUILT_FOR_addr_med']\n",
    "model_file['YR_BUILT_VS_Qmil_gr_MED'] = model_file['YR_BUILT'] / model_file['YR_BUILT_FOR_Qmil_med']\n",
    "#model_file['YR_BUILT_VS_hmil_gr_MED'] = model_file['YR_BUILT'] / model_file['YR_BUILT_FOR_hmil_med'] (had inf value)\n",
    "model_file['YR_BUILT_VS_nbhd_gr_MED'] = model_file['YR_BUILT'] / model_file['YR_BUILT_FOR_nbhd_med']\n",
    "model_file['YR_BUILT_VS_ctrt_gr_MED'] = model_file['YR_BUILT'] / model_file['YR_BUILT_FOR_ctrt_med']\n",
    "\n",
    "##\n",
    "# GROSS AREA\n",
    "#\n",
    "model_file['GROSS_AREA_VS_addr_gr_AVG'] = model_file['GROSS_AREA'] / model_file['GROSS_AREA_FOR_addr_avg']\n",
    "model_file['GROSS_AREA_VS_Qmil_gr_AVG'] = model_file['GROSS_AREA'] / model_file['GROSS_AREA_FOR_Qmil_avg']\n",
    "model_file['GROSS_AREA_VS_hmil_gr_AVG'] = model_file['GROSS_AREA'] / model_file['GROSS_AREA_FOR_hmil_avg']\n",
    "model_file['GROSS_AREA_VS_nbhd_gr_AVG'] = model_file['GROSS_AREA'] / model_file['GROSS_AREA_FOR_nbhd_avg']\n",
    "model_file['GROSS_AREA_VS_ctrt_gr_AVG'] = model_file['GROSS_AREA'] / model_file['GROSS_AREA_FOR_ctrt_avg']\n",
    "\n",
    "model_file['GROSS_AREA_VS_addr_gr_MED'] = model_file['GROSS_AREA'] / model_file['GROSS_AREA_FOR_addr_med']\n",
    "model_file['GROSS_AREA_VS_Qmil_gr_MED'] = model_file['GROSS_AREA'] / model_file['GROSS_AREA_FOR_Qmil_med']\n",
    "#model_file['GROSS_AREA_VS_hmil_gr_MED'] = model_file['GROSS_AREA'] / model_file['GROSS_AREA_FOR_hmil_med'](had inf value)\n",
    "model_file['GROSS_AREA_VS_nbhd_gr_MED'] = model_file['GROSS_AREA'] / model_file['GROSS_AREA_FOR_nbhd_med']\n",
    "model_file['GROSS_AREA_VS_ctrt_gr_MED'] = model_file['GROSS_AREA'] / model_file['GROSS_AREA_FOR_ctrt_med']\n",
    "\n",
    "##\n",
    "# 311 recycling related calls\n",
    "##\n",
    "\n",
    "model_file['Thr12011to2013_Recycling-Pickup_VS_addr_gr_AVG'] = model_file['Thr12011to2013_Recycling-Pickup'] / model_file['Thr12011to2013_Recycling-Pickup_FOR_addr_avg']\n",
    "model_file['Thr12011to2013_Recycling-Pickup_VS_Qmil_gr_AVG'] = model_file['Thr12011to2013_Recycling-Pickup'] / model_file['Thr12011to2013_Recycling-Pickup_FOR_Qmil_avg']\n",
    "model_file['Thr12011to2013_Recycling-Pickup_VS_hmil_gr_AVG'] = model_file['Thr12011to2013_Recycling-Pickup'] / model_file['Thr12011to2013_Recycling-Pickup_FOR_hmil_avg']\n",
    "model_file['Thr12011to2013_Recycling-Pickup_VS_nbhd_gr_AVG'] = model_file['Thr12011to2013_Recycling-Pickup'] / model_file['Thr12011to2013_Recycling-Pickup_FOR_nbhd_avg']\n",
    "model_file['Thr12011to2013_Recycling-Pickup_VS_ctrt_gr_AVG'] = model_file['Thr12011to2013_Recycling-Pickup'] / model_file['Thr12011to2013_Recycling-Pickup_FOR_ctrt_avg']\n",
    "model_file['Thr12011to2013_Recycling-Pickup_VS_addr_gr_MED'] = model_file['Thr12011to2013_Recycling-Pickup'] / model_file['Thr12011to2013_Recycling-Pickup_FOR_addr_med']\n",
    "model_file['Thr12011to2013_Recycling-Pickup_VS_Qmil_gr_MED'] = model_file['Thr12011to2013_Recycling-Pickup'] / model_file['Thr12011to2013_Recycling-Pickup_FOR_Qmil_med']\n",
    "#model_file['Thr12011to2013_Recycling-Pickup_VS_hmil_gr_MED'] = model_file['Thr12011to2013_Recycling-Pickup'] / model_file['Thr12011to2013_Recycling-Pickup_FOR_hmil_med']\n",
    "model_file['Thr12011to2013_Recycling-Pickup_VS_nbhd_gr_MED'] = model_file['Thr12011to2013_Recycling-Pickup'] / model_file['Thr12011to2013_Recycling-Pickup_FOR_nbhd_med']\n",
    "model_file['Thr12011to2013_Recycling-Pickup_VS_ctrt_gr_MED'] = model_file['Thr12011to2013_Recycling-Pickup'] / model_file['Thr12011to2013_Recycling-Pickup_FOR_ctrt_med']\n",
    "\n"
   ]
  },
  {
   "cell_type": "markdown",
   "metadata": {},
   "source": [
    "## Create 'drop' lists for year-specific files\n",
    "\n",
    "Basically, a year-specific file will not include any data that occurs in the future"
   ]
  },
  {
   "cell_type": "code",
   "execution_count": 46,
   "metadata": {
    "collapsed": false
   },
   "outputs": [],
   "source": [
    "YR_2016_DROPS =  ['Top2016PermTypNum', 'Top2016PermTypdollars', 'Thr12016_Recycling-Pickup', 'Thr12016_excluded', 'Thr12016_Building', 'Thr12016_Street-Sidewalk', 'Thr12016_Trees', 'Thr12016_Enviro', 'Thr12016_Graffiti', 'Thr12016_Housing', 'NOT_Top2016PermTypdollars', 'NOT_Top2016PermTypNum']\n",
    "# YR_2015_DROPS = [ 'Thr12014to2015_Recycling-Pickup_FOR_addr_avg', 'Thr12014to2015_Street-Sidewalk_FOR_hmil_avg', 'Thr12014to2015_Building', 'Thr12014to2015_excluded_FOR_addr_avg', 'Thr12014to2015_Street-Sidewalk_FOR_addr_avg', 'Thr12014to2015_excluded_FOR_hmil_avg', 'Thr12014to2015_Recycling-Pickup_FOR_hmil_avg', 'Thr12014to2015_Recycling-Pickup_FOR_ctrt_avg', 'Thr12014to2015_excluded_FOR_addr_cnt', 'Thr12014to2015_excluded', 'Thr12014_excluded', 'Thr12014to2015_Recycling-Pickup_FOR_addr_cnt', 'Thr12014_Enviro', 'Thr12014to2015_excluded_FOR_ctrt_avg', 'Thr12014to2015_Street-Sidewalk_FOR_addr_cnt', 'Thr12014to2015_Enviro', 'Thr12014to2015_Street-Sidewalk_FOR_ctrt_avg', 'Thr12014to2015_Recycling-Pickup', 'Thr12014to2015_excluded_FOR_hmil_cnt', 'Thr12014to2015_Recycling-Pickup_FOR_hmil_cnt', 'Thr12014to2015_Street-Sidewalk_FOR_hmil_cnt', 'Thr12014_Recycling-Pickup', 'Thr12014to2015_Street-Sidewalk', 'Thr12014to2015_excluded_FOR_addr_med', 'Thr12014_Street-Sidewalk', 'Thr12014to2015_excluded_FOR_ctrt_cnt', 'Thr12014to2015_Street-Sidewalk_FOR_ctrt_cnt', 'Thr12014to2015_Graffiti', 'Thr12014to2015_Recycling-Pickup_FOR_addr_med', 'Thr12014to2015_Recycling-Pickup_FOR_ctrt_cnt', 'Thr12014to2015_Street-Sidewalk_FOR_addr_med', 'Thr12014to2015_excluded_FOR_nbhd_avg', 'Thr12014to2015_Trees', 'Thr12014_Building', 'Thr12014to2015_Recycling-Pickup_FOR_nbhd_avg', 'Thr12014to2015_excluded_FOR_hmil_med', 'Thr12014_Trees', 'Thr12014to2015_Housing', 'Thr12014to2015_Recycling-Pickup_FOR_hmil_med', 'Thr12014to2015_Street-Sidewalk_FOR_nbhd_avg', 'Thr12014to2015_Street-Sidewalk_FOR_nbhd_cnt', 'Thr12014_Graffiti', 'Thr12014to2015_Recycling-Pickup_FOR_nbhd_cnt', 'Thr12014to2015_excluded_FOR_nbhd_med', 'Thr12014to2015_excluded_FOR_nbhd_cnt', 'Thr12014_Housing', 'Thr12014to2015_Street-Sidewalk_FOR_hmil_med', 'Thr12014to2015_Recycling-Pickup_FOR_nbhd_med', 'Thr12014to2015_Street-Sidewalk_FOR_nbhd_med', 'Thr12014to2015_Recycling-Pickup_FOR_ctrt_med', 'Thr12014to2015_Street-Sidewalk_FOR_ctrt_med', 'Thr12014to2015_excluded_FOR_ctrt_med', 'NOT_Top2014PermTypdollars', 'NOT_Top2014PermTypNum', 'NOT_Top2014PermTypdollars_FOR_addr_avg', 'NOT_Top2014PermTypNum_FOR_addr_avg', 'NOT_Top2014PermTypNum_FOR_hmil_avg', 'NOT_Top2014PermTypdollars_FOR_hmil_avg', 'NOT_Top2014PermTypdollars_FOR_ctrt_avg', 'NOT_Top2014PermTypdollars_FOR_nbhd_avg', 'NOT_Top2014PermTypNum_FOR_ctrt_avg', 'NOT_Top2014PermTypNum_FOR_nbhd_avg', 'NOT_Top2014PermTypdollars_FOR_addr_cnt', 'NOT_Top2014PermTypdollars_FOR_addr_med', 'NOT_Top2014PermTypNum_FOR_addr_cnt', 'NOT_Top2014PermTypNum_FOR_hmil_cnt', 'NOT_Top2014PermTypdollars_FOR_hmil_cnt', 'NOT_Top2014PermTypNum_FOR_addr_med', 'NOT_Top2014PermTypNum_FOR_ctrt_cnt', 'NOT_Top2014PermTypdollars_FOR_ctrt_cnt', 'NOT_Top2014PermTypNum_FOR_nbhd_cnt', 'NOT_Top2014PermTypdollars_FOR_nbhd_cnt', 'NOT_Top2014PermTypdollars_FOR_hmil_med', 'NOT_Top2014PermTypNum_FOR_hmil_med', 'NOT_Top2014PermTypdollars_FOR_nbhd_med', 'NOT_Top2014PermTypNum_FOR_nbhd_med', 'NOT_Top2014PermTypdollars_FOR_ctrt_med', 'NOT_Top2014PermTypNum_FOR_ctrt_med', 'Top2015PermTypdollars', 'Top2015PermTypNum', 'Thr12015_Building', 'Thr12015_excluded', 'Thr12015_Recycling-Pickup', 'Thr12015_Street-Sidewalk', 'Thr12015_Enviro', 'Thr12015_Trees', 'Thr12015_Graffiti', 'Thr12015_Housing', 'NOT_Top2015PermTypdollars', 'NOT_Top2015PermTypNum', 'NOT_Top2015PermTypdollars_FOR_addr_avg', 'NOT_Top2015PermTypNum_FOR_hmil_avg', 'NOT_Top2015PermTypNum_FOR_addr_avg', 'NOT_Top2015PermTypdollars_FOR_hmil_avg', 'NOT_Top2015PermTypdollars_FOR_ctrt_avg', 'NOT_Top2015PermTypdollars_FOR_nbhd_avg', 'NOT_Top2015PermTypNum_FOR_ctrt_avg', 'NOT_Top2015PermTypNum_FOR_addr_cnt', 'NOT_Top2015PermTypNum_FOR_nbhd_avg', 'NOT_Top2015PermTypdollars_FOR_hmil_cnt', 'NOT_Top2015PermTypdollars_FOR_addr_cnt', 'NOT_Top2015PermTypNum_FOR_ctrt_cnt', 'NOT_Top2015PermTypNum_FOR_hmil_cnt', 'NOT_Top2015PermTypdollars_FOR_ctrt_cnt', 'NOT_Top2015PermTypNum_FOR_nbhd_cnt', 'NOT_Top2015PermTypdollars_FOR_addr_med', 'NOT_Top2015PermTypdollars_FOR_nbhd_cnt', 'NOT_Top2015PermTypNum_FOR_addr_med', 'NOT_Top2015PermTypdollars_FOR_hmil_med', 'NOT_Top2015PermTypNum_FOR_hmil_med', 'NOT_Top2015PermTypdollars_FOR_nbhd_med', 'NOT_Top2015PermTypNum_FOR_nbhd_med', 'NOT_Top2015PermTypdollars_FOR_ctrt_med', 'NOT_Top2015PermTypNum_FOR_ctrt_med', 'Top2016PermTypNum', 'Top2016PermTypdollars', 'Thr12016_Recycling-Pickup', 'Thr12016_excluded', 'Thr12016_Building', 'Thr12016_Street-Sidewalk', 'Thr12016_Trees', 'Thr12016_Enviro', 'Thr12016_Graffiti', 'Thr12016_Housing', 'NOT_Top2016PermTypdollars', 'NOT_Top2016PermTypNum']\n",
    "# YR_2014_DROPS = ['Thr12014to2015_Recycling-Pickup_FOR_addr_avg', 'Thr12014to2015_Street-Sidewalk_FOR_hmil_avg', 'Thr12014to2015_Building', 'Thr12014to2015_excluded_FOR_addr_avg', 'Thr12014to2015_Street-Sidewalk_FOR_addr_avg', 'Thr12014to2015_excluded_FOR_hmil_avg', 'Thr12014to2015_Recycling-Pickup_FOR_hmil_avg', 'Thr12014to2015_Recycling-Pickup_FOR_ctrt_avg', 'Thr12014to2015_excluded_FOR_addr_cnt', 'Thr12014to2015_excluded', 'Thr12014_excluded', 'Thr12014to2015_Recycling-Pickup_FOR_addr_cnt', 'Thr12014_Enviro', 'Thr12014to2015_excluded_FOR_ctrt_avg', 'Thr12014to2015_Street-Sidewalk_FOR_addr_cnt', 'Thr12014to2015_Enviro', 'Thr12014to2015_Street-Sidewalk_FOR_ctrt_avg', 'Thr12014to2015_Recycling-Pickup', 'Thr12014to2015_excluded_FOR_hmil_cnt', 'Thr12014to2015_Recycling-Pickup_FOR_hmil_cnt', 'Thr12014to2015_Street-Sidewalk_FOR_hmil_cnt', 'Thr12014_Recycling-Pickup', 'Thr12014to2015_Street-Sidewalk', 'Thr12014to2015_excluded_FOR_addr_med', 'Thr12014_Street-Sidewalk', 'Thr12014to2015_excluded_FOR_ctrt_cnt', 'Thr12014to2015_Street-Sidewalk_FOR_ctrt_cnt', 'Thr12014to2015_Graffiti', 'Thr12014to2015_Recycling-Pickup_FOR_addr_med', 'Thr12014to2015_Recycling-Pickup_FOR_ctrt_cnt', 'Thr12014to2015_Street-Sidewalk_FOR_addr_med', 'Thr12014to2015_excluded_FOR_nbhd_avg', 'Thr12014to2015_Trees', 'Thr12014_Building', 'Thr12014to2015_Recycling-Pickup_FOR_nbhd_avg', 'Thr12014to2015_excluded_FOR_hmil_med', 'Thr12014_Trees', 'Thr12014to2015_Housing', 'Thr12014to2015_Recycling-Pickup_FOR_hmil_med', 'Thr12014to2015_Street-Sidewalk_FOR_nbhd_avg', 'Thr12014to2015_Street-Sidewalk_FOR_nbhd_cnt', 'Thr12014_Graffiti', 'Thr12014to2015_Recycling-Pickup_FOR_nbhd_cnt', 'Thr12014to2015_excluded_FOR_nbhd_med', 'Thr12014to2015_excluded_FOR_nbhd_cnt', 'Thr12014_Housing', 'Thr12014to2015_Street-Sidewalk_FOR_hmil_med', 'Thr12014to2015_Recycling-Pickup_FOR_nbhd_med', 'Thr12014to2015_Street-Sidewalk_FOR_nbhd_med', 'Thr12014to2015_Recycling-Pickup_FOR_ctrt_med', 'Thr12014to2015_Street-Sidewalk_FOR_ctrt_med', 'Thr12014to2015_excluded_FOR_ctrt_med', 'NOT_Top2014PermTypdollars', 'NOT_Top2014PermTypNum', 'NOT_Top2014PermTypdollars_FOR_addr_avg', 'NOT_Top2014PermTypNum_FOR_addr_avg', 'NOT_Top2014PermTypNum_FOR_hmil_avg', 'NOT_Top2014PermTypdollars_FOR_hmil_avg', 'NOT_Top2014PermTypdollars_FOR_ctrt_avg', 'NOT_Top2014PermTypdollars_FOR_nbhd_avg', 'NOT_Top2014PermTypNum_FOR_ctrt_avg', 'NOT_Top2014PermTypNum_FOR_nbhd_avg', 'NOT_Top2014PermTypdollars_FOR_addr_cnt', 'NOT_Top2014PermTypdollars_FOR_addr_med', 'NOT_Top2014PermTypNum_FOR_addr_cnt', 'NOT_Top2014PermTypNum_FOR_hmil_cnt', 'NOT_Top2014PermTypdollars_FOR_hmil_cnt', 'NOT_Top2014PermTypNum_FOR_addr_med', 'NOT_Top2014PermTypNum_FOR_ctrt_cnt', 'NOT_Top2014PermTypdollars_FOR_ctrt_cnt', 'NOT_Top2014PermTypNum_FOR_nbhd_cnt', 'NOT_Top2014PermTypdollars_FOR_nbhd_cnt', 'NOT_Top2014PermTypdollars_FOR_hmil_med', 'NOT_Top2014PermTypNum_FOR_hmil_med', 'NOT_Top2014PermTypdollars_FOR_nbhd_med', 'NOT_Top2014PermTypNum_FOR_nbhd_med', 'NOT_Top2014PermTypdollars_FOR_ctrt_med', 'NOT_Top2014PermTypNum_FOR_ctrt_med', 'Top2015PermTypdollars', 'Top2015PermTypNum', 'Thr12015_Building', 'Thr12015_excluded', 'Thr12015_Recycling-Pickup', 'Thr12015_Street-Sidewalk', 'Thr12015_Enviro', 'Thr12015_Trees', 'Thr12015_Graffiti', 'Thr12015_Housing', 'NOT_Top2015PermTypdollars', 'NOT_Top2015PermTypNum', 'NOT_Top2015PermTypdollars_FOR_addr_avg', 'NOT_Top2015PermTypNum_FOR_hmil_avg', 'NOT_Top2015PermTypNum_FOR_addr_avg', 'NOT_Top2015PermTypdollars_FOR_hmil_avg', 'NOT_Top2015PermTypdollars_FOR_ctrt_avg', 'NOT_Top2015PermTypdollars_FOR_nbhd_avg', 'NOT_Top2015PermTypNum_FOR_ctrt_avg', 'NOT_Top2015PermTypNum_FOR_addr_cnt', 'NOT_Top2015PermTypNum_FOR_nbhd_avg', 'NOT_Top2015PermTypdollars_FOR_hmil_cnt', 'NOT_Top2015PermTypdollars_FOR_addr_cnt', 'NOT_Top2015PermTypNum_FOR_ctrt_cnt', 'NOT_Top2015PermTypNum_FOR_hmil_cnt', 'NOT_Top2015PermTypdollars_FOR_ctrt_cnt', 'NOT_Top2015PermTypNum_FOR_nbhd_cnt', 'NOT_Top2015PermTypdollars_FOR_addr_med', 'NOT_Top2015PermTypdollars_FOR_nbhd_cnt', 'NOT_Top2015PermTypNum_FOR_addr_med', 'NOT_Top2015PermTypdollars_FOR_hmil_med', 'NOT_Top2015PermTypNum_FOR_hmil_med', 'NOT_Top2015PermTypdollars_FOR_nbhd_med', 'NOT_Top2015PermTypNum_FOR_nbhd_med', 'NOT_Top2015PermTypdollars_FOR_ctrt_med', 'NOT_Top2015PermTypNum_FOR_ctrt_med', 'Top2016PermTypNum', 'Top2016PermTypdollars', 'Thr12016_Recycling-Pickup', 'Thr12016_excluded', 'Thr12016_Building', 'Thr12016_Street-Sidewalk', 'Thr12016_Trees', 'Thr12016_Enviro', 'Thr12016_Graffiti', 'Thr12016_Housing', 'NOT_Top2016PermTypdollars', 'NOT_Top2016PermTypNum']\n",
    "# YR_2013_DROPS = ['Thr12011to2013_Recycling-Pickup_FOR_addr_avg', 'Thr12011to2013_Recycling-Pickup_VS_addr_gr_AVG', 'Thr12011to2013_Recycling-Pickup_VS_ctrt_gr_AVG', 'Thr12011to2013_Recycling-Pickup_VS_hmil_gr_AVG', 'Thr12011to2013_Recycling-Pickup_FOR_hmil_avg', 'Thr12011to2013_Recycling-Pickup_VS_nbhd_gr_AVG', 'Thr12011to2013_Recycling-Pickup_FOR_addr_cnt', 'Thr12011to2013_excluded', 'Thr12011to2013_Recycling-Pickup_FOR_ctrt_avg', 'Thr12011to2013_Recycling-Pickup', 'Thr12011to2013_Recycling-Pickup_FOR_hmil_cnt', 'Thr12011to2013_Recycling-Pickup_FOR_addr_med', 'Thr12011to2013_Street-Sidewalk', 'Thr12011to2013_Recycling-Pickup_FOR_hmil_med', 'Thr12011to2013_Trees', 'Thr12011to2013_Building', 'Thr12011to2013_Recycling-Pickup_FOR_ctrt_cnt', 'Thr12011to2013_Graffiti', 'Thr12011to2013_Recycling-Pickup_FOR_nbhd_avg', 'Thr12011to2013_Recycling-Pickup_FOR_ctrt_med', 'Thr12011to2013_Recycling-Pickup_FOR_nbhd_cnt', 'Thr12011to2013_Housing', 'Thr12011to2013_Recycling-Pickup_FOR_nbhd_med', 'Top2013PermTypdollars', 'Top2013PermTypNum', 'Thr12013_excluded', 'Thr12013_Enviro', 'Thr12013_Building', 'Thr12013_Street-Sidewalk', 'Thr12013_Recycling-Pickup', 'Thr12013_Trees', 'Thr12013_Graffiti', 'Thr12013_Housing', 'NOT_Top2013PermTypdollars', 'NOT_Top2013PermTypNum', 'NOT_Top2013PermTypNum_FOR_hmil_avg', 'NOT_Top2013PermTypdollars_FOR_addr_avg', 'NOT_Top2013PermTypNum_FOR_addr_avg', 'NOT_Top2013PermTypdollars_FOR_hmil_avg', 'NOT_Top2013PermTypdollars_FOR_nbhd_avg', 'NOT_Top2013PermTypdollars_FOR_ctrt_avg', 'NOT_Top2013PermTypNum_FOR_ctrt_avg', 'NOT_Top2013PermTypNum_FOR_nbhd_avg', 'NOT_Top2013PermTypNum_FOR_addr_cnt', 'NOT_Top2013PermTypdollars_FOR_hmil_cnt', 'NOT_Top2013PermTypdollars_FOR_addr_cnt', 'NOT_Top2013PermTypdollars_FOR_addr_med', 'NOT_Top2013PermTypNum_FOR_hmil_cnt', 'NOT_Top2013PermTypdollars_FOR_nbhd_cnt', 'NOT_Top2013PermTypNum_FOR_ctrt_cnt', 'NOT_Top2013PermTypdollars_FOR_ctrt_cnt', 'NOT_Top2013PermTypNum_FOR_addr_med', 'NOT_Top2013PermTypNum_FOR_nbhd_cnt', 'NOT_Top2013PermTypdollars_FOR_hmil_med', 'NOT_Top2013PermTypNum_FOR_hmil_med', 'NOT_Top2013PermTypdollars_FOR_nbhd_med', 'NOT_Top2013PermTypNum_FOR_nbhd_med', 'NOT_Top2013PermTypdollars_FOR_ctrt_med', 'NOT_Top2013PermTypNum_FOR_ctrt_med', 'Top2014PermTypdollars', 'Top2014PermTypNum', 'Thr12014to2015_Recycling-Pickup_FOR_addr_avg', 'Thr12014to2015_Street-Sidewalk_FOR_hmil_avg', 'Thr12014to2015_Building', 'Thr12014to2015_excluded_FOR_addr_avg', 'Thr12014to2015_Street-Sidewalk_FOR_addr_avg', 'Thr12014to2015_excluded_FOR_hmil_avg', 'Thr12014to2015_Recycling-Pickup_FOR_hmil_avg', 'Thr12014to2015_Recycling-Pickup_FOR_ctrt_avg', 'Thr12014to2015_excluded_FOR_addr_cnt', 'Thr12014to2015_excluded', 'Thr12014_excluded', 'Thr12014to2015_Recycling-Pickup_FOR_addr_cnt', 'Thr12014_Enviro', 'Thr12014to2015_excluded_FOR_ctrt_avg', 'Thr12014to2015_Street-Sidewalk_FOR_addr_cnt', 'Thr12014to2015_Enviro', 'Thr12014to2015_Street-Sidewalk_FOR_ctrt_avg', 'Thr12014to2015_Recycling-Pickup', 'Thr12014to2015_excluded_FOR_hmil_cnt', 'Thr12014to2015_Recycling-Pickup_FOR_hmil_cnt', 'Thr12014to2015_Street-Sidewalk_FOR_hmil_cnt', 'Thr12014_Recycling-Pickup', 'Thr12014to2015_Street-Sidewalk', 'Thr12014to2015_excluded_FOR_addr_med', 'Thr12014_Street-Sidewalk', 'Thr12014to2015_excluded_FOR_ctrt_cnt', 'Thr12014to2015_Street-Sidewalk_FOR_ctrt_cnt', 'Thr12014to2015_Graffiti', 'Thr12014to2015_Recycling-Pickup_FOR_addr_med', 'Thr12014to2015_Recycling-Pickup_FOR_ctrt_cnt', 'Thr12014to2015_Street-Sidewalk_FOR_addr_med', 'Thr12014to2015_excluded_FOR_nbhd_avg', 'Thr12014to2015_Trees', 'Thr12014_Building', 'Thr12014to2015_Recycling-Pickup_FOR_nbhd_avg', 'Thr12014to2015_excluded_FOR_hmil_med', 'Thr12014_Trees', 'Thr12014to2015_Housing', 'Thr12014to2015_Recycling-Pickup_FOR_hmil_med', 'Thr12014to2015_Street-Sidewalk_FOR_nbhd_avg', 'Thr12014to2015_Street-Sidewalk_FOR_nbhd_cnt', 'Thr12014_Graffiti', 'Thr12014to2015_Recycling-Pickup_FOR_nbhd_cnt', 'Thr12014to2015_excluded_FOR_nbhd_med', 'Thr12014to2015_excluded_FOR_nbhd_cnt', 'Thr12014_Housing', 'Thr12014to2015_Street-Sidewalk_FOR_hmil_med', 'Thr12014to2015_Recycling-Pickup_FOR_nbhd_med', 'Thr12014to2015_Street-Sidewalk_FOR_nbhd_med', 'Thr12014to2015_Recycling-Pickup_FOR_ctrt_med', 'Thr12014to2015_Street-Sidewalk_FOR_ctrt_med', 'Thr12014to2015_excluded_FOR_ctrt_med', 'NOT_Top2014PermTypdollars', 'NOT_Top2014PermTypNum', 'NOT_Top2014PermTypdollars_FOR_addr_avg', 'NOT_Top2014PermTypNum_FOR_addr_avg', 'NOT_Top2014PermTypNum_FOR_hmil_avg', 'NOT_Top2014PermTypdollars_FOR_hmil_avg', 'NOT_Top2014PermTypdollars_FOR_ctrt_avg', 'NOT_Top2014PermTypdollars_FOR_nbhd_avg', 'NOT_Top2014PermTypNum_FOR_ctrt_avg', 'NOT_Top2014PermTypNum_FOR_nbhd_avg', 'NOT_Top2014PermTypdollars_FOR_addr_cnt', 'NOT_Top2014PermTypdollars_FOR_addr_med', 'NOT_Top2014PermTypNum_FOR_addr_cnt', 'NOT_Top2014PermTypNum_FOR_hmil_cnt', 'NOT_Top2014PermTypdollars_FOR_hmil_cnt', 'NOT_Top2014PermTypNum_FOR_addr_med', 'NOT_Top2014PermTypNum_FOR_ctrt_cnt', 'NOT_Top2014PermTypdollars_FOR_ctrt_cnt', 'NOT_Top2014PermTypNum_FOR_nbhd_cnt', 'NOT_Top2014PermTypdollars_FOR_nbhd_cnt', 'NOT_Top2014PermTypdollars_FOR_hmil_med', 'NOT_Top2014PermTypNum_FOR_hmil_med', 'NOT_Top2014PermTypdollars_FOR_nbhd_med', 'NOT_Top2014PermTypNum_FOR_nbhd_med', 'NOT_Top2014PermTypdollars_FOR_ctrt_med', 'NOT_Top2014PermTypNum_FOR_ctrt_med', 'Top2015PermTypdollars', 'Top2015PermTypNum', 'Thr12015_Building', 'Thr12015_excluded', 'Thr12015_Recycling-Pickup', 'Thr12015_Street-Sidewalk', 'Thr12015_Enviro', 'Thr12015_Trees', 'Thr12015_Graffiti', 'Thr12015_Housing', 'NOT_Top2015PermTypdollars', 'NOT_Top2015PermTypNum', 'NOT_Top2015PermTypdollars_FOR_addr_avg', 'NOT_Top2015PermTypNum_FOR_hmil_avg', 'NOT_Top2015PermTypNum_FOR_addr_avg', 'NOT_Top2015PermTypdollars_FOR_hmil_avg', 'NOT_Top2015PermTypdollars_FOR_ctrt_avg', 'NOT_Top2015PermTypdollars_FOR_nbhd_avg', 'NOT_Top2015PermTypNum_FOR_ctrt_avg', 'NOT_Top2015PermTypNum_FOR_addr_cnt', 'NOT_Top2015PermTypNum_FOR_nbhd_avg', 'NOT_Top2015PermTypdollars_FOR_hmil_cnt', 'NOT_Top2015PermTypdollars_FOR_addr_cnt', 'NOT_Top2015PermTypNum_FOR_ctrt_cnt', 'NOT_Top2015PermTypNum_FOR_hmil_cnt', 'NOT_Top2015PermTypdollars_FOR_ctrt_cnt', 'NOT_Top2015PermTypNum_FOR_nbhd_cnt', 'NOT_Top2015PermTypdollars_FOR_addr_med', 'NOT_Top2015PermTypdollars_FOR_nbhd_cnt', 'NOT_Top2015PermTypNum_FOR_addr_med', 'NOT_Top2015PermTypdollars_FOR_hmil_med', 'NOT_Top2015PermTypNum_FOR_hmil_med', 'NOT_Top2015PermTypdollars_FOR_nbhd_med', 'NOT_Top2015PermTypNum_FOR_nbhd_med', 'NOT_Top2015PermTypdollars_FOR_ctrt_med', 'NOT_Top2015PermTypNum_FOR_ctrt_med', 'Top2016PermTypNum', 'Top2016PermTypdollars', 'Thr12016_Recycling-Pickup', 'Thr12016_excluded', 'Thr12016_Building', 'Thr12016_Street-Sidewalk', 'Thr12016_Trees', 'Thr12016_Enviro', 'Thr12016_Graffiti', 'Thr12016_Housing', 'NOT_Top2016PermTypdollars', 'NOT_Top2016PermTypNum']\n",
    "# YR_2012_COL_DROPS = ['Thr12011to2013_Recycling-Pickup_FOR_addr_avg', 'Thr12011to2013_Recycling-Pickup_VS_addr_gr_AVG', 'Thr12011to2013_Recycling-Pickup_VS_ctrt_gr_AVG', 'Thr12011to2013_Recycling-Pickup_VS_hmil_gr_AVG', 'Thr12011to2013_Recycling-Pickup_FOR_hmil_avg', 'Thr12011to2013_Recycling-Pickup_VS_nbhd_gr_AVG', 'Thr12011to2013_Recycling-Pickup_FOR_addr_cnt', 'Thr12011to2013_excluded', 'Thr12011to2013_Recycling-Pickup_FOR_ctrt_avg', 'Thr12011to2013_Recycling-Pickup', 'Thr12011to2013_Recycling-Pickup_FOR_hmil_cnt', 'Thr12011to2013_Recycling-Pickup_FOR_addr_med', 'Thr12011to2013_Street-Sidewalk', 'Thr12011to2013_Recycling-Pickup_FOR_hmil_med', 'Thr12011to2013_Trees', 'Thr12011to2013_Building', 'Thr12011to2013_Recycling-Pickup_FOR_ctrt_cnt', 'Thr12011to2013_Graffiti', 'Thr12011to2013_Recycling-Pickup_FOR_nbhd_avg', 'Thr12011to2013_Recycling-Pickup_FOR_ctrt_med', 'Thr12011to2013_Recycling-Pickup_FOR_nbhd_cnt', 'Thr12011to2013_Housing', 'Thr12011to2013_Recycling-Pickup_FOR_nbhd_med','Top2012PermTypdollars', 'Top2012PermTypNum', 'Thr12012_Street-Sidewalk', 'Thr12012_Recycling-Pickup', 'Thr12012_excluded', 'Thr12012_Enviro', 'Thr12012_Trees', 'Thr12012_Building', 'Thr12012_Graffiti', 'Thr12012_Housing', 'NOT_Top2012PermTypdollars', 'NOT_Top2012PermTypNum', 'NOT_Top2012PermTypdollars_FOR_hmil_avg', 'NOT_Top2012PermTypNum_FOR_hmil_avg', 'NOT_Top2012PermTypdollars_FOR_addr_avg', 'NOT_Top2012PermTypNum_FOR_addr_avg', 'NOT_Top2012PermTypdollars_FOR_ctrt_avg', 'NOT_Top2012PermTypNum_FOR_ctrt_avg', 'NOT_Top2012PermTypNum_FOR_addr_cnt', 'NOT_Top2012PermTypdollars_FOR_addr_cnt', 'NOT_Top2012PermTypdollars_FOR_hmil_cnt', 'NOT_Top2012PermTypNum_FOR_nbhd_avg', 'NOT_Top2012PermTypNum_FOR_hmil_cnt', 'NOT_Top2012PermTypdollars_FOR_nbhd_cnt', 'NOT_Top2012PermTypdollars_FOR_nbhd_avg', 'NOT_Top2012PermTypNum_FOR_ctrt_cnt', 'NOT_Top2012PermTypNum_FOR_addr_med', 'NOT_Top2012PermTypdollars_FOR_ctrt_cnt', 'NOT_Top2012PermTypNum_FOR_nbhd_cnt', 'NOT_Top2012PermTypdollars_FOR_addr_med', 'NOT_Top2012PermTypdollars_FOR_hmil_med', 'NOT_Top2012PermTypNum_FOR_hmil_med', 'NOT_Top2012PermTypdollars_FOR_nbhd_med', 'NOT_Top2012PermTypNum_FOR_nbhd_med', 'NOT_Top2012PermTypdollars_FOR_ctrt_med', 'NOT_Top2012PermTypNum_FOR_ctrt_med', 'Thr12011to2013_Recycling-Pickup_FOR_addr_avg', 'Thr12011to2013_Recycling-Pickup_VS_addr_gr_AVG', 'Thr12011to2013_Recycling-Pickup_VS_ctrt_gr_AVG', 'Thr12011to2013_Recycling-Pickup_VS_hmil_gr_AVG', 'Thr12011to2013_Recycling-Pickup_FOR_hmil_avg', 'Thr12011to2013_Recycling-Pickup_VS_nbhd_gr_AVG', 'Thr12011to2013_Recycling-Pickup_FOR_addr_cnt', 'Thr12011to2013_excluded', 'Thr12011to2013_Recycling-Pickup_FOR_ctrt_avg', 'Thr12011to2013_Recycling-Pickup', 'Thr12011to2013_Recycling-Pickup_FOR_hmil_cnt', 'Thr12011to2013_Recycling-Pickup_FOR_addr_med', 'Thr12011to2013_Street-Sidewalk', 'Thr12011to2013_Recycling-Pickup_FOR_hmil_med', 'Thr12011to2013_Trees', 'Thr12011to2013_Building', 'Thr12011to2013_Recycling-Pickup_FOR_ctrt_cnt', 'Thr12011to2013_Graffiti', 'Thr12011to2013_Recycling-Pickup_FOR_nbhd_avg', 'Thr12011to2013_Recycling-Pickup_FOR_ctrt_med', 'Thr12011to2013_Recycling-Pickup_FOR_nbhd_cnt', 'Thr12011to2013_Housing', 'Thr12011to2013_Recycling-Pickup_FOR_nbhd_med', 'Top2013PermTypdollars', 'Top2013PermTypNum', 'Thr12013_excluded', 'Thr12013_Enviro', 'Thr12013_Building', 'Thr12013_Street-Sidewalk', 'Thr12013_Recycling-Pickup', 'Thr12013_Trees', 'Thr12013_Graffiti', 'Thr12013_Housing', 'NOT_Top2013PermTypdollars', 'NOT_Top2013PermTypNum', 'NOT_Top2013PermTypNum_FOR_hmil_avg', 'NOT_Top2013PermTypdollars_FOR_addr_avg', 'NOT_Top2013PermTypNum_FOR_addr_avg', 'NOT_Top2013PermTypdollars_FOR_hmil_avg', 'NOT_Top2013PermTypdollars_FOR_nbhd_avg', 'NOT_Top2013PermTypdollars_FOR_ctrt_avg', 'NOT_Top2013PermTypNum_FOR_ctrt_avg', 'NOT_Top2013PermTypNum_FOR_nbhd_avg', 'NOT_Top2013PermTypNum_FOR_addr_cnt', 'NOT_Top2013PermTypdollars_FOR_hmil_cnt', 'NOT_Top2013PermTypdollars_FOR_addr_cnt', 'NOT_Top2013PermTypdollars_FOR_addr_med', 'NOT_Top2013PermTypNum_FOR_hmil_cnt', 'NOT_Top2013PermTypdollars_FOR_nbhd_cnt', 'NOT_Top2013PermTypNum_FOR_ctrt_cnt', 'NOT_Top2013PermTypdollars_FOR_ctrt_cnt', 'NOT_Top2013PermTypNum_FOR_addr_med', 'NOT_Top2013PermTypNum_FOR_nbhd_cnt', 'NOT_Top2013PermTypdollars_FOR_hmil_med', 'NOT_Top2013PermTypNum_FOR_hmil_med', 'NOT_Top2013PermTypdollars_FOR_nbhd_med', 'NOT_Top2013PermTypNum_FOR_nbhd_med', 'NOT_Top2013PermTypdollars_FOR_ctrt_med', 'NOT_Top2013PermTypNum_FOR_ctrt_med', 'Top2014PermTypdollars', 'Top2014PermTypNum', 'Thr12014to2015_Recycling-Pickup_FOR_addr_avg', 'Thr12014to2015_Street-Sidewalk_FOR_hmil_avg', 'Thr12014to2015_Building', 'Thr12014to2015_excluded_FOR_addr_avg', 'Thr12014to2015_Street-Sidewalk_FOR_addr_avg', 'Thr12014to2015_excluded_FOR_hmil_avg', 'Thr12014to2015_Recycling-Pickup_FOR_hmil_avg', 'Thr12014to2015_Recycling-Pickup_FOR_ctrt_avg', 'Thr12014to2015_excluded_FOR_addr_cnt', 'Thr12014to2015_excluded', 'Thr12014_excluded', 'Thr12014to2015_Recycling-Pickup_FOR_addr_cnt', 'Thr12014_Enviro', 'Thr12014to2015_excluded_FOR_ctrt_avg', 'Thr12014to2015_Street-Sidewalk_FOR_addr_cnt', 'Thr12014to2015_Enviro', 'Thr12014to2015_Street-Sidewalk_FOR_ctrt_avg', 'Thr12014to2015_Recycling-Pickup', 'Thr12014to2015_excluded_FOR_hmil_cnt', 'Thr12014to2015_Recycling-Pickup_FOR_hmil_cnt', 'Thr12014to2015_Street-Sidewalk_FOR_hmil_cnt', 'Thr12014_Recycling-Pickup', 'Thr12014to2015_Street-Sidewalk', 'Thr12014to2015_excluded_FOR_addr_med', 'Thr12014_Street-Sidewalk', 'Thr12014to2015_excluded_FOR_ctrt_cnt', 'Thr12014to2015_Street-Sidewalk_FOR_ctrt_cnt', 'Thr12014to2015_Graffiti', 'Thr12014to2015_Recycling-Pickup_FOR_addr_med', 'Thr12014to2015_Recycling-Pickup_FOR_ctrt_cnt', 'Thr12014to2015_Street-Sidewalk_FOR_addr_med', 'Thr12014to2015_excluded_FOR_nbhd_avg', 'Thr12014to2015_Trees', 'Thr12014_Building', 'Thr12014to2015_Recycling-Pickup_FOR_nbhd_avg', 'Thr12014to2015_excluded_FOR_hmil_med', 'Thr12014_Trees', 'Thr12014to2015_Housing', 'Thr12014to2015_Recycling-Pickup_FOR_hmil_med', 'Thr12014to2015_Street-Sidewalk_FOR_nbhd_avg', 'Thr12014to2015_Street-Sidewalk_FOR_nbhd_cnt', 'Thr12014_Graffiti', 'Thr12014to2015_Recycling-Pickup_FOR_nbhd_cnt', 'Thr12014to2015_excluded_FOR_nbhd_med', 'Thr12014to2015_excluded_FOR_nbhd_cnt', 'Thr12014_Housing', 'Thr12014to2015_Street-Sidewalk_FOR_hmil_med', 'Thr12014to2015_Recycling-Pickup_FOR_nbhd_med', 'Thr12014to2015_Street-Sidewalk_FOR_nbhd_med', 'Thr12014to2015_Recycling-Pickup_FOR_ctrt_med', 'Thr12014to2015_Street-Sidewalk_FOR_ctrt_med', 'Thr12014to2015_excluded_FOR_ctrt_med', 'NOT_Top2014PermTypdollars', 'NOT_Top2014PermTypNum', 'NOT_Top2014PermTypdollars_FOR_addr_avg', 'NOT_Top2014PermTypNum_FOR_addr_avg', 'NOT_Top2014PermTypNum_FOR_hmil_avg', 'NOT_Top2014PermTypdollars_FOR_hmil_avg', 'NOT_Top2014PermTypdollars_FOR_ctrt_avg', 'NOT_Top2014PermTypdollars_FOR_nbhd_avg', 'NOT_Top2014PermTypNum_FOR_ctrt_avg', 'NOT_Top2014PermTypNum_FOR_nbhd_avg', 'NOT_Top2014PermTypdollars_FOR_addr_cnt', 'NOT_Top2014PermTypdollars_FOR_addr_med', 'NOT_Top2014PermTypNum_FOR_addr_cnt', 'NOT_Top2014PermTypNum_FOR_hmil_cnt', 'NOT_Top2014PermTypdollars_FOR_hmil_cnt', 'NOT_Top2014PermTypNum_FOR_addr_med', 'NOT_Top2014PermTypNum_FOR_ctrt_cnt', 'NOT_Top2014PermTypdollars_FOR_ctrt_cnt', 'NOT_Top2014PermTypNum_FOR_nbhd_cnt', 'NOT_Top2014PermTypdollars_FOR_nbhd_cnt', 'NOT_Top2014PermTypdollars_FOR_hmil_med', 'NOT_Top2014PermTypNum_FOR_hmil_med', 'NOT_Top2014PermTypdollars_FOR_nbhd_med', 'NOT_Top2014PermTypNum_FOR_nbhd_med', 'NOT_Top2014PermTypdollars_FOR_ctrt_med', 'NOT_Top2014PermTypNum_FOR_ctrt_med', 'Top2015PermTypdollars', 'Top2015PermTypNum', 'Thr12015_Building', 'Thr12015_excluded', 'Thr12015_Recycling-Pickup', 'Thr12015_Street-Sidewalk', 'Thr12015_Enviro', 'Thr12015_Trees', 'Thr12015_Graffiti', 'Thr12015_Housing', 'NOT_Top2015PermTypdollars', 'NOT_Top2015PermTypNum', 'NOT_Top2015PermTypdollars_FOR_addr_avg', 'NOT_Top2015PermTypNum_FOR_hmil_avg', 'NOT_Top2015PermTypNum_FOR_addr_avg', 'NOT_Top2015PermTypdollars_FOR_hmil_avg', 'NOT_Top2015PermTypdollars_FOR_ctrt_avg', 'NOT_Top2015PermTypdollars_FOR_nbhd_avg', 'NOT_Top2015PermTypNum_FOR_ctrt_avg', 'NOT_Top2015PermTypNum_FOR_addr_cnt', 'NOT_Top2015PermTypNum_FOR_nbhd_avg', 'NOT_Top2015PermTypdollars_FOR_hmil_cnt', 'NOT_Top2015PermTypdollars_FOR_addr_cnt', 'NOT_Top2015PermTypNum_FOR_ctrt_cnt', 'NOT_Top2015PermTypNum_FOR_hmil_cnt', 'NOT_Top2015PermTypdollars_FOR_ctrt_cnt', 'NOT_Top2015PermTypNum_FOR_nbhd_cnt', 'NOT_Top2015PermTypdollars_FOR_addr_med', 'NOT_Top2015PermTypdollars_FOR_nbhd_cnt', 'NOT_Top2015PermTypNum_FOR_addr_med', 'NOT_Top2015PermTypdollars_FOR_hmil_med', 'NOT_Top2015PermTypNum_FOR_hmil_med', 'NOT_Top2015PermTypdollars_FOR_nbhd_med', 'NOT_Top2015PermTypNum_FOR_nbhd_med', 'NOT_Top2015PermTypdollars_FOR_ctrt_med', 'NOT_Top2015PermTypNum_FOR_ctrt_med', 'Top2016PermTypNum', 'Top2016PermTypdollars', 'Thr12016_Recycling-Pickup', 'Thr12016_excluded', 'Thr12016_Building', 'Thr12016_Street-Sidewalk', 'Thr12016_Trees', 'Thr12016_Enviro', 'Thr12016_Graffiti', 'Thr12016_Housing', 'NOT_Top2016PermTypdollars', 'NOT_Top2016PermTypNum']\n",
    "# YR_2011_COL_DROPS = ['Top2011PermTypdollars', 'Top2011PermTypNum', 'Thr12011_excluded', 'Thr12011_Recycling-Pickup', 'Thr12011to2013_Enviro', 'Thr12011_Trees', 'Thr12011_Enviro', 'Thr12011_Building', 'Thr12011_Street-Sidewalk', 'Thr12011_Graffiti', 'Thr12011_Housing', 'NOT_Top2011PermTypdollars', 'NOT_Top2011PermTypdollars_FOR_addr_avg', 'NOT_Top2011PermTypdollars_FOR_hmil_avg', 'NOT_Top2011PermTypdollars_FOR_ctrt_avg', 'NOT_Top2011PermTypdollars_FOR_nbhd_avg', 'NOT_Top2011PermTypNum', 'NOT_Top2011PermTypdollars_FOR_addr_cnt', 'NOT_Top2011PermTypdollars_FOR_hmil_cnt', 'NOT_Top2011PermTypdollars_FOR_ctrt_cnt', 'NOT_Top2011PermTypdollars_FOR_nbhd_cnt', 'NOT_Top2011PermTypdollars_FOR_addr_med', 'NOT_Top2011PermTypdollars_FOR_hmil_med', 'NOT_Top2011PermTypdollars_FOR_nbhd_med', 'NOT_Top2011PermTypdollars_FOR_ctrt_med', 'Top2012PermTypdollars', 'Top2012PermTypNum', 'Thr12012_Street-Sidewalk', 'Thr12012_Recycling-Pickup', 'Thr12012_excluded', 'Thr12012_Enviro', 'Thr12012_Trees', 'Thr12012_Building', 'Thr12012_Graffiti', 'Thr12012_Housing', 'NOT_Top2012PermTypdollars', 'NOT_Top2012PermTypNum', 'NOT_Top2012PermTypdollars_FOR_hmil_avg', 'NOT_Top2012PermTypNum_FOR_hmil_avg', 'NOT_Top2012PermTypdollars_FOR_addr_avg', 'NOT_Top2012PermTypNum_FOR_addr_avg', 'NOT_Top2012PermTypdollars_FOR_ctrt_avg', 'NOT_Top2012PermTypNum_FOR_ctrt_avg', 'NOT_Top2012PermTypNum_FOR_addr_cnt', 'NOT_Top2012PermTypdollars_FOR_addr_cnt', 'NOT_Top2012PermTypdollars_FOR_hmil_cnt', 'NOT_Top2012PermTypNum_FOR_nbhd_avg', 'NOT_Top2012PermTypNum_FOR_hmil_cnt', 'NOT_Top2012PermTypdollars_FOR_nbhd_cnt', 'NOT_Top2012PermTypdollars_FOR_nbhd_avg', 'NOT_Top2012PermTypNum_FOR_ctrt_cnt', 'NOT_Top2012PermTypNum_FOR_addr_med', 'NOT_Top2012PermTypdollars_FOR_ctrt_cnt', 'NOT_Top2012PermTypNum_FOR_nbhd_cnt', 'NOT_Top2012PermTypdollars_FOR_addr_med', 'NOT_Top2012PermTypdollars_FOR_hmil_med', 'NOT_Top2012PermTypNum_FOR_hmil_med', 'NOT_Top2012PermTypdollars_FOR_nbhd_med', 'NOT_Top2012PermTypNum_FOR_nbhd_med', 'NOT_Top2012PermTypdollars_FOR_ctrt_med', 'NOT_Top2012PermTypNum_FOR_ctrt_med', 'Thr12011to2013_Recycling-Pickup_FOR_addr_avg', 'Thr12011to2013_Recycling-Pickup_VS_addr_gr_AVG', 'Thr12011to2013_Recycling-Pickup_VS_ctrt_gr_AVG', 'Thr12011to2013_Recycling-Pickup_VS_hmil_gr_AVG', 'Thr12011to2013_Recycling-Pickup_FOR_hmil_avg', 'Thr12011to2013_Recycling-Pickup_VS_nbhd_gr_AVG', 'Thr12011to2013_Recycling-Pickup_FOR_addr_cnt', 'Thr12011to2013_excluded', 'Thr12011to2013_Recycling-Pickup_FOR_ctrt_avg', 'Thr12011to2013_Recycling-Pickup', 'Thr12011to2013_Recycling-Pickup_FOR_hmil_cnt', 'Thr12011to2013_Recycling-Pickup_FOR_addr_med', 'Thr12011to2013_Street-Sidewalk', 'Thr12011to2013_Recycling-Pickup_FOR_hmil_med', 'Thr12011to2013_Trees', 'Thr12011to2013_Building', 'Thr12011to2013_Recycling-Pickup_FOR_ctrt_cnt', 'Thr12011to2013_Graffiti', 'Thr12011to2013_Recycling-Pickup_FOR_nbhd_avg', 'Thr12011to2013_Recycling-Pickup_FOR_ctrt_med', 'Thr12011to2013_Recycling-Pickup_FOR_nbhd_cnt', 'Thr12011to2013_Housing', 'Thr12011to2013_Recycling-Pickup_FOR_nbhd_med', 'Top2013PermTypdollars', 'Top2013PermTypNum', 'Thr12013_excluded', 'Thr12013_Enviro', 'Thr12013_Building', 'Thr12013_Street-Sidewalk', 'Thr12013_Recycling-Pickup', 'Thr12013_Trees', 'Thr12013_Graffiti', 'Thr12013_Housing', 'NOT_Top2013PermTypdollars', 'NOT_Top2013PermTypNum', 'NOT_Top2013PermTypNum_FOR_hmil_avg', 'NOT_Top2013PermTypdollars_FOR_addr_avg', 'NOT_Top2013PermTypNum_FOR_addr_avg', 'NOT_Top2013PermTypdollars_FOR_hmil_avg', 'NOT_Top2013PermTypdollars_FOR_nbhd_avg', 'NOT_Top2013PermTypdollars_FOR_ctrt_avg', 'NOT_Top2013PermTypNum_FOR_ctrt_avg', 'NOT_Top2013PermTypNum_FOR_nbhd_avg', 'NOT_Top2013PermTypNum_FOR_addr_cnt', 'NOT_Top2013PermTypdollars_FOR_hmil_cnt', 'NOT_Top2013PermTypdollars_FOR_addr_cnt', 'NOT_Top2013PermTypdollars_FOR_addr_med', 'NOT_Top2013PermTypNum_FOR_hmil_cnt', 'NOT_Top2013PermTypdollars_FOR_nbhd_cnt', 'NOT_Top2013PermTypNum_FOR_ctrt_cnt', 'NOT_Top2013PermTypdollars_FOR_ctrt_cnt', 'NOT_Top2013PermTypNum_FOR_addr_med', 'NOT_Top2013PermTypNum_FOR_nbhd_cnt', 'NOT_Top2013PermTypdollars_FOR_hmil_med', 'NOT_Top2013PermTypNum_FOR_hmil_med', 'NOT_Top2013PermTypdollars_FOR_nbhd_med', 'NOT_Top2013PermTypNum_FOR_nbhd_med', 'NOT_Top2013PermTypdollars_FOR_ctrt_med', 'NOT_Top2013PermTypNum_FOR_ctrt_med', 'Top2014PermTypdollars', 'Top2014PermTypNum', 'Thr12014to2015_Recycling-Pickup_FOR_addr_avg', 'Thr12014to2015_Street-Sidewalk_FOR_hmil_avg', 'Thr12014to2015_Building', 'Thr12014to2015_excluded_FOR_addr_avg', 'Thr12014to2015_Street-Sidewalk_FOR_addr_avg', 'Thr12014to2015_excluded_FOR_hmil_avg', 'Thr12014to2015_Recycling-Pickup_FOR_hmil_avg', 'Thr12014to2015_Recycling-Pickup_FOR_ctrt_avg', 'Thr12014to2015_excluded_FOR_addr_cnt', 'Thr12014to2015_excluded', 'Thr12014_excluded', 'Thr12014to2015_Recycling-Pickup_FOR_addr_cnt', 'Thr12014_Enviro', 'Thr12014to2015_excluded_FOR_ctrt_avg', 'Thr12014to2015_Street-Sidewalk_FOR_addr_cnt', 'Thr12014to2015_Enviro', 'Thr12014to2015_Street-Sidewalk_FOR_ctrt_avg', 'Thr12014to2015_Recycling-Pickup', 'Thr12014to2015_excluded_FOR_hmil_cnt', 'Thr12014to2015_Recycling-Pickup_FOR_hmil_cnt', 'Thr12014to2015_Street-Sidewalk_FOR_hmil_cnt', 'Thr12014_Recycling-Pickup', 'Thr12014to2015_Street-Sidewalk', 'Thr12014to2015_excluded_FOR_addr_med', 'Thr12014_Street-Sidewalk', 'Thr12014to2015_excluded_FOR_ctrt_cnt', 'Thr12014to2015_Street-Sidewalk_FOR_ctrt_cnt', 'Thr12014to2015_Graffiti', 'Thr12014to2015_Recycling-Pickup_FOR_addr_med', 'Thr12014to2015_Recycling-Pickup_FOR_ctrt_cnt', 'Thr12014to2015_Street-Sidewalk_FOR_addr_med', 'Thr12014to2015_excluded_FOR_nbhd_avg', 'Thr12014to2015_Trees', 'Thr12014_Building', 'Thr12014to2015_Recycling-Pickup_FOR_nbhd_avg', 'Thr12014to2015_excluded_FOR_hmil_med', 'Thr12014_Trees', 'Thr12014to2015_Housing', 'Thr12014to2015_Recycling-Pickup_FOR_hmil_med', 'Thr12014to2015_Street-Sidewalk_FOR_nbhd_avg', 'Thr12014to2015_Street-Sidewalk_FOR_nbhd_cnt', 'Thr12014_Graffiti', 'Thr12014to2015_Recycling-Pickup_FOR_nbhd_cnt', 'Thr12014to2015_excluded_FOR_nbhd_med', 'Thr12014to2015_excluded_FOR_nbhd_cnt', 'Thr12014_Housing', 'Thr12014to2015_Street-Sidewalk_FOR_hmil_med', 'Thr12014to2015_Recycling-Pickup_FOR_nbhd_med', 'Thr12014to2015_Street-Sidewalk_FOR_nbhd_med', 'Thr12014to2015_Recycling-Pickup_FOR_ctrt_med', 'Thr12014to2015_Street-Sidewalk_FOR_ctrt_med', 'Thr12014to2015_excluded_FOR_ctrt_med', 'NOT_Top2014PermTypdollars', 'NOT_Top2014PermTypNum', 'NOT_Top2014PermTypdollars_FOR_addr_avg', 'NOT_Top2014PermTypNum_FOR_addr_avg', 'NOT_Top2014PermTypNum_FOR_hmil_avg', 'NOT_Top2014PermTypdollars_FOR_hmil_avg', 'NOT_Top2014PermTypdollars_FOR_ctrt_avg', 'NOT_Top2014PermTypdollars_FOR_nbhd_avg', 'NOT_Top2014PermTypNum_FOR_ctrt_avg', 'NOT_Top2014PermTypNum_FOR_nbhd_avg', 'NOT_Top2014PermTypdollars_FOR_addr_cnt', 'NOT_Top2014PermTypdollars_FOR_addr_med', 'NOT_Top2014PermTypNum_FOR_addr_cnt', 'NOT_Top2014PermTypNum_FOR_hmil_cnt', 'NOT_Top2014PermTypdollars_FOR_hmil_cnt', 'NOT_Top2014PermTypNum_FOR_addr_med', 'NOT_Top2014PermTypNum_FOR_ctrt_cnt', 'NOT_Top2014PermTypdollars_FOR_ctrt_cnt', 'NOT_Top2014PermTypNum_FOR_nbhd_cnt', 'NOT_Top2014PermTypdollars_FOR_nbhd_cnt', 'NOT_Top2014PermTypdollars_FOR_hmil_med', 'NOT_Top2014PermTypNum_FOR_hmil_med', 'NOT_Top2014PermTypdollars_FOR_nbhd_med', 'NOT_Top2014PermTypNum_FOR_nbhd_med', 'NOT_Top2014PermTypdollars_FOR_ctrt_med', 'NOT_Top2014PermTypNum_FOR_ctrt_med', 'Top2015PermTypdollars', 'Top2015PermTypNum', 'Thr12015_Building', 'Thr12015_excluded', 'Thr12015_Recycling-Pickup', 'Thr12015_Street-Sidewalk', 'Thr12015_Enviro', 'Thr12015_Trees', 'Thr12015_Graffiti', 'Thr12015_Housing', 'NOT_Top2015PermTypdollars', 'NOT_Top2015PermTypNum', 'NOT_Top2015PermTypdollars_FOR_addr_avg', 'NOT_Top2015PermTypNum_FOR_hmil_avg', 'NOT_Top2015PermTypNum_FOR_addr_avg', 'NOT_Top2015PermTypdollars_FOR_hmil_avg', 'NOT_Top2015PermTypdollars_FOR_ctrt_avg', 'NOT_Top2015PermTypdollars_FOR_nbhd_avg', 'NOT_Top2015PermTypNum_FOR_ctrt_avg', 'NOT_Top2015PermTypNum_FOR_addr_cnt', 'NOT_Top2015PermTypNum_FOR_nbhd_avg', 'NOT_Top2015PermTypdollars_FOR_hmil_cnt', 'NOT_Top2015PermTypdollars_FOR_addr_cnt', 'NOT_Top2015PermTypNum_FOR_ctrt_cnt', 'NOT_Top2015PermTypNum_FOR_hmil_cnt', 'NOT_Top2015PermTypdollars_FOR_ctrt_cnt', 'NOT_Top2015PermTypNum_FOR_nbhd_cnt', 'NOT_Top2015PermTypdollars_FOR_addr_med', 'NOT_Top2015PermTypdollars_FOR_nbhd_cnt', 'NOT_Top2015PermTypNum_FOR_addr_med', 'NOT_Top2015PermTypdollars_FOR_hmil_med', 'NOT_Top2015PermTypNum_FOR_hmil_med', 'NOT_Top2015PermTypdollars_FOR_nbhd_med', 'NOT_Top2015PermTypNum_FOR_nbhd_med', 'NOT_Top2015PermTypdollars_FOR_ctrt_med', 'NOT_Top2015PermTypNum_FOR_ctrt_med', 'Top2016PermTypNum', 'Top2016PermTypdollars', 'Thr12016_Recycling-Pickup', 'Thr12016_excluded', 'Thr12016_Building', 'Thr12016_Street-Sidewalk', 'Thr12016_Trees', 'Thr12016_Enviro', 'Thr12016_Graffiti', 'Thr12016_Housing', 'NOT_Top2016PermTypdollars', 'NOT_Top2016PermTypNum']\n",
    "model_file.drop(YR_2016_DROPS, inplace = True, axis = 1)"
   ]
  },
  {
   "cell_type": "code",
   "execution_count": 47,
   "metadata": {
    "collapsed": false
   },
   "outputs": [
    {
     "data": {
      "text/plain": [
       "(89334, 1534)"
      ]
     },
     "execution_count": 47,
     "metadata": {},
     "output_type": "execute_result"
    }
   ],
   "source": [
    "model_file.shape"
   ]
  },
  {
   "cell_type": "code",
   "execution_count": 48,
   "metadata": {
    "collapsed": false
   },
   "outputs": [
    {
     "data": {
      "text/plain": [
       "181"
      ]
     },
     "execution_count": 48,
     "metadata": {},
     "output_type": "execute_result"
    }
   ],
   "source": [
    "len(model_file['FIPS'].value_counts())"
   ]
  },
  {
   "cell_type": "code",
   "execution_count": 49,
   "metadata": {
    "collapsed": false
   },
   "outputs": [
    {
     "data": {
      "text/plain": [
       "Dorchester                                      16246\n",
       "West Roxbury                                     9412\n",
       "Hyde Park                                        8284\n",
       "Roxbury                                          7836\n",
       "Allston / Brighton                               6892\n",
       "Greater Mattapan                                 6443\n",
       "East Boston                                      6152\n",
       "Jamaica Plain                                    5848\n",
       "Roslindale                                       5833\n",
       "South Boston / South Boston Waterfront           5114\n",
       "Charlestown                                      2316\n",
       "South End                                        1658\n",
       "Back Bay                                         1418\n",
       "Downtown / Financial District                     933\n",
       "Beacon Hill                                       572\n",
       "Fenway / Kenmore / Audubon Circle / Longwood      535\n",
       "Mission Hill                                      401\n",
       "Boston                                            161\n",
       "South Boston                                       55\n",
       "Mattapan                                           34\n",
       "Brighton                                           32\n",
       "Allston                                            12\n",
       "Chestnut Hill                                       1\n",
       "Name: neighborhood, dtype: int64"
      ]
     },
     "execution_count": 49,
     "metadata": {},
     "output_type": "execute_result"
    }
   ],
   "source": [
    "model_file['neighborhood'].value_counts()"
   ]
  },
  {
   "cell_type": "code",
   "execution_count": 50,
   "metadata": {
    "collapsed": false
   },
   "outputs": [
    {
     "name": "stdout",
     "output_type": "stream",
     "text": [
      "(89334, 1534)\n",
      "(86598, 1534)\n"
     ]
    }
   ],
   "source": [
    "print model_file.shape\n",
    "low_neighborhoods = ['Allston','Beacon Hill','Boston','Brighton','Chestnut Hill','Downtown / Financial District','Fenway / Kenmore / Audubon Circle / Longwood','Mattapan','Mission Hill','South Boston']\n",
    "model_file = model_file[~model_file['neighborhood'].isin(low_neighborhoods)]\n",
    "print model_file.shape"
   ]
  },
  {
   "cell_type": "code",
   "execution_count": 51,
   "metadata": {
    "collapsed": true
   },
   "outputs": [],
   "source": [
    "##\n",
    "# Save out 'Year Solar, PID and is_solar' to use for later analysis \n",
    "#model_file[['PID','Year_SOLAR','is_solar']].to_csv('/Users/DavidStier/Downloads/PID_YR_SOLAR_all.csv')\n",
    "mf2016 = model_file[model_file['Year_SOLAR'] == 2016]\n",
    "mf2016.to_csv('/Users/DavidStier/Downloads/YR_SOLARis2016QMile7.csv')"
   ]
  },
  {
   "cell_type": "code",
   "execution_count": 52,
   "metadata": {
    "collapsed": false
   },
   "outputs": [],
   "source": [
    "tf = model_file  # tf for test_file"
   ]
  },
  {
   "cell_type": "code",
   "execution_count": 53,
   "metadata": {
    "collapsed": false
   },
   "outputs": [],
   "source": [
    "tf.fillna(0, inplace = True)"
   ]
  },
  {
   "cell_type": "markdown",
   "metadata": {},
   "source": [
    "### From here on, only SINGLE FAMILY OWNER OCCUPIED residential are included \n",
    "\n",
    "#### See prior notebooks for how to divide model_file for other home sizes\n"
   ]
  },
  {
   "cell_type": "code",
   "execution_count": 54,
   "metadata": {
    "collapsed": false
   },
   "outputs": [
    {
     "name": "stdout",
     "output_type": "stream",
     "text": [
      "(30033, 1534) single family only\n"
     ]
    }
   ],
   "source": [
    "tf_r = tf[tf['resid_bldg']==True]\n",
    "tf_r_single = tf_r[tf_r['LU'] == 'Residential Single Family']\n",
    "print tf_r_single.shape, 'single family only'\n"
   ]
  },
  {
   "cell_type": "code",
   "execution_count": 55,
   "metadata": {
    "collapsed": false
   },
   "outputs": [
    {
     "name": "stdout",
     "output_type": "stream",
     "text": [
      "(25303, 1534) single family only, now Owner Occ only\n"
     ]
    }
   ],
   "source": [
    "tf_r_single = tf_r_single[tf_r_single['OWN_OCC'] == 1]\n",
    "print tf_r_single.shape, 'single family only, now Owner Occ only'\n",
    "# tfr_dtypes = tf_r.dtypes.tolist()\n",
    "# tfrcolslist = tf_r.columns.tolist()\n"
   ]
  },
  {
   "cell_type": "markdown",
   "metadata": {},
   "source": [
    "## save out copy with geo information\n"
   ]
  },
  {
   "cell_type": "code",
   "execution_count": 56,
   "metadata": {
    "collapsed": true
   },
   "outputs": [],
   "source": [
    "Geotest_file = tf_r_single"
   ]
  },
  {
   "cell_type": "code",
   "execution_count": 57,
   "metadata": {
    "collapsed": false
   },
   "outputs": [
    {
     "data": {
      "text/plain": [
       "(25303, 1534)"
      ]
     },
     "execution_count": 57,
     "metadata": {},
     "output_type": "execute_result"
    }
   ],
   "source": [
    "Geotest_file.shape"
   ]
  },
  {
   "cell_type": "code",
   "execution_count": 58,
   "metadata": {
    "collapsed": false
   },
   "outputs": [
    {
     "data": {
      "text/plain": [
       "(25303, 1534)"
      ]
     },
     "execution_count": 58,
     "metadata": {},
     "output_type": "execute_result"
    }
   ],
   "source": [
    "tf_r_single.shape"
   ]
  },
  {
   "cell_type": "code",
   "execution_count": 59,
   "metadata": {
    "collapsed": false
   },
   "outputs": [
    {
     "ename": "SyntaxError",
     "evalue": "invalid syntax (<ipython-input-59-c705537ffa1a>, line 1)",
     "output_type": "error",
     "traceback": [
      "\u001b[0;36m  File \u001b[0;32m\"<ipython-input-59-c705537ffa1a>\"\u001b[0;36m, line \u001b[0;32m1\u001b[0m\n\u001b[0;31m    pause to do geo testing\u001b[0m\n\u001b[0m           ^\u001b[0m\n\u001b[0;31mSyntaxError\u001b[0m\u001b[0;31m:\u001b[0m invalid syntax\n"
     ]
    }
   ],
   "source": [
    "pause to do geo testing"
   ]
  },
  {
   "cell_type": "markdown",
   "metadata": {},
   "source": [
    "<a id='the_destination'></a>"
   ]
  },
  {
   "cell_type": "markdown",
   "metadata": {},
   "source": [
    "## The destination"
   ]
  },
  {
   "cell_type": "markdown",
   "metadata": {},
   "source": [
    "## Segment into train / test / validate files"
   ]
  },
  {
   "cell_type": "code",
   "execution_count": 60,
   "metadata": {
    "collapsed": false
   },
   "outputs": [],
   "source": [
    "## \n",
    "#  Remove last remaining columns that should be excluded from the dummification\n",
    "##\n",
    "\n",
    "final_cols_to_drop = ['Unnamed: 0',\n",
    " 'GIS_ID',\n",
    " 'Qmile_grid_cell',\n",
    " 'hmile_grid_cell',                     \n",
    " 'PID',\n",
    " 'PID_LONG',\n",
    " 'PTYPE',\n",
    " 'geometry',\n",
    " 'centroids',\n",
    " 'st_name_w_type',\n",
    " 'addr_group',\n",
    " 'Parcel_ID',\n",
    " 'Property_Type',\n",
    " 'parcel_num',\n",
    " 'FIPS',\n",
    " 'Latitude',\n",
    " 'Longitude',\n",
    " 'YR_BUILT_VS_addr_gr_MED',  # these went to infinity, so will drop\n",
    "'YR_BUILT_VS_Qmil_gr_MED',\n",
    "'YR_BUILT_VS_ctrt_gr_MED',\n",
    "'GROSS_AREA_VS_addr_gr_MED',\n",
    "'GROSS_AREA_VS_Qmil_gr_MED',\n",
    "'GROSS_AREA_VS_ctrt_gr_MED',\n",
    "'Thr12011to2013_Recycling-Pickup_VS_addr_gr_MED',\n",
    "'Thr12011to2013_Recycling-Pickup_VS_nbhd_gr_MED',\n",
    "'Thr12011to2013_Recycling-Pickup_VS_Qmil_gr_MED',\n",
    "'Thr12011to2013_Recycling-Pickup_VS_ctrt_gr_MED'\n",
    "] \n",
    "\n",
    "tf_r_single.drop(final_cols_to_drop, inplace = True, axis = 1)\n"
   ]
  },
  {
   "cell_type": "code",
   "execution_count": 61,
   "metadata": {
    "collapsed": false
   },
   "outputs": [],
   "source": [
    "archive_cols = ['GIS_ID',\n",
    " 'Qmile_grid_cell',\n",
    " 'hmile_grid_cell',\n",
    " 'PID',\n",
    " 'PID_LONG',\n",
    " 'PTYPE',\n",
    " 'geometry',\n",
    " 'centroids',\n",
    " 'st_name_w_type',\n",
    " 'addr_group',\n",
    " 'Parcel_ID',\n",
    " 'Property_Type',\n",
    " 'parcel_num',\n",
    " 'FIPS',\n",
    " 'Latitude',\n",
    " 'Longitude' ]\n",
    "##\n",
    "# output a csv of the dropped columns for later audits\n",
    "##\n",
    "model_file[['GIS_ID',\n",
    " 'Qmile_grid_cell',\n",
    " 'hmile_grid_cell',\n",
    " 'PID',\n",
    " 'PID_LONG',\n",
    " 'PTYPE',\n",
    " 'geometry',\n",
    " 'centroids',\n",
    " 'st_name_w_type',\n",
    " 'addr_group',\n",
    " 'Parcel_ID',\n",
    " 'Property_Type',\n",
    " 'parcel_num',\n",
    " 'FIPS',\n",
    " 'Latitude',\n",
    " 'Longitude']].to_csv('/Users/DavidStier/Downloads/FinalColsDropped7.csv')"
   ]
  },
  {
   "cell_type": "code",
   "execution_count": 62,
   "metadata": {
    "collapsed": false
   },
   "outputs": [
    {
     "name": "stdout",
     "output_type": "stream",
     "text": [
      "(25303, 1507) single family BEFORE dummied\n"
     ]
    }
   ],
   "source": [
    "print tf_r_single.shape, 'single family BEFORE dummied'\n"
   ]
  },
  {
   "cell_type": "code",
   "execution_count": 63,
   "metadata": {
    "collapsed": false
   },
   "outputs": [
    {
     "name": "stdout",
     "output_type": "stream",
     "text": [
      "Index([u'LU', u'R_AC', u'R_BLDG_STY', u'R_EXT_FIN', u'R_HRAT_TYP',\n",
      "       u'R_ROOF_TYP', u'STRUCTURE_', u'Bath_Style_1', u'Bath_Style_2',\n",
      "       u'Bath_Style_3', u'Exterior_Condition', u'Exterior_Wall', u'Grade',\n",
      "       u'Heat_Type', u'Interior_Condition', u'Interior_Finish',\n",
      "       u'Kitchen_Style', u'Overall_Condition', u'View', u'Topography',\n",
      "       u'Outbldg_1', u'Outbldg_2', u'Outbldg_3', u'neighborhood'],\n",
      "      dtype='object')\n"
     ]
    }
   ],
   "source": [
    "## \n",
    "# Create file specific column suffixes for the get_dummies functions\n",
    "##\n",
    "\n",
    "categ_cols_single = tf_r_single.select_dtypes(include=['object']).columns\n",
    "print categ_cols_single"
   ]
  },
  {
   "cell_type": "code",
   "execution_count": 64,
   "metadata": {
    "collapsed": false
   },
   "outputs": [
    {
     "name": "stdout",
     "output_type": "stream",
     "text": [
      "(25303, 1707) single family dummied\n"
     ]
    }
   ],
   "source": [
    "tf_r_single_dummied = pd.get_dummies(tf_r_single, columns = categ_cols_single)\n",
    "\n",
    "print tf_r_single_dummied.shape, 'single family dummied'\n"
   ]
  },
  {
   "cell_type": "markdown",
   "metadata": {},
   "source": [
    "## Run regression tests, holding out 2016 conversions"
   ]
  },
  {
   "cell_type": "code",
   "execution_count": 65,
   "metadata": {
    "collapsed": false
   },
   "outputs": [
    {
     "name": "stderr",
     "output_type": "stream",
     "text": [
      "/Applications/anaconda/envs/dsi/lib/python2.7/site-packages/ipykernel/__main__.py:3: SettingWithCopyWarning: \n",
      "A value is trying to be set on a copy of a slice from a DataFrame\n",
      "\n",
      "See the caveats in the documentation: http://pandas.pydata.org/pandas-docs/stable/indexing.html#indexing-view-versus-copy\n",
      "  app.launch_new_instance()\n"
     ]
    }
   ],
   "source": [
    "\n",
    "validate_file_single = tf_r_single_dummied[tf_r_single_dummied['Year_SOLAR']==2016]\n",
    "validate_file_single.drop(['is_solar','Year_SOLAR'], axis = 1, inplace = True)\n"
   ]
  },
  {
   "cell_type": "code",
   "execution_count": 66,
   "metadata": {
    "collapsed": false
   },
   "outputs": [
    {
     "name": "stdout",
     "output_type": "stream",
     "text": [
      "SINGLE FAMILY:  \n",
      "(219, 1705)  validate file\n",
      "(25084, 1707)  all others\n"
     ]
    }
   ],
   "source": [
    "train_test_combo_single = tf_r_single_dummied[tf_r_single_dummied['Year_SOLAR']!=2016]\n",
    "print 'SINGLE FAMILY:  '\n",
    "print validate_file_single.shape, ' validate file'\n",
    "print train_test_combo_single.shape, ' all others'"
   ]
  },
  {
   "cell_type": "code",
   "execution_count": 67,
   "metadata": {
    "collapsed": false
   },
   "outputs": [],
   "source": [
    "validate_file_single.to_csv('/Users/DavidStier/Downloads/QMileValidate_full_file7.csv')\n",
    "train_test_combo_single.to_csv('/Users/DavidStier/Downloads/TrainTestComboFullFile_single_own_occ8.csv')"
   ]
  },
  {
   "cell_type": "code",
   "execution_count": 68,
   "metadata": {
    "collapsed": false
   },
   "outputs": [],
   "source": [
    "colnames = train_test_combo_single.columns.tolist()\n",
    "pd.DataFrame(colnames).to_csv('/Users/DavidStier/Downloads/TrainTestComboFullFile_single_own_occ8COLS.csv')"
   ]
  },
  {
   "cell_type": "code",
   "execution_count": 69,
   "metadata": {
    "collapsed": false
   },
   "outputs": [],
   "source": [
    "Y_single = train_test_combo_single['is_solar']\n"
   ]
  },
  {
   "cell_type": "code",
   "execution_count": null,
   "metadata": {
    "collapsed": false
   },
   "outputs": [],
   "source": []
  },
  {
   "cell_type": "markdown",
   "metadata": {
    "collapsed": false
   },
   "source": [
    "### GET X"
   ]
  },
  {
   "cell_type": "code",
   "execution_count": 70,
   "metadata": {
    "collapsed": false
   },
   "outputs": [
    {
     "name": "stdout",
     "output_type": "stream",
     "text": [
      "(25084, 1705) : X_single shape\n"
     ]
    }
   ],
   "source": [
    "tt_single_copy = train_test_combo_single.copy()\n",
    "tt_single_copy.drop(['is_solar','Year_SOLAR'], axis = 1, inplace = True)\n",
    "X_single = tt_single_copy\n",
    "\n",
    "print X_single.shape, ': X_single shape'"
   ]
  },
  {
   "cell_type": "markdown",
   "metadata": {},
   "source": [
    "## Create 2016 train/test dataset"
   ]
  },
  {
   "cell_type": "markdown",
   "metadata": {},
   "source": [
    "### Stratified Split Search"
   ]
  },
  {
   "cell_type": "code",
   "execution_count": 71,
   "metadata": {
    "collapsed": false
   },
   "outputs": [],
   "source": [
    "imp = Imputer(missing_values='NaN', strategy='mean', axis=0, verbose=0, copy=True)\n",
    "# imp.fit(X)  - this was the original\n",
    "# X2 = imp.transform(X)\n",
    "\n",
    "imp.fit(X_single)\n",
    "X2_single = imp.transform(X_single)\n",
    "\n",
    "# Note - set X2 as variable for imputed \"X\" so that I could keep \"X\" clean"
   ]
  },
  {
   "cell_type": "markdown",
   "metadata": {},
   "source": [
    "## Single Family Residential - Logit & RFC"
   ]
  },
  {
   "cell_type": "code",
   "execution_count": 72,
   "metadata": {
    "collapsed": false,
    "scrolled": false
   },
   "outputs": [
    {
     "name": "stdout",
     "output_type": "stream",
     "text": [
      "(12542, 1705) (12542,) (12542, 1705) (12542,)\n"
     ]
    }
   ],
   "source": [
    "sss = StratifiedShuffleSplit(n_splits=10, test_size=0.5, random_state=0)\n",
    "sss.get_n_splits(X_single, Y_single)\n",
    "\n",
    "for train_index, test_index in sss.split(X_single, Y_single):\n",
    "    xtrain_single, xtest_single = X_single.iloc[train_index], X_single.iloc[test_index]\n",
    "    ytrain_single, ytest_single = Y_single.iloc[train_index], Y_single.iloc[test_index]\n",
    "#    logit_single = LogisticRegression()\n",
    "#    logit_single.fit(xtrain_single, ytrain_single)\n",
    "\n",
    "print xtrain_single.shape, ytrain_single.shape, xtest_single.shape, ytest_single.shape\n",
    "\n"
   ]
  },
  {
   "cell_type": "code",
   "execution_count": 73,
   "metadata": {
    "collapsed": false
   },
   "outputs": [],
   "source": [
    "xtrain_single_maxValues = xtrain_single.max().tolist()\n",
    "pd.DataFrame(xtrain_single_maxValues).to_csv('/Users/DavidStier/Downloads/xtrain_single_maxValues.csv')\n"
   ]
  },
  {
   "cell_type": "code",
   "execution_count": 74,
   "metadata": {
    "collapsed": false
   },
   "outputs": [],
   "source": [
    "xtrain_single_cols = xtrain_single.columns.tolist()\n",
    "pd.DataFrame(xtrain_single_cols).to_csv('/Users/DavidStier/Downloads/xtrain_single_cols.csv')"
   ]
  },
  {
   "cell_type": "code",
   "execution_count": null,
   "metadata": {
    "collapsed": false
   },
   "outputs": [],
   "source": []
  },
  {
   "cell_type": "code",
   "execution_count": 75,
   "metadata": {
    "collapsed": false
   },
   "outputs": [],
   "source": [
    "##\n",
    "# send copy of feature labels to csv:\n",
    "#\n",
    "xtrain_single_column_labels = pd.DataFrame(xtrain_single[0:1])\n",
    "#xtrain_single_column_labels\n",
    "xtrain_single_column_labels.to_csv('/Users/DavidStier/Downloads/Qmilextrain_single_column_labels_7.csv')\n",
    "xtrain_row_indexes_wAV_BLDG = pd.DataFrame(xtrain_single['AV_BLDG'])\n",
    "xtrain_row_indexes_wAV_BLDG.to_csv('/Users/DavidStier/Downloads/Qmilextrain_row_indexes_wAV_BLDG7.csv')"
   ]
  },
  {
   "cell_type": "code",
   "execution_count": 76,
   "metadata": {
    "collapsed": false
   },
   "outputs": [
    {
     "ename": "NameError",
     "evalue": "name 'logit_single' is not defined",
     "output_type": "error",
     "traceback": [
      "\u001b[0;31m---------------------------------------------------------------------------\u001b[0m",
      "\u001b[0;31mNameError\u001b[0m                                 Traceback (most recent call last)",
      "\u001b[0;32m<ipython-input-76-1c3dd5a6aab6>\u001b[0m in \u001b[0;36m<module>\u001b[0;34m()\u001b[0m\n\u001b[0;32m----> 1\u001b[0;31m \u001b[0mlogit_single\u001b[0m\u001b[0;34m.\u001b[0m\u001b[0mfit\u001b[0m\u001b[0;34m(\u001b[0m\u001b[0mX2_single\u001b[0m\u001b[0;34m,\u001b[0m \u001b[0mY_single\u001b[0m\u001b[0;34m)\u001b[0m\u001b[0;34m\u001b[0m\u001b[0m\n\u001b[0m\u001b[1;32m      2\u001b[0m \u001b[0mlogit_single\u001b[0m\u001b[0;34m.\u001b[0m\u001b[0mget_params\u001b[0m\u001b[0;34m\u001b[0m\u001b[0m\n\u001b[1;32m      3\u001b[0m \u001b[0mlogit_ypred_single\u001b[0m \u001b[0;34m=\u001b[0m \u001b[0mlogit_single\u001b[0m\u001b[0;34m.\u001b[0m\u001b[0mpredict\u001b[0m\u001b[0;34m(\u001b[0m\u001b[0mxtest_single\u001b[0m\u001b[0;34m)\u001b[0m\u001b[0;34m\u001b[0m\u001b[0m\n\u001b[1;32m      4\u001b[0m \u001b[0mcls_report_logit_single\u001b[0m \u001b[0;34m=\u001b[0m \u001b[0mclassification_report\u001b[0m\u001b[0;34m(\u001b[0m\u001b[0mytest_single\u001b[0m\u001b[0;34m,\u001b[0m \u001b[0mlogit_ypred_single\u001b[0m\u001b[0;34m)\u001b[0m\u001b[0;34m\u001b[0m\u001b[0m\n\u001b[1;32m      5\u001b[0m \u001b[0;32mprint\u001b[0m \u001b[0mcls_report_logit_single\u001b[0m\u001b[0;34m\u001b[0m\u001b[0m\n",
      "\u001b[0;31mNameError\u001b[0m: name 'logit_single' is not defined"
     ]
    }
   ],
   "source": [
    "logit_single.fit(X2_single, Y_single)\n",
    "logit_single.get_params\n",
    "logit_ypred_single = logit_single.predict(xtest_single)\n",
    "cls_report_logit_single = classification_report(ytest_single, logit_ypred_single)\n",
    "print cls_report_logit_single\n"
   ]
  },
  {
   "cell_type": "code",
   "execution_count": null,
   "metadata": {
    "collapsed": false
   },
   "outputs": [],
   "source": [
    "confusion_matrix(ytest_single,logit_ypred_single)\n"
   ]
  },
  {
   "cell_type": "markdown",
   "metadata": {},
   "source": [
    "### Random Forest Classifier - Single family"
   ]
  },
  {
   "cell_type": "code",
   "execution_count": 77,
   "metadata": {
    "collapsed": false
   },
   "outputs": [
    {
     "name": "stdout",
     "output_type": "stream",
     "text": [
      "             precision    recall  f1-score   support\n",
      "\n",
      "          0       0.96      1.00      0.98     12039\n",
      "          1       0.60      0.01      0.01       503\n",
      "\n",
      "avg / total       0.95      0.96      0.94     12542\n",
      "\n",
      "[[12037     2]\n",
      " [  500     3]]\n"
     ]
    }
   ],
   "source": [
    "rfc_single = RandomForestClassifier(bootstrap= True, \n",
    "                                    n_estimators=1000, \n",
    "                                    min_samples_split= 4, \n",
    "                                    criterion= 'gini', \n",
    "                                    max_features=.3, \n",
    "                                    random_state = 42, \n",
    "                                    max_depth = 5 )\n",
    "\n",
    "#scoresrfc = cross_val_score(rfc, X, Y, cv=10)\n",
    "#scoresrfc(X)\n",
    "rfc_single.fit(xtrain_single, ytrain_single)\n",
    "rfc_single.get_params\n",
    "rfc_ypred_single = rfc_single.predict(xtest_single)\n",
    "cls_report_RFC_single = classification_report(ytest_single, rfc_ypred_single)\n",
    "print cls_report_RFC_single\n",
    "\n",
    "print confusion_matrix(ytest_single,rfc_ypred_single)\n",
    "\n"
   ]
  },
  {
   "cell_type": "code",
   "execution_count": 78,
   "metadata": {
    "collapsed": false
   },
   "outputs": [
    {
     "data": {
      "text/plain": [
       "0.88993004346212778"
      ]
     },
     "execution_count": 78,
     "metadata": {},
     "output_type": "execute_result"
    }
   ],
   "source": [
    "rfc_ysingle_score = rfc_single.predict_proba(xtest_single)\n",
    "roc_auc_score(ytest_single, rfc_ysingle_score[:, 1])"
   ]
  },
  {
   "cell_type": "code",
   "execution_count": 79,
   "metadata": {
    "collapsed": false
   },
   "outputs": [
    {
     "data": {
      "text/plain": [
       "array([ 0.02522884,  0.07584102,  0.01048908, ...,  0.02899261,\n",
       "        0.02154691,  0.00531551])"
      ]
     },
     "execution_count": 79,
     "metadata": {},
     "output_type": "execute_result"
    }
   ],
   "source": [
    "rfc_ysingle_score[:, 1]"
   ]
  },
  {
   "cell_type": "code",
   "execution_count": 80,
   "metadata": {
    "collapsed": false
   },
   "outputs": [],
   "source": [
    "rfc_single_features_df = pd.DataFrame(rfc_single.feature_importances_)\n",
    "rfc_single_features_df.to_csv('/Users/DavidStier/Downloads/QmileRFC_single_featuresWednesday8.csv')\n"
   ]
  },
  {
   "cell_type": "code",
   "execution_count": 81,
   "metadata": {
    "collapsed": true
   },
   "outputs": [],
   "source": [
    "rfc_single_predict_probabs = pd.DataFrame(rfc_ysingle_score)\n",
    "rfc_single_predict_probabs.to_csv('/Users/DavidStier/Downloads/Qmilerfc_single_predict_probabs Wednesday8.csv')\n"
   ]
  },
  {
   "cell_type": "code",
   "execution_count": 82,
   "metadata": {
    "collapsed": false
   },
   "outputs": [],
   "source": [
    "rfc_single_validate_predict_probs = pd.DataFrame(rfc_single.predict_proba(validate_file_single))\n",
    "rfc_single_validate_predict_probs.to_csv('/Users/DavidStier/Downloads/Qmilerfc_single_VALIDATE_predict_probabs_WEDS8.csv')\n"
   ]
  },
  {
   "cell_type": "code",
   "execution_count": 83,
   "metadata": {
    "collapsed": false
   },
   "outputs": [],
   "source": [
    "xtest_single.to_csv('/Users/DavidStier/Downloads/Qmilextest_dfWEDNESDAY8.csv')\n",
    "xtrain_single.to_csv('/Users/DavidStier/Downloads/Qmilextrain_dfWEDNESDAY8.csv')\n",
    "ytrain_single.to_csv('/Users/DavidStier/Downloads/Qmileytrain_dfWEDNESDAY8.csv')\n",
    "ytest_single.to_csv('/Users/DavidStier/Downloads/Qmileytest_dfWEDNESDAY8.csv')"
   ]
  },
  {
   "cell_type": "markdown",
   "metadata": {},
   "source": [
    "## Predict versus actual\n"
   ]
  },
  {
   "cell_type": "code",
   "execution_count": null,
   "metadata": {
    "collapsed": false
   },
   "outputs": [],
   "source": [
    "pause here"
   ]
  },
  {
   "cell_type": "markdown",
   "metadata": {},
   "source": [
    "### GridSearch on Random Forest\n"
   ]
  },
  {
   "cell_type": "code",
   "execution_count": null,
   "metadata": {
    "collapsed": false
   },
   "outputs": [],
   "source": [
    "rfc_gs = RandomForestClassifier()\n",
    "\n",
    "X, y = xtrain_single, ytrain_single\n",
    "model = RandomForestClassifier(random_state=30)\n",
    "param_grid = {\"n_estimators\"      : [100, 500, 1000, 5000],\n",
    "              \"criterion\"         : [\"gini\", \"entropy\"],\n",
    "              \"max_features\": ['sqrt'],\n",
    "              \"max_depth\"         : [5, 10, 20],\n",
    "              \"min_samples_split\" : [2, 4] ,\n",
    "              \"bootstrap\": [True]}\n",
    "grid_search = GridSearchCV(rfc_gs, param_grid, n_jobs=-1, cv=2)\n",
    "grid_search.fit(X, y)\n",
    "\n",
    "print grid_search.best_params_\n",
    "#print confusion_matrix(ytest_SFR_meth1,rfc_ypred_SFR_meth1)\n",
    "\n",
    "rfc_gs.get_params\n",
    "rfc_gs_ypred_single = rfc_gs_single.predict(xtest_single)\n",
    "cls_report_RFC_gs_single = classification_report(ytest_single, rfc_gs_ypred_single)\n",
    "print cls_report_RFC_gs_single\n",
    "\n",
    "print confusion_matrix(ytest_single,rfc_gs_ypred_single)\n",
    "\n",
    "rfc_single_features_df = pd.DataFrame(rfc_gs.feature_importances_)\n",
    "rfc_single_features_df.to_csv('/Users/DavidStier/Downloads/QmileRFC_gs_single_features7.csv')\n",
    "\n",
    "\n"
   ]
  },
  {
   "cell_type": "code",
   "execution_count": null,
   "metadata": {
    "collapsed": true
   },
   "outputs": [],
   "source": []
  },
  {
   "cell_type": "code",
   "execution_count": null,
   "metadata": {
    "collapsed": true
   },
   "outputs": [],
   "source": []
  },
  {
   "cell_type": "code",
   "execution_count": null,
   "metadata": {
    "collapsed": false
   },
   "outputs": [],
   "source": [
    "# xsingleMaxes = pd.DataFrame(X_single.max())\n",
    "# xsingleMaxes.to_csv('/Users/DavidStier/Downloads/X_singlemaxex.csv')\n",
    "# X_single[0:4].to_csv('/Users/DavidStier/Downloads/X_singleColNames.csv')"
   ]
  },
  {
   "cell_type": "code",
   "execution_count": null,
   "metadata": {
    "collapsed": false
   },
   "outputs": [],
   "source": [
    "# rfc_ysingle_score_df = pd.DataFrame(rfc_ysingle_score)\n",
    "# rfc_ysingle_score_df.to_csv('/Users/DavidStier/Downloads/rfc_ysingle_score_dfTues.csv')"
   ]
  },
  {
   "cell_type": "code",
   "execution_count": null,
   "metadata": {
    "collapsed": true
   },
   "outputs": [],
   "source": [
    "# tf_r_single_dummied.shape"
   ]
  },
  {
   "cell_type": "code",
   "execution_count": null,
   "metadata": {
    "collapsed": false
   },
   "outputs": [],
   "source": [
    "#LU_solar_group = model_file.groupby(['LU','is_solar','OWN_OCC'])"
   ]
  },
  {
   "cell_type": "code",
   "execution_count": null,
   "metadata": {
    "collapsed": false
   },
   "outputs": [],
   "source": [
    "#LU_solar_group['Year_SOLAR'].value_counts()"
   ]
  },
  {
   "cell_type": "code",
   "execution_count": null,
   "metadata": {
    "collapsed": false
   },
   "outputs": [],
   "source": [
    "tf_r_single_dummied.YR_BUILT.value_counts()"
   ]
  },
  {
   "cell_type": "code",
   "execution_count": null,
   "metadata": {
    "collapsed": true
   },
   "outputs": [],
   "source": [
    "from shapely.ops import cascaded_union"
   ]
  },
  {
   "cell_type": "code",
   "execution_count": null,
   "metadata": {
    "collapsed": false
   },
   "outputs": [],
   "source": [
    "Geotest_file['geometry']"
   ]
  },
  {
   "cell_type": "code",
   "execution_count": null,
   "metadata": {
    "collapsed": false
   },
   "outputs": [],
   "source": [
    "# Geotest_file = Geotest_file.rename(columns = {'geometry' : 'parcel_shape'})\n",
    "# geo_df = geo_df.rename(columns={'geometry': 'point_Lat_Lon'}).set_geometry('point_Lat_Lon')\n",
    "# geo_df['geometry']"
   ]
  },
  {
   "cell_type": "code",
   "execution_count": null,
   "metadata": {
    "collapsed": false
   },
   "outputs": [],
   "source": [
    "from geopandas import GeoDataFrame\n",
    "\n",
    "crs = \"epsg:4326\"\n",
    "geo_df = GeoDataFrame(Geotest_file, crs=crs)"
   ]
  },
  {
   "cell_type": "code",
   "execution_count": null,
   "metadata": {
    "collapsed": false
   },
   "outputs": [],
   "source": [
    "geo_df.geometry"
   ]
  },
  {
   "cell_type": "code",
   "execution_count": null,
   "metadata": {
    "collapsed": false
   },
   "outputs": [],
   "source": [
    "Geotest_file['addr_group'][0:11]"
   ]
  },
  {
   "cell_type": "code",
   "execution_count": null,
   "metadata": {
    "collapsed": false
   },
   "outputs": [],
   "source": [
    "Geotest_file['addr_group_shape'] = cascaded_union(Sorted_add['geometry'])"
   ]
  },
  {
   "cell_type": "code",
   "execution_count": null,
   "metadata": {
    "collapsed": false
   },
   "outputs": [],
   "source": [
    "Sorted_add = Geotest_file.sort(['addr_group'], ascending=[1])"
   ]
  },
  {
   "cell_type": "code",
   "execution_count": null,
   "metadata": {
    "collapsed": false
   },
   "outputs": [],
   "source": [
    "type(Sorted_add)"
   ]
  },
  {
   "cell_type": "code",
   "execution_count": null,
   "metadata": {
    "collapsed": false
   },
   "outputs": [],
   "source": [
    "cur_addr_group = ''\n",
    "addr_group_shape = []\n",
    "for i in Sorted_add['addr_group'][0:100]:\n",
    "    print i\n",
    "    if i = cur_addr_group:\n",
    "        addr_group_shape = \n",
    "    "
   ]
  },
  {
   "cell_type": "code",
   "execution_count": null,
   "metadata": {
    "collapsed": true
   },
   "outputs": [],
   "source": []
  },
  {
   "cell_type": "code",
   "execution_count": null,
   "metadata": {
    "collapsed": true
   },
   "outputs": [],
   "source": []
  },
  {
   "cell_type": "code",
   "execution_count": null,
   "metadata": {
    "collapsed": true
   },
   "outputs": [],
   "source": []
  },
  {
   "cell_type": "code",
   "execution_count": null,
   "metadata": {
    "collapsed": true
   },
   "outputs": [],
   "source": []
  },
  {
   "cell_type": "code",
   "execution_count": null,
   "metadata": {
    "collapsed": true
   },
   "outputs": [],
   "source": []
  },
  {
   "cell_type": "code",
   "execution_count": null,
   "metadata": {
    "collapsed": false
   },
   "outputs": [],
   "source": [
    "f = plt.figure(figsize=(15, 8))\n",
    "ax = f.gca()\n",
    "geo_df.geometry[0:11].plot(ax=ax)\n",
    "mpl.display(fig=f)"
   ]
  },
  {
   "cell_type": "code",
   "execution_count": null,
   "metadata": {
    "collapsed": false
   },
   "outputs": [],
   "source": [
    "type(geo_df)"
   ]
  },
  {
   "cell_type": "code",
   "execution_count": null,
   "metadata": {
    "collapsed": false
   },
   "outputs": [],
   "source": [
    "geo_df.shape"
   ]
  },
  {
   "cell_type": "code",
   "execution_count": null,
   "metadata": {
    "collapsed": false
   },
   "outputs": [],
   "source": [
    "type(geo_df['geometry'][11:12])"
   ]
  },
  {
   "cell_type": "code",
   "execution_count": null,
   "metadata": {
    "collapsed": false
   },
   "outputs": [],
   "source": [
    "geo_df.columns[31:63]"
   ]
  },
  {
   "cell_type": "code",
   "execution_count": null,
   "metadata": {
    "collapsed": true
   },
   "outputs": [],
   "source": []
  },
  {
   "cell_type": "code",
   "execution_count": null,
   "metadata": {
    "collapsed": true
   },
   "outputs": [],
   "source": []
  }
 ],
 "metadata": {
  "anaconda-cloud": {},
  "kernelspec": {
   "display_name": "Python [dsi]",
   "language": "python",
   "name": "Python [dsi]"
  },
  "language_info": {
   "codemirror_mode": {
    "name": "ipython",
    "version": 2
   },
   "file_extension": ".py",
   "mimetype": "text/x-python",
   "name": "python",
   "nbconvert_exporter": "python",
   "pygments_lexer": "ipython2",
   "version": "2.7.12"
  }
 },
 "nbformat": 4,
 "nbformat_minor": 0
}
