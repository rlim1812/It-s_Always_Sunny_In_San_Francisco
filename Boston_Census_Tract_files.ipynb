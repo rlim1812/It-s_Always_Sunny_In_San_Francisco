{
 "cells": [
  {
   "cell_type": "code",
   "execution_count": 3,
   "metadata": {
    "collapsed": true
   },
   "outputs": [],
   "source": [
    "import pandas as pd\n",
    "import numpy as np"
   ]
  },
  {
   "cell_type": "code",
   "execution_count": 4,
   "metadata": {
    "collapsed": false
   },
   "outputs": [],
   "source": [
    "files= ['census_b25093', 'census_b01001', 'census_dp04', 'census_b05001', 'census_b06011', 'census_b07001', 'census_b25096', 'census_b25040','census_B19049']\n",
    "\n",
    "\n",
    "\n",
    "census_b25093 = pd.read_csv('/Users/DavidStier/Documents/Python and Data Science/DSI Class/Final Project/Datasets/Audit Trail Datasets/CensusTractTables - AmericanCommunSurvey/ACS_10_SF4_B25093/ACS_10_SF4_B25093_with_ann.csv')\n",
    "census_b01001 = pd.read_csv('/Users/DavidStier/Documents/Python and Data Science/DSI Class/Final Project/Datasets/Audit Trail Datasets/CensusTractTables - AmericanCommunSurvey/ACS_10_SF4_B01001/ACS_10_SF4_B01001_with_ann.csv')\n",
    "census_dp04 = pd.read_csv('/Users/DavidStier/Documents/Python and Data Science/DSI Class/Final Project/Datasets/Audit Trail Datasets/CensusTractTables - AmericanCommunSurvey/ACS_10_SF4_DP04/ACS_10_SF4_DP04_with_ann.csv')\n",
    "census_b05001 = pd.read_csv('/Users/DavidStier/Documents/Python and Data Science/DSI Class/Final Project/Datasets/Audit Trail Datasets/CensusTractTables - AmericanCommunSurvey/ACS_10_SF4_B05001/ACS_10_SF4_B05001_with_ann.csv')\n",
    "census_b06011 = pd.read_csv('/Users/DavidStier/Documents/Python and Data Science/DSI Class/Final Project/Datasets/Audit Trail Datasets/CensusTractTables - AmericanCommunSurvey/ACS_ B0611/ACS_10_5YR_B06011_with_ann.csv')\n",
    "census_b07001 = pd.read_csv('/Users/DavidStier/Documents/Python and Data Science/DSI Class/Final Project/Datasets/Audit Trail Datasets/CensusTractTables - AmericanCommunSurvey/ACS_B07001/ACS_10_5YR_B07001_with_ann.csv')\n",
    "census_b25096 = pd.read_csv('/Users/DavidStier/Documents/Python and Data Science/DSI Class/Final Project/Datasets/Audit Trail Datasets/CensusTractTables - AmericanCommunSurvey/ACS2010 B25096/ACS_10_5YR_B25096_with_ann.csv')\n",
    "census_b25040 = pd.read_csv('/Users/DavidStier/Documents/Python and Data Science/DSI Class/Final Project/Datasets/Audit Trail Datasets/CensusTractTables - AmericanCommunSurvey/ACS_10_SF4_B25040/ACS_10_SF4_B25040_with_ann.csv')\n",
    "census_B19049= pd.read_csv('/Users/DavidStier/Documents/Python and Data Science/DSI Class/Final Project/Datasets/Audit Trail Datasets/CensusTractTables - AmericanCommunSurvey/ACS_10_SF4_B19049/ACS_10_SF4_B19049_with_ann.csv')"
   ]
  },
  {
   "cell_type": "code",
   "execution_count": 5,
   "metadata": {
    "collapsed": false
   },
   "outputs": [
    {
     "name": "stdout",
     "output_type": "stream",
     "text": [
      "(190, 63) B25093\n",
      "(190, 15) B19049\n",
      "(182, 37) B25096\n",
      "(182, 195) B07001\n",
      "(182, 13) B06011\n",
      "(190, 17) b05001\n",
      "(190, 569) dp04\n",
      "(190, 103) B01001\n",
      "(190, 25) B25040\n"
     ]
    }
   ],
   "source": [
    "print census_b25093.shape, 'B25093'\n",
    "print census_B19049.shape, 'B19049'\n",
    "print census_b25096.shape, 'B25096'\n",
    "print census_b07001.shape, 'B07001'\n",
    "print census_b06011.shape, 'B06011'\n",
    "print census_b05001.shape, 'b05001'\n",
    "print census_dp04.shape, 'dp04'\n",
    "print census_b01001.shape, 'B01001'\n",
    "print census_b25040.shape, 'B25040'"
   ]
  },
  {
   "cell_type": "code",
   "execution_count": 6,
   "metadata": {
    "collapsed": false
   },
   "outputs": [
    {
     "data": {
      "text/plain": [
       "Index([u'GEO.id', u'GEO.id2', u'GEO.display-label', u'POPGROUP.id',\n",
       "       u'POPGROUP.display-label', u'HC01_VC03', u'HC02_VC03', u'HC03_VC03',\n",
       "       u'HC04_VC03', u'HC01_VC04',\n",
       "       ...\n",
       "       u'HC03_VC196', u'HC04_VC196', u'HC01_VC197', u'HC02_VC197',\n",
       "       u'HC03_VC197', u'HC04_VC197', u'HC01_VC199', u'HC02_VC199',\n",
       "       u'HC03_VC199', u'HC04_VC199'],\n",
       "      dtype='object', length=569)"
      ]
     },
     "execution_count": 6,
     "metadata": {},
     "output_type": "execute_result"
    }
   ],
   "source": [
    "census_dp04.columns"
   ]
  },
  {
   "cell_type": "code",
   "execution_count": 7,
   "metadata": {
    "collapsed": false
   },
   "outputs": [
    {
     "data": {
      "text/html": [
       "<div>\n",
       "<table border=\"1\" class=\"dataframe\">\n",
       "  <thead>\n",
       "    <tr style=\"text-align: right;\">\n",
       "      <th></th>\n",
       "      <th>GEO.id</th>\n",
       "      <th>GEO.id2</th>\n",
       "      <th>GEO.display-label</th>\n",
       "      <th>POPGROUP.id</th>\n",
       "      <th>POPGROUP.display-label</th>\n",
       "      <th>HD01_VD01</th>\n",
       "      <th>HD02_VD01</th>\n",
       "      <th>HD01_VD02</th>\n",
       "      <th>HD02_VD02</th>\n",
       "      <th>HD01_VD03</th>\n",
       "      <th>...</th>\n",
       "      <th>HD01_VD25</th>\n",
       "      <th>HD02_VD25</th>\n",
       "      <th>HD01_VD26</th>\n",
       "      <th>HD02_VD26</th>\n",
       "      <th>HD01_VD27</th>\n",
       "      <th>HD02_VD27</th>\n",
       "      <th>HD01_VD28</th>\n",
       "      <th>HD02_VD28</th>\n",
       "      <th>HD01_VD29</th>\n",
       "      <th>HD02_VD29</th>\n",
       "    </tr>\n",
       "  </thead>\n",
       "  <tbody>\n",
       "    <tr>\n",
       "      <th>0</th>\n",
       "      <td>Id</td>\n",
       "      <td>Id2</td>\n",
       "      <td>Geography</td>\n",
       "      <td>Id</td>\n",
       "      <td>Population Group</td>\n",
       "      <td>Estimate; Total:</td>\n",
       "      <td>Margin of Error; Total:</td>\n",
       "      <td>Estimate; Householder 15 to 24 years:</td>\n",
       "      <td>Margin of Error; Householder 15 to 24 years:</td>\n",
       "      <td>Estimate; Householder 15 to 24 years: - Less t...</td>\n",
       "      <td>...</td>\n",
       "      <td>Estimate; Householder 65 years and over: - 20....</td>\n",
       "      <td>Margin of Error; Householder 65 years and over...</td>\n",
       "      <td>Estimate; Householder 65 years and over: - 25....</td>\n",
       "      <td>Margin of Error; Householder 65 years and over...</td>\n",
       "      <td>Estimate; Householder 65 years and over: - 30....</td>\n",
       "      <td>Margin of Error; Householder 65 years and over...</td>\n",
       "      <td>Estimate; Householder 65 years and over: - 35....</td>\n",
       "      <td>Margin of Error; Householder 65 years and over...</td>\n",
       "      <td>Estimate; Householder 65 years and over: - Not...</td>\n",
       "      <td>Margin of Error; Householder 65 years and over...</td>\n",
       "    </tr>\n",
       "    <tr>\n",
       "      <th>1</th>\n",
       "      <td>1400000US25025000100</td>\n",
       "      <td>25025000100</td>\n",
       "      <td>Census Tract 1, Suffolk County, Massachusetts</td>\n",
       "      <td>001</td>\n",
       "      <td>Total population</td>\n",
       "      <td>438</td>\n",
       "      <td>98</td>\n",
       "      <td>0</td>\n",
       "      <td>127</td>\n",
       "      <td>0</td>\n",
       "      <td>...</td>\n",
       "      <td>0</td>\n",
       "      <td>127</td>\n",
       "      <td>10</td>\n",
       "      <td>15</td>\n",
       "      <td>0</td>\n",
       "      <td>127</td>\n",
       "      <td>53</td>\n",
       "      <td>34</td>\n",
       "      <td>0</td>\n",
       "      <td>127</td>\n",
       "    </tr>\n",
       "  </tbody>\n",
       "</table>\n",
       "<p>2 rows × 63 columns</p>\n",
       "</div>"
      ],
      "text/plain": [
       "                 GEO.id      GEO.id2  \\\n",
       "0                    Id          Id2   \n",
       "1  1400000US25025000100  25025000100   \n",
       "\n",
       "                               GEO.display-label POPGROUP.id  \\\n",
       "0                                      Geography          Id   \n",
       "1  Census Tract 1, Suffolk County, Massachusetts         001   \n",
       "\n",
       "  POPGROUP.display-label         HD01_VD01                HD02_VD01  \\\n",
       "0       Population Group  Estimate; Total:  Margin of Error; Total:   \n",
       "1       Total population               438                       98   \n",
       "\n",
       "                               HD01_VD02  \\\n",
       "0  Estimate; Householder 15 to 24 years:   \n",
       "1                                      0   \n",
       "\n",
       "                                      HD02_VD02  \\\n",
       "0  Margin of Error; Householder 15 to 24 years:   \n",
       "1                                           127   \n",
       "\n",
       "                                           HD01_VD03  \\\n",
       "0  Estimate; Householder 15 to 24 years: - Less t...   \n",
       "1                                                  0   \n",
       "\n",
       "                         ...                          \\\n",
       "0                        ...                           \n",
       "1                        ...                           \n",
       "\n",
       "                                           HD01_VD25  \\\n",
       "0  Estimate; Householder 65 years and over: - 20....   \n",
       "1                                                  0   \n",
       "\n",
       "                                           HD02_VD25  \\\n",
       "0  Margin of Error; Householder 65 years and over...   \n",
       "1                                                127   \n",
       "\n",
       "                                           HD01_VD26  \\\n",
       "0  Estimate; Householder 65 years and over: - 25....   \n",
       "1                                                 10   \n",
       "\n",
       "                                           HD02_VD26  \\\n",
       "0  Margin of Error; Householder 65 years and over...   \n",
       "1                                                 15   \n",
       "\n",
       "                                           HD01_VD27  \\\n",
       "0  Estimate; Householder 65 years and over: - 30....   \n",
       "1                                                  0   \n",
       "\n",
       "                                           HD02_VD27  \\\n",
       "0  Margin of Error; Householder 65 years and over...   \n",
       "1                                                127   \n",
       "\n",
       "                                           HD01_VD28  \\\n",
       "0  Estimate; Householder 65 years and over: - 35....   \n",
       "1                                                 53   \n",
       "\n",
       "                                           HD02_VD28  \\\n",
       "0  Margin of Error; Householder 65 years and over...   \n",
       "1                                                 34   \n",
       "\n",
       "                                           HD01_VD29  \\\n",
       "0  Estimate; Householder 65 years and over: - Not...   \n",
       "1                                                  0   \n",
       "\n",
       "                                           HD02_VD29  \n",
       "0  Margin of Error; Householder 65 years and over...  \n",
       "1                                                127  \n",
       "\n",
       "[2 rows x 63 columns]"
      ]
     },
     "execution_count": 7,
     "metadata": {},
     "output_type": "execute_result"
    }
   ],
   "source": [
    "census_b25093.head(2)"
   ]
  },
  {
   "cell_type": "code",
   "execution_count": null,
   "metadata": {
    "collapsed": false
   },
   "outputs": [],
   "source": []
  },
  {
   "cell_type": "code",
   "execution_count": null,
   "metadata": {
    "collapsed": false
   },
   "outputs": [],
   "source": []
  },
  {
   "cell_type": "markdown",
   "metadata": {},
   "source": [
    "### These tables have 5 columns before getting to the main data values:\n",
    "\n",
    "1001     5001    19049    25040    25093    DP04\n",
    "\n",
    "### These tables have 3 columns:\n",
    "6011     70001   25096"
   ]
  },
  {
   "cell_type": "code",
   "execution_count": 8,
   "metadata": {
    "collapsed": false
   },
   "outputs": [],
   "source": [
    "b07001_cols = range(4,195,4)\n"
   ]
  },
  {
   "cell_type": "code",
   "execution_count": 9,
   "metadata": {
    "collapsed": false
   },
   "outputs": [],
   "source": [
    "\n",
    "\n",
    "#Three columns\n",
    "b07001_cols = [0,2,4,6,8,10,12,14,16,18,20,22,24,26,28,30,32,34,36,38,40,42,44,46,48,50,52,54,56,58,60,62,64,66,68,70,72,74,76,78,80,82,84,86,88,90,92,94,96,98,100,102,104,106,108,110,112,114,116,118,120,122,124,126,128,130,132,134,136,138,140,142,144,146,148,150,152,154,156,158,160,162,164,166,168,170,172,174,176,178,180,182,184,186,188,190,192,194]\n",
    "b06011_cols = [0,2,4,6,8,10,12]\n",
    "b25096_cols = [0,2,4,6,8,10,12,14,16,18,20,22,24,26,28,30,32,34,36]\n",
    "\n",
    "#Five columns\n",
    "b25093_cols = [0,2,3,4,6,8,10,12,14,16,18,20,22,24,26,28,30,32,34,36,38,40,42,44,46,48,50,52,54,56,58,60,62]\n",
    "B19049_cols = [0,2,3,4,6,8,10,12,14]\n",
    "b05001_cols = [0,2,3,4,6,8,10,12,14,16]\n",
    "dp04_cols = [0,2,3,4,6,7,8,10,11,12,14,15,16,18,19,20,22,23,24,26,27,28,30,31,32,34,35,36,38,39,40,42,43,44,46,47,48,50,51,52,54,55,56,58,59,60,62,63,64,66,67,68,70,71,72,74,75,76,78,79,80,82,83,84,86,87,88,90,91,92,94,95,96,98,99,100,102,103,104,106,107,108,110,111,112,114,115,116,118,119,120,122,123,124,126,127,128,130,131,132,134,135,136,138,139,140,142,143,144,146,147,148,150,151,152,154,155,156,158,159,160,162,163,164,166,167,168,170,171,172,174,175,176,178,179,180,182,183,184,186,187,188,190,191,192,194,195,196,198,199,200,202,203,204,206,207,208,210,211,212,214,215,216,218,219,220,222,223,224,226,227,228,230,231,232,234,235,236,238,239,240,242,243,244,246,247,248,250,251,252,254,255,256,258,259,260,262,263,264,266,267,268,270,271,272,274,275,276,278,279,280,282,283,284,286,287,288,290,291,292,294,295,296,298,299,300,302,303,304,306,307,308,310,311,312,314,315,316,318,319,320,322,323,324,326,327,328,330,331,332,334,335,336,338,339,340,342,343,344,346,347,348,350,351,352,354,355,356,358,359,360,362,363,364,366,367,368,370,371,372,374,375,376,378,379,380,382,383,384,386,387,388,390,391,392,394,395,396,398,399,400,402,403,404,406,407,408,410,411,412,414,415,416,418,419,420,422,423,424,426,427,428,430,431,432,434,435,436,438,439,440,442,443,444,446,447,448,450,451,452,454,455,456,458,459,460,462,463,464,466,467,468,470,471,472,474,475,476,478,479,480,482,483,484,486,487,488,490,491,492,494,495,496,498,499,500,502,503,504,506,507,508,510,511,512,514,515,516,518,519,520,522,523,524,526,527,528,530,531,532,534,535,536,538,539,540,542,543,544,546,547,548,550,551,552,554,555,556,558,559,560,562,563,564,566,567,568]\n",
    "b01001_cols = [0,2,3,4,6,8,10,12,14,16,18,20,22,24,26,28,30,32,34,36,38,40,42,44,46,48,50,52,54,56,58,60,62,64,66,68,70,72,74,76,78,80,82,84,86,88,90,92,94,96,98,100,102]\n",
    "b25040_cols = [0,2,3,4,6,8,10,12,14,16,18,20,22,24]\n",
    "\n",
    "census_b07001CL = census_b07001.drop(census_b07001.columns[b07001_cols], axis = 1)\n",
    "census_b06011CL = census_b06011.drop(census_b06011.columns[b06011_cols], axis = 1)\n",
    "census_b25096CL = census_b25096.drop(census_b25096.columns[b25096_cols], axis = 1)\n",
    "\n",
    "census_b25093CL = census_b25093.drop(census_b25093.columns[b25093_cols],  axis = 1)\n",
    "census_B19049CL = census_B19049.drop(census_B19049.columns[B19049_cols],  axis = 1)\n",
    "census_b05001CL = census_b05001.drop(census_b05001.columns[b05001_cols],  axis = 1)\n",
    "census_dp04CL = census_dp04.drop(census_dp04.columns[dp04_cols],  axis = 1)\n",
    "census_b01001CL = census_b01001.drop(census_b01001.columns[b01001_cols],  axis = 1)\n",
    "census_b25040CL = census_b25040.drop(census_b25040.columns[b25040_cols],  axis = 1)\n",
    "\n"
   ]
  },
  {
   "cell_type": "code",
   "execution_count": 11,
   "metadata": {
    "collapsed": false
   },
   "outputs": [],
   "source": [
    "ctract_mega = pd.merge(census_b06011CL, census_b25096CL, left_on = 'GEO.id2', right_on = 'GEO.id2', how = \"left\", suffixes=('_6011', '_25096'))"
   ]
  },
  {
   "cell_type": "code",
   "execution_count": 12,
   "metadata": {
    "collapsed": false
   },
   "outputs": [
    {
     "name": "stdout",
     "output_type": "stream",
     "text": [
      "(182, 6) table 6011\n",
      "(182, 18) table 25096\n"
     ]
    },
    {
     "data": {
      "text/plain": [
       "(182, 23)"
      ]
     },
     "execution_count": 12,
     "metadata": {},
     "output_type": "execute_result"
    }
   ],
   "source": [
    "print census_b06011CL.shape, 'table 6011'\n",
    "print census_b25096CL.shape, 'table 25096'\n",
    "ctract_mega.shape"
   ]
  },
  {
   "cell_type": "code",
   "execution_count": 13,
   "metadata": {
    "collapsed": false
   },
   "outputs": [],
   "source": [
    "ctract_mega = pd.merge(ctract_mega, census_b07001CL, left_on = 'GEO.id2', right_on = 'GEO.id2', how = \"left\", suffixes=('_mega', '_7001')) "
   ]
  },
  {
   "cell_type": "code",
   "execution_count": 14,
   "metadata": {
    "collapsed": false
   },
   "outputs": [
    {
     "data": {
      "text/plain": [
       "(182, 119)"
      ]
     },
     "execution_count": 14,
     "metadata": {},
     "output_type": "execute_result"
    }
   ],
   "source": [
    "ctract_mega.shape"
   ]
  },
  {
   "cell_type": "code",
   "execution_count": 15,
   "metadata": {
    "collapsed": false
   },
   "outputs": [
    {
     "data": {
      "text/html": [
       "<div>\n",
       "<table border=\"1\" class=\"dataframe\">\n",
       "  <thead>\n",
       "    <tr style=\"text-align: right;\">\n",
       "      <th></th>\n",
       "      <th>GEO.id2</th>\n",
       "      <th>HD01_VD02_6011</th>\n",
       "      <th>HD01_VD03_6011</th>\n",
       "      <th>HD01_VD04_6011</th>\n",
       "      <th>HD01_VD05_6011</th>\n",
       "      <th>HD01_VD06_6011</th>\n",
       "      <th>HD01_VD01_mega</th>\n",
       "      <th>HD01_VD02_25096</th>\n",
       "      <th>HD01_VD03_25096</th>\n",
       "      <th>HD01_VD04_25096</th>\n",
       "      <th>...</th>\n",
       "      <th>HD01_VD88</th>\n",
       "      <th>HD01_VD89</th>\n",
       "      <th>HD01_VD90</th>\n",
       "      <th>HD01_VD91</th>\n",
       "      <th>HD01_VD92</th>\n",
       "      <th>HD01_VD93</th>\n",
       "      <th>HD01_VD94</th>\n",
       "      <th>HD01_VD95</th>\n",
       "      <th>HD01_VD96</th>\n",
       "      <th>HD01_VD97</th>\n",
       "    </tr>\n",
       "  </thead>\n",
       "  <tbody>\n",
       "    <tr>\n",
       "      <th>0</th>\n",
       "      <td>Id2</td>\n",
       "      <td>Estimate; Median income in the past 12 months ...</td>\n",
       "      <td>Estimate; Median income in the past 12 months ...</td>\n",
       "      <td>Estimate; Median income in the past 12 months ...</td>\n",
       "      <td>Estimate; Median income in the past 12 months ...</td>\n",
       "      <td>Estimate; Median income in the past 12 months ...</td>\n",
       "      <td>Estimate; Total:</td>\n",
       "      <td>Estimate; With a mortgage:</td>\n",
       "      <td>Estimate; With a mortgage: - Less than $50,000</td>\n",
       "      <td>Estimate; With a mortgage: - $50,000 to $99,999</td>\n",
       "      <td>...</td>\n",
       "      <td>Estimate; Total: - Moved from abroad: - 30 to ...</td>\n",
       "      <td>Estimate; Total: - Moved from abroad: - 35 to ...</td>\n",
       "      <td>Estimate; Total: - Moved from abroad: - 40 to ...</td>\n",
       "      <td>Estimate; Total: - Moved from abroad: - 45 to ...</td>\n",
       "      <td>Estimate; Total: - Moved from abroad: - 50 to ...</td>\n",
       "      <td>Estimate; Total: - Moved from abroad: - 55 to ...</td>\n",
       "      <td>Estimate; Total: - Moved from abroad: - 60 to ...</td>\n",
       "      <td>Estimate; Total: - Moved from abroad: - 65 to ...</td>\n",
       "      <td>Estimate; Total: - Moved from abroad: - 70 to ...</td>\n",
       "      <td>Estimate; Total: - Moved from abroad: - 75 yea...</td>\n",
       "    </tr>\n",
       "    <tr>\n",
       "      <th>1</th>\n",
       "      <td>250250700007000000100</td>\n",
       "      <td>26845</td>\n",
       "      <td>32813</td>\n",
       "      <td>34920</td>\n",
       "      <td>17733</td>\n",
       "      <td>25243</td>\n",
       "      <td>438</td>\n",
       "      <td>288</td>\n",
       "      <td>0</td>\n",
       "      <td>0</td>\n",
       "      <td>...</td>\n",
       "      <td>8</td>\n",
       "      <td>0</td>\n",
       "      <td>0</td>\n",
       "      <td>0</td>\n",
       "      <td>0</td>\n",
       "      <td>0</td>\n",
       "      <td>0</td>\n",
       "      <td>0</td>\n",
       "      <td>0</td>\n",
       "      <td>0</td>\n",
       "    </tr>\n",
       "    <tr>\n",
       "      <th>2</th>\n",
       "      <td>250250700007000000201</td>\n",
       "      <td>36472</td>\n",
       "      <td>34407</td>\n",
       "      <td>42491</td>\n",
       "      <td>35643</td>\n",
       "      <td>31855</td>\n",
       "      <td>504</td>\n",
       "      <td>355</td>\n",
       "      <td>0</td>\n",
       "      <td>0</td>\n",
       "      <td>...</td>\n",
       "      <td>0</td>\n",
       "      <td>0</td>\n",
       "      <td>0</td>\n",
       "      <td>0</td>\n",
       "      <td>0</td>\n",
       "      <td>0</td>\n",
       "      <td>0</td>\n",
       "      <td>0</td>\n",
       "      <td>0</td>\n",
       "      <td>0</td>\n",
       "    </tr>\n",
       "    <tr>\n",
       "      <th>3</th>\n",
       "      <td>250250700007000000202</td>\n",
       "      <td>29353</td>\n",
       "      <td>33341</td>\n",
       "      <td>37016</td>\n",
       "      <td>12292</td>\n",
       "      <td>20054</td>\n",
       "      <td>599</td>\n",
       "      <td>328</td>\n",
       "      <td>0</td>\n",
       "      <td>0</td>\n",
       "      <td>...</td>\n",
       "      <td>0</td>\n",
       "      <td>0</td>\n",
       "      <td>0</td>\n",
       "      <td>0</td>\n",
       "      <td>0</td>\n",
       "      <td>0</td>\n",
       "      <td>0</td>\n",
       "      <td>0</td>\n",
       "      <td>0</td>\n",
       "      <td>0</td>\n",
       "    </tr>\n",
       "    <tr>\n",
       "      <th>4</th>\n",
       "      <td>250250700007000000301</td>\n",
       "      <td>50023</td>\n",
       "      <td>50087</td>\n",
       "      <td>44302</td>\n",
       "      <td>78281</td>\n",
       "      <td>50500</td>\n",
       "      <td>477</td>\n",
       "      <td>354</td>\n",
       "      <td>15</td>\n",
       "      <td>5</td>\n",
       "      <td>...</td>\n",
       "      <td>35</td>\n",
       "      <td>0</td>\n",
       "      <td>0</td>\n",
       "      <td>0</td>\n",
       "      <td>0</td>\n",
       "      <td>0</td>\n",
       "      <td>0</td>\n",
       "      <td>0</td>\n",
       "      <td>0</td>\n",
       "      <td>0</td>\n",
       "    </tr>\n",
       "  </tbody>\n",
       "</table>\n",
       "<p>5 rows × 119 columns</p>\n",
       "</div>"
      ],
      "text/plain": [
       "                 GEO.id2                                     HD01_VD02_6011  \\\n",
       "0                    Id2  Estimate; Median income in the past 12 months ...   \n",
       "1  250250700007000000100                                              26845   \n",
       "2  250250700007000000201                                              36472   \n",
       "3  250250700007000000202                                              29353   \n",
       "4  250250700007000000301                                              50023   \n",
       "\n",
       "                                      HD01_VD03_6011  \\\n",
       "0  Estimate; Median income in the past 12 months ...   \n",
       "1                                              32813   \n",
       "2                                              34407   \n",
       "3                                              33341   \n",
       "4                                              50087   \n",
       "\n",
       "                                      HD01_VD04_6011  \\\n",
       "0  Estimate; Median income in the past 12 months ...   \n",
       "1                                              34920   \n",
       "2                                              42491   \n",
       "3                                              37016   \n",
       "4                                              44302   \n",
       "\n",
       "                                      HD01_VD05_6011  \\\n",
       "0  Estimate; Median income in the past 12 months ...   \n",
       "1                                              17733   \n",
       "2                                              35643   \n",
       "3                                              12292   \n",
       "4                                              78281   \n",
       "\n",
       "                                      HD01_VD06_6011    HD01_VD01_mega  \\\n",
       "0  Estimate; Median income in the past 12 months ...  Estimate; Total:   \n",
       "1                                              25243               438   \n",
       "2                                              31855               504   \n",
       "3                                              20054               599   \n",
       "4                                              50500               477   \n",
       "\n",
       "              HD01_VD02_25096                                 HD01_VD03_25096  \\\n",
       "0  Estimate; With a mortgage:  Estimate; With a mortgage: - Less than $50,000   \n",
       "1                         288                                               0   \n",
       "2                         355                                               0   \n",
       "3                         328                                               0   \n",
       "4                         354                                              15   \n",
       "\n",
       "                                   HD01_VD04_25096  \\\n",
       "0  Estimate; With a mortgage: - $50,000 to $99,999   \n",
       "1                                                0   \n",
       "2                                                0   \n",
       "3                                                0   \n",
       "4                                                5   \n",
       "\n",
       "                         ...                          \\\n",
       "0                        ...                           \n",
       "1                        ...                           \n",
       "2                        ...                           \n",
       "3                        ...                           \n",
       "4                        ...                           \n",
       "\n",
       "                                           HD01_VD88  \\\n",
       "0  Estimate; Total: - Moved from abroad: - 30 to ...   \n",
       "1                                                  8   \n",
       "2                                                  0   \n",
       "3                                                  0   \n",
       "4                                                 35   \n",
       "\n",
       "                                           HD01_VD89  \\\n",
       "0  Estimate; Total: - Moved from abroad: - 35 to ...   \n",
       "1                                                  0   \n",
       "2                                                  0   \n",
       "3                                                  0   \n",
       "4                                                  0   \n",
       "\n",
       "                                           HD01_VD90  \\\n",
       "0  Estimate; Total: - Moved from abroad: - 40 to ...   \n",
       "1                                                  0   \n",
       "2                                                  0   \n",
       "3                                                  0   \n",
       "4                                                  0   \n",
       "\n",
       "                                           HD01_VD91  \\\n",
       "0  Estimate; Total: - Moved from abroad: - 45 to ...   \n",
       "1                                                  0   \n",
       "2                                                  0   \n",
       "3                                                  0   \n",
       "4                                                  0   \n",
       "\n",
       "                                           HD01_VD92  \\\n",
       "0  Estimate; Total: - Moved from abroad: - 50 to ...   \n",
       "1                                                  0   \n",
       "2                                                  0   \n",
       "3                                                  0   \n",
       "4                                                  0   \n",
       "\n",
       "                                           HD01_VD93  \\\n",
       "0  Estimate; Total: - Moved from abroad: - 55 to ...   \n",
       "1                                                  0   \n",
       "2                                                  0   \n",
       "3                                                  0   \n",
       "4                                                  0   \n",
       "\n",
       "                                           HD01_VD94  \\\n",
       "0  Estimate; Total: - Moved from abroad: - 60 to ...   \n",
       "1                                                  0   \n",
       "2                                                  0   \n",
       "3                                                  0   \n",
       "4                                                  0   \n",
       "\n",
       "                                           HD01_VD95  \\\n",
       "0  Estimate; Total: - Moved from abroad: - 65 to ...   \n",
       "1                                                  0   \n",
       "2                                                  0   \n",
       "3                                                  0   \n",
       "4                                                  0   \n",
       "\n",
       "                                           HD01_VD96  \\\n",
       "0  Estimate; Total: - Moved from abroad: - 70 to ...   \n",
       "1                                                  0   \n",
       "2                                                  0   \n",
       "3                                                  0   \n",
       "4                                                  0   \n",
       "\n",
       "                                           HD01_VD97  \n",
       "0  Estimate; Total: - Moved from abroad: - 75 yea...  \n",
       "1                                                  0  \n",
       "2                                                  0  \n",
       "3                                                  0  \n",
       "4                                                  0  \n",
       "\n",
       "[5 rows x 119 columns]"
      ]
     },
     "execution_count": 15,
     "metadata": {},
     "output_type": "execute_result"
    }
   ],
   "source": [
    "ctract_mega.head()"
   ]
  },
  {
   "cell_type": "code",
   "execution_count": 16,
   "metadata": {
    "collapsed": false
   },
   "outputs": [],
   "source": [
    "ctract_mega = pd.merge(ctract_mega, census_b25093CL, left_on = 'GEO.id2', right_on = 'GEO.id2', how = \"left\", suffixes=('_mega', '25093')) "
   ]
  },
  {
   "cell_type": "code",
   "execution_count": 17,
   "metadata": {
    "collapsed": false
   },
   "outputs": [
    {
     "data": {
      "text/plain": [
       "(182, 148)"
      ]
     },
     "execution_count": 17,
     "metadata": {},
     "output_type": "execute_result"
    }
   ],
   "source": [
    "ctract_mega.shape"
   ]
  },
  {
   "cell_type": "code",
   "execution_count": 18,
   "metadata": {
    "collapsed": false
   },
   "outputs": [
    {
     "data": {
      "text/plain": [
       "['GEO.id2',\n",
       " 'HD01_VD02_6011',\n",
       " 'HD01_VD03_6011',\n",
       " 'HD01_VD04_6011',\n",
       " 'HD01_VD05_6011',\n",
       " 'HD01_VD06_6011',\n",
       " 'HD01_VD01_mega',\n",
       " 'HD01_VD02_25096',\n",
       " 'HD01_VD03_25096',\n",
       " 'HD01_VD04_25096',\n",
       " 'HD01_VD05_25096',\n",
       " 'HD01_VD06_25096',\n",
       " 'HD01_VD07_mega',\n",
       " 'HD01_VD08_mega',\n",
       " 'HD01_VD09_mega',\n",
       " 'HD01_VD10_mega',\n",
       " 'HD01_VD11_mega',\n",
       " 'HD01_VD12_mega',\n",
       " 'HD01_VD13_mega',\n",
       " 'HD01_VD14_mega',\n",
       " 'HD01_VD15_mega',\n",
       " 'HD01_VD16_mega',\n",
       " 'HD01_VD17_mega',\n",
       " 'HD01_VD01_7001',\n",
       " 'HD01_VD03_mega',\n",
       " 'HD01_VD04_mega',\n",
       " 'HD01_VD05_mega',\n",
       " 'HD01_VD06_mega',\n",
       " 'HD01_VD07_7001',\n",
       " 'HD01_VD08_7001',\n",
       " 'HD01_VD09_7001',\n",
       " 'HD01_VD10_7001',\n",
       " 'HD01_VD11_7001',\n",
       " 'HD01_VD12_7001',\n",
       " 'HD01_VD13_7001',\n",
       " 'HD01_VD14_7001',\n",
       " 'HD01_VD15_7001',\n",
       " 'HD01_VD16_7001',\n",
       " 'HD01_VD17_7001',\n",
       " 'HD01_VD18_mega',\n",
       " 'HD01_VD19_mega',\n",
       " 'HD01_VD20_mega',\n",
       " 'HD01_VD21_mega',\n",
       " 'HD01_VD22_mega',\n",
       " 'HD01_VD23_mega',\n",
       " 'HD01_VD24_mega',\n",
       " 'HD01_VD25_mega',\n",
       " 'HD01_VD26_mega',\n",
       " 'HD01_VD27_mega',\n",
       " 'HD01_VD28_mega',\n",
       " 'HD01_VD29_mega',\n",
       " 'HD01_VD30',\n",
       " 'HD01_VD31',\n",
       " 'HD01_VD32',\n",
       " 'HD01_VD33',\n",
       " 'HD01_VD34',\n",
       " 'HD01_VD35',\n",
       " 'HD01_VD36',\n",
       " 'HD01_VD37',\n",
       " 'HD01_VD38',\n",
       " 'HD01_VD39',\n",
       " 'HD01_VD40',\n",
       " 'HD01_VD41',\n",
       " 'HD01_VD42',\n",
       " 'HD01_VD43',\n",
       " 'HD01_VD44',\n",
       " 'HD01_VD45',\n",
       " 'HD01_VD46',\n",
       " 'HD01_VD47',\n",
       " 'HD01_VD48',\n",
       " 'HD01_VD49',\n",
       " 'HD01_VD50',\n",
       " 'HD01_VD51',\n",
       " 'HD01_VD52',\n",
       " 'HD01_VD53',\n",
       " 'HD01_VD54',\n",
       " 'HD01_VD55',\n",
       " 'HD01_VD56',\n",
       " 'HD01_VD57',\n",
       " 'HD01_VD58',\n",
       " 'HD01_VD59',\n",
       " 'HD01_VD60',\n",
       " 'HD01_VD61',\n",
       " 'HD01_VD62',\n",
       " 'HD01_VD63',\n",
       " 'HD01_VD64',\n",
       " 'HD01_VD65',\n",
       " 'HD01_VD66',\n",
       " 'HD01_VD67',\n",
       " 'HD01_VD68',\n",
       " 'HD01_VD69',\n",
       " 'HD01_VD70',\n",
       " 'HD01_VD71',\n",
       " 'HD01_VD72',\n",
       " 'HD01_VD73',\n",
       " 'HD01_VD74',\n",
       " 'HD01_VD75',\n",
       " 'HD01_VD76',\n",
       " 'HD01_VD77',\n",
       " 'HD01_VD78',\n",
       " 'HD01_VD79',\n",
       " 'HD01_VD80',\n",
       " 'HD01_VD81',\n",
       " 'HD01_VD82',\n",
       " 'HD01_VD83',\n",
       " 'HD01_VD84',\n",
       " 'HD01_VD85',\n",
       " 'HD01_VD86',\n",
       " 'HD01_VD87',\n",
       " 'HD01_VD88',\n",
       " 'HD01_VD89',\n",
       " 'HD01_VD90',\n",
       " 'HD01_VD91',\n",
       " 'HD01_VD92',\n",
       " 'HD01_VD93',\n",
       " 'HD01_VD94',\n",
       " 'HD01_VD95',\n",
       " 'HD01_VD96',\n",
       " 'HD01_VD97',\n",
       " 'HD01_VD01',\n",
       " 'HD01_VD02',\n",
       " 'HD01_VD0325093',\n",
       " 'HD01_VD0425093',\n",
       " 'HD01_VD0525093',\n",
       " 'HD01_VD0625093',\n",
       " 'HD01_VD07',\n",
       " 'HD01_VD08',\n",
       " 'HD01_VD09',\n",
       " 'HD01_VD10',\n",
       " 'HD01_VD11',\n",
       " 'HD01_VD12',\n",
       " 'HD01_VD13',\n",
       " 'HD01_VD14',\n",
       " 'HD01_VD15',\n",
       " 'HD01_VD16',\n",
       " 'HD01_VD17',\n",
       " 'HD01_VD1825093',\n",
       " 'HD01_VD1925093',\n",
       " 'HD01_VD2025093',\n",
       " 'HD01_VD2125093',\n",
       " 'HD01_VD2225093',\n",
       " 'HD01_VD2325093',\n",
       " 'HD01_VD2425093',\n",
       " 'HD01_VD2525093',\n",
       " 'HD01_VD2625093',\n",
       " 'HD01_VD2725093',\n",
       " 'HD01_VD2825093',\n",
       " 'HD01_VD2925093']"
      ]
     },
     "execution_count": 18,
     "metadata": {},
     "output_type": "execute_result"
    }
   ],
   "source": [
    "curcols = ctract_mega.columns.tolist()\n",
    "curcols"
   ]
  },
  {
   "cell_type": "code",
   "execution_count": 19,
   "metadata": {
    "collapsed": false
   },
   "outputs": [],
   "source": [
    "\n",
    "census_b07001CL.to_csv('/Users/DavidStier/Documents/Python and Data Science/DSI Class/Final Project/Datasets/Audit Trail Datasets/CensusTractTables - AmericanCommunSurvey/CSVs from python/census_b07001CL.csv')\n",
    "census_b06011CL.to_csv('/Users/DavidStier/Documents/Python and Data Science/DSI Class/Final Project/Datasets/Audit Trail Datasets/CensusTractTables - AmericanCommunSurvey/CSVs from python/census_b06011CL.csv')\n",
    "census_b25096CL.to_csv('/Users/DavidStier/Documents/Python and Data Science/DSI Class/Final Project/Datasets/Audit Trail Datasets/CensusTractTables - AmericanCommunSurvey/CSVs from python/census_b25096CL.csv')\n",
    "\n",
    "census_b25093CL.to_csv('/Users/DavidStier/Documents/Python and Data Science/DSI Class/Final Project/Datasets/Audit Trail Datasets/CensusTractTables - AmericanCommunSurvey/CSVs from python/census_b25093CL.csv')\n",
    "census_B19049CL.to_csv('/Users/DavidStier/Documents/Python and Data Science/DSI Class/Final Project/Datasets/Audit Trail Datasets/CensusTractTables - AmericanCommunSurvey/CSVs from python/census_B19049CL.csv')\n",
    "census_b05001CL.to_csv('/Users/DavidStier/Documents/Python and Data Science/DSI Class/Final Project/Datasets/Audit Trail Datasets/CensusTractTables - AmericanCommunSurvey/CSVs from python/census_b05001CL.csv')\n",
    "census_dp04CL.to_csv('/Users/DavidStier/Documents/Python and Data Science/DSI Class/Final Project/Datasets/Audit Trail Datasets/CensusTractTables - AmericanCommunSurvey/CSVs from python/census_dp04CL.csv')\n",
    "census_b01001CL.to_csv('/Users/DavidStier/Documents/Python and Data Science/DSI Class/Final Project/Datasets/Audit Trail Datasets/CensusTractTables - AmericanCommunSurvey/CSVs from python/census_b01001CL.csv')\n",
    "census_b25040CL.to_csv('/Users/DavidStier/Documents/Python and Data Science/DSI Class/Final Project/Datasets/Audit Trail Datasets/CensusTractTables - AmericanCommunSurvey/CSVs from python/census_b25040CL.csv')\n"
   ]
  },
  {
   "cell_type": "code",
   "execution_count": null,
   "metadata": {
    "collapsed": true
   },
   "outputs": [],
   "source": []
  },
  {
   "cell_type": "code",
   "execution_count": null,
   "metadata": {
    "collapsed": true
   },
   "outputs": [],
   "source": []
  }
 ],
 "metadata": {
  "anaconda-cloud": {},
  "kernelspec": {
   "display_name": "Python [dsi]",
   "language": "python",
   "name": "Python [dsi]"
  },
  "language_info": {
   "codemirror_mode": {
    "name": "ipython",
    "version": 2
   },
   "file_extension": ".py",
   "mimetype": "text/x-python",
   "name": "python",
   "nbconvert_exporter": "python",
   "pygments_lexer": "ipython2",
   "version": "2.7.12"
  }
 },
 "nbformat": 4,
 "nbformat_minor": 0
}
