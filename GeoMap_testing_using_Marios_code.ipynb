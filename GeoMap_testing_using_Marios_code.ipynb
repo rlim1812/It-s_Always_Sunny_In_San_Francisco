{
 "cells": [
  {
   "cell_type": "code",
   "execution_count": 1,
   "metadata": {
    "collapsed": true
   },
   "outputs": [],
   "source": [
    "import pandas as pd\n",
    "import numpy as np\n",
    "import shapely\n",
    "import fiona\n",
    "from shapely import geometry\n",
    "from shapely.geometry import Polygon\n",
    "from shapely.geometry import MultiPolygon\n",
    "from shapely.geometry import Point\n",
    "import json\n",
    "import geopandas as gpd\n",
    "import matplotlib.pyplot as plt\n",
    "import seaborn as sb\n",
    "%matplotlib inline\n",
    "import mplleaflet as mpl\n",
    "import pysal as ps\n"
   ]
  },
  {
   "cell_type": "code",
   "execution_count": 2,
   "metadata": {
    "collapsed": false
   },
   "outputs": [],
   "source": [
    "bos_geo_parcel = gpd.read_file('/Users/DavidStier/Downloads/Parcels_2016_Data_Full/Parcels_2016_Data_Full.shp')"
   ]
  },
  {
   "cell_type": "code",
   "execution_count": 3,
   "metadata": {
    "collapsed": false
   },
   "outputs": [
    {
     "data": {
      "text/plain": [
       "(166248, 64)"
      ]
     },
     "execution_count": 3,
     "metadata": {},
     "output_type": "execute_result"
    }
   ],
   "source": [
    "bos_geo_parcel.shape"
   ]
  },
  {
   "cell_type": "code",
   "execution_count": 4,
   "metadata": {
    "collapsed": false
   },
   "outputs": [
    {
     "data": {
      "text/plain": [
       "{'init': u'epsg:4326'}"
      ]
     },
     "execution_count": 4,
     "metadata": {},
     "output_type": "execute_result"
    }
   ],
   "source": [
    "bos_geo_parcel.crs"
   ]
  },
  {
   "cell_type": "code",
   "execution_count": 5,
   "metadata": {
    "collapsed": true
   },
   "outputs": [],
   "source": [
    "mini = bos_geo_parcel.ix[0:2000]"
   ]
  },
  {
   "cell_type": "code",
   "execution_count": 6,
   "metadata": {
    "collapsed": false
   },
   "outputs": [
    {
     "name": "stdout",
     "output_type": "stream",
     "text": [
      "(1500, 64)\n",
      "<class 'geopandas.geodataframe.GeoDataFrame'>\n",
      "RangeIndex: 1500 entries, 0 to 1499\n",
      "Data columns (total 64 columns):\n",
      "AV_BLDG       1500 non-null int64\n",
      "AV_LAND       1500 non-null int64\n",
      "AV_TOTAL      1500 non-null int64\n",
      "CM_ID         185 non-null object\n",
      "EGIS_WM_db    1500 non-null int64\n",
      "FULL_ADDRE    1500 non-null object\n",
      "GIS_ID        1500 non-null object\n",
      "GROSS_AREA    1491 non-null object\n",
      "GROSS_TAX     1500 non-null float64\n",
      "LAND_SF       1498 non-null object\n",
      "LIVING_ARE    1491 non-null object\n",
      "LU            1500 non-null object\n",
      "MAIL_ADDRE    1500 non-null object\n",
      "MAIL_ADD_1    744 non-null object\n",
      "MAIL_CS       1500 non-null object\n",
      "MAIL_ZIPCO    1500 non-null object\n",
      "NUM_FLOORS    1323 non-null float64\n",
      "OBJECTID      1500 non-null int64\n",
      "OWNER         1500 non-null object\n",
      "OWN_OCC       1500 non-null object\n",
      "PID           1500 non-null object\n",
      "PID_LONG      1500 non-null object\n",
      "PTYPE         1500 non-null int64\n",
      "R_AC          979 non-null object\n",
      "R_BDRMS       979 non-null object\n",
      "R_BLDG_STY    979 non-null object\n",
      "R_EXT_FIN     979 non-null object\n",
      "R_FPLACE      979 non-null object\n",
      "R_FULL_BTH    979 non-null object\n",
      "R_HALF_BTH    979 non-null object\n",
      "R_HRAT_TYP    979 non-null object\n",
      "R_KITCH       979 non-null object\n",
      "R_ROOF_TYP    979 non-null object\n",
      "R_TOTAL_RM    979 non-null object\n",
      "SHAPESTAre    1500 non-null float64\n",
      "SHAPESTLen    1500 non-null float64\n",
      "STRUCTURE_    1169 non-null object\n",
      "ST_NAME       1500 non-null object\n",
      "ST_NAME_SU    1493 non-null object\n",
      "ST_NUM        1361 non-null object\n",
      "S_BLDG_STY    32 non-null object\n",
      "S_EXT_FIN     32 non-null object\n",
      "S_NUM_BLDG    6 non-null object\n",
      "S_UNIT_COM    32 non-null object\n",
      "S_UNIT_RC     32 non-null object\n",
      "S_UNIT_RES    32 non-null object\n",
      "UNIT_NUM      151 non-null object\n",
      "U_AC          153 non-null object\n",
      "U_BASE_FLO    153 non-null object\n",
      "U_BDRMS       153 non-null object\n",
      "U_CORNER      153 non-null object\n",
      "U_FPLACE      153 non-null object\n",
      "U_FULL_BTH    153 non-null object\n",
      "U_HALF_BTH    153 non-null object\n",
      "U_HEAT_TYP    153 non-null object\n",
      "U_KIT_TYPE    153 non-null object\n",
      "U_NUM_PARK    153 non-null object\n",
      "U_ORIENT      153 non-null object\n",
      "U_TOT_RMS     153 non-null object\n",
      "YEAR          1500 non-null object\n",
      "YR_BUILT      1491 non-null object\n",
      "YR_REMOD      1195 non-null object\n",
      "ZIPCODE       1500 non-null object\n",
      "geometry      1500 non-null object\n",
      "dtypes: float64(4), int64(6), object(54)\n",
      "memory usage: 750.1+ KB\n",
      "None\n"
     ]
    }
   ],
   "source": [
    "mini_mario = bos_geo_parcel.head(1500)\n",
    "print mini_mario.shape\n",
    "print mini_mario.info()"
   ]
  },
  {
   "cell_type": "code",
   "execution_count": 7,
   "metadata": {
    "collapsed": true
   },
   "outputs": [],
   "source": [
    "import pickle\n",
    "pickle.dump( mini_mario, open( \"save.p\", \"wb\" ) )"
   ]
  },
  {
   "cell_type": "code",
   "execution_count": 8,
   "metadata": {
    "collapsed": false
   },
   "outputs": [],
   "source": [
    "import cPickle\n",
    "f = open('mini_mario.save', 'wb')\n",
    "cPickle.dump(mini_mario,f)\n",
    "f.close()"
   ]
  },
  {
   "cell_type": "code",
   "execution_count": 9,
   "metadata": {
    "collapsed": false
   },
   "outputs": [
    {
     "data": {
      "text/plain": [
       "geopandas.geodataframe.GeoDataFrame"
      ]
     },
     "execution_count": 9,
     "metadata": {},
     "output_type": "execute_result"
    }
   ],
   "source": [
    "type(mini)"
   ]
  },
  {
   "cell_type": "code",
   "execution_count": 10,
   "metadata": {
    "collapsed": false
   },
   "outputs": [
    {
     "data": {
      "text/html": [
       "<div>\n",
       "<table border=\"1\" class=\"dataframe\">\n",
       "  <thead>\n",
       "    <tr style=\"text-align: right;\">\n",
       "      <th></th>\n",
       "      <th>0</th>\n",
       "      <th>1</th>\n",
       "      <th>2</th>\n",
       "    </tr>\n",
       "  </thead>\n",
       "  <tbody>\n",
       "    <tr>\n",
       "      <th>AV_BLDG</th>\n",
       "      <td>235300</td>\n",
       "      <td>281200</td>\n",
       "      <td>244700</td>\n",
       "    </tr>\n",
       "    <tr>\n",
       "      <th>AV_LAND</th>\n",
       "      <td>129900</td>\n",
       "      <td>121000</td>\n",
       "      <td>121400</td>\n",
       "    </tr>\n",
       "    <tr>\n",
       "      <th>AV_TOTAL</th>\n",
       "      <td>365200</td>\n",
       "      <td>402200</td>\n",
       "      <td>366100</td>\n",
       "    </tr>\n",
       "    <tr>\n",
       "      <th>CM_ID</th>\n",
       "      <td>None</td>\n",
       "      <td>None</td>\n",
       "      <td>None</td>\n",
       "    </tr>\n",
       "    <tr>\n",
       "      <th>EGIS_WM_db</th>\n",
       "      <td>147</td>\n",
       "      <td>341</td>\n",
       "      <td>799</td>\n",
       "    </tr>\n",
       "    <tr>\n",
       "      <th>FULL_ADDRE</th>\n",
       "      <td>104 A 104 PUTNAM ST, 02128</td>\n",
       "      <td>197 LEXINGTON ST, 02128</td>\n",
       "      <td>199 LEXINGTON ST, 02128</td>\n",
       "    </tr>\n",
       "    <tr>\n",
       "      <th>GIS_ID</th>\n",
       "      <td>0100001000</td>\n",
       "      <td>0100002000</td>\n",
       "      <td>0100003000</td>\n",
       "    </tr>\n",
       "    <tr>\n",
       "      <th>GROSS_AREA</th>\n",
       "      <td>3353</td>\n",
       "      <td>3299</td>\n",
       "      <td>3392</td>\n",
       "    </tr>\n",
       "    <tr>\n",
       "      <th>GROSS_TAX</th>\n",
       "      <td>4017.2</td>\n",
       "      <td>4424.2</td>\n",
       "      <td>4027.1</td>\n",
       "    </tr>\n",
       "    <tr>\n",
       "      <th>LAND_SF</th>\n",
       "      <td>1150</td>\n",
       "      <td>1150</td>\n",
       "      <td>1150</td>\n",
       "    </tr>\n",
       "    <tr>\n",
       "      <th>LIVING_ARE</th>\n",
       "      <td>2202</td>\n",
       "      <td>2307</td>\n",
       "      <td>2268</td>\n",
       "    </tr>\n",
       "    <tr>\n",
       "      <th>LU</th>\n",
       "      <td>Residential Three Family</td>\n",
       "      <td>Residential Three Family</td>\n",
       "      <td>Residential Three Family</td>\n",
       "    </tr>\n",
       "    <tr>\n",
       "      <th>MAIL_ADDRE</th>\n",
       "      <td>195 LEXINGTON ST</td>\n",
       "      <td>197 LEXINGTON ST</td>\n",
       "      <td>199 LEXINGTON ST</td>\n",
       "    </tr>\n",
       "    <tr>\n",
       "      <th>MAIL_ADD_1</th>\n",
       "      <td>None</td>\n",
       "      <td>None</td>\n",
       "      <td>None</td>\n",
       "    </tr>\n",
       "    <tr>\n",
       "      <th>MAIL_CS</th>\n",
       "      <td>EAST BOSTON MA</td>\n",
       "      <td>EAST BOSTON MA</td>\n",
       "      <td>EAST BOSTON MA</td>\n",
       "    </tr>\n",
       "    <tr>\n",
       "      <th>MAIL_ZIPCO</th>\n",
       "      <td>02128</td>\n",
       "      <td>02128</td>\n",
       "      <td>02128</td>\n",
       "    </tr>\n",
       "    <tr>\n",
       "      <th>NUM_FLOORS</th>\n",
       "      <td>3</td>\n",
       "      <td>3</td>\n",
       "      <td>3</td>\n",
       "    </tr>\n",
       "    <tr>\n",
       "      <th>OBJECTID</th>\n",
       "      <td>166249</td>\n",
       "      <td>166250</td>\n",
       "      <td>166251</td>\n",
       "    </tr>\n",
       "    <tr>\n",
       "      <th>OWNER</th>\n",
       "      <td>PASCUCCI CARLO</td>\n",
       "      <td>ATANASOV DANIEL</td>\n",
       "      <td>CHEVARRIA ANA S</td>\n",
       "    </tr>\n",
       "    <tr>\n",
       "      <th>OWN_OCC</th>\n",
       "      <td>Y</td>\n",
       "      <td>N</td>\n",
       "      <td>N</td>\n",
       "    </tr>\n",
       "    <tr>\n",
       "      <th>PID</th>\n",
       "      <td>0100001000</td>\n",
       "      <td>0100002000</td>\n",
       "      <td>0100003000</td>\n",
       "    </tr>\n",
       "    <tr>\n",
       "      <th>PID_LONG</th>\n",
       "      <td>0100001000</td>\n",
       "      <td>0100002000</td>\n",
       "      <td>0100003000</td>\n",
       "    </tr>\n",
       "    <tr>\n",
       "      <th>PTYPE</th>\n",
       "      <td>105</td>\n",
       "      <td>105</td>\n",
       "      <td>105</td>\n",
       "    </tr>\n",
       "    <tr>\n",
       "      <th>R_AC</th>\n",
       "      <td>N</td>\n",
       "      <td>C</td>\n",
       "      <td>N</td>\n",
       "    </tr>\n",
       "    <tr>\n",
       "      <th>R_BDRMS</th>\n",
       "      <td>6</td>\n",
       "      <td>3</td>\n",
       "      <td>5</td>\n",
       "    </tr>\n",
       "    <tr>\n",
       "      <th>R_BLDG_STY</th>\n",
       "      <td>RE</td>\n",
       "      <td>RM</td>\n",
       "      <td>RM</td>\n",
       "    </tr>\n",
       "    <tr>\n",
       "      <th>R_EXT_FIN</th>\n",
       "      <td>A</td>\n",
       "      <td>M</td>\n",
       "      <td>M</td>\n",
       "    </tr>\n",
       "    <tr>\n",
       "      <th>R_FPLACE</th>\n",
       "      <td>0</td>\n",
       "      <td>0</td>\n",
       "      <td>0</td>\n",
       "    </tr>\n",
       "    <tr>\n",
       "      <th>R_FULL_BTH</th>\n",
       "      <td>3</td>\n",
       "      <td>3</td>\n",
       "      <td>3</td>\n",
       "    </tr>\n",
       "    <tr>\n",
       "      <th>R_HALF_BTH</th>\n",
       "      <td>0</td>\n",
       "      <td>0</td>\n",
       "      <td>0</td>\n",
       "    </tr>\n",
       "    <tr>\n",
       "      <th>...</th>\n",
       "      <td>...</td>\n",
       "      <td>...</td>\n",
       "      <td>...</td>\n",
       "    </tr>\n",
       "    <tr>\n",
       "      <th>SHAPESTAre</th>\n",
       "      <td>210.211</td>\n",
       "      <td>197.875</td>\n",
       "      <td>195.145</td>\n",
       "    </tr>\n",
       "    <tr>\n",
       "      <th>SHAPESTLen</th>\n",
       "      <td>65.8427</td>\n",
       "      <td>64.6974</td>\n",
       "      <td>64.3452</td>\n",
       "    </tr>\n",
       "    <tr>\n",
       "      <th>STRUCTURE_</th>\n",
       "      <td>R</td>\n",
       "      <td>R</td>\n",
       "      <td>R</td>\n",
       "    </tr>\n",
       "    <tr>\n",
       "      <th>ST_NAME</th>\n",
       "      <td>PUTNAM</td>\n",
       "      <td>LEXINGTON</td>\n",
       "      <td>LEXINGTON</td>\n",
       "    </tr>\n",
       "    <tr>\n",
       "      <th>ST_NAME_SU</th>\n",
       "      <td>ST</td>\n",
       "      <td>ST</td>\n",
       "      <td>ST</td>\n",
       "    </tr>\n",
       "    <tr>\n",
       "      <th>ST_NUM</th>\n",
       "      <td>104 A 104</td>\n",
       "      <td>197</td>\n",
       "      <td>199</td>\n",
       "    </tr>\n",
       "    <tr>\n",
       "      <th>S_BLDG_STY</th>\n",
       "      <td>None</td>\n",
       "      <td>None</td>\n",
       "      <td>None</td>\n",
       "    </tr>\n",
       "    <tr>\n",
       "      <th>S_EXT_FIN</th>\n",
       "      <td>None</td>\n",
       "      <td>None</td>\n",
       "      <td>None</td>\n",
       "    </tr>\n",
       "    <tr>\n",
       "      <th>S_NUM_BLDG</th>\n",
       "      <td>None</td>\n",
       "      <td>None</td>\n",
       "      <td>None</td>\n",
       "    </tr>\n",
       "    <tr>\n",
       "      <th>S_UNIT_COM</th>\n",
       "      <td>None</td>\n",
       "      <td>None</td>\n",
       "      <td>None</td>\n",
       "    </tr>\n",
       "    <tr>\n",
       "      <th>S_UNIT_RC</th>\n",
       "      <td>None</td>\n",
       "      <td>None</td>\n",
       "      <td>None</td>\n",
       "    </tr>\n",
       "    <tr>\n",
       "      <th>S_UNIT_RES</th>\n",
       "      <td>None</td>\n",
       "      <td>None</td>\n",
       "      <td>None</td>\n",
       "    </tr>\n",
       "    <tr>\n",
       "      <th>UNIT_NUM</th>\n",
       "      <td>None</td>\n",
       "      <td>None</td>\n",
       "      <td>None</td>\n",
       "    </tr>\n",
       "    <tr>\n",
       "      <th>U_AC</th>\n",
       "      <td>None</td>\n",
       "      <td>None</td>\n",
       "      <td>None</td>\n",
       "    </tr>\n",
       "    <tr>\n",
       "      <th>U_BASE_FLO</th>\n",
       "      <td>None</td>\n",
       "      <td>None</td>\n",
       "      <td>None</td>\n",
       "    </tr>\n",
       "    <tr>\n",
       "      <th>U_BDRMS</th>\n",
       "      <td>None</td>\n",
       "      <td>None</td>\n",
       "      <td>None</td>\n",
       "    </tr>\n",
       "    <tr>\n",
       "      <th>U_CORNER</th>\n",
       "      <td>None</td>\n",
       "      <td>None</td>\n",
       "      <td>None</td>\n",
       "    </tr>\n",
       "    <tr>\n",
       "      <th>U_FPLACE</th>\n",
       "      <td>None</td>\n",
       "      <td>None</td>\n",
       "      <td>None</td>\n",
       "    </tr>\n",
       "    <tr>\n",
       "      <th>U_FULL_BTH</th>\n",
       "      <td>None</td>\n",
       "      <td>None</td>\n",
       "      <td>None</td>\n",
       "    </tr>\n",
       "    <tr>\n",
       "      <th>U_HALF_BTH</th>\n",
       "      <td>None</td>\n",
       "      <td>None</td>\n",
       "      <td>None</td>\n",
       "    </tr>\n",
       "    <tr>\n",
       "      <th>U_HEAT_TYP</th>\n",
       "      <td>None</td>\n",
       "      <td>None</td>\n",
       "      <td>None</td>\n",
       "    </tr>\n",
       "    <tr>\n",
       "      <th>U_KIT_TYPE</th>\n",
       "      <td>None</td>\n",
       "      <td>None</td>\n",
       "      <td>None</td>\n",
       "    </tr>\n",
       "    <tr>\n",
       "      <th>U_NUM_PARK</th>\n",
       "      <td>None</td>\n",
       "      <td>None</td>\n",
       "      <td>None</td>\n",
       "    </tr>\n",
       "    <tr>\n",
       "      <th>U_ORIENT</th>\n",
       "      <td>None</td>\n",
       "      <td>None</td>\n",
       "      <td>None</td>\n",
       "    </tr>\n",
       "    <tr>\n",
       "      <th>U_TOT_RMS</th>\n",
       "      <td>None</td>\n",
       "      <td>None</td>\n",
       "      <td>None</td>\n",
       "    </tr>\n",
       "    <tr>\n",
       "      <th>YEAR</th>\n",
       "      <td>2016</td>\n",
       "      <td>2016</td>\n",
       "      <td>2016</td>\n",
       "    </tr>\n",
       "    <tr>\n",
       "      <th>YR_BUILT</th>\n",
       "      <td>1900</td>\n",
       "      <td>1920</td>\n",
       "      <td>1905</td>\n",
       "    </tr>\n",
       "    <tr>\n",
       "      <th>YR_REMOD</th>\n",
       "      <td>None</td>\n",
       "      <td>2000</td>\n",
       "      <td>1985</td>\n",
       "    </tr>\n",
       "    <tr>\n",
       "      <th>ZIPCODE</th>\n",
       "      <td>02128</td>\n",
       "      <td>02128</td>\n",
       "      <td>02128</td>\n",
       "    </tr>\n",
       "    <tr>\n",
       "      <th>geometry</th>\n",
       "      <td>POLYGON ((-71.03250248712089 42.37932830253219...</td>\n",
       "      <td>POLYGON ((-71.03243830112275 42.37935259073267...</td>\n",
       "      <td>POLYGON ((-71.03237277765422 42.37937867744286...</td>\n",
       "    </tr>\n",
       "  </tbody>\n",
       "</table>\n",
       "<p>64 rows × 3 columns</p>\n",
       "</div>"
      ],
      "text/plain": [
       "                                                            0  \\\n",
       "AV_BLDG                                                235300   \n",
       "AV_LAND                                                129900   \n",
       "AV_TOTAL                                               365200   \n",
       "CM_ID                                                    None   \n",
       "EGIS_WM_db                                                147   \n",
       "FULL_ADDRE                         104 A 104 PUTNAM ST, 02128   \n",
       "GIS_ID                                             0100001000   \n",
       "GROSS_AREA                                               3353   \n",
       "GROSS_TAX                                              4017.2   \n",
       "LAND_SF                                                  1150   \n",
       "LIVING_ARE                                               2202   \n",
       "LU                                   Residential Three Family   \n",
       "MAIL_ADDRE                                   195 LEXINGTON ST   \n",
       "MAIL_ADD_1                                               None   \n",
       "MAIL_CS                                        EAST BOSTON MA   \n",
       "MAIL_ZIPCO                                              02128   \n",
       "NUM_FLOORS                                                  3   \n",
       "OBJECTID                                               166249   \n",
       "OWNER                                          PASCUCCI CARLO   \n",
       "OWN_OCC                                                     Y   \n",
       "PID                                                0100001000   \n",
       "PID_LONG                                           0100001000   \n",
       "PTYPE                                                     105   \n",
       "R_AC                                                        N   \n",
       "R_BDRMS                                                     6   \n",
       "R_BLDG_STY                                                 RE   \n",
       "R_EXT_FIN                                                   A   \n",
       "R_FPLACE                                                    0   \n",
       "R_FULL_BTH                                                  3   \n",
       "R_HALF_BTH                                                  0   \n",
       "...                                                       ...   \n",
       "SHAPESTAre                                            210.211   \n",
       "SHAPESTLen                                            65.8427   \n",
       "STRUCTURE_                                                  R   \n",
       "ST_NAME                                                PUTNAM   \n",
       "ST_NAME_SU                                                 ST   \n",
       "ST_NUM                                              104 A 104   \n",
       "S_BLDG_STY                                               None   \n",
       "S_EXT_FIN                                                None   \n",
       "S_NUM_BLDG                                               None   \n",
       "S_UNIT_COM                                               None   \n",
       "S_UNIT_RC                                                None   \n",
       "S_UNIT_RES                                               None   \n",
       "UNIT_NUM                                                 None   \n",
       "U_AC                                                     None   \n",
       "U_BASE_FLO                                               None   \n",
       "U_BDRMS                                                  None   \n",
       "U_CORNER                                                 None   \n",
       "U_FPLACE                                                 None   \n",
       "U_FULL_BTH                                               None   \n",
       "U_HALF_BTH                                               None   \n",
       "U_HEAT_TYP                                               None   \n",
       "U_KIT_TYPE                                               None   \n",
       "U_NUM_PARK                                               None   \n",
       "U_ORIENT                                                 None   \n",
       "U_TOT_RMS                                                None   \n",
       "YEAR                                                     2016   \n",
       "YR_BUILT                                                 1900   \n",
       "YR_REMOD                                                 None   \n",
       "ZIPCODE                                                 02128   \n",
       "geometry    POLYGON ((-71.03250248712089 42.37932830253219...   \n",
       "\n",
       "                                                            1  \\\n",
       "AV_BLDG                                                281200   \n",
       "AV_LAND                                                121000   \n",
       "AV_TOTAL                                               402200   \n",
       "CM_ID                                                    None   \n",
       "EGIS_WM_db                                                341   \n",
       "FULL_ADDRE                            197 LEXINGTON ST, 02128   \n",
       "GIS_ID                                             0100002000   \n",
       "GROSS_AREA                                               3299   \n",
       "GROSS_TAX                                              4424.2   \n",
       "LAND_SF                                                  1150   \n",
       "LIVING_ARE                                               2307   \n",
       "LU                                   Residential Three Family   \n",
       "MAIL_ADDRE                                   197 LEXINGTON ST   \n",
       "MAIL_ADD_1                                               None   \n",
       "MAIL_CS                                        EAST BOSTON MA   \n",
       "MAIL_ZIPCO                                              02128   \n",
       "NUM_FLOORS                                                  3   \n",
       "OBJECTID                                               166250   \n",
       "OWNER                                         ATANASOV DANIEL   \n",
       "OWN_OCC                                                     N   \n",
       "PID                                                0100002000   \n",
       "PID_LONG                                           0100002000   \n",
       "PTYPE                                                     105   \n",
       "R_AC                                                        C   \n",
       "R_BDRMS                                                     3   \n",
       "R_BLDG_STY                                                 RM   \n",
       "R_EXT_FIN                                                   M   \n",
       "R_FPLACE                                                    0   \n",
       "R_FULL_BTH                                                  3   \n",
       "R_HALF_BTH                                                  0   \n",
       "...                                                       ...   \n",
       "SHAPESTAre                                            197.875   \n",
       "SHAPESTLen                                            64.6974   \n",
       "STRUCTURE_                                                  R   \n",
       "ST_NAME                                             LEXINGTON   \n",
       "ST_NAME_SU                                                 ST   \n",
       "ST_NUM                                                    197   \n",
       "S_BLDG_STY                                               None   \n",
       "S_EXT_FIN                                                None   \n",
       "S_NUM_BLDG                                               None   \n",
       "S_UNIT_COM                                               None   \n",
       "S_UNIT_RC                                                None   \n",
       "S_UNIT_RES                                               None   \n",
       "UNIT_NUM                                                 None   \n",
       "U_AC                                                     None   \n",
       "U_BASE_FLO                                               None   \n",
       "U_BDRMS                                                  None   \n",
       "U_CORNER                                                 None   \n",
       "U_FPLACE                                                 None   \n",
       "U_FULL_BTH                                               None   \n",
       "U_HALF_BTH                                               None   \n",
       "U_HEAT_TYP                                               None   \n",
       "U_KIT_TYPE                                               None   \n",
       "U_NUM_PARK                                               None   \n",
       "U_ORIENT                                                 None   \n",
       "U_TOT_RMS                                                None   \n",
       "YEAR                                                     2016   \n",
       "YR_BUILT                                                 1920   \n",
       "YR_REMOD                                                 2000   \n",
       "ZIPCODE                                                 02128   \n",
       "geometry    POLYGON ((-71.03243830112275 42.37935259073267...   \n",
       "\n",
       "                                                            2  \n",
       "AV_BLDG                                                244700  \n",
       "AV_LAND                                                121400  \n",
       "AV_TOTAL                                               366100  \n",
       "CM_ID                                                    None  \n",
       "EGIS_WM_db                                                799  \n",
       "FULL_ADDRE                            199 LEXINGTON ST, 02128  \n",
       "GIS_ID                                             0100003000  \n",
       "GROSS_AREA                                               3392  \n",
       "GROSS_TAX                                              4027.1  \n",
       "LAND_SF                                                  1150  \n",
       "LIVING_ARE                                               2268  \n",
       "LU                                   Residential Three Family  \n",
       "MAIL_ADDRE                                   199 LEXINGTON ST  \n",
       "MAIL_ADD_1                                               None  \n",
       "MAIL_CS                                        EAST BOSTON MA  \n",
       "MAIL_ZIPCO                                              02128  \n",
       "NUM_FLOORS                                                  3  \n",
       "OBJECTID                                               166251  \n",
       "OWNER                                         CHEVARRIA ANA S  \n",
       "OWN_OCC                                                     N  \n",
       "PID                                                0100003000  \n",
       "PID_LONG                                           0100003000  \n",
       "PTYPE                                                     105  \n",
       "R_AC                                                        N  \n",
       "R_BDRMS                                                     5  \n",
       "R_BLDG_STY                                                 RM  \n",
       "R_EXT_FIN                                                   M  \n",
       "R_FPLACE                                                    0  \n",
       "R_FULL_BTH                                                  3  \n",
       "R_HALF_BTH                                                  0  \n",
       "...                                                       ...  \n",
       "SHAPESTAre                                            195.145  \n",
       "SHAPESTLen                                            64.3452  \n",
       "STRUCTURE_                                                  R  \n",
       "ST_NAME                                             LEXINGTON  \n",
       "ST_NAME_SU                                                 ST  \n",
       "ST_NUM                                                    199  \n",
       "S_BLDG_STY                                               None  \n",
       "S_EXT_FIN                                                None  \n",
       "S_NUM_BLDG                                               None  \n",
       "S_UNIT_COM                                               None  \n",
       "S_UNIT_RC                                                None  \n",
       "S_UNIT_RES                                               None  \n",
       "UNIT_NUM                                                 None  \n",
       "U_AC                                                     None  \n",
       "U_BASE_FLO                                               None  \n",
       "U_BDRMS                                                  None  \n",
       "U_CORNER                                                 None  \n",
       "U_FPLACE                                                 None  \n",
       "U_FULL_BTH                                               None  \n",
       "U_HALF_BTH                                               None  \n",
       "U_HEAT_TYP                                               None  \n",
       "U_KIT_TYPE                                               None  \n",
       "U_NUM_PARK                                               None  \n",
       "U_ORIENT                                                 None  \n",
       "U_TOT_RMS                                                None  \n",
       "YEAR                                                     2016  \n",
       "YR_BUILT                                                 1905  \n",
       "YR_REMOD                                                 1985  \n",
       "ZIPCODE                                                 02128  \n",
       "geometry    POLYGON ((-71.03237277765422 42.37937867744286...  \n",
       "\n",
       "[64 rows x 3 columns]"
      ]
     },
     "execution_count": 10,
     "metadata": {},
     "output_type": "execute_result"
    }
   ],
   "source": [
    "mini.head(3).T"
   ]
  },
  {
   "cell_type": "code",
   "execution_count": 11,
   "metadata": {
    "collapsed": false
   },
   "outputs": [
    {
     "data": {
      "text/plain": [
       "pandas.core.series.Series"
      ]
     },
     "execution_count": 11,
     "metadata": {},
     "output_type": "execute_result"
    }
   ],
   "source": [
    "type(mini['NUM_FLOORS'])"
   ]
  },
  {
   "cell_type": "code",
   "execution_count": 12,
   "metadata": {
    "collapsed": false
   },
   "outputs": [
    {
     "name": "stdout",
     "output_type": "stream",
     "text": [
      "<class 'geopandas.geodataframe.GeoDataFrame'>\n",
      "RangeIndex: 2001 entries, 0 to 2000\n",
      "Data columns (total 64 columns):\n",
      "AV_BLDG       2001 non-null int64\n",
      "AV_LAND       2001 non-null int64\n",
      "AV_TOTAL      2001 non-null int64\n",
      "CM_ID         280 non-null object\n",
      "EGIS_WM_db    2001 non-null int64\n",
      "FULL_ADDRE    2001 non-null object\n",
      "GIS_ID        2001 non-null object\n",
      "GROSS_AREA    1991 non-null object\n",
      "GROSS_TAX     2001 non-null float64\n",
      "LAND_SF       1998 non-null object\n",
      "LIVING_ARE    1991 non-null object\n",
      "LU            2001 non-null object\n",
      "MAIL_ADDRE    2001 non-null object\n",
      "MAIL_ADD_1    996 non-null object\n",
      "MAIL_CS       2001 non-null object\n",
      "MAIL_ZIPCO    2001 non-null object\n",
      "NUM_FLOORS    1776 non-null float64\n",
      "OBJECTID      2001 non-null int64\n",
      "OWNER         2001 non-null object\n",
      "OWN_OCC       2001 non-null object\n",
      "PID           2001 non-null object\n",
      "PID_LONG      2001 non-null object\n",
      "PTYPE         2001 non-null int64\n",
      "R_AC          1277 non-null object\n",
      "R_BDRMS       1277 non-null object\n",
      "R_BLDG_STY    1277 non-null object\n",
      "R_EXT_FIN     1277 non-null object\n",
      "R_FPLACE      1277 non-null object\n",
      "R_FULL_BTH    1277 non-null object\n",
      "R_HALF_BTH    1277 non-null object\n",
      "R_HRAT_TYP    1277 non-null object\n",
      "R_KITCH       1277 non-null object\n",
      "R_ROOF_TYP    1277 non-null object\n",
      "R_TOTAL_RM    1277 non-null object\n",
      "SHAPESTAre    2001 non-null float64\n",
      "SHAPESTLen    2001 non-null float64\n",
      "STRUCTURE_    1542 non-null object\n",
      "ST_NAME       2001 non-null object\n",
      "ST_NAME_SU    1994 non-null object\n",
      "ST_NUM        1819 non-null object\n",
      "S_BLDG_STY    48 non-null object\n",
      "S_EXT_FIN     48 non-null object\n",
      "S_NUM_BLDG    11 non-null object\n",
      "S_UNIT_COM    48 non-null object\n",
      "S_UNIT_RC     48 non-null object\n",
      "S_UNIT_RES    48 non-null object\n",
      "UNIT_NUM      226 non-null object\n",
      "U_AC          232 non-null object\n",
      "U_BASE_FLO    232 non-null object\n",
      "U_BDRMS       232 non-null object\n",
      "U_CORNER      232 non-null object\n",
      "U_FPLACE      232 non-null object\n",
      "U_FULL_BTH    232 non-null object\n",
      "U_HALF_BTH    232 non-null object\n",
      "U_HEAT_TYP    232 non-null object\n",
      "U_KIT_TYPE    232 non-null object\n",
      "U_NUM_PARK    232 non-null object\n",
      "U_ORIENT      232 non-null object\n",
      "U_TOT_RMS     232 non-null object\n",
      "YEAR          2001 non-null object\n",
      "YR_BUILT      1991 non-null object\n",
      "YR_REMOD      1589 non-null object\n",
      "ZIPCODE       2001 non-null object\n",
      "geometry      2001 non-null object\n",
      "dtypes: float64(4), int64(6), object(54)\n",
      "memory usage: 1000.6+ KB\n"
     ]
    }
   ],
   "source": [
    "mini.info()"
   ]
  },
  {
   "cell_type": "code",
   "execution_count": 13,
   "metadata": {
    "collapsed": false
   },
   "outputs": [
    {
     "data": {
      "text/plain": [
       "0"
      ]
     },
     "execution_count": 13,
     "metadata": {},
     "output_type": "execute_result"
    }
   ],
   "source": [
    "mini.AV_BLDG.isnull().sum()"
   ]
  },
  {
   "cell_type": "code",
   "execution_count": 14,
   "metadata": {
    "collapsed": false
   },
   "outputs": [],
   "source": [
    "mini['AV_BLDG'].plot()\n",
    "mpl.show()"
   ]
  },
  {
   "cell_type": "code",
   "execution_count": 15,
   "metadata": {
    "collapsed": false
   },
   "outputs": [
    {
     "data": {
      "text/plain": [
       "<matplotlib.axes._subplots.AxesSubplot at 0x1456d9250>"
      ]
     },
     "execution_count": 15,
     "metadata": {},
     "output_type": "execute_result"
    },
    {
     "data": {
      "image/png": "[encoded data removed]",
      "text/plain": [
       "<matplotlib.figure.Figure at 0x1456e2cd0>"
      ]
     },
     "metadata": {},
     "output_type": "display_data"
    }
   ],
   "source": [
    "sb.distplot( mini['AV_TOTAL'].astype(np.float) )"
   ]
  },
  {
   "cell_type": "code",
   "execution_count": 16,
   "metadata": {
    "collapsed": false
   },
   "outputs": [
    {
     "data": {
      "text/plain": [
       "0    POLYGON ((-71.03250248712089 42.37932830253219...\n",
       "1    POLYGON ((-71.03243830112275 42.37935259073267...\n",
       "2    POLYGON ((-71.03237277765422 42.37937867744286...\n",
       "3    POLYGON ((-71.03230747757723 42.37940305657987...\n",
       "Name: geometry, dtype: object"
      ]
     },
     "execution_count": 16,
     "metadata": {},
     "output_type": "execute_result"
    }
   ],
   "source": [
    "mini.geometry.head(4)"
   ]
  },
  {
   "cell_type": "code",
   "execution_count": 17,
   "metadata": {
    "collapsed": false
   },
   "outputs": [
    {
     "data": {
      "text/plain": [
       "{'init': u'epsg:4326'}"
      ]
     },
     "execution_count": 17,
     "metadata": {},
     "output_type": "execute_result"
    }
   ],
   "source": [
    "mini.crs"
   ]
  },
  {
   "cell_type": "code",
   "execution_count": 31,
   "metadata": {
    "collapsed": false
   },
   "outputs": [
    {
     "data": {
      "text/html": [
       "<iframe src=\"data:text/html;base64,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\" width=\"100%\" height=\"480\"></iframe>"
      ],
      "text/plain": [
       "<IPython.core.display.HTML object>"
      ]
     },
     "execution_count": 31,
     "metadata": {},
     "output_type": "execute_result"
    }
   ],
   "source": [
    "# import mplleaflet\n",
    "\n",
    "f = plt.figure(figsize=(15, 8))\n",
    "ax = f.gca()\n",
    "mini[0:11].plot(ax=ax)\n",
    "mpl.display(fig=f)"
   ]
  },
  {
   "cell_type": "code",
   "execution_count": 22,
   "metadata": {
    "collapsed": false
   },
   "outputs": [
    {
     "data": {
      "text/plain": [
       "2001"
      ]
     },
     "execution_count": 22,
     "metadata": {},
     "output_type": "execute_result"
    }
   ],
   "source": [
    "from shapely.ops import cascaded_union\n",
    "len(mini.geometry)"
   ]
  },
  {
   "cell_type": "code",
   "execution_count": 29,
   "metadata": {
    "collapsed": false
   },
   "outputs": [
    {
     "data": {
      "image/svg+xml": [
       "<svg xmlns=\"http://www.w3.org/2000/svg\" xmlns:xlink=\"http://www.w3.org/1999/xlink\" width=\"100.0\" height=\"100.0\" viewBox=\"-71.0327114634 42.3792518806 0.00108140038402 0.00054407750978\" preserveAspectRatio=\"xMinYMin meet\"><g transform=\"matrix(1,0,0,-1,0,84.7590478387)\"><path fill-rule=\"evenodd\" fill=\"#66cc99\" stroke=\"#555555\" stroke-width=\"2.16280076805e-05\" opacity=\"0.6\" d=\"M -71.0324030235,42.3795452623 L -71.0323372785,42.3795701479 L -71.0322531015,42.3796012805 L -71.0321755173,42.3796296922 L -71.0320926756,42.3796609692 L -71.0320080467,42.3796928199 L -71.0319218023,42.3797250664 L -71.0318397992,42.3797559062 L -71.0316701149,42.3795011738 L -71.0317523024,42.3794704107 L -71.0318376133,42.3794386919 L -71.0319207238,42.3794075619 L -71.0320055412,42.379376756 L -71.0320772825,42.3793496758 L -71.0320829235,42.3793476777 L -71.0321609578,42.3793194095 L -71.0321651488,42.3793177673 L -71.0322328066,42.3792919324 L -71.0322700579,42.3793473691 L -71.0323074776,42.3794030566 L -71.0323727777,42.3793786774 L -71.0324383011,42.3793525907 L -71.0325024871,42.3793283025 L -71.0325740212,42.3793008875 L -71.0326714116,42.3794451911 L -71.0326043401,42.3794702285 L -71.0325371204,42.37949492 L -71.0324740223,42.379519424 L -71.0324030235,42.3795452623 z\" /></g></svg>"
      ],
      "text/plain": [
       "<shapely.geometry.polygon.Polygon at 0x145712a50>"
      ]
     },
     "execution_count": 29,
     "metadata": {},
     "output_type": "execute_result"
    }
   ],
   "source": [
    "polygons12 = mini['geometry'][0:11]\n",
    "cascaded_union(polygons12)\n"
   ]
  },
  {
   "cell_type": "code",
   "execution_count": 30,
   "metadata": {
    "collapsed": false
   },
   "outputs": [
    {
     "data": {
      "text/plain": [
       "0     POLYGON ((-71.03250248712089 42.37932830253219...\n",
       "1     POLYGON ((-71.03243830112275 42.37935259073267...\n",
       "2     POLYGON ((-71.03237277765422 42.37937867744286...\n",
       "3     POLYGON ((-71.03230747757723 42.37940305657987...\n",
       "4     POLYGON ((-71.03240302352147 42.379545262324, ...\n",
       "5     POLYGON ((-71.0320829234914 42.37934767768595,...\n",
       "6     POLYGON ((-71.0320055411844 42.37937675595821,...\n",
       "7     POLYGON ((-71.03192072382784 42.37940756189711...\n",
       "8     POLYGON ((-71.03183761326828 42.37943869189135...\n",
       "9     POLYGON ((-71.03175230244833 42.37947041068519...\n",
       "10    POLYGON ((-71.03167011493099 42.37950117375457...\n",
       "Name: geometry, dtype: object"
      ]
     },
     "execution_count": 30,
     "metadata": {},
     "output_type": "execute_result"
    }
   ],
   "source": [
    "mini['geometry'][0:11]"
   ]
  },
  {
   "cell_type": "code",
   "execution_count": null,
   "metadata": {
    "collapsed": true
   },
   "outputs": [],
   "source": []
  },
  {
   "cell_type": "code",
   "execution_count": null,
   "metadata": {
    "collapsed": true
   },
   "outputs": [],
   "source": []
  },
  {
   "cell_type": "code",
   "execution_count": 19,
   "metadata": {
    "collapsed": true
   },
   "outputs": [],
   "source": [
    "import folium\n",
    "import csv\n",
    "from folium import plugins\n",
    "\n"
   ]
  },
  {
   "cell_type": "code",
   "execution_count": 20,
   "metadata": {
    "collapsed": false
   },
   "outputs": [
    {
     "data": {
      "text/plain": [
       "<matplotlib.axes._subplots.AxesSubplot at 0x1bf6f2950>"
      ]
     },
     "execution_count": 20,
     "metadata": {},
     "output_type": "execute_result"
    },
    {
     "data": {
      "image/png": "[encoded data removed]",
      "text/plain": [
       "<matplotlib.figure.Figure at 0x1bf6e1c50>"
      ]
     },
     "metadata": {},
     "output_type": "display_data"
    }
   ],
   "source": [
    "mini_vs = mini['AV_BLDG'].value_counts()\n",
    "sb.distplot(mini_vs)\n"
   ]
  },
  {
   "cell_type": "code",
   "execution_count": 21,
   "metadata": {
    "collapsed": false
   },
   "outputs": [
    {
     "ename": "AttributeError",
     "evalue": "(\"'Polygon' object has no attribute 'x'\", u'occurred at index 0')",
     "output_type": "error",
     "traceback": [
      "\u001b[0;31m---------------------------------------------------------------------------\u001b[0m",
      "\u001b[0;31mAttributeError\u001b[0m                            Traceback (most recent call last)",
      "\u001b[0;32m<ipython-input-21-74bfe5e0853d>\u001b[0m in \u001b[0;36m<module>\u001b[0;34m()\u001b[0m\n\u001b[1;32m      3\u001b[0m \u001b[0;34m\u001b[0m\u001b[0m\n\u001b[1;32m      4\u001b[0m \u001b[0mmini\u001b[0m\u001b[0;34m.\u001b[0m\u001b[0mplot\u001b[0m\u001b[0;34m(\u001b[0m\u001b[0max\u001b[0m\u001b[0;34m=\u001b[0m\u001b[0max\u001b[0m\u001b[0;34m,\u001b[0m \u001b[0malpha\u001b[0m\u001b[0;34m=\u001b[0m\u001b[0;36m0.1\u001b[0m\u001b[0;34m,\u001b[0m \u001b[0mlinewidth\u001b[0m\u001b[0;34m=\u001b[0m\u001b[0;36m0.5\u001b[0m\u001b[0;34m,\u001b[0m \u001b[0mcolor\u001b[0m\u001b[0;34m=\u001b[0m\u001b[0;34m'white'\u001b[0m\u001b[0;34m)\u001b[0m\u001b[0;34m\u001b[0m\u001b[0m\n\u001b[0;32m----> 5\u001b[0;31m sb.kdeplot(data=mini.apply(lambda srs: pd.Series({'x': srs.geometry.x, 'y': srs.geometry.y}), axis='columns'), ax=ax,\n\u001b[0m\u001b[1;32m      6\u001b[0m             alpha=1)\n\u001b[1;32m      7\u001b[0m \u001b[0max\u001b[0m\u001b[0;34m.\u001b[0m\u001b[0mset_axis_off\u001b[0m\u001b[0;34m(\u001b[0m\u001b[0;34m)\u001b[0m\u001b[0;34m\u001b[0m\u001b[0m\n",
      "\u001b[0;32m/Applications/anaconda/envs/dsi/lib/python2.7/site-packages/pandas/core/frame.pyc\u001b[0m in \u001b[0;36mapply\u001b[0;34m(self, func, axis, broadcast, raw, reduce, args, **kwds)\u001b[0m\n\u001b[1;32m   4059\u001b[0m                     \u001b[0;32mif\u001b[0m \u001b[0mreduce\u001b[0m \u001b[0;32mis\u001b[0m \u001b[0mNone\u001b[0m\u001b[0;34m:\u001b[0m\u001b[0;34m\u001b[0m\u001b[0m\n\u001b[1;32m   4060\u001b[0m                         \u001b[0mreduce\u001b[0m \u001b[0;34m=\u001b[0m \u001b[0mTrue\u001b[0m\u001b[0;34m\u001b[0m\u001b[0m\n\u001b[0;32m-> 4061\u001b[0;31m                     \u001b[0;32mreturn\u001b[0m \u001b[0mself\u001b[0m\u001b[0;34m.\u001b[0m\u001b[0m_apply_standard\u001b[0m\u001b[0;34m(\u001b[0m\u001b[0mf\u001b[0m\u001b[0;34m,\u001b[0m \u001b[0maxis\u001b[0m\u001b[0;34m,\u001b[0m \u001b[0mreduce\u001b[0m\u001b[0;34m=\u001b[0m\u001b[0mreduce\u001b[0m\u001b[0;34m)\u001b[0m\u001b[0;34m\u001b[0m\u001b[0m\n\u001b[0m\u001b[1;32m   4062\u001b[0m             \u001b[0;32melse\u001b[0m\u001b[0;34m:\u001b[0m\u001b[0;34m\u001b[0m\u001b[0m\n\u001b[1;32m   4063\u001b[0m                 \u001b[0;32mreturn\u001b[0m \u001b[0mself\u001b[0m\u001b[0;34m.\u001b[0m\u001b[0m_apply_broadcast\u001b[0m\u001b[0;34m(\u001b[0m\u001b[0mf\u001b[0m\u001b[0;34m,\u001b[0m \u001b[0maxis\u001b[0m\u001b[0;34m)\u001b[0m\u001b[0;34m\u001b[0m\u001b[0m\n",
      "\u001b[0;32m/Applications/anaconda/envs/dsi/lib/python2.7/site-packages/pandas/core/frame.pyc\u001b[0m in \u001b[0;36m_apply_standard\u001b[0;34m(self, func, axis, ignore_failures, reduce)\u001b[0m\n\u001b[1;32m   4155\u001b[0m             \u001b[0;32mtry\u001b[0m\u001b[0;34m:\u001b[0m\u001b[0;34m\u001b[0m\u001b[0m\n\u001b[1;32m   4156\u001b[0m                 \u001b[0;32mfor\u001b[0m \u001b[0mi\u001b[0m\u001b[0;34m,\u001b[0m \u001b[0mv\u001b[0m \u001b[0;32min\u001b[0m \u001b[0menumerate\u001b[0m\u001b[0;34m(\u001b[0m\u001b[0mseries_gen\u001b[0m\u001b[0;34m)\u001b[0m\u001b[0;34m:\u001b[0m\u001b[0;34m\u001b[0m\u001b[0m\n\u001b[0;32m-> 4157\u001b[0;31m                     \u001b[0mresults\u001b[0m\u001b[0;34m[\u001b[0m\u001b[0mi\u001b[0m\u001b[0;34m]\u001b[0m \u001b[0;34m=\u001b[0m \u001b[0mfunc\u001b[0m\u001b[0;34m(\u001b[0m\u001b[0mv\u001b[0m\u001b[0;34m)\u001b[0m\u001b[0;34m\u001b[0m\u001b[0m\n\u001b[0m\u001b[1;32m   4158\u001b[0m                     \u001b[0mkeys\u001b[0m\u001b[0;34m.\u001b[0m\u001b[0mappend\u001b[0m\u001b[0;34m(\u001b[0m\u001b[0mv\u001b[0m\u001b[0;34m.\u001b[0m\u001b[0mname\u001b[0m\u001b[0;34m)\u001b[0m\u001b[0;34m\u001b[0m\u001b[0m\n\u001b[1;32m   4159\u001b[0m             \u001b[0;32mexcept\u001b[0m \u001b[0mException\u001b[0m \u001b[0;32mas\u001b[0m \u001b[0me\u001b[0m\u001b[0;34m:\u001b[0m\u001b[0;34m\u001b[0m\u001b[0m\n",
      "\u001b[0;32m<ipython-input-21-74bfe5e0853d>\u001b[0m in \u001b[0;36m<lambda>\u001b[0;34m(srs)\u001b[0m\n\u001b[1;32m      3\u001b[0m \u001b[0;34m\u001b[0m\u001b[0m\n\u001b[1;32m      4\u001b[0m \u001b[0mmini\u001b[0m\u001b[0;34m.\u001b[0m\u001b[0mplot\u001b[0m\u001b[0;34m(\u001b[0m\u001b[0max\u001b[0m\u001b[0;34m=\u001b[0m\u001b[0max\u001b[0m\u001b[0;34m,\u001b[0m \u001b[0malpha\u001b[0m\u001b[0;34m=\u001b[0m\u001b[0;36m0.1\u001b[0m\u001b[0;34m,\u001b[0m \u001b[0mlinewidth\u001b[0m\u001b[0;34m=\u001b[0m\u001b[0;36m0.5\u001b[0m\u001b[0;34m,\u001b[0m \u001b[0mcolor\u001b[0m\u001b[0;34m=\u001b[0m\u001b[0;34m'white'\u001b[0m\u001b[0;34m)\u001b[0m\u001b[0;34m\u001b[0m\u001b[0m\n\u001b[0;32m----> 5\u001b[0;31m sb.kdeplot(data=mini.apply(lambda srs: pd.Series({'x': srs.geometry.x, 'y': srs.geometry.y}), axis='columns'), ax=ax,\n\u001b[0m\u001b[1;32m      6\u001b[0m             alpha=1)\n\u001b[1;32m      7\u001b[0m \u001b[0max\u001b[0m\u001b[0;34m.\u001b[0m\u001b[0mset_axis_off\u001b[0m\u001b[0;34m(\u001b[0m\u001b[0;34m)\u001b[0m\u001b[0;34m\u001b[0m\u001b[0m\n",
      "\u001b[0;31mAttributeError\u001b[0m: (\"'Polygon' object has no attribute 'x'\", u'occurred at index 0')"
     ]
    },
    {
     "data": {
      "image/png": "[encoded data removed]",
      "text/plain": [
       "<matplotlib.figure.Figure at 0x1bfcf4990>"
      ]
     },
     "metadata": {},
     "output_type": "display_data"
    }
   ],
   "source": [
    "f = plt.figure(figsize=(15, 8))\n",
    "ax = f.gca()\n",
    "\n",
    "mini.plot(ax=ax, alpha=0.1, linewidth=0.5, color='white')\n",
    "sb.kdeplot(data=mini.apply(lambda srs: pd.Series({'x': srs.geometry.x, 'y': srs.geometry.y}), axis='columns'), ax=ax,\n",
    "            alpha=1)\n",
    "ax.set_axis_off()\n",
    "mpl.show()"
   ]
  },
  {
   "cell_type": "code",
   "execution_count": null,
   "metadata": {
    "collapsed": false
   },
   "outputs": [],
   "source": [
    "mini.shape"
   ]
  },
  {
   "cell_type": "code",
   "execution_count": null,
   "metadata": {
    "collapsed": false
   },
   "outputs": [],
   "source": [
    "mini.geometry[4506]"
   ]
  },
  {
   "cell_type": "code",
   "execution_count": null,
   "metadata": {
    "collapsed": true
   },
   "outputs": [],
   "source": []
  }
 ],
 "metadata": {
  "kernelspec": {
   "display_name": "Python [dsi]",
   "language": "python",
   "name": "Python [dsi]"
  },
  "language_info": {
   "codemirror_mode": {
    "name": "ipython",
    "version": 2
   },
   "file_extension": ".py",
   "mimetype": "text/x-python",
   "name": "python",
   "nbconvert_exporter": "python",
   "pygments_lexer": "ipython2",
   "version": "2.7.12"
  }
 },
 "nbformat": 4,
 "nbformat_minor": 0
}
