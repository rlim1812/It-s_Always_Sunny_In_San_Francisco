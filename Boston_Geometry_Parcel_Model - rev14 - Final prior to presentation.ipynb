{
 "cells": [
  {
   "cell_type": "markdown",
   "metadata": {},
   "source": [
    "[Link to the destination](#the_destination)"
   ]
  },
  {
   "cell_type": "markdown",
   "metadata": {
    "collapsed": false
   },
   "source": [
    "## NOW FOCUSED ON OWN-OCCUPIED SINGLE FAMILY"
   ]
  },
  {
   "cell_type": "markdown",
   "metadata": {},
   "source": [
    "### updates since last version:\n",
    "\n",
    "Added new features pertaining to aggregate stats. Best rfc for 2010-15 had nearly 50/50 accuracy\n",
    "\n",
    "Now focus on mappping / visualization and timing effects"
   ]
  },
  {
   "cell_type": "code",
   "execution_count": 1,
   "metadata": {
    "collapsed": false
   },
   "outputs": [],
   "source": [
    "import pandas as pd\n",
    "import numpy as np\n",
    "import shapely\n",
    "import fiona\n",
    "from shapely import geometry\n",
    "from shapely.geometry import Polygon\n",
    "from shapely.geometry import MultiPolygon\n",
    "from shapely.geometry import Point\n",
    "import json\n",
    "import geopandas as gpd\n",
    "import matplotlib.pyplot as plt\n",
    "import seaborn as sb\n",
    "%matplotlib inline\n",
    "import mplleaflet as mpl\n",
    "import pysal as ps\n"
   ]
  },
  {
   "cell_type": "code",
   "execution_count": 2,
   "metadata": {
    "collapsed": false
   },
   "outputs": [
    {
     "name": "stderr",
     "output_type": "stream",
     "text": [
      "/Applications/anaconda/envs/dsi/lib/python2.7/site-packages/sklearn/cross_validation.py:44: DeprecationWarning: This module was deprecated in version 0.18 in favor of the model_selection module into which all the refactored classes and functions are moved. Also note that the interface of the new CV iterators are different from that of this module. This module will be removed in 0.20.\n",
      "  \"This module will be removed in 0.20.\", DeprecationWarning)\n",
      "/Applications/anaconda/envs/dsi/lib/python2.7/site-packages/sklearn/grid_search.py:43: DeprecationWarning: This module was deprecated in version 0.18 in favor of the model_selection module into which all the refactored classes and functions are moved. This module will be removed in 0.20.\n",
      "  DeprecationWarning)\n"
     ]
    }
   ],
   "source": [
    "# IMPORT MODULES FOR REGRESSION / CLASSIFICATION\n",
    "\n",
    "\n",
    "from sklearn.preprocessing import PolynomialFeatures, StandardScaler, Imputer\n",
    "from sklearn.model_selection import StratifiedShuffleSplit\n",
    "\n",
    "from sklearn.cross_validation import cross_val_score, KFold, train_test_split\n",
    "from sklearn.metrics import confusion_matrix, accuracy_score, classification_report, roc_auc_score\n",
    "from sklearn.grid_search import GridSearchCV\n",
    "\n",
    "from sklearn.linear_model import LogisticRegression, Ridge, Lasso, RidgeCV, LassoCV\n",
    "from sklearn.tree import DecisionTreeRegressor\n",
    "from sklearn.ensemble import RandomForestClassifier, ExtraTreesClassifier, BaggingClassifier\n",
    "from sklearn.svm import SVC\n",
    "\n"
   ]
  },
  {
   "cell_type": "markdown",
   "metadata": {},
   "source": [
    "### Start with most recent backup copy of the combined dataframe"
   ]
  },
  {
   "cell_type": "code",
   "execution_count": 3,
   "metadata": {
    "collapsed": false
   },
   "outputs": [
    {
     "name": "stderr",
     "output_type": "stream",
     "text": [
      "/Applications/anaconda/envs/dsi/lib/python2.7/site-packages/IPython/core/interactiveshell.py:2723: DtypeWarning: Columns (171,172,212,224,231,256,306,309) have mixed types. Specify dtype option on import or set low_memory=False.\n",
      "  interactivity=interactivity, compiler=compiler, result=result)\n"
     ]
    }
   ],
   "source": [
    "model_file = pd.read_csv('/Users/DavidStier/Downloads/Model_File_CT-backup4.csv')"
   ]
  },
  {
   "cell_type": "code",
   "execution_count": 4,
   "metadata": {
    "collapsed": false
   },
   "outputs": [
    {
     "data": {
      "text/plain": [
       "(92052, 365)"
      ]
     },
     "execution_count": 4,
     "metadata": {},
     "output_type": "execute_result"
    }
   ],
   "source": [
    "model_file.shape"
   ]
  },
  {
   "cell_type": "markdown",
   "metadata": {},
   "source": [
    "### Clean up 'legacy issues' from imported csv"
   ]
  },
  {
   "cell_type": "code",
   "execution_count": 5,
   "metadata": {
    "collapsed": false
   },
   "outputs": [],
   "source": [
    "first_pass_model_file_col_list = model_file.columns.tolist()\n",
    "first_pass_model_file_dtypes_list = model_file.dtypes.tolist()\n",
    "first_pass_model_file_first_Row = model_file[1:2]\n",
    "first_pass_model_file_first_Row.to_csv('/Users/DavidStier/Downloads/first_pass_model_filerow1.csv')"
   ]
  },
  {
   "cell_type": "code",
   "execution_count": 6,
   "metadata": {
    "collapsed": false
   },
   "outputs": [],
   "source": [
    "## \n",
    "# Model file had included 2 features that were proxies for having installed solar\n",
    "##\n",
    "\n",
    "model_file.drop(['Valuation_all_sol_prmts'], inplace = True, axis = 1)\n",
    "model_file.drop(['NUM_PERMITS_for_solar'], inplace = True, axis = 1)\n",
    "\n",
    "## \n",
    "#  Model file 'neighborhood' and Outbuilding 1-3 columns had mixed content types - specifically the # zero was entered for some rows\n",
    "##\n",
    "\n",
    "model_file['neighborhood'].replace(0,'Not Provided',inplace=True)\n",
    "model_file['Outbldg_1'].replace(0,'Not Provided',inplace=True)\n",
    "model_file['Outbldg_2'].replace(0,'Not Provided',inplace=True)\n",
    "model_file['Outbldg_3'].replace(0,'Not Provided',inplace=True)\n",
    "model_file['Outbldg_3'].replace('0','Not Provided',inplace=True)\n",
    "\n",
    "##\n",
    "# Some census tract columns had 'nan' instead of NaN and Dtype needs to be Float\n",
    "##\n",
    "\n",
    "model_file['ctbdp040var_HC01_VC66'].replace(['-'],0, inplace = True) \n",
    "model_file['ctbdp040var_HC01_VC66'] = model_file['ctbdp040var_HC01_VC66'].astype(float)\n",
    "\n",
    "model_file['ctbdp040var_HC01_VC67'].replace(['-'],0, inplace = True) \n",
    "model_file['ctbdp040var_HC01_VC67'] = model_file['ctbdp040var_HC01_VC67'].astype(float)\n",
    "\n",
    "model_file['ctbdp040var_HC01_VC143'].replace(['-'],0, inplace = True) \n",
    "model_file['ctbdp040var_HC01_VC143'].replace(['4,000+'],4000, inplace = True) \n",
    "model_file['ctbdp040var_HC01_VC143'] = model_file['ctbdp040var_HC01_VC143'].astype(float)\n",
    "\n",
    "model_file['ctbdp040var_HC01_VC151'].replace(['-'],0, inplace = True) \n",
    "model_file['ctbdp040var_HC01_VC151'].replace(['1,000+'],1000, inplace = True) \n",
    "model_file['ctbdp040var_HC01_VC151'].replace(['100-'],100, inplace = True) \n",
    "model_file['ctbdp040var_HC01_VC151'] = model_file['ctbdp040var_HC01_VC151'].astype(float)\n",
    "\n",
    "model_file['ctbdp040var_HC01_VC185'].replace(['-'],0, inplace = True) \n",
    "model_file['ctbdp040var_HC01_VC185'].replace(['100-'],100, inplace = True) \n",
    "model_file['ctbdp040var_HC01_VC185'].replace(['2,000+'],2000, inplace = True) \n",
    "model_file['ctbdp040var_HC01_VC185'] = model_file['ctbdp040var_HC01_VC185'].astype(float)\n",
    "\n",
    "model_file['ctb19049var_HD01_VD03'].replace(['2,500-'],2500, inplace = True) \n",
    "model_file['ctb19049var_HD01_VD03'].replace(['-'],0, inplace = True) \n",
    "model_file['ctb19049var_HD01_VD03'] = model_file['ctb19049var_HD01_VD03'].astype(float)\n",
    "\n",
    "model_file['ctb19049var_HD01_VD06'].replace(['-'],0, inplace = True) \n",
    "model_file['ctb19049var_HD01_VD06'] = model_file['ctb19049var_HD01_VD06'].astype(float)\n",
    "\n",
    "model_file['ctbdp040var_HC01_VC125'].replace(['1,000,000+'],1000000, inplace=True)  #nan and '-' and 1,000,000+\n",
    "model_file['ctbdp040var_HC01_VC125'].replace(['-'],0, inplace = True)  #nan and '-' and 1,000,000+\n",
    "model_file['ctbdp040var_HC01_VC125'] = model_file['ctbdp040var_HC01_VC125'].astype(float)\n",
    "\n"
   ]
  },
  {
   "cell_type": "code",
   "execution_count": 7,
   "metadata": {
    "collapsed": false
   },
   "outputs": [
    {
     "name": "stdout",
     "output_type": "stream",
     "text": [
      "5488035078.6\n",
      "3889717916.73\n",
      "3376145884.57\n",
      "28889.0\n",
      "27021.0\n",
      "24117.0\n",
      ">>>>>>>>>>\n",
      "1135287598.76\n",
      "1057161193.9\n",
      "955183399.51\n",
      "8053.0\n",
      "6262.0\n",
      "6255.0\n"
     ]
    }
   ],
   "source": [
    "print model_file['NOT_Top2015PermTypdollars'].sum()\n",
    "print model_file['NOT_Top2014PermTypdollars'].sum()\n",
    "print model_file['NOT_Top2013PermTypdollars'].sum()\n",
    "print model_file['NOT_Top2015PermTypNum'].sum()\n",
    "print model_file['NOT_Top2014PermTypNum'].sum()\n",
    "print model_file['NOT_Top2013PermTypNum'].sum()\n",
    "print '>>>>>>>>>>'\n",
    "print model_file['Top2015PermTypdollars'].sum()\n",
    "print model_file['Top2014PermTypdollars'].sum()\n",
    "print model_file['Top2013PermTypdollars'].sum()\n",
    "print model_file['Top2015PermTypNum'].sum()\n",
    "print model_file['Top2014PermTypNum'].sum()\n",
    "print model_file['Top2013PermTypNum'].sum()\n"
   ]
  },
  {
   "cell_type": "code",
   "execution_count": 8,
   "metadata": {
    "collapsed": false
   },
   "outputs": [],
   "source": [
    "##\n",
    "# Remove other permit activity if parcel installed solar that same year\n",
    "# some homes may have had other electrical or structural work done at the same time as when they installed solar\n",
    "\n",
    "\n",
    "reset_permit_info  =   {2016 : ['NOT_Top2016PermTypdollars','NOT_Top2016PermTypNum','Top2016PermTypdollars', 'Top2016PermTypNum'],\n",
    "                        2015  : ['NOT_Top2015PermTypdollars','NOT_Top2015PermTypNum','Top2015PermTypdollars', 'Top2015PermTypNum'],\n",
    "                        2014  : ['NOT_Top2014PermTypdollars','NOT_Top2014PermTypNum','Top2014PermTypdollars', 'Top2014PermTypNum'],\n",
    "                        2013  : ['NOT_Top2013PermTypdollars','NOT_Top2013PermTypNum','Top2013PermTypdollars', 'Top2013PermTypNum'],\n",
    "                        2012  : ['NOT_Top2012PermTypdollars','NOT_Top2012PermTypNum','Top2012PermTypdollars', 'Top2012PermTypNum'],\n",
    "                        2011  : ['NOT_Top2011PermTypdollars','NOT_Top2011PermTypNum','Top2011PermTypdollars', 'Top2011PermTypNum'], \n",
    "                        2010  : ['NOT_Top2010PermTypdollars','NOT_Top2010PermTypNum','Top2010PermTypdollars', 'Top2010PermTypNum']}\n",
    "\n",
    "for key, value in reset_permit_info.items():\n",
    "    model_file.loc[model_file['Year_SOLAR'] == key,  value] = 0\n"
   ]
  },
  {
   "cell_type": "code",
   "execution_count": 9,
   "metadata": {
    "collapsed": false
   },
   "outputs": [
    {
     "name": "stdout",
     "output_type": "stream",
     "text": [
      "5451990761.01\n",
      "3846780651.87\n",
      "3345085742.17\n",
      "27332.0\n",
      "25924.0\n",
      "23443.0\n",
      ">>>>>>>>>>\n",
      "1134857483.1\n",
      "1052600682.56\n",
      "947052223.86\n",
      "7993.0\n",
      "6216.0\n",
      "6230.0\n"
     ]
    }
   ],
   "source": [
    "##\n",
    "# Check to make sure that the calc's affected the #s appropriately (eyeball check)\n",
    "#\n",
    "\n",
    "print model_file['NOT_Top2015PermTypdollars'].sum()\n",
    "print model_file['NOT_Top2014PermTypdollars'].sum()\n",
    "print model_file['NOT_Top2013PermTypdollars'].sum()\n",
    "print model_file['NOT_Top2015PermTypNum'].sum()\n",
    "print model_file['NOT_Top2014PermTypNum'].sum()\n",
    "print model_file['NOT_Top2013PermTypNum'].sum()\n",
    "print '>>>>>>>>>>'\n",
    "print model_file['Top2015PermTypdollars'].sum()\n",
    "print model_file['Top2014PermTypdollars'].sum()\n",
    "print model_file['Top2013PermTypdollars'].sum()\n",
    "print model_file['Top2015PermTypNum'].sum()\n",
    "print model_file['Top2014PermTypNum'].sum()\n",
    "print model_file['Top2013PermTypNum'].sum()\n"
   ]
  },
  {
   "cell_type": "code",
   "execution_count": 10,
   "metadata": {
    "collapsed": false
   },
   "outputs": [
    {
     "data": {
      "text/plain": [
       "array([   nan,  2015.,  2011.,  2014.,  2016.,  2012.,  2013.,  2010.])"
      ]
     },
     "execution_count": 10,
     "metadata": {},
     "output_type": "execute_result"
    }
   ],
   "source": [
    "model_file['Year_SOLAR'].unique()"
   ]
  },
  {
   "cell_type": "code",
   "execution_count": 11,
   "metadata": {
    "collapsed": false
   },
   "outputs": [
    {
     "data": {
      "text/plain": [
       "dtype('float64')"
      ]
     },
     "execution_count": 11,
     "metadata": {},
     "output_type": "execute_result"
    }
   ],
   "source": [
    "# model_file['ctbdp040var_HC01_VC125'].replace(['1,000,000+'],1000000, inplace=True)  #nan and '-' and 1,000,000+\n",
    "# model_file['ctbdp040var_HC01_VC125'] = model_file['ctbdp040var_HC01_VC125'].astype(float)\n",
    "# model_file['ctbdp040var_HC01_VC125']\n",
    "# #model_file['ctbdp040var_HC01_VC125'].unique()\n",
    "model_file['ctb19049var_HD01_VD06'].dtype"
   ]
  },
  {
   "cell_type": "code",
   "execution_count": 12,
   "metadata": {
    "collapsed": false
   },
   "outputs": [],
   "source": [
    "# save out a copy of the model datafile:\n",
    "# model_file.to_csv('/Users/DavidStier/Downloads/Model_File-backup_TUESDAY.csv')\n",
    "#model_file.to_json('/Users/DavidStier/Downloads/Model_Filebackup2.json')\n",
    "# describe_file = model_file.describe()\n",
    "# describe_file.to_csv('/Users/DavidStier/Downloads/Ctractcombined_described2_TUESDAY.csv')"
   ]
  },
  {
   "cell_type": "markdown",
   "metadata": {},
   "source": [
    "## Bring in census tract and other shapefiles for leaflet"
   ]
  },
  {
   "cell_type": "markdown",
   "metadata": {},
   "source": [
    "## Feature engineering - parcel level data"
   ]
  },
  {
   "cell_type": "code",
   "execution_count": 13,
   "metadata": {
    "collapsed": false
   },
   "outputs": [
    {
     "data": {
      "text/plain": [
       "\"\\n# Possible new features to add based on all properties in addr_group:\\n\\nmodel_file['resl_units_on_block'] = \\nmodel_file['pct_block_resl_units_are_5plus_unit_bldgs']\\nmodel_file['pct_block_resl_units_are_3to4_unit_bldgs']\\nmodel_file['pct_block_resl_units_are_duplex']\\nmodel_file['pct_block_resl_units_are_SFR']\\nmodel_file['pct_block_SFR_OWN_OCC_units']\\nmodel_file['num_block_SFR_remodeled_pre_1980']\\nmodel_file['num_block_SFR_remodeled_1980_89']\\nmodel_file['num_block_SFR_remodeled_1990_99']\\nmodel_file['num_block_SFR_remodeled_2000_05']\\nmodel_file['num_block_SFR_remodeled_2006_10']\\nmodel_file['num_block_SFR_remodeled_2011_15']\\n\\nASSESSED VALUE percentiles\\nmodel_file['bldg_vs_land_value_ratio']\\n\""
      ]
     },
     "execution_count": 13,
     "metadata": {},
     "output_type": "execute_result"
    }
   ],
   "source": [
    "'''\n",
    "# Possible new features to add based on all properties in addr_group:\n",
    "\n",
    "model_file['resl_units_on_block'] = \n",
    "model_file['pct_block_resl_units_are_5plus_unit_bldgs']\n",
    "model_file['pct_block_resl_units_are_3to4_unit_bldgs']\n",
    "model_file['pct_block_resl_units_are_duplex']\n",
    "model_file['pct_block_resl_units_are_SFR']\n",
    "model_file['pct_block_SFR_OWN_OCC_units']\n",
    "model_file['num_block_SFR_remodeled_pre_1980']\n",
    "model_file['num_block_SFR_remodeled_1980_89']\n",
    "model_file['num_block_SFR_remodeled_1990_99']\n",
    "model_file['num_block_SFR_remodeled_2000_05']\n",
    "model_file['num_block_SFR_remodeled_2006_10']\n",
    "model_file['num_block_SFR_remodeled_2011_15']\n",
    "\n",
    "ASSESSED VALUE percentiles\n",
    "model_file['bldg_vs_land_value_ratio']\n",
    "'''\n"
   ]
  },
  {
   "cell_type": "code",
   "execution_count": 14,
   "metadata": {
    "collapsed": true
   },
   "outputs": [],
   "source": [
    "#model_file['tot_rooms_per_k_lot_sf'] = [model_file['R_TOTAL_RM'] / model_file['LAND_SF'] if x > 0 else 0 for x in model_file['LAND_SF']]\n"
   ]
  },
  {
   "cell_type": "code",
   "execution_count": 15,
   "metadata": {
    "collapsed": false
   },
   "outputs": [
    {
     "data": {
      "text/plain": [
       "(92052, 370)"
      ]
     },
     "execution_count": 15,
     "metadata": {},
     "output_type": "execute_result"
    }
   ],
   "source": [
    "#model_file['bldg_vs_land_value_ratio'] = model_file['AV_BLDG'] / model_file['AV_LAND'] - did not use as it can go to infinity\n",
    "model_file['home_age_in_2016'] = 2016 - model_file['YR_BUILT']\n",
    "model_file['home_age_when_remodeled'] = model_file['YR_REMOD'] - model_file['YR_BUILT']\n",
    "model_file['yrs_since_2016_when_remodeled'] = 2016 - model_file['YR_REMOD']\n",
    "model_file['bathrooms_all_qty'] = model_file['R_FULL_BTH'] + model_file['R_HALF_BTH']\n",
    "model_file['shape_vs_length'] = model_file['SHAPESTAre'] / model_file['SHAPESTLen']\n",
    "model_file['tot_rooms_per_k_bldg_sf'] = model_file['R_TOTAL_RM'] / model_file['LIVING_ARE'] \n",
    "model_file['is_solar'] = [1 if x > 0 else 0 for x in model_file['Year_SOLAR'] ]\n",
    "\n",
    "# Convert Owner Occupied to 0/1 from y/n so that it can be aggregated:\n",
    "model_file['OWN_OCC'] = [1 if x == 'Y' else 0 for x in model_file['OWN_OCC'] ]\n",
    "\n",
    "# Dummify certain categorical columns now:\n",
    "\n",
    "\n",
    "\n",
    "#model_file['bldg_vs_land_size_ratio'] = model_file['LIVING_ARE'] / model_file['LAND_SF'] - this goes to infinity\n",
    "#model_file['home_age_last_top_permitType_done'] = \n",
    "model_file.shape"
   ]
  },
  {
   "cell_type": "code",
   "execution_count": 16,
   "metadata": {
    "collapsed": false
   },
   "outputs": [
    {
     "data": {
      "text/plain": [
       "pandas.core.frame.DataFrame"
      ]
     },
     "execution_count": 16,
     "metadata": {},
     "output_type": "execute_result"
    }
   ],
   "source": [
    "Heat_Type_dummied = pd.get_dummies(model_file['Heat_Type'],prefix = 'Heat_Type_')\n",
    "LU_dummied =pd.get_dummies(model_file['LU'],prefix = 'LU_')\n",
    "R_ROOF_TYP_dummied = pd.get_dummies(model_file['R_ROOF_TYP'],prefix = 'R_ROOF_TYPE_')\n",
    "\n",
    "type(Heat_Type_dummied)"
   ]
  },
  {
   "cell_type": "code",
   "execution_count": 17,
   "metadata": {
    "collapsed": false
   },
   "outputs": [],
   "source": [
    "model_file = pd.concat([model_file, Heat_Type_dummied, LU_dummied, R_ROOF_TYP_dummied], axis = 1)"
   ]
  },
  {
   "cell_type": "code",
   "execution_count": 18,
   "metadata": {
    "collapsed": false
   },
   "outputs": [
    {
     "data": {
      "text/plain": [
       "(92052, 404)"
      ]
     },
     "execution_count": 18,
     "metadata": {},
     "output_type": "execute_result"
    }
   ],
   "source": [
    "model_file.shape"
   ]
  },
  {
   "cell_type": "markdown",
   "metadata": {},
   "source": [
    "### Aggregrate at addr_group, 1/2mi^2, census_tract and zip. \n",
    "#### Get count, mean, median, mode, sdev and sum for each level"
   ]
  },
  {
   "cell_type": "markdown",
   "metadata": {},
   "source": [
    "### Select 'top' features to use for merging the aggregated calcs.  This will limit the # of new features\n",
    "Based on early RandomForest Classifier results, have selected those features that had at least .002 contribution"
   ]
  },
  {
   "cell_type": "code",
   "execution_count": 19,
   "metadata": {
    "collapsed": true
   },
   "outputs": [],
   "source": [
    "top_aggr_features = ['addr_group','hmile_grid_cell','neighborhood','FIPS','NOT_Top2015PermTypNum','NOT_Top2015PermTypdollars','NOT_Top2014PermTypdollars',\n",
    "                     'NOT_Top2013PermTypdollars','NOT_Top2014PermTypNum','GROSS_AREA','NOT_Top2013PermTypNum',\n",
    "                     'SHAPESTLen','NOT_Top2012PermTypdollars','AV_LAND','home_age_when_remodeled','LIVING_ARE',\n",
    "                     'home_age_in_2016','bldg_vs_land_value_ratio','tot_rooms_per_k_bldg_sf','LAND_SF','YR_REMOD',\n",
    "                     'NOT_Top2012PermTypNum','YR_BUILT','shape_vs_length','OWN_OCC','hmile_grid_cell_R',\n",
    "                     'yrs_since_2016_when_remodeled','Outbldg_1_Sqft','Exterior_Wall_Alum/Vinyl',\n",
    "                     'NOT_Top2011PermTypdollars','R_TOTAL_RM','AV_BLDG','ctb1001var_HD01_VD41','ctb25093var_HD01_VD21',\n",
    "                     'R_BDRMS','SHAPESTAre','st_num_group','Thr12014to2015_Street-Sidewalk','hmile_grid_cell_C',\n",
    "                     'NOT_Top2010PermTypdollars','Thr12014to2015_excluded','R_FULL_BTH','PID','Heat_Type__Electric',\n",
    "                     'LU__Residential Condo Unit','LU__Mixed Use Res/Comm', 'LU__Commercial','LU__Apartments 7 Units above','LU__Apartments 4-6 Units', \n",
    "                     'LU__Residential Single Family', 'LU__Residential Three Family', 'LU__Residential Two Family',\n",
    "                     'LU__Residential Land', 'LU__Exempt','LU__Commercial Land', 'LU__Commercial Condo Unit','LU__Industrial',\n",
    "                     'Thr12011to2013_Recycling-Pickup', 'Thr12011to2013_Trees','Thr12014to2015_Trees','Thr12011to2013_Housing','Thr12011to2013_Building','Thr12014to2015_Building',\n",
    "                     'Thr12014to2015_Housing','Thr12014to2015_Recycling-Pickup', 'is_solar','Thr12011_Recycling-Pickup','Thr12012_Recycling-Pickup','Thr12013_Recycling-Pickup','Thr12014_Recycling-Pickup','Thr12015_Recycling-Pickup', 'Thr12012_Trees','Thr12013_Trees' ,'Thr12014_Trees']"
   ]
  },
  {
   "cell_type": "code",
   "execution_count": 20,
   "metadata": {
    "collapsed": false
   },
   "outputs": [],
   "source": [
    "model_file_aggr_cols = pd.DataFrame()\n",
    "for i in model_file.columns:\n",
    "    if i in top_aggr_features:\n",
    "        model_file_aggr_cols[i] = model_file[i]"
   ]
  },
  {
   "cell_type": "code",
   "execution_count": 21,
   "metadata": {
    "collapsed": false
   },
   "outputs": [
    {
     "data": {
      "text/html": [
       "<div>\n",
       "<table border=\"1\" class=\"dataframe\">\n",
       "  <thead>\n",
       "    <tr style=\"text-align: right;\">\n",
       "      <th></th>\n",
       "      <th>0</th>\n",
       "      <th>1</th>\n",
       "      <th>2</th>\n",
       "      <th>3</th>\n",
       "    </tr>\n",
       "  </thead>\n",
       "  <tbody>\n",
       "    <tr>\n",
       "      <th>AV_BLDG</th>\n",
       "      <td>235300</td>\n",
       "      <td>281200</td>\n",
       "      <td>244700</td>\n",
       "      <td>227800</td>\n",
       "    </tr>\n",
       "    <tr>\n",
       "      <th>AV_LAND</th>\n",
       "      <td>129900</td>\n",
       "      <td>121000</td>\n",
       "      <td>121400</td>\n",
       "      <td>121900</td>\n",
       "    </tr>\n",
       "    <tr>\n",
       "      <th>GROSS_AREA</th>\n",
       "      <td>3353</td>\n",
       "      <td>3299</td>\n",
       "      <td>3392</td>\n",
       "      <td>3108</td>\n",
       "    </tr>\n",
       "    <tr>\n",
       "      <th>LAND_SF</th>\n",
       "      <td>1150</td>\n",
       "      <td>1150</td>\n",
       "      <td>1150</td>\n",
       "      <td>1150</td>\n",
       "    </tr>\n",
       "    <tr>\n",
       "      <th>LIVING_ARE</th>\n",
       "      <td>2202</td>\n",
       "      <td>2307</td>\n",
       "      <td>2268</td>\n",
       "      <td>2028</td>\n",
       "    </tr>\n",
       "    <tr>\n",
       "      <th>OWN_OCC</th>\n",
       "      <td>1</td>\n",
       "      <td>0</td>\n",
       "      <td>0</td>\n",
       "      <td>0</td>\n",
       "    </tr>\n",
       "    <tr>\n",
       "      <th>PID</th>\n",
       "      <td>100001000</td>\n",
       "      <td>100002000</td>\n",
       "      <td>100003000</td>\n",
       "      <td>100004000</td>\n",
       "    </tr>\n",
       "    <tr>\n",
       "      <th>R_BDRMS</th>\n",
       "      <td>6</td>\n",
       "      <td>3</td>\n",
       "      <td>5</td>\n",
       "      <td>5</td>\n",
       "    </tr>\n",
       "    <tr>\n",
       "      <th>R_FULL_BTH</th>\n",
       "      <td>3</td>\n",
       "      <td>3</td>\n",
       "      <td>3</td>\n",
       "      <td>3</td>\n",
       "    </tr>\n",
       "    <tr>\n",
       "      <th>R_TOTAL_RM</th>\n",
       "      <td>12</td>\n",
       "      <td>9</td>\n",
       "      <td>13</td>\n",
       "      <td>11</td>\n",
       "    </tr>\n",
       "    <tr>\n",
       "      <th>SHAPESTAre</th>\n",
       "      <td>210.211</td>\n",
       "      <td>197.875</td>\n",
       "      <td>195.145</td>\n",
       "      <td>203.188</td>\n",
       "    </tr>\n",
       "    <tr>\n",
       "      <th>SHAPESTLen</th>\n",
       "      <td>65.8427</td>\n",
       "      <td>64.6974</td>\n",
       "      <td>64.3452</td>\n",
       "      <td>64.8983</td>\n",
       "    </tr>\n",
       "    <tr>\n",
       "      <th>YR_BUILT</th>\n",
       "      <td>1900</td>\n",
       "      <td>1920</td>\n",
       "      <td>1905</td>\n",
       "      <td>1900</td>\n",
       "    </tr>\n",
       "    <tr>\n",
       "      <th>YR_REMOD</th>\n",
       "      <td>0</td>\n",
       "      <td>2000</td>\n",
       "      <td>1985</td>\n",
       "      <td>1991</td>\n",
       "    </tr>\n",
       "    <tr>\n",
       "      <th>st_num_group</th>\n",
       "      <td>1</td>\n",
       "      <td>1</td>\n",
       "      <td>1</td>\n",
       "      <td>2</td>\n",
       "    </tr>\n",
       "    <tr>\n",
       "      <th>addr_group</th>\n",
       "      <td>PUTNAM ST-1.0</td>\n",
       "      <td>LEXINGTON ST-1.0</td>\n",
       "      <td>LEXINGTON ST-1.0</td>\n",
       "      <td>LEXINGTON ST-2.0</td>\n",
       "    </tr>\n",
       "    <tr>\n",
       "      <th>NOT_Top2010PermTypdollars</th>\n",
       "      <td>350</td>\n",
       "      <td>0</td>\n",
       "      <td>0</td>\n",
       "      <td>0</td>\n",
       "    </tr>\n",
       "    <tr>\n",
       "      <th>NOT_Top2011PermTypdollars</th>\n",
       "      <td>0</td>\n",
       "      <td>0</td>\n",
       "      <td>0</td>\n",
       "      <td>0</td>\n",
       "    </tr>\n",
       "    <tr>\n",
       "      <th>NOT_Top2012PermTypdollars</th>\n",
       "      <td>0</td>\n",
       "      <td>0</td>\n",
       "      <td>0</td>\n",
       "      <td>0</td>\n",
       "    </tr>\n",
       "    <tr>\n",
       "      <th>NOT_Top2013PermTypdollars</th>\n",
       "      <td>0</td>\n",
       "      <td>0</td>\n",
       "      <td>0</td>\n",
       "      <td>0</td>\n",
       "    </tr>\n",
       "    <tr>\n",
       "      <th>NOT_Top2014PermTypdollars</th>\n",
       "      <td>0</td>\n",
       "      <td>0</td>\n",
       "      <td>0</td>\n",
       "      <td>0</td>\n",
       "    </tr>\n",
       "    <tr>\n",
       "      <th>NOT_Top2015PermTypdollars</th>\n",
       "      <td>0</td>\n",
       "      <td>0</td>\n",
       "      <td>0</td>\n",
       "      <td>0</td>\n",
       "    </tr>\n",
       "    <tr>\n",
       "      <th>NOT_Top2012PermTypNum</th>\n",
       "      <td>0</td>\n",
       "      <td>0</td>\n",
       "      <td>0</td>\n",
       "      <td>0</td>\n",
       "    </tr>\n",
       "    <tr>\n",
       "      <th>NOT_Top2013PermTypNum</th>\n",
       "      <td>0</td>\n",
       "      <td>0</td>\n",
       "      <td>0</td>\n",
       "      <td>0</td>\n",
       "    </tr>\n",
       "    <tr>\n",
       "      <th>NOT_Top2014PermTypNum</th>\n",
       "      <td>0</td>\n",
       "      <td>0</td>\n",
       "      <td>0</td>\n",
       "      <td>0</td>\n",
       "    </tr>\n",
       "    <tr>\n",
       "      <th>NOT_Top2015PermTypNum</th>\n",
       "      <td>0</td>\n",
       "      <td>0</td>\n",
       "      <td>0</td>\n",
       "      <td>0</td>\n",
       "    </tr>\n",
       "    <tr>\n",
       "      <th>Outbldg_1_Sqft</th>\n",
       "      <td>280</td>\n",
       "      <td>0</td>\n",
       "      <td>0</td>\n",
       "      <td>0</td>\n",
       "    </tr>\n",
       "    <tr>\n",
       "      <th>Thr12011to2013_Building</th>\n",
       "      <td>1</td>\n",
       "      <td>NaN</td>\n",
       "      <td>NaN</td>\n",
       "      <td>NaN</td>\n",
       "    </tr>\n",
       "    <tr>\n",
       "      <th>Thr12011to2013_Housing</th>\n",
       "      <td>0</td>\n",
       "      <td>NaN</td>\n",
       "      <td>NaN</td>\n",
       "      <td>NaN</td>\n",
       "    </tr>\n",
       "    <tr>\n",
       "      <th>Thr12011to2013_Recycling-Pickup</th>\n",
       "      <td>0</td>\n",
       "      <td>NaN</td>\n",
       "      <td>NaN</td>\n",
       "      <td>NaN</td>\n",
       "    </tr>\n",
       "    <tr>\n",
       "      <th>...</th>\n",
       "      <td>...</td>\n",
       "      <td>...</td>\n",
       "      <td>...</td>\n",
       "      <td>...</td>\n",
       "    </tr>\n",
       "    <tr>\n",
       "      <th>Thr12014_Recycling-Pickup</th>\n",
       "      <td>0</td>\n",
       "      <td>NaN</td>\n",
       "      <td>NaN</td>\n",
       "      <td>NaN</td>\n",
       "    </tr>\n",
       "    <tr>\n",
       "      <th>Thr12014_Trees</th>\n",
       "      <td>0</td>\n",
       "      <td>NaN</td>\n",
       "      <td>NaN</td>\n",
       "      <td>NaN</td>\n",
       "    </tr>\n",
       "    <tr>\n",
       "      <th>Thr12015_Recycling-Pickup</th>\n",
       "      <td>0</td>\n",
       "      <td>NaN</td>\n",
       "      <td>NaN</td>\n",
       "      <td>NaN</td>\n",
       "    </tr>\n",
       "    <tr>\n",
       "      <th>FIPS</th>\n",
       "      <td>2.50251e+10</td>\n",
       "      <td>2.50251e+10</td>\n",
       "      <td>2.50251e+10</td>\n",
       "      <td>2.50251e+10</td>\n",
       "    </tr>\n",
       "    <tr>\n",
       "      <th>neighborhood</th>\n",
       "      <td>East Boston</td>\n",
       "      <td>East Boston</td>\n",
       "      <td>East Boston</td>\n",
       "      <td>East Boston</td>\n",
       "    </tr>\n",
       "    <tr>\n",
       "      <th>hmile_grid_cell_R</th>\n",
       "      <td>34</td>\n",
       "      <td>34</td>\n",
       "      <td>34</td>\n",
       "      <td>34</td>\n",
       "    </tr>\n",
       "    <tr>\n",
       "      <th>hmile_grid_cell_C</th>\n",
       "      <td>43</td>\n",
       "      <td>44</td>\n",
       "      <td>44</td>\n",
       "      <td>44</td>\n",
       "    </tr>\n",
       "    <tr>\n",
       "      <th>hmile_grid_cell</th>\n",
       "      <td>(43.0, 34.0)</td>\n",
       "      <td>(44.0, 34.0)</td>\n",
       "      <td>(44.0, 34.0)</td>\n",
       "      <td>(44.0, 34.0)</td>\n",
       "    </tr>\n",
       "    <tr>\n",
       "      <th>ctb25093var_HD01_VD21</th>\n",
       "      <td>170</td>\n",
       "      <td>170</td>\n",
       "      <td>170</td>\n",
       "      <td>170</td>\n",
       "    </tr>\n",
       "    <tr>\n",
       "      <th>ctb1001var_HD01_VD41</th>\n",
       "      <td>116</td>\n",
       "      <td>116</td>\n",
       "      <td>116</td>\n",
       "      <td>116</td>\n",
       "    </tr>\n",
       "    <tr>\n",
       "      <th>home_age_in_2016</th>\n",
       "      <td>116</td>\n",
       "      <td>96</td>\n",
       "      <td>111</td>\n",
       "      <td>116</td>\n",
       "    </tr>\n",
       "    <tr>\n",
       "      <th>home_age_when_remodeled</th>\n",
       "      <td>-1900</td>\n",
       "      <td>80</td>\n",
       "      <td>80</td>\n",
       "      <td>91</td>\n",
       "    </tr>\n",
       "    <tr>\n",
       "      <th>yrs_since_2016_when_remodeled</th>\n",
       "      <td>2016</td>\n",
       "      <td>16</td>\n",
       "      <td>31</td>\n",
       "      <td>25</td>\n",
       "    </tr>\n",
       "    <tr>\n",
       "      <th>shape_vs_length</th>\n",
       "      <td>3.19262</td>\n",
       "      <td>3.05847</td>\n",
       "      <td>3.03278</td>\n",
       "      <td>3.13086</td>\n",
       "    </tr>\n",
       "    <tr>\n",
       "      <th>tot_rooms_per_k_bldg_sf</th>\n",
       "      <td>0.00544959</td>\n",
       "      <td>0.00390117</td>\n",
       "      <td>0.00573192</td>\n",
       "      <td>0.00542406</td>\n",
       "    </tr>\n",
       "    <tr>\n",
       "      <th>is_solar</th>\n",
       "      <td>0</td>\n",
       "      <td>0</td>\n",
       "      <td>0</td>\n",
       "      <td>0</td>\n",
       "    </tr>\n",
       "    <tr>\n",
       "      <th>Heat_Type__Electric</th>\n",
       "      <td>0</td>\n",
       "      <td>0</td>\n",
       "      <td>0</td>\n",
       "      <td>0</td>\n",
       "    </tr>\n",
       "    <tr>\n",
       "      <th>LU__Apartments 4-6 Units</th>\n",
       "      <td>0</td>\n",
       "      <td>0</td>\n",
       "      <td>0</td>\n",
       "      <td>0</td>\n",
       "    </tr>\n",
       "    <tr>\n",
       "      <th>LU__Apartments 7 Units above</th>\n",
       "      <td>0</td>\n",
       "      <td>0</td>\n",
       "      <td>0</td>\n",
       "      <td>0</td>\n",
       "    </tr>\n",
       "    <tr>\n",
       "      <th>LU__Commercial</th>\n",
       "      <td>0</td>\n",
       "      <td>0</td>\n",
       "      <td>0</td>\n",
       "      <td>0</td>\n",
       "    </tr>\n",
       "    <tr>\n",
       "      <th>LU__Commercial Condo Unit</th>\n",
       "      <td>0</td>\n",
       "      <td>0</td>\n",
       "      <td>0</td>\n",
       "      <td>0</td>\n",
       "    </tr>\n",
       "    <tr>\n",
       "      <th>LU__Commercial Land</th>\n",
       "      <td>0</td>\n",
       "      <td>0</td>\n",
       "      <td>0</td>\n",
       "      <td>0</td>\n",
       "    </tr>\n",
       "    <tr>\n",
       "      <th>LU__Exempt</th>\n",
       "      <td>0</td>\n",
       "      <td>0</td>\n",
       "      <td>0</td>\n",
       "      <td>0</td>\n",
       "    </tr>\n",
       "    <tr>\n",
       "      <th>LU__Industrial</th>\n",
       "      <td>0</td>\n",
       "      <td>0</td>\n",
       "      <td>0</td>\n",
       "      <td>0</td>\n",
       "    </tr>\n",
       "    <tr>\n",
       "      <th>LU__Mixed Use Res/Comm</th>\n",
       "      <td>0</td>\n",
       "      <td>0</td>\n",
       "      <td>0</td>\n",
       "      <td>0</td>\n",
       "    </tr>\n",
       "    <tr>\n",
       "      <th>LU__Residential Condo Unit</th>\n",
       "      <td>0</td>\n",
       "      <td>0</td>\n",
       "      <td>0</td>\n",
       "      <td>0</td>\n",
       "    </tr>\n",
       "    <tr>\n",
       "      <th>LU__Residential Land</th>\n",
       "      <td>0</td>\n",
       "      <td>0</td>\n",
       "      <td>0</td>\n",
       "      <td>0</td>\n",
       "    </tr>\n",
       "    <tr>\n",
       "      <th>LU__Residential Single Family</th>\n",
       "      <td>0</td>\n",
       "      <td>0</td>\n",
       "      <td>0</td>\n",
       "      <td>0</td>\n",
       "    </tr>\n",
       "    <tr>\n",
       "      <th>LU__Residential Three Family</th>\n",
       "      <td>1</td>\n",
       "      <td>1</td>\n",
       "      <td>1</td>\n",
       "      <td>1</td>\n",
       "    </tr>\n",
       "    <tr>\n",
       "      <th>LU__Residential Two Family</th>\n",
       "      <td>0</td>\n",
       "      <td>0</td>\n",
       "      <td>0</td>\n",
       "      <td>0</td>\n",
       "    </tr>\n",
       "  </tbody>\n",
       "</table>\n",
       "<p>72 rows × 4 columns</p>\n",
       "</div>"
      ],
      "text/plain": [
       "                                             0                 1  \\\n",
       "AV_BLDG                                 235300            281200   \n",
       "AV_LAND                                 129900            121000   \n",
       "GROSS_AREA                                3353              3299   \n",
       "LAND_SF                                   1150              1150   \n",
       "LIVING_ARE                                2202              2307   \n",
       "OWN_OCC                                      1                 0   \n",
       "PID                                  100001000         100002000   \n",
       "R_BDRMS                                      6                 3   \n",
       "R_FULL_BTH                                   3                 3   \n",
       "R_TOTAL_RM                                  12                 9   \n",
       "SHAPESTAre                             210.211           197.875   \n",
       "SHAPESTLen                             65.8427           64.6974   \n",
       "YR_BUILT                                  1900              1920   \n",
       "YR_REMOD                                     0              2000   \n",
       "st_num_group                                 1                 1   \n",
       "addr_group                       PUTNAM ST-1.0  LEXINGTON ST-1.0   \n",
       "NOT_Top2010PermTypdollars                  350                 0   \n",
       "NOT_Top2011PermTypdollars                    0                 0   \n",
       "NOT_Top2012PermTypdollars                    0                 0   \n",
       "NOT_Top2013PermTypdollars                    0                 0   \n",
       "NOT_Top2014PermTypdollars                    0                 0   \n",
       "NOT_Top2015PermTypdollars                    0                 0   \n",
       "NOT_Top2012PermTypNum                        0                 0   \n",
       "NOT_Top2013PermTypNum                        0                 0   \n",
       "NOT_Top2014PermTypNum                        0                 0   \n",
       "NOT_Top2015PermTypNum                        0                 0   \n",
       "Outbldg_1_Sqft                             280                 0   \n",
       "Thr12011to2013_Building                      1               NaN   \n",
       "Thr12011to2013_Housing                       0               NaN   \n",
       "Thr12011to2013_Recycling-Pickup              0               NaN   \n",
       "...                                        ...               ...   \n",
       "Thr12014_Recycling-Pickup                    0               NaN   \n",
       "Thr12014_Trees                               0               NaN   \n",
       "Thr12015_Recycling-Pickup                    0               NaN   \n",
       "FIPS                               2.50251e+10       2.50251e+10   \n",
       "neighborhood                       East Boston       East Boston   \n",
       "hmile_grid_cell_R                           34                34   \n",
       "hmile_grid_cell_C                           43                44   \n",
       "hmile_grid_cell                   (43.0, 34.0)      (44.0, 34.0)   \n",
       "ctb25093var_HD01_VD21                      170               170   \n",
       "ctb1001var_HD01_VD41                       116               116   \n",
       "home_age_in_2016                           116                96   \n",
       "home_age_when_remodeled                  -1900                80   \n",
       "yrs_since_2016_when_remodeled             2016                16   \n",
       "shape_vs_length                        3.19262           3.05847   \n",
       "tot_rooms_per_k_bldg_sf             0.00544959        0.00390117   \n",
       "is_solar                                     0                 0   \n",
       "Heat_Type__Electric                          0                 0   \n",
       "LU__Apartments 4-6 Units                     0                 0   \n",
       "LU__Apartments 7 Units above                 0                 0   \n",
       "LU__Commercial                               0                 0   \n",
       "LU__Commercial Condo Unit                    0                 0   \n",
       "LU__Commercial Land                          0                 0   \n",
       "LU__Exempt                                   0                 0   \n",
       "LU__Industrial                               0                 0   \n",
       "LU__Mixed Use Res/Comm                       0                 0   \n",
       "LU__Residential Condo Unit                   0                 0   \n",
       "LU__Residential Land                         0                 0   \n",
       "LU__Residential Single Family                0                 0   \n",
       "LU__Residential Three Family                 1                 1   \n",
       "LU__Residential Two Family                   0                 0   \n",
       "\n",
       "                                                2                 3  \n",
       "AV_BLDG                                    244700            227800  \n",
       "AV_LAND                                    121400            121900  \n",
       "GROSS_AREA                                   3392              3108  \n",
       "LAND_SF                                      1150              1150  \n",
       "LIVING_ARE                                   2268              2028  \n",
       "OWN_OCC                                         0                 0  \n",
       "PID                                     100003000         100004000  \n",
       "R_BDRMS                                         5                 5  \n",
       "R_FULL_BTH                                      3                 3  \n",
       "R_TOTAL_RM                                     13                11  \n",
       "SHAPESTAre                                195.145           203.188  \n",
       "SHAPESTLen                                64.3452           64.8983  \n",
       "YR_BUILT                                     1905              1900  \n",
       "YR_REMOD                                     1985              1991  \n",
       "st_num_group                                    1                 2  \n",
       "addr_group                       LEXINGTON ST-1.0  LEXINGTON ST-2.0  \n",
       "NOT_Top2010PermTypdollars                       0                 0  \n",
       "NOT_Top2011PermTypdollars                       0                 0  \n",
       "NOT_Top2012PermTypdollars                       0                 0  \n",
       "NOT_Top2013PermTypdollars                       0                 0  \n",
       "NOT_Top2014PermTypdollars                       0                 0  \n",
       "NOT_Top2015PermTypdollars                       0                 0  \n",
       "NOT_Top2012PermTypNum                           0                 0  \n",
       "NOT_Top2013PermTypNum                           0                 0  \n",
       "NOT_Top2014PermTypNum                           0                 0  \n",
       "NOT_Top2015PermTypNum                           0                 0  \n",
       "Outbldg_1_Sqft                                  0                 0  \n",
       "Thr12011to2013_Building                       NaN               NaN  \n",
       "Thr12011to2013_Housing                        NaN               NaN  \n",
       "Thr12011to2013_Recycling-Pickup               NaN               NaN  \n",
       "...                                           ...               ...  \n",
       "Thr12014_Recycling-Pickup                     NaN               NaN  \n",
       "Thr12014_Trees                                NaN               NaN  \n",
       "Thr12015_Recycling-Pickup                     NaN               NaN  \n",
       "FIPS                                  2.50251e+10       2.50251e+10  \n",
       "neighborhood                          East Boston       East Boston  \n",
       "hmile_grid_cell_R                              34                34  \n",
       "hmile_grid_cell_C                              44                44  \n",
       "hmile_grid_cell                      (44.0, 34.0)      (44.0, 34.0)  \n",
       "ctb25093var_HD01_VD21                         170               170  \n",
       "ctb1001var_HD01_VD41                          116               116  \n",
       "home_age_in_2016                              111               116  \n",
       "home_age_when_remodeled                        80                91  \n",
       "yrs_since_2016_when_remodeled                  31                25  \n",
       "shape_vs_length                           3.03278           3.13086  \n",
       "tot_rooms_per_k_bldg_sf                0.00573192        0.00542406  \n",
       "is_solar                                        0                 0  \n",
       "Heat_Type__Electric                             0                 0  \n",
       "LU__Apartments 4-6 Units                        0                 0  \n",
       "LU__Apartments 7 Units above                    0                 0  \n",
       "LU__Commercial                                  0                 0  \n",
       "LU__Commercial Condo Unit                       0                 0  \n",
       "LU__Commercial Land                             0                 0  \n",
       "LU__Exempt                                      0                 0  \n",
       "LU__Industrial                                  0                 0  \n",
       "LU__Mixed Use Res/Comm                          0                 0  \n",
       "LU__Residential Condo Unit                      0                 0  \n",
       "LU__Residential Land                            0                 0  \n",
       "LU__Residential Single Family                   0                 0  \n",
       "LU__Residential Three Family                    1                 1  \n",
       "LU__Residential Two Family                      0                 0  \n",
       "\n",
       "[72 rows x 4 columns]"
      ]
     },
     "execution_count": 21,
     "metadata": {},
     "output_type": "execute_result"
    }
   ],
   "source": [
    "model_file_aggr_cols.head(4).T"
   ]
  },
  {
   "cell_type": "code",
   "execution_count": 22,
   "metadata": {
    "collapsed": false
   },
   "outputs": [
    {
     "data": {
      "text/plain": [
       "\"\\n###\\n\\nThe sdev won't work if there are any string values in the df\\n##\\n\""
      ]
     },
     "execution_count": 22,
     "metadata": {},
     "output_type": "execute_result"
    }
   ],
   "source": [
    "\n",
    "model_file_addr_count = model_file_aggr_cols.groupby('addr_group',as_index = False).count()\n",
    "#model_file_addr_num_recs = model_file.groupby('addr_group',as_index = False).size() # this is just the same value across all col's\n",
    "model_file_addr_mean = model_file_aggr_cols.groupby('addr_group',as_index = False).mean()\n",
    "model_file_addr_median = model_file_aggr_cols.groupby('addr_group',as_index = False).median()\n",
    "#model_file_addr_mode = model_aggr_on.groupby('addr_group').mode()\n",
    "#model_file_addr_sdev = model_aggr_on.groupby('addr_group',as_index = False).std()\n",
    "model_file_addr_sum = model_file_aggr_cols.groupby('addr_group',as_index = False).sum()\n",
    "\n",
    "model_file_halfMile_count = model_file_aggr_cols.groupby('hmile_grid_cell',as_index = False).count()\n",
    "model_file_halfMile_mean = model_file_aggr_cols.groupby('hmile_grid_cell',as_index = False).mean()\n",
    "model_file_halfMile_median = model_file_aggr_cols.groupby('hmile_grid_cell',as_index = False).median()\n",
    "#model_file_halfMile_mode = model_aggr_on.groupby('hmile_grid_cell',as_index = False).mode()\n",
    "#model_file_halfMile_sdev = model_aggr_on.groupby('hmile_grid_cell',as_index = False).std()\n",
    "model_file_halfMile_sum = model_file_aggr_cols.groupby('hmile_grid_cell',as_index = False).sum()\n",
    "\n",
    "model_file_nbrhood_count = model_file_aggr_cols.groupby('neighborhood',as_index = False).count()\n",
    "model_file_nbrhood_mean = model_file_aggr_cols.groupby('neighborhood',as_index = False).mean()\n",
    "model_file_nbrhood_median = model_file_aggr_cols.groupby('neighborhood',as_index = False).median()\n",
    "#model_file_nbrhood_mode = model_aggr_on.groupby('neighborhood',as_index = False).mode()\n",
    "#model_file_nbrhood_sdev = model_aggr_on.groupby('neighborhood',as_index = False).std()\n",
    "model_file_nbrhood_sum = model_file_aggr_cols.groupby('neighborhood',as_index = False).sum()\n",
    "\n",
    "model_file_centrct_count = model_file_aggr_cols.groupby('FIPS',as_index = False).count()\n",
    "model_file_centrct_mean = model_file_aggr_cols.groupby('FIPS',as_index = False).mean()\n",
    "model_file_centrct_median = model_file_aggr_cols.groupby('FIPS',as_index = False).median()\n",
    "#model_file_centrct_mode = model_aggr_on.groupby('FIPS',as_index = False).mode()\n",
    "#model_file_centrct_sdev = model_aggr_on.groupby('FIPS',as_index = False).std()\n",
    "model_file_centrct_sum = model_file_aggr_cols.groupby('FIPS',as_index = False).sum()\n",
    "\n",
    "\n",
    "\"\"\"\n",
    "###\n",
    "\n",
    "The sdev won't work if there are any string values in the df\n",
    "##\n",
    "\"\"\""
   ]
  },
  {
   "cell_type": "code",
   "execution_count": 23,
   "metadata": {
    "collapsed": false
   },
   "outputs": [
    {
     "data": {
      "text/plain": [
       "(92052, 404)"
      ]
     },
     "execution_count": 23,
     "metadata": {},
     "output_type": "execute_result"
    }
   ],
   "source": [
    "model_file.shape"
   ]
  },
  {
   "cell_type": "markdown",
   "metadata": {},
   "source": [
    "### Create joined file aggregate level stats (eg 1 table for sum, count, median @ level = ____ and merge that to the main model file"
   ]
  },
  {
   "cell_type": "code",
   "execution_count": 24,
   "metadata": {
    "collapsed": false
   },
   "outputs": [],
   "source": [
    "# first, rename columns so that merge will not try to add suffixes (or not find) a column:\n",
    "# Note, the 2 lists are for reference. I just cut and pasted into the lambda functions below:\n",
    "\n",
    "aggregate_tables = ['model_file_addr_count','model_file_addr_mean','model_file_addr_median',\n",
    "                    'model_file_halfMile_count','model_file_halfMile_mean','model_file_halfMile_median',\n",
    "                    'model_file_nbrhood_count','model_file_nbrhood_mean','model_file_nbrhood_median',\n",
    "                   'model_file_centrct_count', 'model_file_centrct_mean', 'model_file_centrct_median']\n",
    "\n",
    "aggregate_suffixes = ['addr_ct','addr_av','add_md','hmil_ct','hmil_av','hmil_md',\n",
    "                    'nbhd_ct','nbhd_av','nbhd_md','ctrt_ct', 'ctrt_av', 'ctrt_md']\n",
    "\n",
    "# The lambda functions:\n",
    "model_file_addr_count.rename(columns = lambda x: x + '_FOR_addr_cnt', inplace = True)\n",
    "model_file_addr_mean.rename(columns = lambda x: x + '_FOR_addr_avg', inplace = True)\n",
    "model_file_addr_median.rename(columns = lambda x: x + '_FOR_addr_med', inplace = True)\n",
    "model_file_halfMile_count.rename(columns = lambda x: x + '_FOR_hmil_cnt', inplace = True)\n",
    "model_file_halfMile_mean.rename(columns = lambda x: x + '_FOR_hmil_avg', inplace = True)\n",
    "model_file_halfMile_median.rename(columns = lambda x: x + '_FOR_hmil_med', inplace = True)\n",
    "model_file_nbrhood_count.rename(columns = lambda x: x + '_FOR_nbhd_cnt', inplace = True)\n",
    "model_file_nbrhood_mean.rename(columns = lambda x: x + '_FOR_nbhd_avg', inplace = True)\n",
    "model_file_nbrhood_median.rename(columns = lambda x: x + '_FOR_nbhd_med', inplace = True)\n",
    "model_file_centrct_count.rename(columns = lambda x: x + '_FOR_ctrt_cnt', inplace = True)\n",
    "model_file_centrct_mean.rename(columns = lambda x: x + '_FOR_ctrt_avg', inplace = True)\n",
    "model_file_centrct_median.rename(columns = lambda x: x + '_FOR_ctrt_med', inplace = True)\n"
   ]
  },
  {
   "cell_type": "code",
   "execution_count": 25,
   "metadata": {
    "collapsed": false
   },
   "outputs": [],
   "source": [
    "\n",
    "# second, join one and two files as :\n",
    "addr_group_step2 = pd.merge(model_file_addr_count, model_file_addr_median, left_on = 'addr_group_FOR_addr_cnt', right_on = 'addr_group_FOR_addr_med', how = 'left', suffixes=('', '_y'))\n",
    "# # # add in third for :\n",
    "addr_group_final = pd.merge(addr_group_step2, model_file_addr_mean, left_on = 'addr_group_FOR_addr_cnt', right_on ='addr_group_FOR_addr_avg', how = 'left' )\n",
    "# # # merge the final to model_file\n",
    "model_file_agg_ip = pd.merge(model_file, addr_group_final, left_on = 'addr_group', right_on ='addr_group_FOR_addr_cnt', how = 'left')\n",
    "\n",
    "#repeat procedure for grids and merge to main file\n",
    "grid_step2 = pd.merge(model_file_halfMile_count, model_file_halfMile_median,  left_on = 'hmile_grid_cell_FOR_hmil_cnt', right_on = 'hmile_grid_cell_FOR_hmil_med', how = 'left')\n",
    "grid_final = pd.merge(grid_step2, model_file_halfMile_mean,  left_on = 'hmile_grid_cell_FOR_hmil_cnt', right_on = 'hmile_grid_cell_FOR_hmil_avg', how = 'left')\n",
    "model_file_agg_ip2 = pd.merge(model_file_agg_ip, grid_final, left_on = 'hmile_grid_cell', right_on = 'hmile_grid_cell_FOR_hmil_cnt', how = 'left')\n",
    "\n",
    "\n",
    "\n",
    "nhood_step2 = pd.merge(model_file_nbrhood_count, model_file_nbrhood_median, left_on = 'neighborhood_FOR_nbhd_cnt', right_on = 'neighborhood_FOR_nbhd_med', how = 'left')\n",
    "nhood_final = pd.merge(nhood_step2, model_file_nbrhood_mean , left_on = 'neighborhood_FOR_nbhd_cnt', right_on = 'neighborhood_FOR_nbhd_avg', how = 'left')\n",
    "model_file_agg_ip3 = pd.merge(model_file_agg_ip2, nhood_final, left_on = 'neighborhood', right_on = 'neighborhood_FOR_nbhd_cnt', how = 'left')\n",
    "\n",
    "ctrt_step2 = pd.merge(model_file_centrct_count, model_file_centrct_median, left_on = 'FIPS_FOR_ctrt_cnt', right_on = 'FIPS_FOR_ctrt_med', how = 'left')\n",
    "ctrt_final = pd.merge(ctrt_step2, model_file_centrct_mean, left_on = 'FIPS_FOR_ctrt_cnt', right_on = 'FIPS_FOR_ctrt_avg', how = 'left')\n",
    "model_agg_ip4 = pd.merge(model_file_agg_ip3, ctrt_final, left_on = 'FIPS', right_on = 'FIPS_FOR_ctrt_cnt', how = 'left')"
   ]
  },
  {
   "cell_type": "markdown",
   "metadata": {},
   "source": [
    "### delete 'in-process' files and rename final file back to model_file"
   ]
  },
  {
   "cell_type": "code",
   "execution_count": 26,
   "metadata": {
    "collapsed": false
   },
   "outputs": [],
   "source": [
    "del addr_group_step2\n",
    "del addr_group_final\n",
    "del model_file_agg_ip\n",
    "del grid_step2\n",
    "del grid_final\n",
    "del model_file_agg_ip2\n",
    "del nhood_step2\n",
    "del nhood_final\n",
    "del model_file_agg_ip3\n",
    "del ctrt_step2\n",
    "del ctrt_final\n",
    "\n",
    "\n",
    "model_file = model_agg_ip4"
   ]
  },
  {
   "cell_type": "code",
   "execution_count": 27,
   "metadata": {
    "collapsed": false
   },
   "outputs": [
    {
     "data": {
      "text/plain": [
       "(92052, 1250)"
      ]
     },
     "execution_count": 27,
     "metadata": {},
     "output_type": "execute_result"
    }
   ],
   "source": [
    "model_file.shape"
   ]
  },
  {
   "cell_type": "code",
   "execution_count": 28,
   "metadata": {
    "collapsed": false
   },
   "outputs": [],
   "source": [
    "del model_agg_ip4"
   ]
  },
  {
   "cell_type": "markdown",
   "metadata": {},
   "source": [
    "## confirm all joined columns are ready for get_dummies and remove non-informative col's"
   ]
  },
  {
   "cell_type": "code",
   "execution_count": 29,
   "metadata": {
    "collapsed": false
   },
   "outputs": [
    {
     "data": {
      "text/plain": [
       "[dtype('int64'),\n",
       " dtype('int64'),\n",
       " dtype('int64'),\n",
       " dtype('int64'),\n",
       " dtype('float64'),\n",
       " dtype('float64'),\n",
       " dtype('float64'),\n",
       " dtype('O'),\n",
       " dtype('float64'),\n",
       " dtype('int64'),\n",
       " dtype('int64'),\n",
       " dtype('int64'),\n",
       " dtype('int64'),\n",
       " dtype('O'),\n",
       " dtype('float64'),\n",
       " dtype('O'),\n",
       " dtype('O'),\n",
       " dtype('float64'),\n",
       " dtype('float64'),\n",
       " dtype('float64'),\n",
       " dtype('O'),\n",
       " dtype('float64'),\n",
       " dtype('O'),\n",
       " dtype('float64'),\n",
       " dtype('float64'),\n",
       " dtype('float64'),\n",
       " dtype('O'),\n",
       " dtype('float64'),\n",
       " dtype('float64'),\n",
       " dtype('O'),\n",
       " dtype('O'),\n",
       " dtype('bool'),\n",
       " dtype('float64'),\n",
       " dtype('O'),\n",
       " dtype('O'),\n",
       " dtype('float64'),\n",
       " dtype('float64'),\n",
       " dtype('float64'),\n",
       " dtype('float64'),\n",
       " dtype('float64'),\n",
       " dtype('float64'),\n",
       " dtype('float64'),\n",
       " dtype('float64'),\n",
       " dtype('float64'),\n",
       " dtype('float64'),\n",
       " dtype('float64'),\n",
       " dtype('float64'),\n",
       " dtype('float64'),\n",
       " dtype('float64'),\n",
       " dtype('float64'),\n",
       " dtype('float64'),\n",
       " dtype('float64'),\n",
       " dtype('float64'),\n",
       " dtype('float64'),\n",
       " dtype('float64'),\n",
       " dtype('float64'),\n",
       " dtype('float64'),\n",
       " dtype('float64'),\n",
       " dtype('float64'),\n",
       " dtype('float64'),\n",
       " dtype('float64'),\n",
       " dtype('float64'),\n",
       " dtype('float64'),\n",
       " dtype('float64'),\n",
       " dtype('float64'),\n",
       " dtype('float64'),\n",
       " dtype('float64'),\n",
       " dtype('float64'),\n",
       " dtype('int64'),\n",
       " dtype('O'),\n",
       " dtype('O'),\n",
       " dtype('O'),\n",
       " dtype('O'),\n",
       " dtype('O'),\n",
       " dtype('O'),\n",
       " dtype('O'),\n",
       " dtype('O'),\n",
       " dtype('O'),\n",
       " dtype('O'),\n",
       " dtype('O'),\n",
       " dtype('float64'),\n",
       " dtype('O'),\n",
       " dtype('O'),\n",
       " dtype('float64'),\n",
       " dtype('float64'),\n",
       " dtype('float64'),\n",
       " dtype('O'),\n",
       " dtype('O'),\n",
       " dtype('O'),\n",
       " dtype('O'),\n",
       " dtype('float64'),\n",
       " dtype('float64'),\n",
       " dtype('float64'),\n",
       " dtype('float64'),\n",
       " dtype('float64'),\n",
       " dtype('float64'),\n",
       " dtype('float64'),\n",
       " dtype('float64'),\n",
       " dtype('float64'),\n",
       " dtype('float64'),\n",
       " dtype('float64'),\n",
       " dtype('float64'),\n",
       " dtype('float64'),\n",
       " dtype('float64'),\n",
       " dtype('float64'),\n",
       " dtype('float64'),\n",
       " dtype('float64'),\n",
       " dtype('float64'),\n",
       " dtype('float64'),\n",
       " dtype('float64'),\n",
       " dtype('float64'),\n",
       " dtype('float64'),\n",
       " dtype('float64'),\n",
       " dtype('float64'),\n",
       " dtype('float64'),\n",
       " dtype('float64'),\n",
       " dtype('float64'),\n",
       " dtype('float64'),\n",
       " dtype('float64'),\n",
       " dtype('float64'),\n",
       " dtype('float64'),\n",
       " dtype('float64'),\n",
       " dtype('float64'),\n",
       " dtype('float64'),\n",
       " dtype('float64'),\n",
       " dtype('float64'),\n",
       " dtype('float64'),\n",
       " dtype('float64'),\n",
       " dtype('float64'),\n",
       " dtype('float64'),\n",
       " dtype('float64'),\n",
       " dtype('float64'),\n",
       " dtype('float64'),\n",
       " dtype('float64'),\n",
       " dtype('float64'),\n",
       " dtype('float64'),\n",
       " dtype('float64'),\n",
       " dtype('float64'),\n",
       " dtype('float64'),\n",
       " dtype('float64'),\n",
       " dtype('float64'),\n",
       " dtype('float64'),\n",
       " dtype('float64'),\n",
       " dtype('float64'),\n",
       " dtype('float64'),\n",
       " dtype('float64'),\n",
       " dtype('float64'),\n",
       " dtype('float64'),\n",
       " dtype('float64'),\n",
       " dtype('float64'),\n",
       " dtype('float64'),\n",
       " dtype('float64'),\n",
       " dtype('float64'),\n",
       " dtype('float64'),\n",
       " dtype('float64'),\n",
       " dtype('float64'),\n",
       " dtype('float64'),\n",
       " dtype('bool'),\n",
       " dtype('float64'),\n",
       " dtype('float64'),\n",
       " dtype('O'),\n",
       " dtype('float64'),\n",
       " dtype('float64'),\n",
       " dtype('O'),\n",
       " dtype('float64'),\n",
       " dtype('float64'),\n",
       " dtype('float64'),\n",
       " dtype('float64'),\n",
       " dtype('float64'),\n",
       " dtype('float64'),\n",
       " dtype('float64'),\n",
       " dtype('float64'),\n",
       " dtype('float64'),\n",
       " dtype('float64'),\n",
       " dtype('float64'),\n",
       " dtype('float64'),\n",
       " dtype('float64'),\n",
       " dtype('float64'),\n",
       " dtype('float64'),\n",
       " dtype('float64'),\n",
       " dtype('float64'),\n",
       " dtype('float64'),\n",
       " dtype('float64'),\n",
       " dtype('float64'),\n",
       " dtype('float64'),\n",
       " dtype('float64'),\n",
       " dtype('float64'),\n",
       " dtype('float64'),\n",
       " dtype('float64'),\n",
       " dtype('float64'),\n",
       " dtype('float64'),\n",
       " dtype('float64'),\n",
       " dtype('float64'),\n",
       " dtype('float64'),\n",
       " dtype('float64'),\n",
       " dtype('float64'),\n",
       " dtype('float64'),\n",
       " dtype('float64'),\n",
       " dtype('float64'),\n",
       " dtype('float64'),\n",
       " dtype('float64'),\n",
       " dtype('float64'),\n",
       " dtype('float64'),\n",
       " dtype('float64'),\n",
       " dtype('float64'),\n",
       " dtype('float64'),\n",
       " dtype('float64'),\n",
       " dtype('float64'),\n",
       " dtype('float64'),\n",
       " dtype('float64'),\n",
       " dtype('float64'),\n",
       " dtype('float64'),\n",
       " dtype('float64'),\n",
       " dtype('float64'),\n",
       " dtype('float64'),\n",
       " dtype('float64'),\n",
       " dtype('float64'),\n",
       " dtype('float64'),\n",
       " dtype('float64'),\n",
       " dtype('float64'),\n",
       " dtype('float64'),\n",
       " dtype('float64'),\n",
       " dtype('float64'),\n",
       " dtype('float64'),\n",
       " dtype('float64'),\n",
       " dtype('float64'),\n",
       " dtype('float64'),\n",
       " dtype('float64'),\n",
       " dtype('float64'),\n",
       " dtype('float64'),\n",
       " dtype('float64'),\n",
       " dtype('float64'),\n",
       " dtype('float64'),\n",
       " dtype('float64'),\n",
       " dtype('float64'),\n",
       " dtype('float64'),\n",
       " dtype('float64'),\n",
       " dtype('float64'),\n",
       " dtype('float64'),\n",
       " dtype('float64'),\n",
       " dtype('float64'),\n",
       " dtype('float64'),\n",
       " dtype('float64'),\n",
       " dtype('float64'),\n",
       " dtype('float64'),\n",
       " dtype('float64'),\n",
       " dtype('float64'),\n",
       " dtype('float64'),\n",
       " dtype('float64'),\n",
       " dtype('float64'),\n",
       " dtype('float64'),\n",
       " dtype('float64'),\n",
       " dtype('float64'),\n",
       " dtype('float64'),\n",
       " dtype('float64'),\n",
       " dtype('float64'),\n",
       " dtype('float64'),\n",
       " dtype('float64'),\n",
       " dtype('float64'),\n",
       " dtype('float64'),\n",
       " dtype('float64'),\n",
       " dtype('float64'),\n",
       " dtype('float64'),\n",
       " dtype('float64'),\n",
       " dtype('float64'),\n",
       " dtype('float64'),\n",
       " dtype('float64'),\n",
       " dtype('float64'),\n",
       " dtype('float64'),\n",
       " dtype('float64'),\n",
       " dtype('float64'),\n",
       " dtype('float64'),\n",
       " dtype('float64'),\n",
       " dtype('float64'),\n",
       " dtype('float64'),\n",
       " dtype('float64'),\n",
       " dtype('float64'),\n",
       " dtype('float64'),\n",
       " dtype('float64'),\n",
       " dtype('float64'),\n",
       " dtype('float64'),\n",
       " dtype('float64'),\n",
       " dtype('float64'),\n",
       " dtype('float64'),\n",
       " dtype('float64'),\n",
       " dtype('float64'),\n",
       " dtype('float64'),\n",
       " dtype('float64'),\n",
       " dtype('float64'),\n",
       " dtype('float64'),\n",
       " dtype('float64'),\n",
       " dtype('float64'),\n",
       " dtype('float64'),\n",
       " dtype('float64'),\n",
       " dtype('float64'),\n",
       " dtype('float64'),\n",
       " dtype('float64'),\n",
       " dtype('float64'),\n",
       " dtype('float64'),\n",
       " dtype('float64'),\n",
       " dtype('float64'),\n",
       " dtype('float64'),\n",
       " dtype('float64'),\n",
       " dtype('float64'),\n",
       " dtype('float64'),\n",
       " dtype('float64'),\n",
       " dtype('float64'),\n",
       " dtype('float64'),\n",
       " dtype('float64'),\n",
       " dtype('float64'),\n",
       " dtype('float64'),\n",
       " dtype('float64'),\n",
       " dtype('float64'),\n",
       " dtype('float64'),\n",
       " dtype('float64'),\n",
       " dtype('float64'),\n",
       " dtype('float64'),\n",
       " dtype('float64'),\n",
       " dtype('float64'),\n",
       " dtype('float64'),\n",
       " dtype('float64'),\n",
       " dtype('float64'),\n",
       " dtype('float64'),\n",
       " dtype('float64'),\n",
       " dtype('float64'),\n",
       " dtype('float64'),\n",
       " dtype('float64'),\n",
       " dtype('float64'),\n",
       " dtype('float64'),\n",
       " dtype('float64'),\n",
       " dtype('float64'),\n",
       " dtype('float64'),\n",
       " dtype('float64'),\n",
       " dtype('float64'),\n",
       " dtype('float64'),\n",
       " dtype('float64'),\n",
       " dtype('float64'),\n",
       " dtype('float64'),\n",
       " dtype('float64'),\n",
       " dtype('float64'),\n",
       " dtype('float64'),\n",
       " dtype('float64'),\n",
       " dtype('float64'),\n",
       " dtype('float64'),\n",
       " dtype('float64'),\n",
       " dtype('float64'),\n",
       " dtype('float64'),\n",
       " dtype('float64'),\n",
       " dtype('float64'),\n",
       " dtype('float64'),\n",
       " dtype('float64'),\n",
       " dtype('float64'),\n",
       " dtype('float64'),\n",
       " dtype('float64'),\n",
       " dtype('float64'),\n",
       " dtype('float64'),\n",
       " dtype('float64'),\n",
       " dtype('float64'),\n",
       " dtype('float64'),\n",
       " dtype('float64'),\n",
       " dtype('float64'),\n",
       " dtype('float64'),\n",
       " dtype('float64'),\n",
       " dtype('float64'),\n",
       " dtype('float64'),\n",
       " dtype('float64'),\n",
       " dtype('float64'),\n",
       " dtype('float64'),\n",
       " dtype('float64'),\n",
       " dtype('int64'),\n",
       " dtype('float64'),\n",
       " dtype('float64'),\n",
       " dtype('float64'),\n",
       " dtype('float64'),\n",
       " dtype('float64'),\n",
       " dtype('float64'),\n",
       " dtype('float64'),\n",
       " dtype('float64'),\n",
       " dtype('float64'),\n",
       " dtype('float64'),\n",
       " dtype('float64'),\n",
       " dtype('float64'),\n",
       " dtype('float64'),\n",
       " dtype('float64'),\n",
       " dtype('float64'),\n",
       " dtype('float64'),\n",
       " dtype('float64'),\n",
       " dtype('float64'),\n",
       " dtype('float64'),\n",
       " dtype('float64'),\n",
       " dtype('float64'),\n",
       " dtype('float64'),\n",
       " dtype('float64'),\n",
       " dtype('float64'),\n",
       " dtype('float64'),\n",
       " dtype('float64'),\n",
       " dtype('float64'),\n",
       " dtype('float64'),\n",
       " dtype('float64'),\n",
       " dtype('float64'),\n",
       " dtype('float64'),\n",
       " dtype('float64'),\n",
       " dtype('float64'),\n",
       " dtype('float64'),\n",
       " dtype('O'),\n",
       " dtype('int64'),\n",
       " dtype('int64'),\n",
       " dtype('int64'),\n",
       " dtype('int64'),\n",
       " dtype('int64'),\n",
       " dtype('int64'),\n",
       " dtype('int64'),\n",
       " dtype('int64'),\n",
       " dtype('int64'),\n",
       " dtype('int64'),\n",
       " dtype('int64'),\n",
       " dtype('int64'),\n",
       " dtype('int64'),\n",
       " dtype('int64'),\n",
       " dtype('int64'),\n",
       " dtype('int64'),\n",
       " dtype('int64'),\n",
       " dtype('int64'),\n",
       " dtype('int64'),\n",
       " dtype('int64'),\n",
       " dtype('int64'),\n",
       " dtype('int64'),\n",
       " dtype('int64'),\n",
       " dtype('int64'),\n",
       " dtype('int64'),\n",
       " dtype('int64'),\n",
       " dtype('int64'),\n",
       " dtype('int64'),\n",
       " dtype('int64'),\n",
       " dtype('int64'),\n",
       " dtype('int64'),\n",
       " dtype('int64'),\n",
       " dtype('int64'),\n",
       " dtype('int64'),\n",
       " dtype('int64'),\n",
       " dtype('int64'),\n",
       " dtype('int64'),\n",
       " dtype('int64'),\n",
       " dtype('int64'),\n",
       " dtype('int64'),\n",
       " dtype('int64'),\n",
       " dtype('int64'),\n",
       " dtype('int64'),\n",
       " dtype('int64'),\n",
       " dtype('int64'),\n",
       " dtype('int64'),\n",
       " dtype('int64'),\n",
       " dtype('int64'),\n",
       " dtype('int64'),\n",
       " dtype('int64'),\n",
       " dtype('int64'),\n",
       " dtype('int64'),\n",
       " dtype('int64'),\n",
       " dtype('int64'),\n",
       " dtype('int64'),\n",
       " dtype('int64'),\n",
       " dtype('int64'),\n",
       " dtype('int64'),\n",
       " dtype('int64'),\n",
       " dtype('int64'),\n",
       " dtype('int64'),\n",
       " dtype('int64'),\n",
       " dtype('int64'),\n",
       " dtype('int64'),\n",
       " dtype('int64'),\n",
       " dtype('int64'),\n",
       " dtype('int64'),\n",
       " dtype('int64'),\n",
       " dtype('int64'),\n",
       " dtype('int64'),\n",
       " dtype('int64'),\n",
       " dtype('O'),\n",
       " dtype('float64'),\n",
       " dtype('float64'),\n",
       " dtype('float64'),\n",
       " dtype('float64'),\n",
       " dtype('float64'),\n",
       " dtype('float64'),\n",
       " dtype('float64'),\n",
       " dtype('float64'),\n",
       " dtype('float64'),\n",
       " dtype('float64'),\n",
       " dtype('float64'),\n",
       " dtype('float64'),\n",
       " dtype('float64'),\n",
       " dtype('float64'),\n",
       " dtype('float64'),\n",
       " dtype('float64'),\n",
       " dtype('float64'),\n",
       " dtype('float64'),\n",
       " dtype('float64'),\n",
       " dtype('float64'),\n",
       " dtype('float64'),\n",
       " dtype('float64'),\n",
       " dtype('float64'),\n",
       " dtype('float64'),\n",
       " dtype('float64'),\n",
       " dtype('float64'),\n",
       " dtype('float64'),\n",
       " dtype('float64'),\n",
       " dtype('float64'),\n",
       " dtype('float64'),\n",
       " dtype('float64'),\n",
       " dtype('float64'),\n",
       " dtype('float64'),\n",
       " dtype('float64'),\n",
       " dtype('float64'),\n",
       " dtype('float64'),\n",
       " dtype('float64'),\n",
       " dtype('float64'),\n",
       " dtype('float64'),\n",
       " dtype('float64'),\n",
       " dtype('float64'),\n",
       " dtype('float64'),\n",
       " dtype('float64'),\n",
       " dtype('float64'),\n",
       " dtype('float64'),\n",
       " dtype('float64'),\n",
       " dtype('float64'),\n",
       " dtype('float64'),\n",
       " dtype('float64'),\n",
       " dtype('float64'),\n",
       " dtype('float64'),\n",
       " dtype('float64'),\n",
       " dtype('float64'),\n",
       " dtype('float64'),\n",
       " dtype('float64'),\n",
       " dtype('float64'),\n",
       " dtype('float64'),\n",
       " dtype('float64'),\n",
       " dtype('float64'),\n",
       " dtype('float64'),\n",
       " dtype('float64'),\n",
       " dtype('float64'),\n",
       " dtype('float64'),\n",
       " dtype('float64'),\n",
       " dtype('float64'),\n",
       " dtype('float64'),\n",
       " dtype('float64'),\n",
       " dtype('float64'),\n",
       " dtype('float64'),\n",
       " dtype('O'),\n",
       " dtype('float64'),\n",
       " dtype('float64'),\n",
       " dtype('float64'),\n",
       " dtype('float64'),\n",
       " dtype('float64'),\n",
       " dtype('float64'),\n",
       " dtype('float64'),\n",
       " dtype('float64'),\n",
       " dtype('float64'),\n",
       " dtype('float64'),\n",
       " dtype('float64'),\n",
       " dtype('float64'),\n",
       " dtype('float64'),\n",
       " dtype('float64'),\n",
       " dtype('float64'),\n",
       " dtype('float64'),\n",
       " dtype('float64'),\n",
       " dtype('float64'),\n",
       " dtype('float64'),\n",
       " dtype('float64'),\n",
       " dtype('float64'),\n",
       " dtype('float64'),\n",
       " dtype('float64'),\n",
       " dtype('float64'),\n",
       " dtype('float64'),\n",
       " dtype('float64'),\n",
       " dtype('float64'),\n",
       " dtype('float64'),\n",
       " dtype('float64'),\n",
       " dtype('float64'),\n",
       " dtype('float64'),\n",
       " dtype('float64'),\n",
       " dtype('float64'),\n",
       " dtype('float64'),\n",
       " dtype('float64'),\n",
       " dtype('float64'),\n",
       " dtype('float64'),\n",
       " dtype('float64'),\n",
       " dtype('float64'),\n",
       " dtype('float64'),\n",
       " dtype('float64'),\n",
       " dtype('float64'),\n",
       " dtype('float64'),\n",
       " dtype('float64'),\n",
       " dtype('float64'),\n",
       " dtype('float64'),\n",
       " dtype('float64'),\n",
       " dtype('float64'),\n",
       " dtype('float64'),\n",
       " dtype('float64'),\n",
       " dtype('float64'),\n",
       " dtype('float64'),\n",
       " dtype('float64'),\n",
       " dtype('float64'),\n",
       " dtype('float64'),\n",
       " dtype('float64'),\n",
       " dtype('float64'),\n",
       " dtype('float64'),\n",
       " dtype('float64'),\n",
       " dtype('float64'),\n",
       " dtype('float64'),\n",
       " dtype('float64'),\n",
       " dtype('float64'),\n",
       " dtype('float64'),\n",
       " dtype('float64'),\n",
       " dtype('float64'),\n",
       " dtype('float64'),\n",
       " dtype('float64'),\n",
       " dtype('float64'),\n",
       " dtype('O'),\n",
       " dtype('int64'),\n",
       " dtype('int64'),\n",
       " dtype('int64'),\n",
       " dtype('int64'),\n",
       " dtype('int64'),\n",
       " dtype('int64'),\n",
       " dtype('int64'),\n",
       " dtype('int64'),\n",
       " dtype('int64'),\n",
       " dtype('int64'),\n",
       " dtype('int64'),\n",
       " dtype('int64'),\n",
       " dtype('int64'),\n",
       " dtype('int64'),\n",
       " dtype('int64'),\n",
       " dtype('int64'),\n",
       " dtype('int64'),\n",
       " dtype('int64'),\n",
       " dtype('int64'),\n",
       " dtype('int64'),\n",
       " dtype('int64'),\n",
       " dtype('int64'),\n",
       " dtype('int64'),\n",
       " dtype('int64'),\n",
       " dtype('int64'),\n",
       " dtype('int64'),\n",
       " dtype('int64'),\n",
       " dtype('int64'),\n",
       " dtype('int64'),\n",
       " dtype('int64'),\n",
       " dtype('int64'),\n",
       " dtype('int64'),\n",
       " dtype('int64'),\n",
       " dtype('int64'),\n",
       " dtype('int64'),\n",
       " dtype('int64'),\n",
       " dtype('int64'),\n",
       " dtype('int64'),\n",
       " dtype('int64'),\n",
       " dtype('int64'),\n",
       " dtype('int64'),\n",
       " dtype('int64'),\n",
       " dtype('int64'),\n",
       " dtype('int64'),\n",
       " dtype('int64'),\n",
       " dtype('int64'),\n",
       " dtype('int64'),\n",
       " dtype('int64'),\n",
       " dtype('int64'),\n",
       " dtype('int64'),\n",
       " dtype('int64'),\n",
       " dtype('int64'),\n",
       " dtype('int64'),\n",
       " dtype('int64'),\n",
       " dtype('int64'),\n",
       " dtype('int64'),\n",
       " dtype('int64'),\n",
       " dtype('int64'),\n",
       " dtype('int64'),\n",
       " dtype('int64'),\n",
       " dtype('int64'),\n",
       " dtype('int64'),\n",
       " dtype('int64'),\n",
       " dtype('int64'),\n",
       " dtype('int64'),\n",
       " dtype('int64'),\n",
       " dtype('int64'),\n",
       " dtype('int64'),\n",
       " dtype('int64'),\n",
       " dtype('int64'),\n",
       " dtype('int64'),\n",
       " dtype('O'),\n",
       " dtype('float64'),\n",
       " dtype('float64'),\n",
       " dtype('float64'),\n",
       " dtype('float64'),\n",
       " dtype('float64'),\n",
       " dtype('float64'),\n",
       " dtype('float64'),\n",
       " dtype('float64'),\n",
       " dtype('float64'),\n",
       " dtype('float64'),\n",
       " dtype('float64'),\n",
       " dtype('float64'),\n",
       " dtype('float64'),\n",
       " dtype('float64'),\n",
       " dtype('float64'),\n",
       " dtype('float64'),\n",
       " dtype('float64'),\n",
       " dtype('float64'),\n",
       " dtype('float64'),\n",
       " dtype('float64'),\n",
       " dtype('float64'),\n",
       " dtype('float64'),\n",
       " dtype('float64'),\n",
       " dtype('float64'),\n",
       " dtype('float64'),\n",
       " dtype('float64'),\n",
       " dtype('float64'),\n",
       " dtype('float64'),\n",
       " dtype('float64'),\n",
       " dtype('float64'),\n",
       " dtype('float64'),\n",
       " dtype('float64'),\n",
       " dtype('float64'),\n",
       " dtype('float64'),\n",
       " dtype('float64'),\n",
       " dtype('float64'),\n",
       " dtype('float64'),\n",
       " dtype('float64'),\n",
       " dtype('float64'),\n",
       " dtype('float64'),\n",
       " dtype('float64'),\n",
       " dtype('float64'),\n",
       " dtype('float64'),\n",
       " dtype('float64'),\n",
       " dtype('float64'),\n",
       " dtype('float64'),\n",
       " dtype('float64'),\n",
       " dtype('float64'),\n",
       " dtype('float64'),\n",
       " dtype('float64'),\n",
       " dtype('float64'),\n",
       " dtype('float64'),\n",
       " dtype('float64'),\n",
       " dtype('float64'),\n",
       " dtype('float64'),\n",
       " dtype('float64'),\n",
       " dtype('float64'),\n",
       " dtype('float64'),\n",
       " dtype('float64'),\n",
       " dtype('float64'),\n",
       " dtype('float64'),\n",
       " dtype('float64'),\n",
       " dtype('float64'),\n",
       " dtype('float64'),\n",
       " dtype('float64'),\n",
       " dtype('float64'),\n",
       " dtype('float64'),\n",
       " dtype('float64'),\n",
       " dtype('float64'),\n",
       " dtype('O'),\n",
       " dtype('float64'),\n",
       " dtype('float64'),\n",
       " dtype('float64'),\n",
       " dtype('float64'),\n",
       " dtype('float64'),\n",
       " dtype('float64'),\n",
       " dtype('float64'),\n",
       " dtype('float64'),\n",
       " dtype('float64'),\n",
       " dtype('float64'),\n",
       " dtype('float64'),\n",
       " dtype('float64'),\n",
       " dtype('float64'),\n",
       " dtype('float64'),\n",
       " dtype('float64'),\n",
       " dtype('float64'),\n",
       " dtype('float64'),\n",
       " dtype('float64'),\n",
       " dtype('float64'),\n",
       " dtype('float64'),\n",
       " dtype('float64'),\n",
       " dtype('float64'),\n",
       " dtype('float64'),\n",
       " dtype('float64'),\n",
       " dtype('float64'),\n",
       " dtype('float64'),\n",
       " dtype('float64'),\n",
       " dtype('float64'),\n",
       " dtype('float64'),\n",
       " dtype('float64'),\n",
       " dtype('float64'),\n",
       " dtype('float64'),\n",
       " dtype('float64'),\n",
       " dtype('float64'),\n",
       " dtype('float64'),\n",
       " dtype('float64'),\n",
       " dtype('float64'),\n",
       " dtype('float64'),\n",
       " dtype('float64'),\n",
       " dtype('float64'),\n",
       " dtype('float64'),\n",
       " dtype('float64'),\n",
       " dtype('float64'),\n",
       " dtype('float64'),\n",
       " dtype('float64'),\n",
       " dtype('float64'),\n",
       " dtype('float64'),\n",
       " dtype('float64'),\n",
       " dtype('float64'),\n",
       " dtype('float64'),\n",
       " dtype('float64'),\n",
       " dtype('float64'),\n",
       " dtype('float64'),\n",
       " dtype('float64'),\n",
       " dtype('float64'),\n",
       " dtype('float64'),\n",
       " dtype('float64'),\n",
       " dtype('float64'),\n",
       " dtype('float64'),\n",
       " dtype('float64'),\n",
       " dtype('float64'),\n",
       " dtype('float64'),\n",
       " dtype('float64'),\n",
       " dtype('float64'),\n",
       " dtype('float64'),\n",
       " dtype('float64'),\n",
       " dtype('float64'),\n",
       " dtype('float64'),\n",
       " dtype('float64'),\n",
       " dtype('O'),\n",
       " dtype('float64'),\n",
       " dtype('float64'),\n",
       " dtype('float64'),\n",
       " dtype('float64'),\n",
       " dtype('float64'),\n",
       " dtype('float64'),\n",
       " dtype('float64'),\n",
       " dtype('float64'),\n",
       " dtype('float64'),\n",
       " dtype('float64'),\n",
       " dtype('float64'),\n",
       " dtype('float64'),\n",
       " dtype('float64'),\n",
       " dtype('float64'),\n",
       " dtype('float64'),\n",
       " dtype('float64'),\n",
       " dtype('float64'),\n",
       " dtype('float64'),\n",
       " dtype('float64'),\n",
       " dtype('float64'),\n",
       " dtype('float64'),\n",
       " dtype('float64'),\n",
       " dtype('float64'),\n",
       " dtype('float64'),\n",
       " dtype('float64'),\n",
       " dtype('float64'),\n",
       " dtype('float64'),\n",
       " dtype('float64'),\n",
       " dtype('float64'),\n",
       " dtype('float64'),\n",
       " dtype('float64'),\n",
       " dtype('float64'),\n",
       " dtype('float64'),\n",
       " dtype('float64'),\n",
       " dtype('float64'),\n",
       " dtype('float64'),\n",
       " dtype('float64'),\n",
       " dtype('float64'),\n",
       " dtype('float64'),\n",
       " dtype('float64'),\n",
       " dtype('float64'),\n",
       " dtype('float64'),\n",
       " dtype('float64'),\n",
       " dtype('float64'),\n",
       " dtype('float64'),\n",
       " dtype('float64'),\n",
       " dtype('float64'),\n",
       " dtype('float64'),\n",
       " dtype('float64'),\n",
       " dtype('float64'),\n",
       " dtype('float64'),\n",
       " dtype('float64'),\n",
       " dtype('float64'),\n",
       " dtype('float64'),\n",
       " dtype('float64'),\n",
       " dtype('float64'),\n",
       " dtype('float64'),\n",
       " dtype('float64'),\n",
       " dtype('float64'),\n",
       " dtype('float64'),\n",
       " dtype('float64'),\n",
       " dtype('float64'),\n",
       " dtype('float64'),\n",
       " dtype('float64'),\n",
       " dtype('float64'),\n",
       " dtype('float64'),\n",
       " dtype('float64'),\n",
       " dtype('float64'),\n",
       " dtype('float64'),\n",
       " dtype('float64'),\n",
       " dtype('float64'),\n",
       " dtype('O'),\n",
       " dtype('float64'),\n",
       " dtype('float64'),\n",
       " dtype('float64'),\n",
       " dtype('float64'),\n",
       " dtype('float64'),\n",
       " dtype('float64'),\n",
       " dtype('float64'),\n",
       " dtype('float64'),\n",
       " dtype('float64'),\n",
       " dtype('float64'),\n",
       " dtype('float64'),\n",
       " dtype('float64'),\n",
       " dtype('float64'),\n",
       " dtype('float64'),\n",
       " dtype('float64'),\n",
       " dtype('float64'),\n",
       " dtype('float64'),\n",
       " dtype('float64'),\n",
       " dtype('float64'),\n",
       " dtype('float64'),\n",
       " dtype('float64'),\n",
       " dtype('float64'),\n",
       " dtype('float64'),\n",
       " dtype('float64'),\n",
       " dtype('float64'),\n",
       " dtype('float64'),\n",
       " dtype('float64'),\n",
       " dtype('float64'),\n",
       " dtype('float64'),\n",
       " dtype('float64'),\n",
       " dtype('float64'),\n",
       " dtype('float64'),\n",
       " dtype('float64'),\n",
       " dtype('float64'),\n",
       " dtype('float64'),\n",
       " dtype('float64'),\n",
       " dtype('float64'),\n",
       " dtype('float64'),\n",
       " dtype('float64'),\n",
       " dtype('float64'),\n",
       " dtype('float64'),\n",
       " dtype('float64'),\n",
       " dtype('float64'),\n",
       " dtype('float64'),\n",
       " dtype('float64'),\n",
       " dtype('float64'),\n",
       " dtype('float64'),\n",
       " dtype('float64'),\n",
       " dtype('float64'),\n",
       " dtype('float64'),\n",
       " dtype('float64'),\n",
       " dtype('float64'),\n",
       " dtype('float64'),\n",
       " dtype('float64'),\n",
       " dtype('float64'),\n",
       " dtype('float64'),\n",
       " dtype('float64'),\n",
       " dtype('float64'),\n",
       " dtype('float64'),\n",
       " dtype('float64'),\n",
       " dtype('float64'),\n",
       " dtype('float64'),\n",
       " dtype('float64'),\n",
       " dtype('float64'),\n",
       " dtype('float64'),\n",
       " dtype('float64'),\n",
       " dtype('float64'),\n",
       " dtype('float64'),\n",
       " dtype('float64'),\n",
       " dtype('O'),\n",
       " dtype('float64'),\n",
       " dtype('float64'),\n",
       " dtype('float64'),\n",
       " dtype('float64'),\n",
       " dtype('float64'),\n",
       " dtype('float64'),\n",
       " dtype('float64'),\n",
       " dtype('float64'),\n",
       " dtype('float64'),\n",
       " dtype('float64'),\n",
       " dtype('float64'),\n",
       " dtype('float64'),\n",
       " dtype('float64'),\n",
       " dtype('float64'),\n",
       " dtype('float64'),\n",
       " dtype('float64'),\n",
       " dtype('float64'),\n",
       " dtype('float64'),\n",
       " dtype('float64'),\n",
       " dtype('float64'),\n",
       " dtype('float64'),\n",
       " dtype('float64'),\n",
       " dtype('float64'),\n",
       " dtype('float64'),\n",
       " dtype('float64'),\n",
       " dtype('float64'),\n",
       " dtype('float64'),\n",
       " dtype('float64'),\n",
       " dtype('float64'),\n",
       " ...]"
      ]
     },
     "execution_count": 29,
     "metadata": {},
     "output_type": "execute_result"
    }
   ],
   "source": [
    "aggregated_model_file_columns_list = model_file.columns.tolist()\n",
    "aggregated_model_file_dtypes_list = model_file.dtypes.tolist()\n",
    "aggregated_model_file_first_Row = model_file[1:2]\n",
    "aggregated_model_file_first_Row.to_csv('/Users/DavidStier/Downloads/aggregated_model_filerow1.csv')\n",
    "aggregated_model_file_dtypes_list"
   ]
  },
  {
   "cell_type": "code",
   "execution_count": 30,
   "metadata": {
    "collapsed": false
   },
   "outputs": [],
   "source": [
    "model_value_cols = model_file.select_dtypes(include=['float64', 'int64','int','float']).columns.tolist()"
   ]
  },
  {
   "cell_type": "code",
   "execution_count": 31,
   "metadata": {
    "collapsed": false
   },
   "outputs": [],
   "source": [
    "#model_value_cols"
   ]
  },
  {
   "cell_type": "markdown",
   "metadata": {},
   "source": [
    "### drop aggregate 'name' columns "
   ]
  },
  {
   "cell_type": "code",
   "execution_count": 32,
   "metadata": {
    "collapsed": true
   },
   "outputs": [],
   "source": [
    "aggr_name_cols_to_drop =[\n",
    " 'addr_group_FOR_addr_cnt',\n",
    " 'addr_group_FOR_addr_med',\n",
    " 'addr_group_FOR_addr_avg',\n",
    " 'hmile_grid_cell_FOR_hmil_cnt',\n",
    " 'hmile_grid_cell_FOR_hmil_med',\n",
    " 'hmile_grid_cell_FOR_hmil_avg',\n",
    " 'neighborhood_FOR_nbhd_cnt',\n",
    " 'neighborhood_FOR_nbhd_med',\n",
    " 'neighborhood_FOR_nbhd_avg',\n",
    " 'FIPS_FOR_ctrt_cnt',\n",
    " 'FIPS_FOR_ctrt_med',\n",
    " 'FIPS_FOR_ctrt_avg',\n",
    "]\n",
    "\n",
    "model_file.drop(aggr_name_cols_to_drop, inplace = True, axis = 1)"
   ]
  },
  {
   "cell_type": "markdown",
   "metadata": {},
   "source": [
    "##   Add features based on aggregated stats"
   ]
  },
  {
   "cell_type": "code",
   "execution_count": 33,
   "metadata": {
    "collapsed": false
   },
   "outputs": [],
   "source": [
    "##\n",
    "# Address group level:\n",
    "Resl_Tax_parcels_per_addr = model_file['LU__Residential Single Family_FOR_addr_cnt'] + model_file['LU__Residential Two Family_FOR_addr_cnt'] + model_file['LU__Residential Three Family_FOR_addr_cnt'] + model_file['LU__Apartments 4-6 Units_FOR_addr_cnt'] + model_file['LU__Apartments 7 Units above_FOR_addr_cnt'] + model_file['LU__Residential Condo Unit_FOR_addr_cnt']\n",
    "Comml_Tax_parcels_per_addr = model_file['LU__Commercial_FOR_addr_cnt'] + model_file['LU__Commercial Land_FOR_addr_cnt'] + model_file[ 'LU__Mixed Use Res/Comm_FOR_addr_cnt'] + model_file['LU__Commercial Condo Unit_FOR_addr_cnt'] + model_file['LU__Industrial_FOR_addr_cnt']\n",
    "OTHER_Tax_parcels_per_addr = model_file['LU__Residential Land_FOR_addr_cnt'] + model_file['LU__Agricultural/Horticultural'] + model_file['LU__Exempt_FOR_addr_cnt']\n",
    "ALL_Tax_parcels_per_addr = Resl_Tax_parcels_per_addr + Comml_Tax_parcels_per_addr + OTHER_Tax_parcels_per_addr\n",
    "\n",
    "##\n",
    "# Half-mile group level:\n",
    "Resl_Tax_parcels_per_hmil = model_file['LU__Residential Single Family_FOR_hmil_cnt'] + model_file['LU__Residential Two Family_FOR_hmil_cnt'] + model_file['LU__Residential Three Family_FOR_hmil_cnt'] + model_file['LU__Apartments 4-6 Units_FOR_hmil_cnt'] + model_file['LU__Apartments 7 Units above_FOR_hmil_cnt'] + model_file['LU__Residential Condo Unit_FOR_hmil_cnt']\n",
    "Comml_Tax_parcels_per_hmil = model_file['LU__Commercial_FOR_hmil_cnt'] + model_file['LU__Commercial Land_FOR_hmil_cnt'] + model_file[ 'LU__Mixed Use Res/Comm_FOR_hmil_cnt'] + model_file['LU__Commercial Condo Unit_FOR_hmil_cnt'] + model_file['LU__Industrial_FOR_hmil_cnt']\n",
    "OTHER_Tax_parcels_per_hmil = model_file['LU__Residential Land_FOR_hmil_cnt'] + model_file['LU__Agricultural/Horticultural'] + model_file['LU__Exempt_FOR_hmil_cnt'] \n",
    "ALL_Tax_parcels_per_hmil = Resl_Tax_parcels_per_hmil + Comml_Tax_parcels_per_hmil + OTHER_Tax_parcels_per_hmil\n",
    "\n",
    "##\n",
    "# Neighborhood group level:\n",
    "Resl_Tax_parcels_per_nbhd = model_file['LU__Residential Single Family_FOR_nbhd_cnt'] + model_file['LU__Residential Two Family_FOR_nbhd_cnt'] + model_file['LU__Residential Three Family_FOR_nbhd_cnt'] + model_file['LU__Apartments 4-6 Units_FOR_nbhd_cnt'] + model_file['LU__Apartments 7 Units above_FOR_nbhd_cnt'] + model_file['LU__Residential Condo Unit_FOR_nbhd_cnt']\n",
    "Comml_Tax_parcels_per_nbhd = model_file['LU__Commercial_FOR_nbhd_cnt'] + model_file['LU__Commercial Land_FOR_nbhd_cnt'] + model_file[ 'LU__Mixed Use Res/Comm_FOR_nbhd_cnt'] + model_file['LU__Commercial Condo Unit_FOR_nbhd_cnt'] + model_file['LU__Industrial_FOR_nbhd_cnt']\n",
    "OTHER_Tax_parcels_per_nbhd = model_file['LU__Residential Land_FOR_nbhd_cnt'] + model_file['LU__Agricultural/Horticultural'] + model_file['LU__Exempt_FOR_nbhd_cnt'] \n",
    "ALL_Tax_parcels_per_nbhd = Resl_Tax_parcels_per_nbhd + Comml_Tax_parcels_per_nbhd + OTHER_Tax_parcels_per_nbhd\n",
    "\n",
    "##\n",
    "# Census Tract level:\n",
    "Resl_Tax_parcels_per_ctrt = model_file['LU__Residential Single Family_FOR_ctrt_cnt'] + model_file['LU__Residential Two Family_FOR_ctrt_cnt'] + model_file['LU__Residential Three Family_FOR_ctrt_cnt'] + model_file['LU__Apartments 4-6 Units_FOR_ctrt_cnt'] + model_file['LU__Apartments 7 Units above_FOR_ctrt_cnt'] + model_file['LU__Residential Condo Unit_FOR_ctrt_cnt']\n",
    "Comml_Tax_parcels_per_ctrt = model_file['LU__Commercial_FOR_ctrt_cnt'] + model_file['LU__Commercial Land_FOR_ctrt_cnt'] + model_file[ 'LU__Mixed Use Res/Comm_FOR_ctrt_cnt'] + model_file['LU__Commercial Condo Unit_FOR_ctrt_cnt'] + model_file['LU__Industrial_FOR_ctrt_cnt']\n",
    "OTHER_Tax_parcels_per_ctrt = model_file['LU__Residential Land_FOR_ctrt_cnt'] + model_file['LU__Agricultural/Horticultural'] + model_file['LU__Exempt_FOR_ctrt_cnt'] \n",
    "ALL_Tax_parcels_per_ctrt = Resl_Tax_parcels_per_ctrt + Comml_Tax_parcels_per_ctrt + OTHER_Tax_parcels_per_ctrt"
   ]
  },
  {
   "cell_type": "code",
   "execution_count": 34,
   "metadata": {
    "collapsed": false
   },
   "outputs": [],
   "source": [
    "##\n",
    "# Address group level:\n",
    "\n",
    "LU_Single_Family_pct_of_rsl_addr = model_file['LU__Residential Single Family_FOR_addr_cnt'] / Resl_Tax_parcels_per_addr\n",
    "LU_Three_Six_family_pct_of_rsl_addr = (model_file['LU__Residential Two Family_FOR_addr_cnt'] + model_file['LU__Residential Three Family_FOR_addr_cnt'] + model_file['LU__Apartments 4-6 Units_FOR_addr_cnt'] ) / Resl_Tax_parcels_per_addr\n",
    "LU_Two_Family_pct_of_rsl_addr = model_file['LU__Residential Two Family_FOR_addr_cnt'] / Resl_Tax_parcels_per_addr\n",
    "LU_Three_Family_pct_of_rsl_addr = model_file['LU__Residential Three Family_FOR_addr_cnt'] / Resl_Tax_parcels_per_addr\n",
    "LU__Apts_4to6_pct_of_rsl_addr = model_file['LU__Apartments 4-6 Units_FOR_addr_cnt'] / Resl_Tax_parcels_per_addr\n",
    "LU__Apts_7plus_pct_of_rsl_addr = model_file['LU__Apartments 7 Units above_FOR_addr_cnt'] /Resl_Tax_parcels_per_addr\n",
    "LU__Resl_Condo_Unit_pct_of_rsl_addr = model_file['LU__Residential Condo Unit_FOR_addr_cnt'] /Resl_Tax_parcels_per_addr\n",
    "LU_ALL_Multi_housing_pct_of_addr = (model_file['LU__Residential Two Family_FOR_addr_cnt'] + model_file['LU__Residential Three Family_FOR_addr_cnt'] + model_file['LU__Apartments 4-6 Units_FOR_addr_cnt'] + model_file['LU__Apartments 7 Units above_FOR_addr_cnt'] + model_file['LU__Residential Condo Unit_FOR_addr_cnt']) / Resl_Tax_parcels_per_addr\n",
    "LU__Mixed_Use_ResComml_pct_of_addr = model_file['LU__Mixed Use Res/Comm_FOR_addr_cnt'] / ALL_Tax_parcels_per_addr\n",
    "LU__Comml_pct_of_addr = Comml_Tax_parcels_per_addr / ALL_Tax_parcels_per_addr \n",
    "\n",
    "##\n",
    "# Half-mile group level:\n",
    "LU_Single_Family_pct_of_rsl_hmil = model_file['LU__Residential Single Family_FOR_hmil_cnt'] / Resl_Tax_parcels_per_hmil\n",
    "LU_Three_Six_family_pct_of_rsl_hmil = (model_file['LU__Residential Two Family_FOR_hmil_cnt'] + model_file['LU__Residential Three Family_FOR_hmil_cnt'] + model_file['LU__Apartments 4-6 Units_FOR_hmil_cnt'] ) / Resl_Tax_parcels_per_hmil\n",
    "LU_Two_Family_pct_of_rsl_hmil = model_file['LU__Residential Two Family_FOR_hmil_cnt'] / Resl_Tax_parcels_per_hmil\n",
    "LU_Three_Family_pct_of_rsl_hmil = model_file['LU__Residential Three Family_FOR_hmil_cnt'] / Resl_Tax_parcels_per_hmil\n",
    "LU__Apts_4to6_pct_of_rsl_hmil = model_file['LU__Apartments 4-6 Units_FOR_hmil_cnt'] / Resl_Tax_parcels_per_hmil\n",
    "LU__Apts_7plus_pct_of_rsl_hmil = model_file['LU__Apartments 7 Units above_FOR_hmil_cnt'] /Resl_Tax_parcels_per_hmil\n",
    "LU__Resl_Condo_Unit_pct_of_rsl_hmil = model_file['LU__Residential Condo Unit_FOR_hmil_cnt'] /Resl_Tax_parcels_per_hmil\n",
    "LU_ALL_Multi_housing_pct_of_hmil = (model_file['LU__Residential Two Family_FOR_hmil_cnt'] + model_file['LU__Residential Three Family_FOR_hmil_cnt'] + model_file['LU__Apartments 4-6 Units_FOR_hmil_cnt'] + model_file['LU__Apartments 7 Units above_FOR_hmil_cnt'] + model_file['LU__Residential Condo Unit_FOR_hmil_cnt']) / Resl_Tax_parcels_per_hmil\n",
    "LU__Mixed_Use_ResComml_pct_of_hmil = model_file['LU__Mixed Use Res/Comm_FOR_hmil_cnt'] / ALL_Tax_parcels_per_hmil\n",
    "LU__Comml_pct_of_hmil = Comml_Tax_parcels_per_hmil / ALL_Tax_parcels_per_hmil \n",
    "\n",
    "##\n",
    "# Neighborhood group level:\n",
    "LU_Single_Family_pct_of_rsl_nbhd = model_file['LU__Residential Single Family_FOR_nbhd_cnt'] / Resl_Tax_parcels_per_nbhd\n",
    "LU_Three_Six_family_pct_of_rsl_nbhd = (model_file['LU__Residential Two Family_FOR_nbhd_cnt'] + model_file['LU__Residential Three Family_FOR_nbhd_cnt'] + model_file['LU__Apartments 4-6 Units_FOR_nbhd_cnt'] ) / Resl_Tax_parcels_per_nbhd\n",
    "LU_Two_Family_pct_of_rsl_nbhd = model_file['LU__Residential Two Family_FOR_nbhd_cnt'] / Resl_Tax_parcels_per_nbhd\n",
    "LU_Three_Family_pct_of_rsl_nbhd = model_file['LU__Residential Three Family_FOR_nbhd_cnt'] / Resl_Tax_parcels_per_nbhd\n",
    "LU__Apts_4to6_pct_of_rsl_nbhd = model_file['LU__Apartments 4-6 Units_FOR_nbhd_cnt'] / Resl_Tax_parcels_per_nbhd\n",
    "LU__Apts_7plus_pct_of_rsl_nbhd = model_file['LU__Apartments 7 Units above_FOR_nbhd_cnt'] /Resl_Tax_parcels_per_nbhd\n",
    "LU__Resl_Condo_Unit_pct_of_rsl_nbhd = model_file['LU__Residential Condo Unit_FOR_nbhd_cnt'] /Resl_Tax_parcels_per_nbhd\n",
    "LU_ALL_Multi_housing_pct_of_nbhd = (model_file['LU__Residential Two Family_FOR_nbhd_cnt'] + model_file['LU__Residential Three Family_FOR_nbhd_cnt'] + model_file['LU__Apartments 4-6 Units_FOR_nbhd_cnt'] + model_file['LU__Apartments 7 Units above_FOR_nbhd_cnt'] + model_file['LU__Residential Condo Unit_FOR_nbhd_cnt']) / Resl_Tax_parcels_per_nbhd\n",
    "LU__Mixed_Use_ResComml_pct_of_nbhd = model_file['LU__Mixed Use Res/Comm_FOR_nbhd_cnt'] / ALL_Tax_parcels_per_nbhd\n",
    "LU__Comml_pct_of_nbhd = Comml_Tax_parcels_per_nbhd / ALL_Tax_parcels_per_nbhd \n",
    "\n",
    "## \n",
    "# Census tract level:\n",
    "LU_Single_Family_pct_of_rsl_ctrt = model_file['LU__Residential Single Family_FOR_ctrt_cnt'] / Resl_Tax_parcels_per_ctrt\n",
    "LU_Three_Six_family_pct_of_rsl_ctrt = (model_file['LU__Residential Two Family_FOR_ctrt_cnt'] + model_file['LU__Residential Three Family_FOR_ctrt_cnt'] + model_file['LU__Apartments 4-6 Units_FOR_ctrt_cnt'] ) / Resl_Tax_parcels_per_ctrt\n",
    "LU_Two_Family_pct_of_rsl_ctrt = model_file['LU__Residential Two Family_FOR_ctrt_cnt'] / Resl_Tax_parcels_per_ctrt\n",
    "LU_Three_Family_pct_of_rsl_ctrt = model_file['LU__Residential Three Family_FOR_ctrt_cnt'] / Resl_Tax_parcels_per_ctrt\n",
    "LU__Apts_4to6_pct_of_rsl_ctrt = model_file['LU__Apartments 4-6 Units_FOR_ctrt_cnt'] / Resl_Tax_parcels_per_ctrt\n",
    "LU__Apts_7plus_pct_of_rsl_ctrt = model_file['LU__Apartments 7 Units above_FOR_ctrt_cnt'] /Resl_Tax_parcels_per_ctrt\n",
    "LU__Resl_Condo_Unit_pct_of_rsl_ctrt = model_file['LU__Residential Condo Unit_FOR_ctrt_cnt'] /Resl_Tax_parcels_per_ctrt\n",
    "LU_ALL_Multi_housing_pct_of_ctrt = (model_file['LU__Residential Two Family_FOR_ctrt_cnt'] + model_file['LU__Residential Three Family_FOR_ctrt_cnt'] + model_file['LU__Apartments 4-6 Units_FOR_ctrt_cnt'] + model_file['LU__Apartments 7 Units above_FOR_ctrt_cnt'] + model_file['LU__Residential Condo Unit_FOR_ctrt_cnt']) / Resl_Tax_parcels_per_ctrt\n",
    "LU__Mixed_Use_ResComml_pct_of_ctrt = model_file['LU__Mixed Use Res/Comm_FOR_ctrt_cnt'] / ALL_Tax_parcels_per_ctrt\n",
    "LU__Comml_pct_of_ctrt = Comml_Tax_parcels_per_ctrt / ALL_Tax_parcels_per_ctrt \n"
   ]
  },
  {
   "cell_type": "code",
   "execution_count": 35,
   "metadata": {
    "collapsed": false
   },
   "outputs": [],
   "source": [
    "## \n",
    "# Ratio of Shape vs. Len\n",
    "##\n",
    "model_file['shp_v_len_VS_addr_gr_AVG'] = model_file['shape_vs_length'] / model_file['shape_vs_length_FOR_addr_avg']\n",
    "model_file['shp_v_len_VS_nbhd_gr_AVG'] = model_file['shape_vs_length'] /  model_file['shape_vs_length_FOR_nbhd_avg']\n",
    "model_file['shp_v_len_VS_hmil_gr_AVG'] = model_file['shape_vs_length'] / model_file['shape_vs_length_FOR_hmil_avg']\n",
    "model_file['shp_v_len_VS_ctrt_gr_AVG'] = model_file['shape_vs_length'] / model_file['shape_vs_length_FOR_ctrt_avg']\n",
    "model_file['shp_v_len_VS_addr_gr_MED'] = model_file['shape_vs_length'] / model_file['shape_vs_length_FOR_addr_med']\n",
    "model_file['shp_v_len_VS_nbhd_gr_MED'] = model_file['shape_vs_length'] / model_file['shape_vs_length_FOR_nbhd_med']\n",
    "model_file['shp_v_len_VS_hmil_gr_MED'] = model_file['shape_vs_length'] / model_file['shape_vs_length_FOR_hmil_med']\n",
    "model_file['shp_v_len_VS_ctrt_gr_MED'] = model_file['shape_vs_length'] / model_file['shape_vs_length_FOR_ctrt_med']\n",
    "\n",
    "##\n",
    "#  Age of home in 2016\n",
    "##\n",
    "model_file['YR_BUILT_VS_addr_gr_AVG'] = model_file['YR_BUILT'] / model_file['YR_BUILT_FOR_addr_avg']\n",
    "model_file['YR_BUILT_VS_nbhd_gr_AVG'] = model_file['YR_BUILT'] / model_file['YR_BUILT_FOR_nbhd_avg']\n",
    "model_file['YR_BUILT_VS_hmil_gr_AVG'] = model_file['YR_BUILT'] / model_file['YR_BUILT_FOR_hmil_avg']\n",
    "model_file['YR_BUILT_VS_ctrt_gr_AVG'] = model_file['YR_BUILT'] / model_file['YR_BUILT_FOR_ctrt_avg']\n",
    "model_file['YR_BUILT_VS_addr_gr_MED'] = model_file['YR_BUILT'] / model_file['YR_BUILT_FOR_addr_med']\n",
    "model_file['YR_BUILT_VS_nbhd_gr_MED'] = model_file['YR_BUILT'] / model_file['YR_BUILT_FOR_nbhd_med']\n",
    "model_file['YR_BUILT_VS_hmil_gr_MED'] = model_file['YR_BUILT'] / model_file['YR_BUILT_FOR_hmil_med']\n",
    "model_file['YR_BUILT_VS_ctrt_gr_MED'] = model_file['YR_BUILT'] / model_file['YR_BUILT_FOR_ctrt_med']\n",
    "\n",
    "##\n",
    "# GROSS AREA\n",
    "#\n",
    "model_file['GROSS_AREA_VS_addr_gr_AVG'] = model_file['GROSS_AREA'] / model_file['GROSS_AREA_FOR_addr_avg']\n",
    "model_file['GROSS_AREA_VS_nbhd_gr_AVG'] = model_file['GROSS_AREA'] / model_file['GROSS_AREA_FOR_nbhd_avg']\n",
    "model_file['GROSS_AREA_VS_hmil_gr_AVG'] = model_file['GROSS_AREA'] / model_file['GROSS_AREA_FOR_hmil_avg']\n",
    "model_file['GROSS_AREA_VS_ctrt_gr_AVG'] = model_file['GROSS_AREA'] / model_file['GROSS_AREA_FOR_ctrt_avg']\n",
    "model_file['GROSS_AREA_VS_addr_gr_MED'] = model_file['GROSS_AREA'] / model_file['GROSS_AREA_FOR_addr_med']\n",
    "model_file['GROSS_AREA_VS_nbhd_gr_MED'] = model_file['GROSS_AREA'] / model_file['GROSS_AREA_FOR_nbhd_med']\n",
    "model_file['GROSS_AREA_VS_hmil_gr_MED'] = model_file['GROSS_AREA'] / model_file['GROSS_AREA_FOR_hmil_med']\n",
    "model_file['GROSS_AREA_VS_ctrt_gr_MED'] = model_file['GROSS_AREA'] / model_file['GROSS_AREA_FOR_ctrt_med']\n",
    "\n",
    "##\n",
    "# 311 recycling related calls\n",
    "##\n",
    "\n",
    "model_file['Thr12011to2013_Recycling-Pickup_VS_addr_gr_AVG'] = model_file['Thr12011to2013_Recycling-Pickup'] / model_file['Thr12011to2013_Recycling-Pickup_FOR_addr_avg']\n",
    "model_file['Thr12011to2013_Recycling-Pickup_VS_nbhd_gr_AVG'] = model_file['Thr12011to2013_Recycling-Pickup'] / model_file['Thr12011to2013_Recycling-Pickup_FOR_nbhd_avg']\n",
    "model_file['Thr12011to2013_Recycling-Pickup_VS_hmil_gr_AVG'] = model_file['Thr12011to2013_Recycling-Pickup'] / model_file['Thr12011to2013_Recycling-Pickup_FOR_hmil_avg']\n",
    "model_file['Thr12011to2013_Recycling-Pickup_VS_ctrt_gr_AVG'] = model_file['Thr12011to2013_Recycling-Pickup'] / model_file['Thr12011to2013_Recycling-Pickup_FOR_ctrt_avg']\n",
    "model_file['Thr12011to2013_Recycling-Pickup_VS_addr_gr_MED'] = model_file['Thr12011to2013_Recycling-Pickup'] / model_file['Thr12011to2013_Recycling-Pickup_FOR_addr_med']\n",
    "model_file['Thr12011to2013_Recycling-Pickup_VS_nbhd_gr_MED'] = model_file['Thr12011to2013_Recycling-Pickup'] / model_file['Thr12011to2013_Recycling-Pickup_FOR_nbhd_med']\n",
    "model_file['Thr12011to2013_Recycling-Pickup_VS_hmil_gr_MED'] = model_file['Thr12011to2013_Recycling-Pickup'] / model_file['Thr12011to2013_Recycling-Pickup_FOR_hmil_med']\n",
    "model_file['Thr12011to2013_Recycling-Pickup_VS_ctrt_gr_MED'] = model_file['Thr12011to2013_Recycling-Pickup'] / model_file['Thr12011to2013_Recycling-Pickup_FOR_ctrt_med']\n",
    "\n"
   ]
  },
  {
   "cell_type": "markdown",
   "metadata": {},
   "source": [
    "## Create 'drop' lists for year-specific files\n",
    "\n",
    "Basically, a year-specific file will not include any data that occurs in the future"
   ]
  },
  {
   "cell_type": "code",
   "execution_count": 36,
   "metadata": {
    "collapsed": false
   },
   "outputs": [],
   "source": [
    "YR_2016_DROPS =  ['Top2016PermTypNum', 'Top2016PermTypdollars', 'Thr12016_Recycling-Pickup', 'Thr12016_excluded', 'Thr12016_Building', 'Thr12016_Street-Sidewalk', 'Thr12016_Trees', 'Thr12016_Enviro', 'Thr12016_Graffiti', 'Thr12016_Housing', 'NOT_Top2016PermTypdollars', 'NOT_Top2016PermTypNum']\n",
    "YR_2015_DROPS = [ 'Thr12014to2015_Recycling-Pickup_FOR_addr_avg', 'Thr12014to2015_Street-Sidewalk_FOR_hmil_avg', 'Thr12014to2015_Building', 'Thr12014to2015_excluded_FOR_addr_avg', 'Thr12014to2015_Street-Sidewalk_FOR_addr_avg', 'Thr12014to2015_excluded_FOR_hmil_avg', 'Thr12014to2015_Recycling-Pickup_FOR_hmil_avg', 'Thr12014to2015_Recycling-Pickup_FOR_ctrt_avg', 'Thr12014to2015_excluded_FOR_addr_cnt', 'Thr12014to2015_excluded', 'Thr12014_excluded', 'Thr12014to2015_Recycling-Pickup_FOR_addr_cnt', 'Thr12014_Enviro', 'Thr12014to2015_excluded_FOR_ctrt_avg', 'Thr12014to2015_Street-Sidewalk_FOR_addr_cnt', 'Thr12014to2015_Enviro', 'Thr12014to2015_Street-Sidewalk_FOR_ctrt_avg', 'Thr12014to2015_Recycling-Pickup', 'Thr12014to2015_excluded_FOR_hmil_cnt', 'Thr12014to2015_Recycling-Pickup_FOR_hmil_cnt', 'Thr12014to2015_Street-Sidewalk_FOR_hmil_cnt', 'Thr12014_Recycling-Pickup', 'Thr12014to2015_Street-Sidewalk', 'Thr12014to2015_excluded_FOR_addr_med', 'Thr12014_Street-Sidewalk', 'Thr12014to2015_excluded_FOR_ctrt_cnt', 'Thr12014to2015_Street-Sidewalk_FOR_ctrt_cnt', 'Thr12014to2015_Graffiti', 'Thr12014to2015_Recycling-Pickup_FOR_addr_med', 'Thr12014to2015_Recycling-Pickup_FOR_ctrt_cnt', 'Thr12014to2015_Street-Sidewalk_FOR_addr_med', 'Thr12014to2015_excluded_FOR_nbhd_avg', 'Thr12014to2015_Trees', 'Thr12014_Building', 'Thr12014to2015_Recycling-Pickup_FOR_nbhd_avg', 'Thr12014to2015_excluded_FOR_hmil_med', 'Thr12014_Trees', 'Thr12014to2015_Housing', 'Thr12014to2015_Recycling-Pickup_FOR_hmil_med', 'Thr12014to2015_Street-Sidewalk_FOR_nbhd_avg', 'Thr12014to2015_Street-Sidewalk_FOR_nbhd_cnt', 'Thr12014_Graffiti', 'Thr12014to2015_Recycling-Pickup_FOR_nbhd_cnt', 'Thr12014to2015_excluded_FOR_nbhd_med', 'Thr12014to2015_excluded_FOR_nbhd_cnt', 'Thr12014_Housing', 'Thr12014to2015_Street-Sidewalk_FOR_hmil_med', 'Thr12014to2015_Recycling-Pickup_FOR_nbhd_med', 'Thr12014to2015_Street-Sidewalk_FOR_nbhd_med', 'Thr12014to2015_Recycling-Pickup_FOR_ctrt_med', 'Thr12014to2015_Street-Sidewalk_FOR_ctrt_med', 'Thr12014to2015_excluded_FOR_ctrt_med', 'NOT_Top2014PermTypdollars', 'NOT_Top2014PermTypNum', 'NOT_Top2014PermTypdollars_FOR_addr_avg', 'NOT_Top2014PermTypNum_FOR_addr_avg', 'NOT_Top2014PermTypNum_FOR_hmil_avg', 'NOT_Top2014PermTypdollars_FOR_hmil_avg', 'NOT_Top2014PermTypdollars_FOR_ctrt_avg', 'NOT_Top2014PermTypdollars_FOR_nbhd_avg', 'NOT_Top2014PermTypNum_FOR_ctrt_avg', 'NOT_Top2014PermTypNum_FOR_nbhd_avg', 'NOT_Top2014PermTypdollars_FOR_addr_cnt', 'NOT_Top2014PermTypdollars_FOR_addr_med', 'NOT_Top2014PermTypNum_FOR_addr_cnt', 'NOT_Top2014PermTypNum_FOR_hmil_cnt', 'NOT_Top2014PermTypdollars_FOR_hmil_cnt', 'NOT_Top2014PermTypNum_FOR_addr_med', 'NOT_Top2014PermTypNum_FOR_ctrt_cnt', 'NOT_Top2014PermTypdollars_FOR_ctrt_cnt', 'NOT_Top2014PermTypNum_FOR_nbhd_cnt', 'NOT_Top2014PermTypdollars_FOR_nbhd_cnt', 'NOT_Top2014PermTypdollars_FOR_hmil_med', 'NOT_Top2014PermTypNum_FOR_hmil_med', 'NOT_Top2014PermTypdollars_FOR_nbhd_med', 'NOT_Top2014PermTypNum_FOR_nbhd_med', 'NOT_Top2014PermTypdollars_FOR_ctrt_med', 'NOT_Top2014PermTypNum_FOR_ctrt_med', 'Top2015PermTypdollars', 'Top2015PermTypNum', 'Thr12015_Building', 'Thr12015_excluded', 'Thr12015_Recycling-Pickup', 'Thr12015_Street-Sidewalk', 'Thr12015_Enviro', 'Thr12015_Trees', 'Thr12015_Graffiti', 'Thr12015_Housing', 'NOT_Top2015PermTypdollars', 'NOT_Top2015PermTypNum', 'NOT_Top2015PermTypdollars_FOR_addr_avg', 'NOT_Top2015PermTypNum_FOR_hmil_avg', 'NOT_Top2015PermTypNum_FOR_addr_avg', 'NOT_Top2015PermTypdollars_FOR_hmil_avg', 'NOT_Top2015PermTypdollars_FOR_ctrt_avg', 'NOT_Top2015PermTypdollars_FOR_nbhd_avg', 'NOT_Top2015PermTypNum_FOR_ctrt_avg', 'NOT_Top2015PermTypNum_FOR_addr_cnt', 'NOT_Top2015PermTypNum_FOR_nbhd_avg', 'NOT_Top2015PermTypdollars_FOR_hmil_cnt', 'NOT_Top2015PermTypdollars_FOR_addr_cnt', 'NOT_Top2015PermTypNum_FOR_ctrt_cnt', 'NOT_Top2015PermTypNum_FOR_hmil_cnt', 'NOT_Top2015PermTypdollars_FOR_ctrt_cnt', 'NOT_Top2015PermTypNum_FOR_nbhd_cnt', 'NOT_Top2015PermTypdollars_FOR_addr_med', 'NOT_Top2015PermTypdollars_FOR_nbhd_cnt', 'NOT_Top2015PermTypNum_FOR_addr_med', 'NOT_Top2015PermTypdollars_FOR_hmil_med', 'NOT_Top2015PermTypNum_FOR_hmil_med', 'NOT_Top2015PermTypdollars_FOR_nbhd_med', 'NOT_Top2015PermTypNum_FOR_nbhd_med', 'NOT_Top2015PermTypdollars_FOR_ctrt_med', 'NOT_Top2015PermTypNum_FOR_ctrt_med', 'Top2016PermTypNum', 'Top2016PermTypdollars', 'Thr12016_Recycling-Pickup', 'Thr12016_excluded', 'Thr12016_Building', 'Thr12016_Street-Sidewalk', 'Thr12016_Trees', 'Thr12016_Enviro', 'Thr12016_Graffiti', 'Thr12016_Housing', 'NOT_Top2016PermTypdollars', 'NOT_Top2016PermTypNum']\n",
    "YR_2014_DROPS = ['Thr12014to2015_Recycling-Pickup_FOR_addr_avg', 'Thr12014to2015_Street-Sidewalk_FOR_hmil_avg', 'Thr12014to2015_Building', 'Thr12014to2015_excluded_FOR_addr_avg', 'Thr12014to2015_Street-Sidewalk_FOR_addr_avg', 'Thr12014to2015_excluded_FOR_hmil_avg', 'Thr12014to2015_Recycling-Pickup_FOR_hmil_avg', 'Thr12014to2015_Recycling-Pickup_FOR_ctrt_avg', 'Thr12014to2015_excluded_FOR_addr_cnt', 'Thr12014to2015_excluded', 'Thr12014_excluded', 'Thr12014to2015_Recycling-Pickup_FOR_addr_cnt', 'Thr12014_Enviro', 'Thr12014to2015_excluded_FOR_ctrt_avg', 'Thr12014to2015_Street-Sidewalk_FOR_addr_cnt', 'Thr12014to2015_Enviro', 'Thr12014to2015_Street-Sidewalk_FOR_ctrt_avg', 'Thr12014to2015_Recycling-Pickup', 'Thr12014to2015_excluded_FOR_hmil_cnt', 'Thr12014to2015_Recycling-Pickup_FOR_hmil_cnt', 'Thr12014to2015_Street-Sidewalk_FOR_hmil_cnt', 'Thr12014_Recycling-Pickup', 'Thr12014to2015_Street-Sidewalk', 'Thr12014to2015_excluded_FOR_addr_med', 'Thr12014_Street-Sidewalk', 'Thr12014to2015_excluded_FOR_ctrt_cnt', 'Thr12014to2015_Street-Sidewalk_FOR_ctrt_cnt', 'Thr12014to2015_Graffiti', 'Thr12014to2015_Recycling-Pickup_FOR_addr_med', 'Thr12014to2015_Recycling-Pickup_FOR_ctrt_cnt', 'Thr12014to2015_Street-Sidewalk_FOR_addr_med', 'Thr12014to2015_excluded_FOR_nbhd_avg', 'Thr12014to2015_Trees', 'Thr12014_Building', 'Thr12014to2015_Recycling-Pickup_FOR_nbhd_avg', 'Thr12014to2015_excluded_FOR_hmil_med', 'Thr12014_Trees', 'Thr12014to2015_Housing', 'Thr12014to2015_Recycling-Pickup_FOR_hmil_med', 'Thr12014to2015_Street-Sidewalk_FOR_nbhd_avg', 'Thr12014to2015_Street-Sidewalk_FOR_nbhd_cnt', 'Thr12014_Graffiti', 'Thr12014to2015_Recycling-Pickup_FOR_nbhd_cnt', 'Thr12014to2015_excluded_FOR_nbhd_med', 'Thr12014to2015_excluded_FOR_nbhd_cnt', 'Thr12014_Housing', 'Thr12014to2015_Street-Sidewalk_FOR_hmil_med', 'Thr12014to2015_Recycling-Pickup_FOR_nbhd_med', 'Thr12014to2015_Street-Sidewalk_FOR_nbhd_med', 'Thr12014to2015_Recycling-Pickup_FOR_ctrt_med', 'Thr12014to2015_Street-Sidewalk_FOR_ctrt_med', 'Thr12014to2015_excluded_FOR_ctrt_med', 'NOT_Top2014PermTypdollars', 'NOT_Top2014PermTypNum', 'NOT_Top2014PermTypdollars_FOR_addr_avg', 'NOT_Top2014PermTypNum_FOR_addr_avg', 'NOT_Top2014PermTypNum_FOR_hmil_avg', 'NOT_Top2014PermTypdollars_FOR_hmil_avg', 'NOT_Top2014PermTypdollars_FOR_ctrt_avg', 'NOT_Top2014PermTypdollars_FOR_nbhd_avg', 'NOT_Top2014PermTypNum_FOR_ctrt_avg', 'NOT_Top2014PermTypNum_FOR_nbhd_avg', 'NOT_Top2014PermTypdollars_FOR_addr_cnt', 'NOT_Top2014PermTypdollars_FOR_addr_med', 'NOT_Top2014PermTypNum_FOR_addr_cnt', 'NOT_Top2014PermTypNum_FOR_hmil_cnt', 'NOT_Top2014PermTypdollars_FOR_hmil_cnt', 'NOT_Top2014PermTypNum_FOR_addr_med', 'NOT_Top2014PermTypNum_FOR_ctrt_cnt', 'NOT_Top2014PermTypdollars_FOR_ctrt_cnt', 'NOT_Top2014PermTypNum_FOR_nbhd_cnt', 'NOT_Top2014PermTypdollars_FOR_nbhd_cnt', 'NOT_Top2014PermTypdollars_FOR_hmil_med', 'NOT_Top2014PermTypNum_FOR_hmil_med', 'NOT_Top2014PermTypdollars_FOR_nbhd_med', 'NOT_Top2014PermTypNum_FOR_nbhd_med', 'NOT_Top2014PermTypdollars_FOR_ctrt_med', 'NOT_Top2014PermTypNum_FOR_ctrt_med', 'Top2015PermTypdollars', 'Top2015PermTypNum', 'Thr12015_Building', 'Thr12015_excluded', 'Thr12015_Recycling-Pickup', 'Thr12015_Street-Sidewalk', 'Thr12015_Enviro', 'Thr12015_Trees', 'Thr12015_Graffiti', 'Thr12015_Housing', 'NOT_Top2015PermTypdollars', 'NOT_Top2015PermTypNum', 'NOT_Top2015PermTypdollars_FOR_addr_avg', 'NOT_Top2015PermTypNum_FOR_hmil_avg', 'NOT_Top2015PermTypNum_FOR_addr_avg', 'NOT_Top2015PermTypdollars_FOR_hmil_avg', 'NOT_Top2015PermTypdollars_FOR_ctrt_avg', 'NOT_Top2015PermTypdollars_FOR_nbhd_avg', 'NOT_Top2015PermTypNum_FOR_ctrt_avg', 'NOT_Top2015PermTypNum_FOR_addr_cnt', 'NOT_Top2015PermTypNum_FOR_nbhd_avg', 'NOT_Top2015PermTypdollars_FOR_hmil_cnt', 'NOT_Top2015PermTypdollars_FOR_addr_cnt', 'NOT_Top2015PermTypNum_FOR_ctrt_cnt', 'NOT_Top2015PermTypNum_FOR_hmil_cnt', 'NOT_Top2015PermTypdollars_FOR_ctrt_cnt', 'NOT_Top2015PermTypNum_FOR_nbhd_cnt', 'NOT_Top2015PermTypdollars_FOR_addr_med', 'NOT_Top2015PermTypdollars_FOR_nbhd_cnt', 'NOT_Top2015PermTypNum_FOR_addr_med', 'NOT_Top2015PermTypdollars_FOR_hmil_med', 'NOT_Top2015PermTypNum_FOR_hmil_med', 'NOT_Top2015PermTypdollars_FOR_nbhd_med', 'NOT_Top2015PermTypNum_FOR_nbhd_med', 'NOT_Top2015PermTypdollars_FOR_ctrt_med', 'NOT_Top2015PermTypNum_FOR_ctrt_med', 'Top2016PermTypNum', 'Top2016PermTypdollars', 'Thr12016_Recycling-Pickup', 'Thr12016_excluded', 'Thr12016_Building', 'Thr12016_Street-Sidewalk', 'Thr12016_Trees', 'Thr12016_Enviro', 'Thr12016_Graffiti', 'Thr12016_Housing', 'NOT_Top2016PermTypdollars', 'NOT_Top2016PermTypNum']\n",
    "YR_2013_DROPS = ['Thr12011to2013_Recycling-Pickup_FOR_addr_avg', 'Thr12011to2013_Recycling-Pickup_VS_addr_gr_AVG', 'Thr12011to2013_Recycling-Pickup_VS_ctrt_gr_AVG', 'Thr12011to2013_Recycling-Pickup_VS_hmil_gr_AVG', 'Thr12011to2013_Recycling-Pickup_FOR_hmil_avg', 'Thr12011to2013_Recycling-Pickup_VS_nbhd_gr_AVG', 'Thr12011to2013_Recycling-Pickup_FOR_addr_cnt', 'Thr12011to2013_excluded', 'Thr12011to2013_Recycling-Pickup_FOR_ctrt_avg', 'Thr12011to2013_Recycling-Pickup', 'Thr12011to2013_Recycling-Pickup_FOR_hmil_cnt', 'Thr12011to2013_Recycling-Pickup_FOR_addr_med', 'Thr12011to2013_Street-Sidewalk', 'Thr12011to2013_Recycling-Pickup_FOR_hmil_med', 'Thr12011to2013_Trees', 'Thr12011to2013_Building', 'Thr12011to2013_Recycling-Pickup_FOR_ctrt_cnt', 'Thr12011to2013_Graffiti', 'Thr12011to2013_Recycling-Pickup_FOR_nbhd_avg', 'Thr12011to2013_Recycling-Pickup_FOR_ctrt_med', 'Thr12011to2013_Recycling-Pickup_FOR_nbhd_cnt', 'Thr12011to2013_Housing', 'Thr12011to2013_Recycling-Pickup_FOR_nbhd_med', 'Top2013PermTypdollars', 'Top2013PermTypNum', 'Thr12013_excluded', 'Thr12013_Enviro', 'Thr12013_Building', 'Thr12013_Street-Sidewalk', 'Thr12013_Recycling-Pickup', 'Thr12013_Trees', 'Thr12013_Graffiti', 'Thr12013_Housing', 'NOT_Top2013PermTypdollars', 'NOT_Top2013PermTypNum', 'NOT_Top2013PermTypNum_FOR_hmil_avg', 'NOT_Top2013PermTypdollars_FOR_addr_avg', 'NOT_Top2013PermTypNum_FOR_addr_avg', 'NOT_Top2013PermTypdollars_FOR_hmil_avg', 'NOT_Top2013PermTypdollars_FOR_nbhd_avg', 'NOT_Top2013PermTypdollars_FOR_ctrt_avg', 'NOT_Top2013PermTypNum_FOR_ctrt_avg', 'NOT_Top2013PermTypNum_FOR_nbhd_avg', 'NOT_Top2013PermTypNum_FOR_addr_cnt', 'NOT_Top2013PermTypdollars_FOR_hmil_cnt', 'NOT_Top2013PermTypdollars_FOR_addr_cnt', 'NOT_Top2013PermTypdollars_FOR_addr_med', 'NOT_Top2013PermTypNum_FOR_hmil_cnt', 'NOT_Top2013PermTypdollars_FOR_nbhd_cnt', 'NOT_Top2013PermTypNum_FOR_ctrt_cnt', 'NOT_Top2013PermTypdollars_FOR_ctrt_cnt', 'NOT_Top2013PermTypNum_FOR_addr_med', 'NOT_Top2013PermTypNum_FOR_nbhd_cnt', 'NOT_Top2013PermTypdollars_FOR_hmil_med', 'NOT_Top2013PermTypNum_FOR_hmil_med', 'NOT_Top2013PermTypdollars_FOR_nbhd_med', 'NOT_Top2013PermTypNum_FOR_nbhd_med', 'NOT_Top2013PermTypdollars_FOR_ctrt_med', 'NOT_Top2013PermTypNum_FOR_ctrt_med', 'Top2014PermTypdollars', 'Top2014PermTypNum', 'Thr12014to2015_Recycling-Pickup_FOR_addr_avg', 'Thr12014to2015_Street-Sidewalk_FOR_hmil_avg', 'Thr12014to2015_Building', 'Thr12014to2015_excluded_FOR_addr_avg', 'Thr12014to2015_Street-Sidewalk_FOR_addr_avg', 'Thr12014to2015_excluded_FOR_hmil_avg', 'Thr12014to2015_Recycling-Pickup_FOR_hmil_avg', 'Thr12014to2015_Recycling-Pickup_FOR_ctrt_avg', 'Thr12014to2015_excluded_FOR_addr_cnt', 'Thr12014to2015_excluded', 'Thr12014_excluded', 'Thr12014to2015_Recycling-Pickup_FOR_addr_cnt', 'Thr12014_Enviro', 'Thr12014to2015_excluded_FOR_ctrt_avg', 'Thr12014to2015_Street-Sidewalk_FOR_addr_cnt', 'Thr12014to2015_Enviro', 'Thr12014to2015_Street-Sidewalk_FOR_ctrt_avg', 'Thr12014to2015_Recycling-Pickup', 'Thr12014to2015_excluded_FOR_hmil_cnt', 'Thr12014to2015_Recycling-Pickup_FOR_hmil_cnt', 'Thr12014to2015_Street-Sidewalk_FOR_hmil_cnt', 'Thr12014_Recycling-Pickup', 'Thr12014to2015_Street-Sidewalk', 'Thr12014to2015_excluded_FOR_addr_med', 'Thr12014_Street-Sidewalk', 'Thr12014to2015_excluded_FOR_ctrt_cnt', 'Thr12014to2015_Street-Sidewalk_FOR_ctrt_cnt', 'Thr12014to2015_Graffiti', 'Thr12014to2015_Recycling-Pickup_FOR_addr_med', 'Thr12014to2015_Recycling-Pickup_FOR_ctrt_cnt', 'Thr12014to2015_Street-Sidewalk_FOR_addr_med', 'Thr12014to2015_excluded_FOR_nbhd_avg', 'Thr12014to2015_Trees', 'Thr12014_Building', 'Thr12014to2015_Recycling-Pickup_FOR_nbhd_avg', 'Thr12014to2015_excluded_FOR_hmil_med', 'Thr12014_Trees', 'Thr12014to2015_Housing', 'Thr12014to2015_Recycling-Pickup_FOR_hmil_med', 'Thr12014to2015_Street-Sidewalk_FOR_nbhd_avg', 'Thr12014to2015_Street-Sidewalk_FOR_nbhd_cnt', 'Thr12014_Graffiti', 'Thr12014to2015_Recycling-Pickup_FOR_nbhd_cnt', 'Thr12014to2015_excluded_FOR_nbhd_med', 'Thr12014to2015_excluded_FOR_nbhd_cnt', 'Thr12014_Housing', 'Thr12014to2015_Street-Sidewalk_FOR_hmil_med', 'Thr12014to2015_Recycling-Pickup_FOR_nbhd_med', 'Thr12014to2015_Street-Sidewalk_FOR_nbhd_med', 'Thr12014to2015_Recycling-Pickup_FOR_ctrt_med', 'Thr12014to2015_Street-Sidewalk_FOR_ctrt_med', 'Thr12014to2015_excluded_FOR_ctrt_med', 'NOT_Top2014PermTypdollars', 'NOT_Top2014PermTypNum', 'NOT_Top2014PermTypdollars_FOR_addr_avg', 'NOT_Top2014PermTypNum_FOR_addr_avg', 'NOT_Top2014PermTypNum_FOR_hmil_avg', 'NOT_Top2014PermTypdollars_FOR_hmil_avg', 'NOT_Top2014PermTypdollars_FOR_ctrt_avg', 'NOT_Top2014PermTypdollars_FOR_nbhd_avg', 'NOT_Top2014PermTypNum_FOR_ctrt_avg', 'NOT_Top2014PermTypNum_FOR_nbhd_avg', 'NOT_Top2014PermTypdollars_FOR_addr_cnt', 'NOT_Top2014PermTypdollars_FOR_addr_med', 'NOT_Top2014PermTypNum_FOR_addr_cnt', 'NOT_Top2014PermTypNum_FOR_hmil_cnt', 'NOT_Top2014PermTypdollars_FOR_hmil_cnt', 'NOT_Top2014PermTypNum_FOR_addr_med', 'NOT_Top2014PermTypNum_FOR_ctrt_cnt', 'NOT_Top2014PermTypdollars_FOR_ctrt_cnt', 'NOT_Top2014PermTypNum_FOR_nbhd_cnt', 'NOT_Top2014PermTypdollars_FOR_nbhd_cnt', 'NOT_Top2014PermTypdollars_FOR_hmil_med', 'NOT_Top2014PermTypNum_FOR_hmil_med', 'NOT_Top2014PermTypdollars_FOR_nbhd_med', 'NOT_Top2014PermTypNum_FOR_nbhd_med', 'NOT_Top2014PermTypdollars_FOR_ctrt_med', 'NOT_Top2014PermTypNum_FOR_ctrt_med', 'Top2015PermTypdollars', 'Top2015PermTypNum', 'Thr12015_Building', 'Thr12015_excluded', 'Thr12015_Recycling-Pickup', 'Thr12015_Street-Sidewalk', 'Thr12015_Enviro', 'Thr12015_Trees', 'Thr12015_Graffiti', 'Thr12015_Housing', 'NOT_Top2015PermTypdollars', 'NOT_Top2015PermTypNum', 'NOT_Top2015PermTypdollars_FOR_addr_avg', 'NOT_Top2015PermTypNum_FOR_hmil_avg', 'NOT_Top2015PermTypNum_FOR_addr_avg', 'NOT_Top2015PermTypdollars_FOR_hmil_avg', 'NOT_Top2015PermTypdollars_FOR_ctrt_avg', 'NOT_Top2015PermTypdollars_FOR_nbhd_avg', 'NOT_Top2015PermTypNum_FOR_ctrt_avg', 'NOT_Top2015PermTypNum_FOR_addr_cnt', 'NOT_Top2015PermTypNum_FOR_nbhd_avg', 'NOT_Top2015PermTypdollars_FOR_hmil_cnt', 'NOT_Top2015PermTypdollars_FOR_addr_cnt', 'NOT_Top2015PermTypNum_FOR_ctrt_cnt', 'NOT_Top2015PermTypNum_FOR_hmil_cnt', 'NOT_Top2015PermTypdollars_FOR_ctrt_cnt', 'NOT_Top2015PermTypNum_FOR_nbhd_cnt', 'NOT_Top2015PermTypdollars_FOR_addr_med', 'NOT_Top2015PermTypdollars_FOR_nbhd_cnt', 'NOT_Top2015PermTypNum_FOR_addr_med', 'NOT_Top2015PermTypdollars_FOR_hmil_med', 'NOT_Top2015PermTypNum_FOR_hmil_med', 'NOT_Top2015PermTypdollars_FOR_nbhd_med', 'NOT_Top2015PermTypNum_FOR_nbhd_med', 'NOT_Top2015PermTypdollars_FOR_ctrt_med', 'NOT_Top2015PermTypNum_FOR_ctrt_med', 'Top2016PermTypNum', 'Top2016PermTypdollars', 'Thr12016_Recycling-Pickup', 'Thr12016_excluded', 'Thr12016_Building', 'Thr12016_Street-Sidewalk', 'Thr12016_Trees', 'Thr12016_Enviro', 'Thr12016_Graffiti', 'Thr12016_Housing', 'NOT_Top2016PermTypdollars', 'NOT_Top2016PermTypNum']\n",
    "YR_2012_COL_DROPS = ['Thr12011to2013_Recycling-Pickup_FOR_addr_avg', 'Thr12011to2013_Recycling-Pickup_VS_addr_gr_AVG', 'Thr12011to2013_Recycling-Pickup_VS_ctrt_gr_AVG', 'Thr12011to2013_Recycling-Pickup_VS_hmil_gr_AVG', 'Thr12011to2013_Recycling-Pickup_FOR_hmil_avg', 'Thr12011to2013_Recycling-Pickup_VS_nbhd_gr_AVG', 'Thr12011to2013_Recycling-Pickup_FOR_addr_cnt', 'Thr12011to2013_excluded', 'Thr12011to2013_Recycling-Pickup_FOR_ctrt_avg', 'Thr12011to2013_Recycling-Pickup', 'Thr12011to2013_Recycling-Pickup_FOR_hmil_cnt', 'Thr12011to2013_Recycling-Pickup_FOR_addr_med', 'Thr12011to2013_Street-Sidewalk', 'Thr12011to2013_Recycling-Pickup_FOR_hmil_med', 'Thr12011to2013_Trees', 'Thr12011to2013_Building', 'Thr12011to2013_Recycling-Pickup_FOR_ctrt_cnt', 'Thr12011to2013_Graffiti', 'Thr12011to2013_Recycling-Pickup_FOR_nbhd_avg', 'Thr12011to2013_Recycling-Pickup_FOR_ctrt_med', 'Thr12011to2013_Recycling-Pickup_FOR_nbhd_cnt', 'Thr12011to2013_Housing', 'Thr12011to2013_Recycling-Pickup_FOR_nbhd_med','Top2012PermTypdollars', 'Top2012PermTypNum', 'Thr12012_Street-Sidewalk', 'Thr12012_Recycling-Pickup', 'Thr12012_excluded', 'Thr12012_Enviro', 'Thr12012_Trees', 'Thr12012_Building', 'Thr12012_Graffiti', 'Thr12012_Housing', 'NOT_Top2012PermTypdollars', 'NOT_Top2012PermTypNum', 'NOT_Top2012PermTypdollars_FOR_hmil_avg', 'NOT_Top2012PermTypNum_FOR_hmil_avg', 'NOT_Top2012PermTypdollars_FOR_addr_avg', 'NOT_Top2012PermTypNum_FOR_addr_avg', 'NOT_Top2012PermTypdollars_FOR_ctrt_avg', 'NOT_Top2012PermTypNum_FOR_ctrt_avg', 'NOT_Top2012PermTypNum_FOR_addr_cnt', 'NOT_Top2012PermTypdollars_FOR_addr_cnt', 'NOT_Top2012PermTypdollars_FOR_hmil_cnt', 'NOT_Top2012PermTypNum_FOR_nbhd_avg', 'NOT_Top2012PermTypNum_FOR_hmil_cnt', 'NOT_Top2012PermTypdollars_FOR_nbhd_cnt', 'NOT_Top2012PermTypdollars_FOR_nbhd_avg', 'NOT_Top2012PermTypNum_FOR_ctrt_cnt', 'NOT_Top2012PermTypNum_FOR_addr_med', 'NOT_Top2012PermTypdollars_FOR_ctrt_cnt', 'NOT_Top2012PermTypNum_FOR_nbhd_cnt', 'NOT_Top2012PermTypdollars_FOR_addr_med', 'NOT_Top2012PermTypdollars_FOR_hmil_med', 'NOT_Top2012PermTypNum_FOR_hmil_med', 'NOT_Top2012PermTypdollars_FOR_nbhd_med', 'NOT_Top2012PermTypNum_FOR_nbhd_med', 'NOT_Top2012PermTypdollars_FOR_ctrt_med', 'NOT_Top2012PermTypNum_FOR_ctrt_med', 'Thr12011to2013_Recycling-Pickup_FOR_addr_avg', 'Thr12011to2013_Recycling-Pickup_VS_addr_gr_AVG', 'Thr12011to2013_Recycling-Pickup_VS_ctrt_gr_AVG', 'Thr12011to2013_Recycling-Pickup_VS_hmil_gr_AVG', 'Thr12011to2013_Recycling-Pickup_FOR_hmil_avg', 'Thr12011to2013_Recycling-Pickup_VS_nbhd_gr_AVG', 'Thr12011to2013_Recycling-Pickup_FOR_addr_cnt', 'Thr12011to2013_excluded', 'Thr12011to2013_Recycling-Pickup_FOR_ctrt_avg', 'Thr12011to2013_Recycling-Pickup', 'Thr12011to2013_Recycling-Pickup_FOR_hmil_cnt', 'Thr12011to2013_Recycling-Pickup_FOR_addr_med', 'Thr12011to2013_Street-Sidewalk', 'Thr12011to2013_Recycling-Pickup_FOR_hmil_med', 'Thr12011to2013_Trees', 'Thr12011to2013_Building', 'Thr12011to2013_Recycling-Pickup_FOR_ctrt_cnt', 'Thr12011to2013_Graffiti', 'Thr12011to2013_Recycling-Pickup_FOR_nbhd_avg', 'Thr12011to2013_Recycling-Pickup_FOR_ctrt_med', 'Thr12011to2013_Recycling-Pickup_FOR_nbhd_cnt', 'Thr12011to2013_Housing', 'Thr12011to2013_Recycling-Pickup_FOR_nbhd_med', 'Top2013PermTypdollars', 'Top2013PermTypNum', 'Thr12013_excluded', 'Thr12013_Enviro', 'Thr12013_Building', 'Thr12013_Street-Sidewalk', 'Thr12013_Recycling-Pickup', 'Thr12013_Trees', 'Thr12013_Graffiti', 'Thr12013_Housing', 'NOT_Top2013PermTypdollars', 'NOT_Top2013PermTypNum', 'NOT_Top2013PermTypNum_FOR_hmil_avg', 'NOT_Top2013PermTypdollars_FOR_addr_avg', 'NOT_Top2013PermTypNum_FOR_addr_avg', 'NOT_Top2013PermTypdollars_FOR_hmil_avg', 'NOT_Top2013PermTypdollars_FOR_nbhd_avg', 'NOT_Top2013PermTypdollars_FOR_ctrt_avg', 'NOT_Top2013PermTypNum_FOR_ctrt_avg', 'NOT_Top2013PermTypNum_FOR_nbhd_avg', 'NOT_Top2013PermTypNum_FOR_addr_cnt', 'NOT_Top2013PermTypdollars_FOR_hmil_cnt', 'NOT_Top2013PermTypdollars_FOR_addr_cnt', 'NOT_Top2013PermTypdollars_FOR_addr_med', 'NOT_Top2013PermTypNum_FOR_hmil_cnt', 'NOT_Top2013PermTypdollars_FOR_nbhd_cnt', 'NOT_Top2013PermTypNum_FOR_ctrt_cnt', 'NOT_Top2013PermTypdollars_FOR_ctrt_cnt', 'NOT_Top2013PermTypNum_FOR_addr_med', 'NOT_Top2013PermTypNum_FOR_nbhd_cnt', 'NOT_Top2013PermTypdollars_FOR_hmil_med', 'NOT_Top2013PermTypNum_FOR_hmil_med', 'NOT_Top2013PermTypdollars_FOR_nbhd_med', 'NOT_Top2013PermTypNum_FOR_nbhd_med', 'NOT_Top2013PermTypdollars_FOR_ctrt_med', 'NOT_Top2013PermTypNum_FOR_ctrt_med', 'Top2014PermTypdollars', 'Top2014PermTypNum', 'Thr12014to2015_Recycling-Pickup_FOR_addr_avg', 'Thr12014to2015_Street-Sidewalk_FOR_hmil_avg', 'Thr12014to2015_Building', 'Thr12014to2015_excluded_FOR_addr_avg', 'Thr12014to2015_Street-Sidewalk_FOR_addr_avg', 'Thr12014to2015_excluded_FOR_hmil_avg', 'Thr12014to2015_Recycling-Pickup_FOR_hmil_avg', 'Thr12014to2015_Recycling-Pickup_FOR_ctrt_avg', 'Thr12014to2015_excluded_FOR_addr_cnt', 'Thr12014to2015_excluded', 'Thr12014_excluded', 'Thr12014to2015_Recycling-Pickup_FOR_addr_cnt', 'Thr12014_Enviro', 'Thr12014to2015_excluded_FOR_ctrt_avg', 'Thr12014to2015_Street-Sidewalk_FOR_addr_cnt', 'Thr12014to2015_Enviro', 'Thr12014to2015_Street-Sidewalk_FOR_ctrt_avg', 'Thr12014to2015_Recycling-Pickup', 'Thr12014to2015_excluded_FOR_hmil_cnt', 'Thr12014to2015_Recycling-Pickup_FOR_hmil_cnt', 'Thr12014to2015_Street-Sidewalk_FOR_hmil_cnt', 'Thr12014_Recycling-Pickup', 'Thr12014to2015_Street-Sidewalk', 'Thr12014to2015_excluded_FOR_addr_med', 'Thr12014_Street-Sidewalk', 'Thr12014to2015_excluded_FOR_ctrt_cnt', 'Thr12014to2015_Street-Sidewalk_FOR_ctrt_cnt', 'Thr12014to2015_Graffiti', 'Thr12014to2015_Recycling-Pickup_FOR_addr_med', 'Thr12014to2015_Recycling-Pickup_FOR_ctrt_cnt', 'Thr12014to2015_Street-Sidewalk_FOR_addr_med', 'Thr12014to2015_excluded_FOR_nbhd_avg', 'Thr12014to2015_Trees', 'Thr12014_Building', 'Thr12014to2015_Recycling-Pickup_FOR_nbhd_avg', 'Thr12014to2015_excluded_FOR_hmil_med', 'Thr12014_Trees', 'Thr12014to2015_Housing', 'Thr12014to2015_Recycling-Pickup_FOR_hmil_med', 'Thr12014to2015_Street-Sidewalk_FOR_nbhd_avg', 'Thr12014to2015_Street-Sidewalk_FOR_nbhd_cnt', 'Thr12014_Graffiti', 'Thr12014to2015_Recycling-Pickup_FOR_nbhd_cnt', 'Thr12014to2015_excluded_FOR_nbhd_med', 'Thr12014to2015_excluded_FOR_nbhd_cnt', 'Thr12014_Housing', 'Thr12014to2015_Street-Sidewalk_FOR_hmil_med', 'Thr12014to2015_Recycling-Pickup_FOR_nbhd_med', 'Thr12014to2015_Street-Sidewalk_FOR_nbhd_med', 'Thr12014to2015_Recycling-Pickup_FOR_ctrt_med', 'Thr12014to2015_Street-Sidewalk_FOR_ctrt_med', 'Thr12014to2015_excluded_FOR_ctrt_med', 'NOT_Top2014PermTypdollars', 'NOT_Top2014PermTypNum', 'NOT_Top2014PermTypdollars_FOR_addr_avg', 'NOT_Top2014PermTypNum_FOR_addr_avg', 'NOT_Top2014PermTypNum_FOR_hmil_avg', 'NOT_Top2014PermTypdollars_FOR_hmil_avg', 'NOT_Top2014PermTypdollars_FOR_ctrt_avg', 'NOT_Top2014PermTypdollars_FOR_nbhd_avg', 'NOT_Top2014PermTypNum_FOR_ctrt_avg', 'NOT_Top2014PermTypNum_FOR_nbhd_avg', 'NOT_Top2014PermTypdollars_FOR_addr_cnt', 'NOT_Top2014PermTypdollars_FOR_addr_med', 'NOT_Top2014PermTypNum_FOR_addr_cnt', 'NOT_Top2014PermTypNum_FOR_hmil_cnt', 'NOT_Top2014PermTypdollars_FOR_hmil_cnt', 'NOT_Top2014PermTypNum_FOR_addr_med', 'NOT_Top2014PermTypNum_FOR_ctrt_cnt', 'NOT_Top2014PermTypdollars_FOR_ctrt_cnt', 'NOT_Top2014PermTypNum_FOR_nbhd_cnt', 'NOT_Top2014PermTypdollars_FOR_nbhd_cnt', 'NOT_Top2014PermTypdollars_FOR_hmil_med', 'NOT_Top2014PermTypNum_FOR_hmil_med', 'NOT_Top2014PermTypdollars_FOR_nbhd_med', 'NOT_Top2014PermTypNum_FOR_nbhd_med', 'NOT_Top2014PermTypdollars_FOR_ctrt_med', 'NOT_Top2014PermTypNum_FOR_ctrt_med', 'Top2015PermTypdollars', 'Top2015PermTypNum', 'Thr12015_Building', 'Thr12015_excluded', 'Thr12015_Recycling-Pickup', 'Thr12015_Street-Sidewalk', 'Thr12015_Enviro', 'Thr12015_Trees', 'Thr12015_Graffiti', 'Thr12015_Housing', 'NOT_Top2015PermTypdollars', 'NOT_Top2015PermTypNum', 'NOT_Top2015PermTypdollars_FOR_addr_avg', 'NOT_Top2015PermTypNum_FOR_hmil_avg', 'NOT_Top2015PermTypNum_FOR_addr_avg', 'NOT_Top2015PermTypdollars_FOR_hmil_avg', 'NOT_Top2015PermTypdollars_FOR_ctrt_avg', 'NOT_Top2015PermTypdollars_FOR_nbhd_avg', 'NOT_Top2015PermTypNum_FOR_ctrt_avg', 'NOT_Top2015PermTypNum_FOR_addr_cnt', 'NOT_Top2015PermTypNum_FOR_nbhd_avg', 'NOT_Top2015PermTypdollars_FOR_hmil_cnt', 'NOT_Top2015PermTypdollars_FOR_addr_cnt', 'NOT_Top2015PermTypNum_FOR_ctrt_cnt', 'NOT_Top2015PermTypNum_FOR_hmil_cnt', 'NOT_Top2015PermTypdollars_FOR_ctrt_cnt', 'NOT_Top2015PermTypNum_FOR_nbhd_cnt', 'NOT_Top2015PermTypdollars_FOR_addr_med', 'NOT_Top2015PermTypdollars_FOR_nbhd_cnt', 'NOT_Top2015PermTypNum_FOR_addr_med', 'NOT_Top2015PermTypdollars_FOR_hmil_med', 'NOT_Top2015PermTypNum_FOR_hmil_med', 'NOT_Top2015PermTypdollars_FOR_nbhd_med', 'NOT_Top2015PermTypNum_FOR_nbhd_med', 'NOT_Top2015PermTypdollars_FOR_ctrt_med', 'NOT_Top2015PermTypNum_FOR_ctrt_med', 'Top2016PermTypNum', 'Top2016PermTypdollars', 'Thr12016_Recycling-Pickup', 'Thr12016_excluded', 'Thr12016_Building', 'Thr12016_Street-Sidewalk', 'Thr12016_Trees', 'Thr12016_Enviro', 'Thr12016_Graffiti', 'Thr12016_Housing', 'NOT_Top2016PermTypdollars', 'NOT_Top2016PermTypNum']\n",
    "YR_2011_COL_DROPS = ['Top2011PermTypdollars', 'Top2011PermTypNum', 'Thr12011_excluded', 'Thr12011_Recycling-Pickup', 'Thr12011to2013_Enviro', 'Thr12011_Trees', 'Thr12011_Enviro', 'Thr12011_Building', 'Thr12011_Street-Sidewalk', 'Thr12011_Graffiti', 'Thr12011_Housing', 'NOT_Top2011PermTypdollars', 'NOT_Top2011PermTypdollars_FOR_addr_avg', 'NOT_Top2011PermTypdollars_FOR_hmil_avg', 'NOT_Top2011PermTypdollars_FOR_ctrt_avg', 'NOT_Top2011PermTypdollars_FOR_nbhd_avg', 'NOT_Top2011PermTypNum', 'NOT_Top2011PermTypdollars_FOR_addr_cnt', 'NOT_Top2011PermTypdollars_FOR_hmil_cnt', 'NOT_Top2011PermTypdollars_FOR_ctrt_cnt', 'NOT_Top2011PermTypdollars_FOR_nbhd_cnt', 'NOT_Top2011PermTypdollars_FOR_addr_med', 'NOT_Top2011PermTypdollars_FOR_hmil_med', 'NOT_Top2011PermTypdollars_FOR_nbhd_med', 'NOT_Top2011PermTypdollars_FOR_ctrt_med', 'Top2012PermTypdollars', 'Top2012PermTypNum', 'Thr12012_Street-Sidewalk', 'Thr12012_Recycling-Pickup', 'Thr12012_excluded', 'Thr12012_Enviro', 'Thr12012_Trees', 'Thr12012_Building', 'Thr12012_Graffiti', 'Thr12012_Housing', 'NOT_Top2012PermTypdollars', 'NOT_Top2012PermTypNum', 'NOT_Top2012PermTypdollars_FOR_hmil_avg', 'NOT_Top2012PermTypNum_FOR_hmil_avg', 'NOT_Top2012PermTypdollars_FOR_addr_avg', 'NOT_Top2012PermTypNum_FOR_addr_avg', 'NOT_Top2012PermTypdollars_FOR_ctrt_avg', 'NOT_Top2012PermTypNum_FOR_ctrt_avg', 'NOT_Top2012PermTypNum_FOR_addr_cnt', 'NOT_Top2012PermTypdollars_FOR_addr_cnt', 'NOT_Top2012PermTypdollars_FOR_hmil_cnt', 'NOT_Top2012PermTypNum_FOR_nbhd_avg', 'NOT_Top2012PermTypNum_FOR_hmil_cnt', 'NOT_Top2012PermTypdollars_FOR_nbhd_cnt', 'NOT_Top2012PermTypdollars_FOR_nbhd_avg', 'NOT_Top2012PermTypNum_FOR_ctrt_cnt', 'NOT_Top2012PermTypNum_FOR_addr_med', 'NOT_Top2012PermTypdollars_FOR_ctrt_cnt', 'NOT_Top2012PermTypNum_FOR_nbhd_cnt', 'NOT_Top2012PermTypdollars_FOR_addr_med', 'NOT_Top2012PermTypdollars_FOR_hmil_med', 'NOT_Top2012PermTypNum_FOR_hmil_med', 'NOT_Top2012PermTypdollars_FOR_nbhd_med', 'NOT_Top2012PermTypNum_FOR_nbhd_med', 'NOT_Top2012PermTypdollars_FOR_ctrt_med', 'NOT_Top2012PermTypNum_FOR_ctrt_med', 'Thr12011to2013_Recycling-Pickup_FOR_addr_avg', 'Thr12011to2013_Recycling-Pickup_VS_addr_gr_AVG', 'Thr12011to2013_Recycling-Pickup_VS_ctrt_gr_AVG', 'Thr12011to2013_Recycling-Pickup_VS_hmil_gr_AVG', 'Thr12011to2013_Recycling-Pickup_FOR_hmil_avg', 'Thr12011to2013_Recycling-Pickup_VS_nbhd_gr_AVG', 'Thr12011to2013_Recycling-Pickup_FOR_addr_cnt', 'Thr12011to2013_excluded', 'Thr12011to2013_Recycling-Pickup_FOR_ctrt_avg', 'Thr12011to2013_Recycling-Pickup', 'Thr12011to2013_Recycling-Pickup_FOR_hmil_cnt', 'Thr12011to2013_Recycling-Pickup_FOR_addr_med', 'Thr12011to2013_Street-Sidewalk', 'Thr12011to2013_Recycling-Pickup_FOR_hmil_med', 'Thr12011to2013_Trees', 'Thr12011to2013_Building', 'Thr12011to2013_Recycling-Pickup_FOR_ctrt_cnt', 'Thr12011to2013_Graffiti', 'Thr12011to2013_Recycling-Pickup_FOR_nbhd_avg', 'Thr12011to2013_Recycling-Pickup_FOR_ctrt_med', 'Thr12011to2013_Recycling-Pickup_FOR_nbhd_cnt', 'Thr12011to2013_Housing', 'Thr12011to2013_Recycling-Pickup_FOR_nbhd_med', 'Top2013PermTypdollars', 'Top2013PermTypNum', 'Thr12013_excluded', 'Thr12013_Enviro', 'Thr12013_Building', 'Thr12013_Street-Sidewalk', 'Thr12013_Recycling-Pickup', 'Thr12013_Trees', 'Thr12013_Graffiti', 'Thr12013_Housing', 'NOT_Top2013PermTypdollars', 'NOT_Top2013PermTypNum', 'NOT_Top2013PermTypNum_FOR_hmil_avg', 'NOT_Top2013PermTypdollars_FOR_addr_avg', 'NOT_Top2013PermTypNum_FOR_addr_avg', 'NOT_Top2013PermTypdollars_FOR_hmil_avg', 'NOT_Top2013PermTypdollars_FOR_nbhd_avg', 'NOT_Top2013PermTypdollars_FOR_ctrt_avg', 'NOT_Top2013PermTypNum_FOR_ctrt_avg', 'NOT_Top2013PermTypNum_FOR_nbhd_avg', 'NOT_Top2013PermTypNum_FOR_addr_cnt', 'NOT_Top2013PermTypdollars_FOR_hmil_cnt', 'NOT_Top2013PermTypdollars_FOR_addr_cnt', 'NOT_Top2013PermTypdollars_FOR_addr_med', 'NOT_Top2013PermTypNum_FOR_hmil_cnt', 'NOT_Top2013PermTypdollars_FOR_nbhd_cnt', 'NOT_Top2013PermTypNum_FOR_ctrt_cnt', 'NOT_Top2013PermTypdollars_FOR_ctrt_cnt', 'NOT_Top2013PermTypNum_FOR_addr_med', 'NOT_Top2013PermTypNum_FOR_nbhd_cnt', 'NOT_Top2013PermTypdollars_FOR_hmil_med', 'NOT_Top2013PermTypNum_FOR_hmil_med', 'NOT_Top2013PermTypdollars_FOR_nbhd_med', 'NOT_Top2013PermTypNum_FOR_nbhd_med', 'NOT_Top2013PermTypdollars_FOR_ctrt_med', 'NOT_Top2013PermTypNum_FOR_ctrt_med', 'Top2014PermTypdollars', 'Top2014PermTypNum', 'Thr12014to2015_Recycling-Pickup_FOR_addr_avg', 'Thr12014to2015_Street-Sidewalk_FOR_hmil_avg', 'Thr12014to2015_Building', 'Thr12014to2015_excluded_FOR_addr_avg', 'Thr12014to2015_Street-Sidewalk_FOR_addr_avg', 'Thr12014to2015_excluded_FOR_hmil_avg', 'Thr12014to2015_Recycling-Pickup_FOR_hmil_avg', 'Thr12014to2015_Recycling-Pickup_FOR_ctrt_avg', 'Thr12014to2015_excluded_FOR_addr_cnt', 'Thr12014to2015_excluded', 'Thr12014_excluded', 'Thr12014to2015_Recycling-Pickup_FOR_addr_cnt', 'Thr12014_Enviro', 'Thr12014to2015_excluded_FOR_ctrt_avg', 'Thr12014to2015_Street-Sidewalk_FOR_addr_cnt', 'Thr12014to2015_Enviro', 'Thr12014to2015_Street-Sidewalk_FOR_ctrt_avg', 'Thr12014to2015_Recycling-Pickup', 'Thr12014to2015_excluded_FOR_hmil_cnt', 'Thr12014to2015_Recycling-Pickup_FOR_hmil_cnt', 'Thr12014to2015_Street-Sidewalk_FOR_hmil_cnt', 'Thr12014_Recycling-Pickup', 'Thr12014to2015_Street-Sidewalk', 'Thr12014to2015_excluded_FOR_addr_med', 'Thr12014_Street-Sidewalk', 'Thr12014to2015_excluded_FOR_ctrt_cnt', 'Thr12014to2015_Street-Sidewalk_FOR_ctrt_cnt', 'Thr12014to2015_Graffiti', 'Thr12014to2015_Recycling-Pickup_FOR_addr_med', 'Thr12014to2015_Recycling-Pickup_FOR_ctrt_cnt', 'Thr12014to2015_Street-Sidewalk_FOR_addr_med', 'Thr12014to2015_excluded_FOR_nbhd_avg', 'Thr12014to2015_Trees', 'Thr12014_Building', 'Thr12014to2015_Recycling-Pickup_FOR_nbhd_avg', 'Thr12014to2015_excluded_FOR_hmil_med', 'Thr12014_Trees', 'Thr12014to2015_Housing', 'Thr12014to2015_Recycling-Pickup_FOR_hmil_med', 'Thr12014to2015_Street-Sidewalk_FOR_nbhd_avg', 'Thr12014to2015_Street-Sidewalk_FOR_nbhd_cnt', 'Thr12014_Graffiti', 'Thr12014to2015_Recycling-Pickup_FOR_nbhd_cnt', 'Thr12014to2015_excluded_FOR_nbhd_med', 'Thr12014to2015_excluded_FOR_nbhd_cnt', 'Thr12014_Housing', 'Thr12014to2015_Street-Sidewalk_FOR_hmil_med', 'Thr12014to2015_Recycling-Pickup_FOR_nbhd_med', 'Thr12014to2015_Street-Sidewalk_FOR_nbhd_med', 'Thr12014to2015_Recycling-Pickup_FOR_ctrt_med', 'Thr12014to2015_Street-Sidewalk_FOR_ctrt_med', 'Thr12014to2015_excluded_FOR_ctrt_med', 'NOT_Top2014PermTypdollars', 'NOT_Top2014PermTypNum', 'NOT_Top2014PermTypdollars_FOR_addr_avg', 'NOT_Top2014PermTypNum_FOR_addr_avg', 'NOT_Top2014PermTypNum_FOR_hmil_avg', 'NOT_Top2014PermTypdollars_FOR_hmil_avg', 'NOT_Top2014PermTypdollars_FOR_ctrt_avg', 'NOT_Top2014PermTypdollars_FOR_nbhd_avg', 'NOT_Top2014PermTypNum_FOR_ctrt_avg', 'NOT_Top2014PermTypNum_FOR_nbhd_avg', 'NOT_Top2014PermTypdollars_FOR_addr_cnt', 'NOT_Top2014PermTypdollars_FOR_addr_med', 'NOT_Top2014PermTypNum_FOR_addr_cnt', 'NOT_Top2014PermTypNum_FOR_hmil_cnt', 'NOT_Top2014PermTypdollars_FOR_hmil_cnt', 'NOT_Top2014PermTypNum_FOR_addr_med', 'NOT_Top2014PermTypNum_FOR_ctrt_cnt', 'NOT_Top2014PermTypdollars_FOR_ctrt_cnt', 'NOT_Top2014PermTypNum_FOR_nbhd_cnt', 'NOT_Top2014PermTypdollars_FOR_nbhd_cnt', 'NOT_Top2014PermTypdollars_FOR_hmil_med', 'NOT_Top2014PermTypNum_FOR_hmil_med', 'NOT_Top2014PermTypdollars_FOR_nbhd_med', 'NOT_Top2014PermTypNum_FOR_nbhd_med', 'NOT_Top2014PermTypdollars_FOR_ctrt_med', 'NOT_Top2014PermTypNum_FOR_ctrt_med', 'Top2015PermTypdollars', 'Top2015PermTypNum', 'Thr12015_Building', 'Thr12015_excluded', 'Thr12015_Recycling-Pickup', 'Thr12015_Street-Sidewalk', 'Thr12015_Enviro', 'Thr12015_Trees', 'Thr12015_Graffiti', 'Thr12015_Housing', 'NOT_Top2015PermTypdollars', 'NOT_Top2015PermTypNum', 'NOT_Top2015PermTypdollars_FOR_addr_avg', 'NOT_Top2015PermTypNum_FOR_hmil_avg', 'NOT_Top2015PermTypNum_FOR_addr_avg', 'NOT_Top2015PermTypdollars_FOR_hmil_avg', 'NOT_Top2015PermTypdollars_FOR_ctrt_avg', 'NOT_Top2015PermTypdollars_FOR_nbhd_avg', 'NOT_Top2015PermTypNum_FOR_ctrt_avg', 'NOT_Top2015PermTypNum_FOR_addr_cnt', 'NOT_Top2015PermTypNum_FOR_nbhd_avg', 'NOT_Top2015PermTypdollars_FOR_hmil_cnt', 'NOT_Top2015PermTypdollars_FOR_addr_cnt', 'NOT_Top2015PermTypNum_FOR_ctrt_cnt', 'NOT_Top2015PermTypNum_FOR_hmil_cnt', 'NOT_Top2015PermTypdollars_FOR_ctrt_cnt', 'NOT_Top2015PermTypNum_FOR_nbhd_cnt', 'NOT_Top2015PermTypdollars_FOR_addr_med', 'NOT_Top2015PermTypdollars_FOR_nbhd_cnt', 'NOT_Top2015PermTypNum_FOR_addr_med', 'NOT_Top2015PermTypdollars_FOR_hmil_med', 'NOT_Top2015PermTypNum_FOR_hmil_med', 'NOT_Top2015PermTypdollars_FOR_nbhd_med', 'NOT_Top2015PermTypNum_FOR_nbhd_med', 'NOT_Top2015PermTypdollars_FOR_ctrt_med', 'NOT_Top2015PermTypNum_FOR_ctrt_med', 'Top2016PermTypNum', 'Top2016PermTypdollars', 'Thr12016_Recycling-Pickup', 'Thr12016_excluded', 'Thr12016_Building', 'Thr12016_Street-Sidewalk', 'Thr12016_Trees', 'Thr12016_Enviro', 'Thr12016_Graffiti', 'Thr12016_Housing', 'NOT_Top2016PermTypdollars', 'NOT_Top2016PermTypNum']\n"
   ]
  },
  {
   "cell_type": "code",
   "execution_count": 37,
   "metadata": {
    "collapsed": false
   },
   "outputs": [
    {
     "data": {
      "text/plain": [
       "(92052, 1270)"
      ]
     },
     "execution_count": 37,
     "metadata": {},
     "output_type": "execute_result"
    }
   ],
   "source": [
    "model_file.shape"
   ]
  },
  {
   "cell_type": "code",
   "execution_count": 38,
   "metadata": {
    "collapsed": false
   },
   "outputs": [
    {
     "data": {
      "text/plain": [
       "Dorchester                                      16246\n",
       "West Roxbury                                     9412\n",
       "Hyde Park                                        8284\n",
       "Roxbury                                          7836\n",
       "Allston / Brighton                               6892\n",
       "Greater Mattapan                                 6443\n",
       "East Boston                                      6152\n",
       "Jamaica Plain                                    5848\n",
       "Roslindale                                       5833\n",
       "South Boston / South Boston Waterfront           5114\n",
       "Charlestown                                      2316\n",
       "Downtown / Financial District                    1885\n",
       "South End                                        1658\n",
       "Back Bay                                         1418\n",
       "Mission Hill                                     1256\n",
       "Beacon Hill                                       956\n",
       "Fenway / Kenmore / Audubon Circle / Longwood      951\n",
       "Boston                                            261\n",
       "South Boston                                       60\n",
       "Brighton                                           37\n",
       "Mattapan                                           35\n",
       "Allston                                            12\n",
       "Chestnut Hill                                       1\n",
       "Name: neighborhood, dtype: int64"
      ]
     },
     "execution_count": 38,
     "metadata": {},
     "output_type": "execute_result"
    }
   ],
   "source": [
    "model_file['neighborhood'].value_counts()"
   ]
  },
  {
   "cell_type": "code",
   "execution_count": 39,
   "metadata": {
    "collapsed": false
   },
   "outputs": [
    {
     "name": "stdout",
     "output_type": "stream",
     "text": [
      "(92052, 1270)\n",
      "(86598, 1270)\n"
     ]
    }
   ],
   "source": [
    "print model_file.shape\n",
    "low_neighborhoods = ['Allston','Beacon Hill','Boston','Brighton','Chestnut Hill','Downtown / Financial District','Fenway / Kenmore / Audubon Circle / Longwood','Mattapan','Mission Hill','South Boston']\n",
    "model_file = model_file[~model_file['neighborhood'].isin(low_neighborhoods)]\n",
    "print model_file.shape"
   ]
  },
  {
   "cell_type": "code",
   "execution_count": 40,
   "metadata": {
    "collapsed": true
   },
   "outputs": [],
   "source": [
    "##\n",
    "# Save out 'Year Solar, PID and is_solar' to use for later analysis \n",
    "#model_file[['PID','Year_SOLAR','is_solar']].to_csv('/Users/DavidStier/Downloads/PID_YR_SOLAR_all.csv')\n",
    "mf2016 = model_file[model_file['Year_SOLAR'] == 2016]\n",
    "mf2016.to_csv('/Users/DavidStier/Downloads/YR_SOLARis2016.csv')"
   ]
  },
  {
   "cell_type": "code",
   "execution_count": 41,
   "metadata": {
    "collapsed": false
   },
   "outputs": [],
   "source": [
    "tf = model_file  # tf for test_file"
   ]
  },
  {
   "cell_type": "code",
   "execution_count": 42,
   "metadata": {
    "collapsed": false
   },
   "outputs": [],
   "source": [
    "tf.fillna(0, inplace = True)"
   ]
  },
  {
   "cell_type": "markdown",
   "metadata": {},
   "source": [
    "### From here on, only SINGLE FAMILY OWNER OCCUPIED residential are included \n",
    "\n",
    "#### See prior notebooks for how to divide model_file for other home sizes\n"
   ]
  },
  {
   "cell_type": "code",
   "execution_count": 43,
   "metadata": {
    "collapsed": false
   },
   "outputs": [
    {
     "name": "stdout",
     "output_type": "stream",
     "text": [
      "(30033, 1270) single family only\n"
     ]
    }
   ],
   "source": [
    "tf_r = tf[tf['resid_bldg']==True]\n",
    "tf_r_single = tf_r[tf_r['LU'] == 'Residential Single Family']\n",
    "print tf_r_single.shape, 'single family only'\n"
   ]
  },
  {
   "cell_type": "code",
   "execution_count": 44,
   "metadata": {
    "collapsed": false
   },
   "outputs": [
    {
     "name": "stdout",
     "output_type": "stream",
     "text": [
      "(25303, 1270) single family only, now Owner Occ only\n"
     ]
    }
   ],
   "source": [
    "tf_r_single = tf_r_single[tf_r_single['OWN_OCC'] == 1]\n",
    "print tf_r_single.shape, 'single family only, now Owner Occ only'\n",
    "# tfr_dtypes = tf_r.dtypes.tolist()\n",
    "# tfrcolslist = tf_r.columns.tolist()\n"
   ]
  },
  {
   "cell_type": "markdown",
   "metadata": {},
   "source": [
    "<a id='the_destination'></a>"
   ]
  },
  {
   "cell_type": "markdown",
   "metadata": {},
   "source": [
    "## The destination"
   ]
  },
  {
   "cell_type": "markdown",
   "metadata": {},
   "source": [
    "## Segment into train / test / validate files"
   ]
  },
  {
   "cell_type": "code",
   "execution_count": 45,
   "metadata": {
    "collapsed": false
   },
   "outputs": [],
   "source": [
    "## \n",
    "#  Remove last remaining columns that should be excluded from the dummification\n",
    "##\n",
    "\n",
    "final_cols_to_drop = ['Unnamed: 0',\n",
    " 'GIS_ID',\n",
    " 'hmile_grid_cell',\n",
    " 'PID',\n",
    " 'PID_LONG',\n",
    " 'PTYPE',\n",
    " 'geometry',\n",
    " 'centroids',\n",
    " 'st_name_w_type',\n",
    " 'addr_group',\n",
    " 'Parcel_ID',\n",
    " 'Property_Type',\n",
    " 'parcel_num',\n",
    " 'FIPS',\n",
    " 'Latitude',\n",
    " 'Longitude',\n",
    " 'YR_BUILT_VS_addr_gr_MED',  # these went to infinity, so will drop\n",
    "'YR_BUILT_VS_hmil_gr_MED',\n",
    "'YR_BUILT_VS_ctrt_gr_MED',\n",
    "'GROSS_AREA_VS_addr_gr_MED',\n",
    "'GROSS_AREA_VS_hmil_gr_MED',\n",
    "'GROSS_AREA_VS_ctrt_gr_MED',\n",
    "'Thr12011to2013_Recycling-Pickup_VS_addr_gr_MED',\n",
    "'Thr12011to2013_Recycling-Pickup_VS_nbhd_gr_MED',\n",
    "'Thr12011to2013_Recycling-Pickup_VS_hmil_gr_MED',\n",
    "'Thr12011to2013_Recycling-Pickup_VS_ctrt_gr_MED'\n",
    "] \n",
    "\n",
    "tf_r_single.drop(final_cols_to_drop, inplace = True, axis = 1)\n"
   ]
  },
  {
   "cell_type": "code",
   "execution_count": 46,
   "metadata": {
    "collapsed": false
   },
   "outputs": [
    {
     "ename": "KeyError",
     "evalue": "\"['Qmile_grid_cell'] not in index\"",
     "output_type": "error",
     "traceback": [
      "\u001b[0;31m---------------------------------------------------------------------------\u001b[0m",
      "\u001b[0;31mKeyError\u001b[0m                                  Traceback (most recent call last)",
      "\u001b[0;32m<ipython-input-46-1501b9fced35>\u001b[0m in \u001b[0;36m<module>\u001b[0;34m()\u001b[0m\n\u001b[1;32m     33\u001b[0m  \u001b[0;34m'FIPS'\u001b[0m\u001b[0;34m,\u001b[0m\u001b[0;34m\u001b[0m\u001b[0m\n\u001b[1;32m     34\u001b[0m  \u001b[0;34m'Latitude'\u001b[0m\u001b[0;34m,\u001b[0m\u001b[0;34m\u001b[0m\u001b[0m\n\u001b[0;32m---> 35\u001b[0;31m  'Longitude']].to_csv('/Users/DavidStier/Downloads/FinalColsDropped.csv')\n\u001b[0m",
      "\u001b[0;32m/Applications/anaconda/envs/dsi/lib/python2.7/site-packages/pandas/core/frame.pyc\u001b[0m in \u001b[0;36m__getitem__\u001b[0;34m(self, key)\u001b[0m\n\u001b[1;32m   1989\u001b[0m         \u001b[0;32mif\u001b[0m \u001b[0misinstance\u001b[0m\u001b[0;34m(\u001b[0m\u001b[0mkey\u001b[0m\u001b[0;34m,\u001b[0m \u001b[0;34m(\u001b[0m\u001b[0mSeries\u001b[0m\u001b[0;34m,\u001b[0m \u001b[0mnp\u001b[0m\u001b[0;34m.\u001b[0m\u001b[0mndarray\u001b[0m\u001b[0;34m,\u001b[0m \u001b[0mIndex\u001b[0m\u001b[0;34m,\u001b[0m \u001b[0mlist\u001b[0m\u001b[0;34m)\u001b[0m\u001b[0;34m)\u001b[0m\u001b[0;34m:\u001b[0m\u001b[0;34m\u001b[0m\u001b[0m\n\u001b[1;32m   1990\u001b[0m             \u001b[0;31m# either boolean or fancy integer index\u001b[0m\u001b[0;34m\u001b[0m\u001b[0;34m\u001b[0m\u001b[0m\n\u001b[0;32m-> 1991\u001b[0;31m             \u001b[0;32mreturn\u001b[0m \u001b[0mself\u001b[0m\u001b[0;34m.\u001b[0m\u001b[0m_getitem_array\u001b[0m\u001b[0;34m(\u001b[0m\u001b[0mkey\u001b[0m\u001b[0;34m)\u001b[0m\u001b[0;34m\u001b[0m\u001b[0m\n\u001b[0m\u001b[1;32m   1992\u001b[0m         \u001b[0;32melif\u001b[0m \u001b[0misinstance\u001b[0m\u001b[0;34m(\u001b[0m\u001b[0mkey\u001b[0m\u001b[0;34m,\u001b[0m \u001b[0mDataFrame\u001b[0m\u001b[0;34m)\u001b[0m\u001b[0;34m:\u001b[0m\u001b[0;34m\u001b[0m\u001b[0m\n\u001b[1;32m   1993\u001b[0m             \u001b[0;32mreturn\u001b[0m \u001b[0mself\u001b[0m\u001b[0;34m.\u001b[0m\u001b[0m_getitem_frame\u001b[0m\u001b[0;34m(\u001b[0m\u001b[0mkey\u001b[0m\u001b[0;34m)\u001b[0m\u001b[0;34m\u001b[0m\u001b[0m\n",
      "\u001b[0;32m/Applications/anaconda/envs/dsi/lib/python2.7/site-packages/pandas/core/frame.pyc\u001b[0m in \u001b[0;36m_getitem_array\u001b[0;34m(self, key)\u001b[0m\n\u001b[1;32m   2033\u001b[0m             \u001b[0;32mreturn\u001b[0m \u001b[0mself\u001b[0m\u001b[0;34m.\u001b[0m\u001b[0mtake\u001b[0m\u001b[0;34m(\u001b[0m\u001b[0mindexer\u001b[0m\u001b[0;34m,\u001b[0m \u001b[0maxis\u001b[0m\u001b[0;34m=\u001b[0m\u001b[0;36m0\u001b[0m\u001b[0;34m,\u001b[0m \u001b[0mconvert\u001b[0m\u001b[0;34m=\u001b[0m\u001b[0mFalse\u001b[0m\u001b[0;34m)\u001b[0m\u001b[0;34m\u001b[0m\u001b[0m\n\u001b[1;32m   2034\u001b[0m         \u001b[0;32melse\u001b[0m\u001b[0;34m:\u001b[0m\u001b[0;34m\u001b[0m\u001b[0m\n\u001b[0;32m-> 2035\u001b[0;31m             \u001b[0mindexer\u001b[0m \u001b[0;34m=\u001b[0m \u001b[0mself\u001b[0m\u001b[0;34m.\u001b[0m\u001b[0mix\u001b[0m\u001b[0;34m.\u001b[0m\u001b[0m_convert_to_indexer\u001b[0m\u001b[0;34m(\u001b[0m\u001b[0mkey\u001b[0m\u001b[0;34m,\u001b[0m \u001b[0maxis\u001b[0m\u001b[0;34m=\u001b[0m\u001b[0;36m1\u001b[0m\u001b[0;34m)\u001b[0m\u001b[0;34m\u001b[0m\u001b[0m\n\u001b[0m\u001b[1;32m   2036\u001b[0m             \u001b[0;32mreturn\u001b[0m \u001b[0mself\u001b[0m\u001b[0;34m.\u001b[0m\u001b[0mtake\u001b[0m\u001b[0;34m(\u001b[0m\u001b[0mindexer\u001b[0m\u001b[0;34m,\u001b[0m \u001b[0maxis\u001b[0m\u001b[0;34m=\u001b[0m\u001b[0;36m1\u001b[0m\u001b[0;34m,\u001b[0m \u001b[0mconvert\u001b[0m\u001b[0;34m=\u001b[0m\u001b[0mTrue\u001b[0m\u001b[0;34m)\u001b[0m\u001b[0;34m\u001b[0m\u001b[0m\n\u001b[1;32m   2037\u001b[0m \u001b[0;34m\u001b[0m\u001b[0m\n",
      "\u001b[0;32m/Applications/anaconda/envs/dsi/lib/python2.7/site-packages/pandas/core/indexing.pyc\u001b[0m in \u001b[0;36m_convert_to_indexer\u001b[0;34m(self, obj, axis, is_setter)\u001b[0m\n\u001b[1;32m   1212\u001b[0m                 \u001b[0mmask\u001b[0m \u001b[0;34m=\u001b[0m \u001b[0mcheck\u001b[0m \u001b[0;34m==\u001b[0m \u001b[0;34m-\u001b[0m\u001b[0;36m1\u001b[0m\u001b[0;34m\u001b[0m\u001b[0m\n\u001b[1;32m   1213\u001b[0m                 \u001b[0;32mif\u001b[0m \u001b[0mmask\u001b[0m\u001b[0;34m.\u001b[0m\u001b[0many\u001b[0m\u001b[0;34m(\u001b[0m\u001b[0;34m)\u001b[0m\u001b[0;34m:\u001b[0m\u001b[0;34m\u001b[0m\u001b[0m\n\u001b[0;32m-> 1214\u001b[0;31m                     \u001b[0;32mraise\u001b[0m \u001b[0mKeyError\u001b[0m\u001b[0;34m(\u001b[0m\u001b[0;34m'%s not in index'\u001b[0m \u001b[0;34m%\u001b[0m \u001b[0mobjarr\u001b[0m\u001b[0;34m[\u001b[0m\u001b[0mmask\u001b[0m\u001b[0;34m]\u001b[0m\u001b[0;34m)\u001b[0m\u001b[0;34m\u001b[0m\u001b[0m\n\u001b[0m\u001b[1;32m   1215\u001b[0m \u001b[0;34m\u001b[0m\u001b[0m\n\u001b[1;32m   1216\u001b[0m                 \u001b[0;32mreturn\u001b[0m \u001b[0m_values_from_object\u001b[0m\u001b[0;34m(\u001b[0m\u001b[0mindexer\u001b[0m\u001b[0;34m)\u001b[0m\u001b[0;34m\u001b[0m\u001b[0m\n",
      "\u001b[0;31mKeyError\u001b[0m: \"['Qmile_grid_cell'] not in index\""
     ]
    }
   ],
   "source": [
    "archive_cols = ['GIS_ID',\n",
    " 'hmile_grid_cell',\n",
    " 'PID',\n",
    " 'PID_LONG',\n",
    " 'PTYPE',\n",
    " 'geometry',\n",
    " 'centroids',\n",
    " 'st_name_w_type',\n",
    " 'addr_group',\n",
    " 'Parcel_ID',\n",
    " 'Property_Type',\n",
    " 'parcel_num',\n",
    " 'FIPS',\n",
    " 'Latitude',\n",
    " 'Longitude' ]\n",
    "##\n",
    "# output a csv of the dropped columns for later audits\n",
    "##\n",
    "model_file[['GIS_ID',\n",
    " 'hmile_grid_cell',\n",
    " 'PID',\n",
    " 'PID_LONG',\n",
    " 'PTYPE',\n",
    " 'geometry',\n",
    " 'centroids',\n",
    " 'st_name_w_type',\n",
    " 'addr_group',\n",
    " 'Parcel_ID',\n",
    " 'Property_Type',\n",
    " 'parcel_num',\n",
    " 'FIPS',\n",
    " 'Latitude',\n",
    " 'Longitude']].to_csv('/Users/DavidStier/Downloads/FinalColsDropped.csv')"
   ]
  },
  {
   "cell_type": "code",
   "execution_count": null,
   "metadata": {
    "collapsed": false
   },
   "outputs": [],
   "source": [
    "## \n",
    "# Create file specific column suffixes for the get_dummies functions\n",
    "##\n",
    "\n",
    "categ_cols_single = tf_r_single.select_dtypes(include=['object']).columns\n"
   ]
  },
  {
   "cell_type": "code",
   "execution_count": null,
   "metadata": {
    "collapsed": false
   },
   "outputs": [],
   "source": [
    "tf_r_single_dummied = pd.get_dummies(tf_r_single, columns = categ_cols_single)\n",
    "\n",
    "print tf_r_single_dummied.shape, 'single family dummied'\n"
   ]
  },
  {
   "cell_type": "markdown",
   "metadata": {},
   "source": [
    "## Run regression tests, holding out 2016 conversions"
   ]
  },
  {
   "cell_type": "code",
   "execution_count": null,
   "metadata": {
    "collapsed": false
   },
   "outputs": [],
   "source": [
    "\n",
    "validate_file_single = tf_r_single_dummied[tf_r_single_dummied['Year_SOLAR']==2016]\n",
    "validate_file_single.drop(['is_solar','Year_SOLAR'], axis = 1, inplace = True)\n"
   ]
  },
  {
   "cell_type": "code",
   "execution_count": null,
   "metadata": {
    "collapsed": false
   },
   "outputs": [],
   "source": [
    "train_test_combo_single = tf_r_single_dummied[tf_r_single_dummied['Year_SOLAR']!=2016]\n",
    "print 'SINGLE FAMILY:  '\n",
    "print validate_file_single.shape, ' validate file'\n",
    "print train_test_combo_single.shape, ' all others'"
   ]
  },
  {
   "cell_type": "code",
   "execution_count": null,
   "metadata": {
    "collapsed": false
   },
   "outputs": [],
   "source": [
    "validate_file_single.to_csv('/Users/DavidStier/Downloads/Validate_full_fileWEDS11am.csv')\n"
   ]
  },
  {
   "cell_type": "code",
   "execution_count": null,
   "metadata": {
    "collapsed": false
   },
   "outputs": [],
   "source": [
    "Y_single = train_test_combo_single['is_solar']\n"
   ]
  },
  {
   "cell_type": "markdown",
   "metadata": {
    "collapsed": false
   },
   "source": [
    "### GET X"
   ]
  },
  {
   "cell_type": "code",
   "execution_count": null,
   "metadata": {
    "collapsed": false
   },
   "outputs": [],
   "source": [
    "tt_single_copy = train_test_combo_single.copy()\n",
    "tt_single_copy.drop(['is_solar','Year_SOLAR'], axis = 1, inplace = True)\n",
    "X_single = tt_single_copy\n",
    "\n",
    "print X_single.shape, ': X_single shape'"
   ]
  },
  {
   "cell_type": "markdown",
   "metadata": {},
   "source": [
    "## Create 2016 train/test dataset"
   ]
  },
  {
   "cell_type": "markdown",
   "metadata": {},
   "source": [
    "### Stratified Split Search"
   ]
  },
  {
   "cell_type": "code",
   "execution_count": null,
   "metadata": {
    "collapsed": false
   },
   "outputs": [],
   "source": [
    "imp = Imputer(missing_values='NaN', strategy='mean', axis=0, verbose=0, copy=True)\n",
    "# imp.fit(X)  - this was the original\n",
    "# X2 = imp.transform(X)\n",
    "\n",
    "imp.fit(X_single)\n",
    "X2_single = imp.transform(X_single)\n",
    "\n",
    "# Note - set X2 as variable for imputed \"X\" so that I could keep \"X\" clean"
   ]
  },
  {
   "cell_type": "markdown",
   "metadata": {},
   "source": [
    "## Single Family Residential - Logit & RFC"
   ]
  },
  {
   "cell_type": "code",
   "execution_count": null,
   "metadata": {
    "collapsed": false,
    "scrolled": false
   },
   "outputs": [],
   "source": [
    "sss = StratifiedShuffleSplit(n_splits=10, test_size=0.5, random_state=0)\n",
    "sss.get_n_splits(X_single, Y_single)\n",
    "\n",
    "for train_index, test_index in sss.split(X_single, Y_single):\n",
    "    xtrain_single, xtest_single = X_single.iloc[train_index], X_single.iloc[test_index]\n",
    "    ytrain_single, ytest_single = Y_single.iloc[train_index], Y_single.iloc[test_index]\n",
    "    logit_single = LogisticRegression()\n",
    "    logit_single.fit(xtrain_single, ytrain_single)\n",
    "\n",
    "print xtrain_single.shape, ytrain_single.shape, xtest_single.shape, ytest_single.shape\n",
    "\n"
   ]
  },
  {
   "cell_type": "code",
   "execution_count": null,
   "metadata": {
    "collapsed": false
   },
   "outputs": [],
   "source": [
    "##\n",
    "# send copy of feature labels to csv:\n",
    "#\n",
    "xtrain_single_column_labels = pd.DataFrame(xtrain_single[0:1])\n",
    "#xtrain_single_column_labels\n",
    "xtrain_single_column_labels.to_csv('/Users/DavidStier/Downloads/xtrain_single_column_labels_Weds12pm.csv')\n",
    "xtrain_row_indexes_wAV_BLDG = pd.DataFrame(xtrain_single['AV_BLDG'])\n",
    "xtrain_row_indexes_wAV_BLDG.to_csv('/Users/DavidStier/Downloads/xtrain_row_indexes_wAV_BLDG2pm.csv')"
   ]
  },
  {
   "cell_type": "code",
   "execution_count": null,
   "metadata": {
    "collapsed": false
   },
   "outputs": [],
   "source": [
    "logit_single.fit(X2_single, Y_single)\n",
    "logit_single.get_params\n",
    "logit_ypred_single = logit_single.predict(xtest_single)\n",
    "cls_report_logit_single = classification_report(ytest_single, logit_ypred_single)\n",
    "print cls_report_logit_single\n"
   ]
  },
  {
   "cell_type": "code",
   "execution_count": null,
   "metadata": {
    "collapsed": false
   },
   "outputs": [],
   "source": [
    "confusion_matrix(ytest_single,logit_ypred_single)\n"
   ]
  },
  {
   "cell_type": "markdown",
   "metadata": {},
   "source": [
    "### Random Forest Classifier - Single family"
   ]
  },
  {
   "cell_type": "markdown",
   "metadata": {},
   "source": [
    "rfc_single = RandomForestClassifier(n_estimators=1000, n_jobs=-1, min_samples_split=4,criterion = 'gini',max_features = 100, random_state = 42)\n",
    "precision    recall  f1-score   support\n",
    "\n",
    "          0       0.97      1.00      0.99     14639\n",
    "          1       0.84      0.25      0.38       539\n",
    "\n",
    "avg / total       0.97      0.97      0.96     15178\n",
    "\n",
    "[[14614    25]\n",
    " [  406   133]]\n",
    " \n",
    " roc_auc_score(ytest_single, rfc_ysingle_score[:, 0])\n",
    " 0.030499703374509423\n",
    "\n",
    "###\n",
    "Run 2 (add min samples per leaf)\n",
    "rfc_single = RandomForestClassifier(n_estimators=1000, n_jobs=-1, min_samples_split=4,min_samples_leaf = 4,criterion = 'gini',max_features = 100, random_state = 42)\n",
    "             precision    recall  f1-score   support\n",
    "\n",
    "          0       0.97      1.00      0.98     14639\n",
    "          1       0.83      0.19      0.31       539\n",
    "\n",
    "avg / total       0.97      0.97      0.96     15178\n",
    "\n",
    "[[14618    21]\n",
    " [  437   102]]\n",
    " \n",
    "0.028939900671966678\n",
    "\n",
    "### \n",
    "Run 3 (change to entropy)\n",
    "             precision    recall  f1-score   support\n",
    "\n",
    "          0       0.97      1.00      0.98     14639\n",
    "          1       0.82      0.18      0.30       539\n",
    "\n",
    "avg / total       0.97      0.97      0.96     15178\n",
    "\n",
    "[[14617    22]\n",
    " [  440    99]]\n",
    "\n",
    "###\n",
    "rfc_single = RandomForestClassifier(n_estimators=1000, n_jobs=-1, min_samples_split=4,min_samples_leaf = 4,criterion = 'entropy',max_features = 'sqrt', random_state = 42)\n",
    "\n",
    "run 4 (max features to sqrt)\n",
    "             precision    recall  f1-score   support\n",
    "\n",
    "          0       0.97      1.00      0.98     14639\n",
    "          1       1.00      0.02      0.04       539\n",
    "\n",
    "avg / total       0.97      0.97      0.95     15178\n",
    "\n",
    "[[14639     0]\n",
    " [  529    10]]\n",
    "###\n",
    "run 5 (max depth unlimited, gini, min samples_leaf:3 max feat .4\n",
    "rfc_single = RandomForestClassifier(n_estimators=1000, n_jobs=-1, min_samples_split=4,min_samples_leaf = 3,criterion = 'gini',max_features = .4, random_state = 42)\n",
    "\n",
    "             precision    recall  f1-score   support\n",
    "\n",
    "          0       0.98      1.00      0.99     14639\n",
    "          1       0.81      0.52      0.63       539\n",
    "\n",
    "avg / total       0.98      0.98      0.98     15178\n",
    "\n",
    "[[14573    66]\n",
    " [  258   281]]\n",
    " 0.018036490068147181\n",
    " \n",
    " \n",
    " AFTER DROPPING INTRA-YEAR PROJECT INFO:\n",
    " rfc_single = RandomForestClassifier(n_estimators=1000, n_jobs=-1, min_samples_split=4,min_samples_leaf = 3,criterion = 'gini',max_features = .4, random_state = 42)\n",
    " \n",
    "              precision    recall  f1-score   support\n",
    "\n",
    "          0       0.96      1.00      0.98     14353\n",
    "          1       0.51      0.03      0.06       539\n",
    "\n",
    "avg / total       0.95      0.96      0.95     14892\n",
    "\n",
    "[[14336    17]\n",
    " [  521    18]]\n"
   ]
  },
  {
   "cell_type": "code",
   "execution_count": null,
   "metadata": {
    "collapsed": false
   },
   "outputs": [],
   "source": [
    "rfc_single = RandomForestClassifier(n_estimators=1000, n_jobs=-1, min_samples_split=3,min_samples_leaf = 3,criterion = 'gini',max_features = .3, random_state = 42)\n",
    "\n",
    "\n",
    "#scoresrfc = cross_val_score(rfc, X, Y, cv=10)\n",
    "#scoresrfc(X)\n",
    "rfc_single.fit(xtrain_single, ytrain_single)\n",
    "rfc_single.get_params\n",
    "rfc_ypred_single = rfc_single.predict(xtest_single)\n",
    "cls_report_RFC_single = classification_report(ytest_single, rfc_ypred_single)\n",
    "print cls_report_RFC_single\n",
    "\n",
    "print confusion_matrix(ytest_single,rfc_ypred_single)\n",
    "\n"
   ]
  },
  {
   "cell_type": "code",
   "execution_count": null,
   "metadata": {
    "collapsed": false
   },
   "outputs": [],
   "source": [
    "rfc_ysingle_score = rfc_single.predict_proba(xtest_single)\n",
    "roc_auc_score(ytest_single, rfc_ysingle_score[:, 1])"
   ]
  },
  {
   "cell_type": "code",
   "execution_count": null,
   "metadata": {
    "collapsed": false
   },
   "outputs": [],
   "source": [
    "rfc_ysingle_score[:, 1]"
   ]
  },
  {
   "cell_type": "code",
   "execution_count": null,
   "metadata": {
    "collapsed": false
   },
   "outputs": [],
   "source": [
    "rfc_single_features_df = pd.DataFrame(rfc_single.feature_importances_)\n",
    "rfc_single_features_df.to_csv('/Users/DavidStier/Downloads/RFC_single_featuresWednesday2pm.csv')\n",
    "rfc_single_predict_probabs = pd.DataFrame(rfc_ysingle_score)\n",
    "rfc_single_predict_probabs.to_csv('/Users/DavidStier/Downloads/rfc_single_predict_probabs Wednesday2pm.csv')\n"
   ]
  },
  {
   "cell_type": "code",
   "execution_count": null,
   "metadata": {
    "collapsed": false
   },
   "outputs": [],
   "source": [
    "rfc_single_validate_predict_probs = pd.DataFrame(rfc_single.predict_proba(validate_file_single))\n",
    "rfc_single_validate_predict_probs.to_csv('/Users/DavidStier/Downloads/rfc_single_VALIDATE_predict_probabs_WEDS2pm.csv')\n"
   ]
  },
  {
   "cell_type": "code",
   "execution_count": null,
   "metadata": {
    "collapsed": false
   },
   "outputs": [],
   "source": [
    "xtest_single.to_csv('/Users/DavidStier/Downloads/xtest_dfWEDNESDAY2pm.csv')\n",
    "xtrain_single.to_csv('/Users/DavidStier/Downloads/xtrain_dfWEDNESDAY2pm.csv')\n",
    "ytrain_single.to_csv('/Users/DavidStier/Downloads/ytrain_dfWEDNESDAY2pm.csv')\n",
    "ytest_single.to_csv('/Users/DavidStier/Downloads/ytest_dfWEDNESDAY2pm.csv')"
   ]
  },
  {
   "cell_type": "markdown",
   "metadata": {},
   "source": [
    "## Predict versus actual\n"
   ]
  },
  {
   "cell_type": "code",
   "execution_count": null,
   "metadata": {
    "collapsed": false
   },
   "outputs": [],
   "source": [
    "pause here"
   ]
  },
  {
   "cell_type": "markdown",
   "metadata": {},
   "source": [
    "### GridSearch on Random Forest\n"
   ]
  },
  {
   "cell_type": "code",
   "execution_count": null,
   "metadata": {
    "collapsed": false
   },
   "outputs": [],
   "source": [
    "rfc_gs = RandomForestClassifier()\n",
    "\n",
    "X, y = xtrain_single, ytrain_single\n",
    "model = RandomForestClassifier(random_state=30)\n",
    "param_grid = {\"n_estimators\"      : [100, 500, 1000, 5000],\n",
    "              \"criterion\"         : [\"gini\", \"entropy\"],\n",
    "              \"max_features\": ['sqrt'],\n",
    "              \"max_depth\"         : [5, 10, 20],\n",
    "              \"min_samples_split\" : [2, 4] ,\n",
    "              \"bootstrap\": [True, False]}\n",
    "grid_search = GridSearchCV(rfc_gs, param_grid, n_jobs=-1, cv=2)\n",
    "grid_search.fit(X, y)\n",
    "\n",
    "print grid_search.best_params_\n",
    "#print confusion_matrix(ytest_SFR_meth1,rfc_ypred_SFR_meth1)\n",
    "\n",
    "rfc_gs.get_params\n",
    "rfc_gs_ypred_single = rfc_gs_single.predict(xtest_single)\n",
    "cls_report_RFC_gs_single = classification_report(ytest_single, rfc_gs_ypred_single)\n",
    "print cls_report_RFC_gs_single\n",
    "\n",
    "print confusion_matrix(ytest_single,rfc_gs_ypred_single)\n",
    "\n",
    "rfc_single_features_df = pd.DataFrame(rfc_gs.feature_importances_)\n",
    "rfc_single_features_df.to_csv('/Users/DavidStier/Downloads/RFC_gs_single_featuresTUE.csv')\n",
    "\n",
    "\n"
   ]
  },
  {
   "cell_type": "markdown",
   "metadata": {
    "collapsed": false
   },
   "source": [
    "##  Drop all low-performing neighborhoods"
   ]
  },
  {
   "cell_type": "code",
   "execution_count": null,
   "metadata": {
    "collapsed": false
   },
   "outputs": [],
   "source": [
    "print tf_r_single.shape\n",
    "SFR_meth1.shape\n"
   ]
  },
  {
   "cell_type": "code",
   "execution_count": null,
   "metadata": {
    "collapsed": false
   },
   "outputs": [],
   "source": [
    "SFR2 = SFR_meth1[~SFR_meth1['neighborhood'].isin(low_neighborhoods)]\n",
    "SFR2.shape# for i in low_neighborhoods:\n",
    "#     print i\n",
    "#     SFR_target_1.drop(SFR_target_1['neighborhood']==[i], inplace = True, axis = 0)\n",
    "# SFR_target_1.shape"
   ]
  },
  {
   "cell_type": "code",
   "execution_count": null,
   "metadata": {
    "collapsed": false
   },
   "outputs": [],
   "source": [
    "SFR_meth1 = SFR2\n",
    "del SFR2"
   ]
  },
  {
   "cell_type": "code",
   "execution_count": null,
   "metadata": {
    "collapsed": false
   },
   "outputs": [],
   "source": [
    "SFR_meth1['neighborhood'].unique()"
   ]
  },
  {
   "cell_type": "markdown",
   "metadata": {},
   "source": [
    "## Dummify and get splits"
   ]
  },
  {
   "cell_type": "code",
   "execution_count": null,
   "metadata": {
    "collapsed": false,
    "scrolled": true
   },
   "outputs": [],
   "source": [
    "categ_cols_SFR_meth1 = SFR_meth1.select_dtypes(include=['object']).columns\n",
    "SFR_meth1_dummied = pd.get_dummies(SFR_meth1, columns = categ_cols_SFR_meth1)\n",
    "\n",
    "print SFR_meth1_dummied.shape, 'sfr meth1 full file  dummied'\n",
    "validate_file_SFR_meth1 = SFR_meth1_dummied[SFR_meth1_dummied['Year_SOLAR']==2016]\n",
    "validate_file_SFR_meth1.drop(['is_solar','Year_SOLAR'], axis = 1, inplace = True)\n",
    "\n",
    "train_test_combo_SFR_meth1 = SFR_meth1_dummied[SFR_meth1_dummied['Year_SOLAR']!=2016]\n",
    "\n",
    "## CREATE Y\n",
    "Y_SFR_meth1 = train_test_combo_SFR_meth1['is_solar']\n",
    "\n",
    "## CREATE X\n",
    "tt_SFR_meth1_copy = train_test_combo_SFR_meth1.copy()\n",
    "tt_SFR_meth1_copy.drop(['is_solar','Year_SOLAR'], axis = 1, inplace = True)\n",
    "X_SFR_meth1 = tt_SFR_meth1_copy\n",
    "\n",
    "## CONFIRM SHAPES\n",
    "print Y_SFR_meth1.shape, 'dummied Y for SFR target 1'\n",
    "print X_SFR_meth1.shape, 'dummied shape of X for SFR target 1'"
   ]
  },
  {
   "cell_type": "markdown",
   "metadata": {},
   "source": [
    "### perform sss (w/imputing)"
   ]
  },
  {
   "cell_type": "code",
   "execution_count": null,
   "metadata": {
    "collapsed": true
   },
   "outputs": [],
   "source": [
    "imp.fit(X_SFR_meth1)\n",
    "X_SFR_meth1 = imp.transform(X_SFR_meth1)\n"
   ]
  },
  {
   "cell_type": "code",
   "execution_count": null,
   "metadata": {
    "collapsed": false,
    "scrolled": false
   },
   "outputs": [],
   "source": [
    "sss = StratifiedShuffleSplit(n_splits=10, test_size=0.5, random_state=0)\n",
    "sss.get_n_splits(X_SFR_meth1, Y_SFR_meth1)\n",
    "\n",
    "for train_index, test_index in sss.split(X_SFR_meth1, Y_SFR_meth1):\n",
    "    xtrain_SFR_meth1, xtest_SFR_meth1 = X_SFR_meth1[train_index], X_SFR_meth1[test_index]\n",
    "    ytrain_SFR_meth1, ytest_SFR_meth1 = Y_SFR_meth1.iloc[train_index], Y_SFR_meth1.iloc[test_index]\n",
    "    logit_SFR_meth1 = LogisticRegression()\n",
    "    logit_SFR_meth1.fit(xtrain_SFR_meth1, ytrain_SFR_meth1)\n",
    "\n",
    "print xtrain_SFR_meth1.shape, ytrain_SFR_meth1.shape, xtest_SFR_meth1.shape, ytest_SFR_meth1.shape\n"
   ]
  },
  {
   "cell_type": "code",
   "execution_count": null,
   "metadata": {
    "collapsed": false
   },
   "outputs": [],
   "source": [
    "logit_SFR_meth1.fit(X_SFR_meth1, Y_SFR_meth1)\n",
    "logit_SFR_meth1.get_params\n",
    "logit_ypred_SFR_meth1 = logit_SFR_meth1.predict(xtest_SFR_meth1)\n",
    "cls_report_logit_SFR_meth1 = classification_report(ytest_SFR_meth1, logit_ypred_SFR_meth1)\n",
    "print cls_report_logit_SFR_meth1\n"
   ]
  },
  {
   "cell_type": "code",
   "execution_count": null,
   "metadata": {
    "collapsed": false
   },
   "outputs": [],
   "source": [
    "confusion_matrix(ytest_SFR_meth1,logit_ypred_SFR_meth1)\n"
   ]
  },
  {
   "cell_type": "markdown",
   "metadata": {},
   "source": [
    "### Random Forest Classifier - Single family Targeted neighborhoods"
   ]
  },
  {
   "cell_type": "code",
   "execution_count": null,
   "metadata": {
    "collapsed": false
   },
   "outputs": [],
   "source": [
    "rfc_SFR_meth1 = RandomForestClassifier(n_estimators=1000, n_jobs=-1, min_samples_split=4)\n",
    "\n",
    "\n",
    "#scoresrfc = cross_val_score(rfc, X, Y, cv=10)\n",
    "#scoresrfc(X)\n",
    "rfc_SFR_meth1.fit(xtrain_SFR_meth1, ytrain_SFR_meth1)\n",
    "rfc_SFR_meth1.get_params\n",
    "rfc_ypred_SFR_meth1 = rfc_SFR_meth1.predict(xtest_SFR_meth1)\n",
    "cls_report_RFC_SFR_meth1 = classification_report(ytest_SFR_meth1, rfc_ypred_SFR_meth1)\n",
    "print cls_report_RFC_SFR_meth1\n",
    "\n",
    "print confusion_matrix(ytest_SFR_meth1,rfc_ypred_SFR_meth1)\n",
    "\n",
    "rfc_SFR_meth1_features_df = pd.DataFrame(rfc_SFR_meth1.feature_importances_)\n",
    "rfc_SFR_meth1_features_df.to_csv('/Users/DavidStier/Downloads/RFC_single_featuresTues.csv')\n"
   ]
  },
  {
   "cell_type": "code",
   "execution_count": null,
   "metadata": {
    "collapsed": false
   },
   "outputs": [],
   "source": [
    "X_SFR_meth1_COLS = pd.DataFrame(tt_SFR_meth1_copy.columns.tolist())\n",
    "X_SFR_meth1_COLS.to_csv('/Users/DavidStier/Downloads/X_SFR_meth1_COLS_TUES.csv')"
   ]
  },
  {
   "cell_type": "code",
   "execution_count": null,
   "metadata": {
    "collapsed": false
   },
   "outputs": [],
   "source": [
    "rfc_SFR_meth1_y_score = rfc_SFR_meth1.predict_proba(xtest_SFR_meth1)\n",
    "roc_auc_score(ytest_SFR_meth1, rfc_SFR_meth1_y_score[:, 0])"
   ]
  },
  {
   "cell_type": "markdown",
   "metadata": {},
   "source": [
    "### GridSearch on Random Forest\n"
   ]
  },
  {
   "cell_type": "code",
   "execution_count": null,
   "metadata": {
    "collapsed": false
   },
   "outputs": [],
   "source": [
    "rfc = RandomForestClassifier()\n",
    "\n",
    "X, y = xtrain_SFR_meth1, ytrain_SFR_meth1\n",
    "model = RandomForestClassifier(random_state=30)\n",
    "param_grid = {\"n_estimators\"      : [100, 500, 1000, 5000],\n",
    "              \"criterion\"         : [\"gini\", \"entropy\"],\n",
    "              \"max_features\": ['sqrt'],\n",
    "              \"max_depth\"         : [5, 10, 20],\n",
    "              \"min_samples_split\" : [2, 4] ,\n",
    "              \"bootstrap\": [True, False]}\n",
    "grid_search = GridSearchCV(rfc, param_grid, n_jobs=-1, cv=2)\n",
    "grid_search.fit(X, y)\n",
    "\n",
    "print grid_search.best_params_\n",
    "#print confusion_matrix(ytest_SFR_meth1,rfc_ypred_SFR_meth1)\n",
    "\n",
    "\n",
    "\n"
   ]
  },
  {
   "cell_type": "code",
   "execution_count": null,
   "metadata": {
    "collapsed": false
   },
   "outputs": [],
   "source": [
    "bp1 = grid_search.best_params_\n",
    "bp1['max_features'] = 'sqrt'"
   ]
  },
  {
   "cell_type": "code",
   "execution_count": null,
   "metadata": {
    "collapsed": false
   },
   "outputs": [],
   "source": [
    "rfc_SFR_meth1_best = RandomForestClassifier()\n",
    "\n",
    "rfc_SFR_meth1_best.set_params(**bp1)\n",
    "\n",
    "rfc_SFR_meth1_best.fit(X,y)    \n",
    "rfc_ypred_SFR_meth1b = rfc_SFR_meth1_best.predict(xtest_SFR_meth1)\n",
    "\n",
    "cls_report_RFC_SFR_meth1b = classification_report(ytest_SFR_meth1, rfc_ypred_SFR_meth1b)\n",
    "print cls_report_RFC_SFR_meth1b\n",
    "\n",
    "print confusion_matrix(ytest_SFR_meth1,rfc_ypred_SFR_meth1b)\n",
    "rfc_SFR_meth1_best_features_df = pd.DataFrame(rfc_SFR_meth1_best.feature_importances_)"
   ]
  },
  {
   "cell_type": "code",
   "execution_count": null,
   "metadata": {
    "collapsed": true
   },
   "outputs": [],
   "source": [
    "single_predictions = rfc_SFR_meth1_best.predict_proba(xtest_SFR_meth1)"
   ]
  },
  {
   "cell_type": "code",
   "execution_count": null,
   "metadata": {
    "collapsed": false
   },
   "outputs": [],
   "source": [
    "single_predictions"
   ]
  },
  {
   "cell_type": "code",
   "execution_count": null,
   "metadata": {
    "collapsed": false
   },
   "outputs": [],
   "source": [
    "rfc_SFR_meth1_best_features_df\n",
    "rfc_SFR_meth1_best_features_df.to_csv('/Users/DavidStier/Downloads/rfc_SFR_meth1_best_features_dfTUES.csv')"
   ]
  },
  {
   "cell_type": "markdown",
   "metadata": {},
   "source": [
    "### Lasso"
   ]
  },
  {
   "cell_type": "code",
   "execution_count": null,
   "metadata": {
    "collapsed": false
   },
   "outputs": [],
   "source": [
    "\n",
    "lass = LassoCV(n_alphas = 500, cv=10)   # pass 500 random alphas\n",
    "lass.fit(X,Y)\n",
    "\n",
    "print pd.Series(lass.alphas_).describe()\n",
    "print lass\n",
    "print 'best alpha: ' , lass.alpha_\n"
   ]
  },
  {
   "cell_type": "markdown",
   "metadata": {},
   "source": [
    "### Ridge"
   ]
  },
  {
   "cell_type": "code",
   "execution_count": null,
   "metadata": {
    "collapsed": true
   },
   "outputs": [],
   "source": [
    "ridg = linear_model.Ridge(alpha = .5)\n",
    "ridg.fit(X, Y) \n",
    "print ridg.coef_\n",
    "print  ridg.intercept_ \n",
    "print ridg.score(X, Y)"
   ]
  },
  {
   "cell_type": "code",
   "execution_count": null,
   "metadata": {
    "collapsed": false
   },
   "outputs": [],
   "source": []
  },
  {
   "cell_type": "code",
   "execution_count": null,
   "metadata": {
    "collapsed": false
   },
   "outputs": [],
   "source": [
    "# SFR_meth1_dummied.shape"
   ]
  },
  {
   "cell_type": "code",
   "execution_count": null,
   "metadata": {
    "collapsed": false
   },
   "outputs": [],
   "source": [
    "# SFR_meth1.to_csv('/Users/DavidStier/Downloads/SFR_meth1_fullFILE.csv')"
   ]
  },
  {
   "cell_type": "code",
   "execution_count": null,
   "metadata": {
    "collapsed": false
   },
   "outputs": [],
   "source": [
    "# xsingleMaxes = pd.DataFrame(X_single.max())\n",
    "# xsingleMaxes.to_csv('/Users/DavidStier/Downloads/X_singlemaxex.csv')\n",
    "X_single[0:4].to_csv('/Users/DavidStier/Downloads/X_singleColNames.csv')"
   ]
  },
  {
   "cell_type": "code",
   "execution_count": null,
   "metadata": {
    "collapsed": true
   },
   "outputs": [],
   "source": []
  },
  {
   "cell_type": "code",
   "execution_count": null,
   "metadata": {
    "collapsed": true
   },
   "outputs": [],
   "source": []
  },
  {
   "cell_type": "code",
   "execution_count": null,
   "metadata": {
    "collapsed": false
   },
   "outputs": [],
   "source": []
  },
  {
   "cell_type": "code",
   "execution_count": null,
   "metadata": {
    "collapsed": false
   },
   "outputs": [],
   "source": [
    "rfc_ysingle_score_df = pd.DataFrame(rfc_ysingle_score)\n",
    "rfc_ysingle_score_df.to_csv('/Users/DavidStier/Downloads/rfc_ysingle_score_dfTues.csv')"
   ]
  },
  {
   "cell_type": "code",
   "execution_count": null,
   "metadata": {
    "collapsed": true
   },
   "outputs": [],
   "source": [
    "tf_r_single_dummied.shape"
   ]
  },
  {
   "cell_type": "code",
   "execution_count": null,
   "metadata": {
    "collapsed": true
   },
   "outputs": [],
   "source": [
    "bos_hmile_grids = pd.read_csv('/Users/DavidStier/Documents/Python and Data Science/DSI Class/Final Project/Model Building/YearSolar_XY_hmilegrids.csv')"
   ]
  },
  {
   "cell_type": "code",
   "execution_count": null,
   "metadata": {
    "collapsed": false
   },
   "outputs": [],
   "source": [
    "bos_hmile_grids.fillna(0, inplace = True)\n",
    "bos_hmile_grids.info()"
   ]
  },
  {
   "cell_type": "code",
   "execution_count": null,
   "metadata": {
    "collapsed": true
   },
   "outputs": [],
   "source": [
    "bos_hmile_grids.drop(['Unnamed: 4','Unnamed: 5', 'Unnamed: 6', 'Unnamed: 7'], inplace = True, axis = 1)"
   ]
  },
  {
   "cell_type": "code",
   "execution_count": null,
   "metadata": {
    "collapsed": false
   },
   "outputs": [],
   "source": [
    "bos_hmile_grids.dropna()\n",
    "print bos_hmile_grids.shape"
   ]
  },
  {
   "cell_type": "code",
   "execution_count": null,
   "metadata": {
    "collapsed": false
   },
   "outputs": [],
   "source": [
    "# sb.pairplot(bos_hmile_grids, hue = 'WHEN')\n",
    "# bos_hmile13_16=bos_hmile_grids[bos_hmile_grids['WHEN'] >2012]\n",
    "# sb.pairplot(bos_hmile13_16, hue = \"WHEN\")\n",
    "bos_hmile13_16.shape"
   ]
  },
  {
   "cell_type": "code",
   "execution_count": null,
   "metadata": {
    "collapsed": false
   },
   "outputs": [],
   "source": [
    "bos_hmile13_16.head(10)"
   ]
  },
  {
   "cell_type": "code",
   "execution_count": null,
   "metadata": {
    "collapsed": true
   },
   "outputs": [],
   "source": []
  }
 ],
 "metadata": {
  "anaconda-cloud": {},
  "kernelspec": {
   "display_name": "Python [dsi]",
   "language": "python",
   "name": "Python [dsi]"
  },
  "language_info": {
   "codemirror_mode": {
    "name": "ipython",
    "version": 2
   },
   "file_extension": ".py",
   "mimetype": "text/x-python",
   "name": "python",
   "nbconvert_exporter": "python",
   "pygments_lexer": "ipython2",
   "version": "2.7.12"
  }
 },
 "nbformat": 4,
 "nbformat_minor": 0
}
