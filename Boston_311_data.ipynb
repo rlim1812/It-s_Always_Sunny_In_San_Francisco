{
 "cells": [
  {
   "cell_type": "code",
   "execution_count": 3,
   "metadata": {
    "collapsed": true
   },
   "outputs": [],
   "source": [
    "import pandas as pd\n",
    "import numpy as np\n",
    "import shapely as sh\n",
    "import fiona\n",
    "from shapely.geometry import Polygon\n",
    "from shapely.geometry import MultiPolygon\n",
    "import json\n",
    "import geopandas as gpd\n",
    "import matplotlib.pyplot as plt\n",
    "%matplotlib inline"
   ]
  },
  {
   "cell_type": "code",
   "execution_count": 4,
   "metadata": {
    "collapsed": true
   },
   "outputs": [],
   "source": [
    "bos_311_file = pd.read_csv('/Users/DavidStier/Documents/Python and Data Science/DSI Class/Final Project/Datasets/Audit Trail Datasets/BOS_311_FOR_MODEL(from sql).csv')"
   ]
  },
  {
   "cell_type": "code",
   "execution_count": 5,
   "metadata": {
    "collapsed": false
   },
   "outputs": [
    {
     "data": {
      "text/plain": [
       "(816385, 16)"
      ]
     },
     "execution_count": 5,
     "metadata": {},
     "output_type": "execute_result"
    }
   ],
   "source": [
    "bos_311_file.shape"
   ]
  },
  {
   "cell_type": "code",
   "execution_count": 6,
   "metadata": {
    "collapsed": false
   },
   "outputs": [
    {
     "name": "stdout",
     "output_type": "stream",
     "text": [
      "<class 'pandas.core.frame.DataFrame'>\n",
      "RangeIndex: 816385 entries, 0 to 816384\n",
      "Data columns (total 16 columns):\n",
      "CASE_ENQUIRY_ID         816385 non-null int64\n",
      "OPEN_DT                 816385 non-null object\n",
      "REASON                  816385 non-null object\n",
      "TYPE                    816385 non-null object\n",
      "land_usage              612027 non-null object\n",
      "Property_Type           790597 non-null object\n",
      "Property_ID             790597 non-null float64\n",
      "LOCATION_STREET_NAME    790597 non-null object\n",
      "Location                790603 non-null object\n",
      "LATITUDE                816385 non-null float64\n",
      "LONGITUDE               816385 non-null float64\n",
      "Geocoded_Location       816385 non-null object\n",
      "TYPE:1                  816385 non-null object\n",
      "REASON:1                816385 non-null object\n",
      "Total_count             816385 non-null int64\n",
      "Model_category          816385 non-null object\n",
      "dtypes: float64(3), int64(2), object(11)\n",
      "memory usage: 99.7+ MB\n"
     ]
    }
   ],
   "source": [
    "bos_311_file.info()"
   ]
  },
  {
   "cell_type": "code",
   "execution_count": 7,
   "metadata": {
    "collapsed": false
   },
   "outputs": [],
   "source": [
    "bos_311_file_4nulls = bos_311_file\n",
    "bos_311_file_4nulls = bos_311_file_4nulls[pd.isnull(bos_311_file_4nulls['Property_ID'])]\n"
   ]
  },
  {
   "cell_type": "code",
   "execution_count": 8,
   "metadata": {
    "collapsed": false
   },
   "outputs": [
    {
     "data": {
      "text/plain": [
       "(25788, 16)"
      ]
     },
     "execution_count": 8,
     "metadata": {},
     "output_type": "execute_result"
    }
   ],
   "source": [
    "bos_311_file_4nulls.shape"
   ]
  },
  {
   "cell_type": "code",
   "execution_count": 9,
   "metadata": {
    "collapsed": false
   },
   "outputs": [
    {
     "data": {
      "text/plain": [
       "array(['Street Light Outages', 'Sign Repair', 'Tree in Park',\n",
       "       'General Lighting Request',\n",
       "       'General Comments For a Program or Policy', 'Graffiti Removal',\n",
       "       'Park Improvement Requests', 'Schedule a Bulk Item Pickup',\n",
       "       'Tree Emergencies', 'Street Light Outages (Internal)',\n",
       "       'Request for Litter Basket Installation',\n",
       "       'Pavement Marking Maintenance', 'Sewage/Septic Back-Up',\n",
       "       'Parks Lighting/Electrical Issues', 'Request for Pothole Repair',\n",
       "       'Rodent Activity', 'Park Maintenance Requests', 'Overcrowding',\n",
       "       'Major System Failure', 'General Comments For An Employee',\n",
       "       'Requests for Street Cleaning', 'Sidewalk Repair (Make Safe)',\n",
       "       'Bed Bugs', 'Tree Maintenance Requests', 'Pigeon Infestation',\n",
       "       'Trash on Vacant Lot', 'Contractor Complaints',\n",
       "       'Highway Maintenance', 'Public Works General Request',\n",
       "       'Street Light Knock Downs', 'Missing Sign',\n",
       "       'Missed Trash/Recycling/Yard Waste/Bulk Item', 'Roadway Repair',\n",
       "       'New Sign  Crosswalk or Pavement Marking', 'Knockdown Replacement',\n",
       "       'Request for Recycling Cart', 'New Tree Requests',\n",
       "       'Pick up Dead Animal', 'Cemetery Maintenance Request',\n",
       "       'Upgrade Existing Lighting', 'Unsatisfactory Living Conditions',\n",
       "       'Sidewalk Repair', 'New Tree Warrantee Inspection',\n",
       "       'Work w/out Permit', 'Heat - Excessive  Insufficient',\n",
       "       'Parks General Request',\n",
       "       'Requests for Traffic Signal Studies or Reviews',\n",
       "       'Request for Snow Plowing', 'Bridge Maintenance',\n",
       "       'Food Alert - Confirmed', 'Unsanitary Conditions - Establishment',\n",
       "       'Transportation General Request', 'Big Buildings Online Request',\n",
       "       'Alert Boston', 'Chronic Dampness/Mold', 'Traffic Signal Repair',\n",
       "       'Sidewalk Cover / Manhole', 'Unsafe Dangerous Conditions',\n",
       "       'Recycling Cart Return', 'Breathe Easy', 'Abandoned Vehicles',\n",
       "       'Corporate or Community Group Service Day Clean Up',\n",
       "       'Phone Bank Service Inquiry', 'Downed Wire',\n",
       "       'General Traffic Engineering Request',\n",
       "       'Building Inspection Request', 'Pest Infestation - Residential',\n",
       "       'Unsanitary Conditions - Food', 'Squalid Living Conditions',\n",
       "       'Overflowing or Un-kept Dumpster', 'Walk-In Service Inquiry',\n",
       "       'Food Alert - Unconfirmed', 'Illegal Occupancy',\n",
       "       'Valet Parking Problems', 'Maintenance Complaint - Residential',\n",
       "       'No-Tow Complaint Confirmation', 'Cross Metering - Sub-Metering',\n",
       "       'No Utilities Residential - Water',\n",
       "       'Unsanitary Conditions - Employees', 'Working Beyond Hours',\n",
       "       'Fire in Food Establishment', 'Occupying W/Out A Valid CO/CI',\n",
       "       'Empty Litter Basket', 'PWD Graffiti', 'Parking Enforcement',\n",
       "       'Mice Infestation - Residential',\n",
       "       'Protection of Adjoining Property', 'Zoning', 'Notification',\n",
       "       'Space Savers', 'Plumbing', 'Electrical', 'Illegal Use',\n",
       "       'Short Measure - Gas', 'Sticker Request', 'Illegal Auto Body Shop',\n",
       "       'Improper Storage of Trash (Barrels)', 'Student Move-in Issues',\n",
       "       'Unsatisfactory Utilities - Electrical  Plumbing', 'Rat Bite',\n",
       "       'Maintenance - Homeowner', 'Flooding Residential/Commercial',\n",
       "       'Abandoned Bicycle', 'Water in Gas - High Priority',\n",
       "       'Abandoned Building', 'No Utilities - Food Establishment - Sewer',\n",
       "       'ADA', 'Schedule a Bulk Item Pickup SS', 'Mosquitoes (West Nile)',\n",
       "       'Poor Conditions of Property', 'Snow/Ice Control',\n",
       "       'Misc. Snow Complaint', 'Catchbasin', 'Mechanical',\n",
       "       'No Utilities Residential - Electricity',\n",
       "       'No Utilities - Food Establishment - Water',\n",
       "       'Park Safety Notifications', 'BWSC Pothole',\n",
       "       'Product Short Measure', 'Utility Casting Repair',\n",
       "       'Poor Ventilation', 'Roadway Flooding', 'Egress',\n",
       "       'Private Parking Lot Complaints', 'Exceeding Terms of Permit',\n",
       "       'Lead', 'Carbon Monoxide', 'Unit Pricing Wrong/Missing',\n",
       "       'No Utilities - Food Establishment - Flood',\n",
       "       'Recycling Cart Inquiry', 'Oil Truck - No Price Per Gallon',\n",
       "       'Item Price Missing', 'Scanning Overcharge',\n",
       "       'No Price on Gas/Wrong Price'], dtype=object)"
      ]
     },
     "execution_count": 9,
     "metadata": {},
     "output_type": "execute_result"
    }
   ],
   "source": [
    "bos_311_file_4nulls['TYPE:1'].unique()"
   ]
  },
  {
   "cell_type": "code",
   "execution_count": 10,
   "metadata": {
    "collapsed": false
   },
   "outputs": [],
   "source": [
    "# Create separate file for all non-null rows - but do not exclude where 'land_usage' is the only null value in the row"
   ]
  },
  {
   "cell_type": "code",
   "execution_count": 11,
   "metadata": {
    "collapsed": false
   },
   "outputs": [
    {
     "data": {
      "text/plain": [
       "(790597, 16)"
      ]
     },
     "execution_count": 11,
     "metadata": {},
     "output_type": "execute_result"
    }
   ],
   "source": [
    "bos_311_file_noNulls = bos_311_file.dropna(subset=['Property_ID',], how='all')\n",
    "\n",
    "bos_311_file_noNulls.shape"
   ]
  },
  {
   "cell_type": "code",
   "execution_count": 12,
   "metadata": {
    "collapsed": true
   },
   "outputs": [],
   "source": [
    "bos_311 = bos_311_file_noNulls"
   ]
  },
  {
   "cell_type": "code",
   "execution_count": 13,
   "metadata": {
    "collapsed": false
   },
   "outputs": [
    {
     "data": {
      "text/html": [
       "<div>\n",
       "<table border=\"1\" class=\"dataframe\">\n",
       "  <thead>\n",
       "    <tr style=\"text-align: right;\">\n",
       "      <th></th>\n",
       "      <th>CASE_ENQUIRY_ID</th>\n",
       "      <th>Property_ID</th>\n",
       "      <th>LATITUDE</th>\n",
       "      <th>LONGITUDE</th>\n",
       "      <th>Total_count</th>\n",
       "    </tr>\n",
       "  </thead>\n",
       "  <tbody>\n",
       "    <tr>\n",
       "      <th>count</th>\n",
       "      <td>7.905970e+05</td>\n",
       "      <td>790597.000000</td>\n",
       "      <td>790597.000000</td>\n",
       "      <td>790597.000000</td>\n",
       "      <td>790597.000000</td>\n",
       "    </tr>\n",
       "    <tr>\n",
       "      <th>mean</th>\n",
       "      <td>1.010011e+11</td>\n",
       "      <td>103562.229777</td>\n",
       "      <td>42.323935</td>\n",
       "      <td>-71.085938</td>\n",
       "      <td>5914.673807</td>\n",
       "    </tr>\n",
       "    <tr>\n",
       "      <th>std</th>\n",
       "      <td>4.966099e+05</td>\n",
       "      <td>98362.348785</td>\n",
       "      <td>0.035064</td>\n",
       "      <td>0.036648</td>\n",
       "      <td>8284.725778</td>\n",
       "    </tr>\n",
       "    <tr>\n",
       "      <th>min</th>\n",
       "      <td>1.010003e+11</td>\n",
       "      <td>1.000000</td>\n",
       "      <td>42.230200</td>\n",
       "      <td>-71.185400</td>\n",
       "      <td>1.000000</td>\n",
       "    </tr>\n",
       "    <tr>\n",
       "      <th>25%</th>\n",
       "      <td>1.010008e+11</td>\n",
       "      <td>17610.000000</td>\n",
       "      <td>42.293000</td>\n",
       "      <td>-71.112400</td>\n",
       "      <td>773.000000</td>\n",
       "    </tr>\n",
       "    <tr>\n",
       "      <th>50%</th>\n",
       "      <td>1.010012e+11</td>\n",
       "      <td>84168.000000</td>\n",
       "      <td>42.329700</td>\n",
       "      <td>-71.076700</td>\n",
       "      <td>3251.000000</td>\n",
       "    </tr>\n",
       "    <tr>\n",
       "      <th>75%</th>\n",
       "      <td>1.010016e+11</td>\n",
       "      <td>146395.000000</td>\n",
       "      <td>42.353200</td>\n",
       "      <td>-71.058700</td>\n",
       "      <td>6321.000000</td>\n",
       "    </tr>\n",
       "    <tr>\n",
       "      <th>max</th>\n",
       "      <td>1.010019e+11</td>\n",
       "      <td>419843.000000</td>\n",
       "      <td>42.395200</td>\n",
       "      <td>-70.994900</td>\n",
       "      <td>28859.000000</td>\n",
       "    </tr>\n",
       "  </tbody>\n",
       "</table>\n",
       "</div>"
      ],
      "text/plain": [
       "       CASE_ENQUIRY_ID    Property_ID       LATITUDE      LONGITUDE  \\\n",
       "count     7.905970e+05  790597.000000  790597.000000  790597.000000   \n",
       "mean      1.010011e+11  103562.229777      42.323935     -71.085938   \n",
       "std       4.966099e+05   98362.348785       0.035064       0.036648   \n",
       "min       1.010003e+11       1.000000      42.230200     -71.185400   \n",
       "25%       1.010008e+11   17610.000000      42.293000     -71.112400   \n",
       "50%       1.010012e+11   84168.000000      42.329700     -71.076700   \n",
       "75%       1.010016e+11  146395.000000      42.353200     -71.058700   \n",
       "max       1.010019e+11  419843.000000      42.395200     -70.994900   \n",
       "\n",
       "         Total_count  \n",
       "count  790597.000000  \n",
       "mean     5914.673807  \n",
       "std      8284.725778  \n",
       "min         1.000000  \n",
       "25%       773.000000  \n",
       "50%      3251.000000  \n",
       "75%      6321.000000  \n",
       "max     28859.000000  "
      ]
     },
     "execution_count": 13,
     "metadata": {},
     "output_type": "execute_result"
    }
   ],
   "source": [
    "bos_311.describe()"
   ]
  },
  {
   "cell_type": "code",
   "execution_count": 14,
   "metadata": {
    "collapsed": false
   },
   "outputs": [
    {
     "data": {
      "text/plain": [
       "'2013'"
      ]
     },
     "execution_count": 14,
     "metadata": {},
     "output_type": "execute_result"
    }
   ],
   "source": [
    "bos_311['OPEN_DT'][0][6:10]"
   ]
  },
  {
   "cell_type": "code",
   "execution_count": 15,
   "metadata": {
    "collapsed": false
   },
   "outputs": [
    {
     "name": "stderr",
     "output_type": "stream",
     "text": [
      "/Applications/anaconda/envs/dsi/lib/python2.7/site-packages/ipykernel/__main__.py:1: SettingWithCopyWarning: \n",
      "A value is trying to be set on a copy of a slice from a DataFrame.\n",
      "Try using .loc[row_indexer,col_indexer] = value instead\n",
      "\n",
      "See the caveats in the documentation: http://pandas.pydata.org/pandas-docs/stable/indexing.html#indexing-view-versus-copy\n",
      "  if __name__ == '__main__':\n"
     ]
    }
   ],
   "source": [
    "bos_311['311_year'] = bos_311['OPEN_DT'].apply(lambda x: int(x[6:10]))"
   ]
  },
  {
   "cell_type": "code",
   "execution_count": 16,
   "metadata": {
    "collapsed": false
   },
   "outputs": [],
   "source": [
    "bos_311.shape\n",
    "import pandas as pd"
   ]
  },
  {
   "cell_type": "code",
   "execution_count": 17,
   "metadata": {
    "collapsed": false
   },
   "outputs": [],
   "source": [
    "addresses = pd.read_csv('/Users/DavidStier/Documents/Python and Data Science/DSI Class/Final Project/Datasets/Audit Trail Datasets/Boston Master_Address_List (url t85d-b449).csv')"
   ]
  },
  {
   "cell_type": "code",
   "execution_count": 18,
   "metadata": {
    "collapsed": true
   },
   "outputs": [],
   "source": [
    "bos_addr_jointable = addresses[['Property_ID', 'parcel_num']]"
   ]
  },
  {
   "cell_type": "code",
   "execution_count": 19,
   "metadata": {
    "collapsed": false
   },
   "outputs": [
    {
     "name": "stdout",
     "output_type": "stream",
     "text": [
      "<class 'pandas.core.frame.DataFrame'>\n",
      "RangeIndex: 331447 entries, 0 to 331446\n",
      "Data columns (total 2 columns):\n",
      "Property_ID    331447 non-null int64\n",
      "parcel_num     331447 non-null int64\n",
      "dtypes: int64(2)\n",
      "memory usage: 5.1 MB\n"
     ]
    }
   ],
   "source": [
    "bos_addr_jointable.info()"
   ]
  },
  {
   "cell_type": "code",
   "execution_count": 20,
   "metadata": {
    "collapsed": false
   },
   "outputs": [
    {
     "data": {
      "text/plain": [
       "numpy.float64"
      ]
     },
     "execution_count": 20,
     "metadata": {},
     "output_type": "execute_result"
    }
   ],
   "source": [
    "type(bos_311['Property_ID'][0])"
   ]
  },
  {
   "cell_type": "code",
   "execution_count": 21,
   "metadata": {
    "collapsed": false
   },
   "outputs": [
    {
     "name": "stderr",
     "output_type": "stream",
     "text": [
      "/Applications/anaconda/envs/dsi/lib/python2.7/site-packages/ipykernel/__main__.py:1: SettingWithCopyWarning: \n",
      "A value is trying to be set on a copy of a slice from a DataFrame.\n",
      "Try using .loc[row_indexer,col_indexer] = value instead\n",
      "\n",
      "See the caveats in the documentation: http://pandas.pydata.org/pandas-docs/stable/indexing.html#indexing-view-versus-copy\n",
      "  if __name__ == '__main__':\n"
     ]
    }
   ],
   "source": [
    "bos_311['Property_ID'] = bos_311['Property_ID'].astype(int)"
   ]
  },
  {
   "cell_type": "code",
   "execution_count": 22,
   "metadata": {
    "collapsed": false
   },
   "outputs": [
    {
     "data": {
      "text/plain": [
       "numpy.int64"
      ]
     },
     "execution_count": 22,
     "metadata": {},
     "output_type": "execute_result"
    }
   ],
   "source": [
    "type(bos_311['Property_ID'][0])"
   ]
  },
  {
   "cell_type": "code",
   "execution_count": 24,
   "metadata": {
    "collapsed": false
   },
   "outputs": [
    {
     "data": {
      "text/plain": [
       "(790597, 17)"
      ]
     },
     "execution_count": 24,
     "metadata": {},
     "output_type": "execute_result"
    }
   ],
   "source": [
    "bos_311.shape"
   ]
  },
  {
   "cell_type": "code",
   "execution_count": 26,
   "metadata": {
    "collapsed": false
   },
   "outputs": [
    {
     "data": {
      "text/plain": [
       "(790597, 18)"
      ]
     },
     "execution_count": 26,
     "metadata": {},
     "output_type": "execute_result"
    }
   ],
   "source": [
    "bos311_2 = pd.merge(bos_311, bos_addr_jointable, left_on = 'Property_ID', right_on = 'Property_ID', how = 'left')\n",
    "bos311_2.shape"
   ]
  },
  {
   "cell_type": "code",
   "execution_count": 28,
   "metadata": {
    "collapsed": false
   },
   "outputs": [],
   "source": [
    "b311_groupby = bos311_2.groupby(['parcel_num','311_year','Model_category'],as_index = False).size()"
   ]
  },
  {
   "cell_type": "code",
   "execution_count": 29,
   "metadata": {
    "collapsed": false
   },
   "outputs": [
    {
     "data": {
      "text/plain": [
       "parcel_num   311_year  Model_category\n",
       "100001000.0  2012      Building          1\n",
       "                       Enviro            1\n",
       "             2013      Graffiti          1\n",
       "             2016      Enviro            1\n",
       "100002000.0  2012      Building          1\n",
       "dtype: int64"
      ]
     },
     "execution_count": 29,
     "metadata": {},
     "output_type": "execute_result"
    }
   ],
   "source": [
    "b311_groupby.head()"
   ]
  },
  {
   "cell_type": "code",
   "execution_count": 30,
   "metadata": {
    "collapsed": false
   },
   "outputs": [
    {
     "data": {
      "text/plain": [
       "438993"
      ]
     },
     "execution_count": 30,
     "metadata": {},
     "output_type": "execute_result"
    }
   ],
   "source": [
    "len(b311_groupby)"
   ]
  },
  {
   "cell_type": "code",
   "execution_count": 28,
   "metadata": {
    "collapsed": false
   },
   "outputs": [],
   "source": [
    "b311_groupby[0:20].to_csv('/Users/DavidStier/Downloads/b311grbytest.csv')"
   ]
  },
  {
   "cell_type": "code",
   "execution_count": 29,
   "metadata": {
    "collapsed": false
   },
   "outputs": [
    {
     "data": {
      "text/plain": [
       "Property_ID  311_year  Model_category \n",
       "1.0          2011      Street-Sidewalk    2\n",
       "             2012      Enviro             1\n",
       "                       excluded           4\n",
       "             2013      Enviro             1\n",
       "                       Street-Sidewalk    3\n",
       "                       excluded           1\n",
       "             2014      Street-Sidewalk    3\n",
       "             2015      Enviro             1\n",
       "                       excluded           5\n",
       "2.0          2013      Street-Sidewalk    1\n",
       "             2014      Street-Sidewalk    2\n",
       "                       excluded           1\n",
       "             2015      Street-Sidewalk    1\n",
       "             2016      Street-Sidewalk    1\n",
       "3.0          2011      Street-Sidewalk    2\n",
       "                       excluded           5\n",
       "             2012      Enviro             1\n",
       "                       Street-Sidewalk    6\n",
       "                       excluded           5\n",
       "             2013      Street-Sidewalk    2\n",
       "dtype: int64"
      ]
     },
     "execution_count": 29,
     "metadata": {},
     "output_type": "execute_result"
    }
   ],
   "source": [
    "b311_groupby[0:20]"
   ]
  },
  {
   "cell_type": "code",
   "execution_count": 30,
   "metadata": {
    "collapsed": true
   },
   "outputs": [],
   "source": [
    "# Would actually like to get just 1 Parcel ID per row, and then columns for the year and commplaint type counts"
   ]
  },
  {
   "cell_type": "code",
   "execution_count": 33,
   "metadata": {
    "collapsed": false
   },
   "outputs": [],
   "source": [
    "b311_gb2 = pd.pivot_table(bos311_2, index=['parcel_num'], columns=['311_year','Model_category'], aggfunc=len, fill_value=0)\n"
   ]
  },
  {
   "cell_type": "code",
   "execution_count": 34,
   "metadata": {
    "collapsed": false
   },
   "outputs": [
    {
     "data": {
      "text/html": [
       "<div>\n",
       "<table border=\"1\" class=\"dataframe\">\n",
       "  <thead>\n",
       "    <tr>\n",
       "      <th></th>\n",
       "      <th colspan=\"10\" halign=\"left\">CASE_ENQUIRY_ID</th>\n",
       "      <th>...</th>\n",
       "      <th colspan=\"10\" halign=\"left\">Total_count</th>\n",
       "    </tr>\n",
       "    <tr>\n",
       "      <th>311_year</th>\n",
       "      <th colspan=\"8\" halign=\"left\">2011</th>\n",
       "      <th colspan=\"2\" halign=\"left\">2012</th>\n",
       "      <th>...</th>\n",
       "      <th colspan=\"2\" halign=\"left\">2015</th>\n",
       "      <th colspan=\"8\" halign=\"left\">2016</th>\n",
       "    </tr>\n",
       "    <tr>\n",
       "      <th>Model_category</th>\n",
       "      <th>Building</th>\n",
       "      <th>Enviro</th>\n",
       "      <th>Graffiti</th>\n",
       "      <th>Housing</th>\n",
       "      <th>Recycling-Pickup</th>\n",
       "      <th>Street-Sidewalk</th>\n",
       "      <th>Trees</th>\n",
       "      <th>excluded</th>\n",
       "      <th>Building</th>\n",
       "      <th>Enviro</th>\n",
       "      <th>...</th>\n",
       "      <th>Trees</th>\n",
       "      <th>excluded</th>\n",
       "      <th>Building</th>\n",
       "      <th>Enviro</th>\n",
       "      <th>Graffiti</th>\n",
       "      <th>Housing</th>\n",
       "      <th>Recycling-Pickup</th>\n",
       "      <th>Street-Sidewalk</th>\n",
       "      <th>Trees</th>\n",
       "      <th>excluded</th>\n",
       "    </tr>\n",
       "    <tr>\n",
       "      <th>parcel_num</th>\n",
       "      <th></th>\n",
       "      <th></th>\n",
       "      <th></th>\n",
       "      <th></th>\n",
       "      <th></th>\n",
       "      <th></th>\n",
       "      <th></th>\n",
       "      <th></th>\n",
       "      <th></th>\n",
       "      <th></th>\n",
       "      <th></th>\n",
       "      <th></th>\n",
       "      <th></th>\n",
       "      <th></th>\n",
       "      <th></th>\n",
       "      <th></th>\n",
       "      <th></th>\n",
       "      <th></th>\n",
       "      <th></th>\n",
       "      <th></th>\n",
       "      <th></th>\n",
       "    </tr>\n",
       "  </thead>\n",
       "  <tbody>\n",
       "    <tr>\n",
       "      <th>2.205664e+09</th>\n",
       "      <td>0</td>\n",
       "      <td>0</td>\n",
       "      <td>0</td>\n",
       "      <td>0</td>\n",
       "      <td>1</td>\n",
       "      <td>0</td>\n",
       "      <td>0</td>\n",
       "      <td>0</td>\n",
       "      <td>0</td>\n",
       "      <td>0</td>\n",
       "      <td>...</td>\n",
       "      <td>0</td>\n",
       "      <td>0</td>\n",
       "      <td>0</td>\n",
       "      <td>0</td>\n",
       "      <td>0</td>\n",
       "      <td>0</td>\n",
       "      <td>0</td>\n",
       "      <td>0</td>\n",
       "      <td>0</td>\n",
       "      <td>0</td>\n",
       "    </tr>\n",
       "    <tr>\n",
       "      <th>2.205665e+09</th>\n",
       "      <td>0</td>\n",
       "      <td>0</td>\n",
       "      <td>0</td>\n",
       "      <td>0</td>\n",
       "      <td>0</td>\n",
       "      <td>0</td>\n",
       "      <td>0</td>\n",
       "      <td>1</td>\n",
       "      <td>0</td>\n",
       "      <td>0</td>\n",
       "      <td>...</td>\n",
       "      <td>0</td>\n",
       "      <td>0</td>\n",
       "      <td>0</td>\n",
       "      <td>0</td>\n",
       "      <td>0</td>\n",
       "      <td>0</td>\n",
       "      <td>0</td>\n",
       "      <td>0</td>\n",
       "      <td>0</td>\n",
       "      <td>0</td>\n",
       "    </tr>\n",
       "    <tr>\n",
       "      <th>2.205665e+09</th>\n",
       "      <td>0</td>\n",
       "      <td>0</td>\n",
       "      <td>0</td>\n",
       "      <td>0</td>\n",
       "      <td>0</td>\n",
       "      <td>0</td>\n",
       "      <td>0</td>\n",
       "      <td>0</td>\n",
       "      <td>0</td>\n",
       "      <td>0</td>\n",
       "      <td>...</td>\n",
       "      <td>0</td>\n",
       "      <td>1</td>\n",
       "      <td>0</td>\n",
       "      <td>0</td>\n",
       "      <td>0</td>\n",
       "      <td>0</td>\n",
       "      <td>0</td>\n",
       "      <td>0</td>\n",
       "      <td>0</td>\n",
       "      <td>0</td>\n",
       "    </tr>\n",
       "    <tr>\n",
       "      <th>2.205668e+09</th>\n",
       "      <td>0</td>\n",
       "      <td>0</td>\n",
       "      <td>0</td>\n",
       "      <td>0</td>\n",
       "      <td>0</td>\n",
       "      <td>0</td>\n",
       "      <td>0</td>\n",
       "      <td>0</td>\n",
       "      <td>0</td>\n",
       "      <td>0</td>\n",
       "      <td>...</td>\n",
       "      <td>0</td>\n",
       "      <td>0</td>\n",
       "      <td>0</td>\n",
       "      <td>1</td>\n",
       "      <td>0</td>\n",
       "      <td>0</td>\n",
       "      <td>0</td>\n",
       "      <td>1</td>\n",
       "      <td>0</td>\n",
       "      <td>1</td>\n",
       "    </tr>\n",
       "    <tr>\n",
       "      <th>2.205669e+09</th>\n",
       "      <td>0</td>\n",
       "      <td>0</td>\n",
       "      <td>0</td>\n",
       "      <td>0</td>\n",
       "      <td>0</td>\n",
       "      <td>0</td>\n",
       "      <td>0</td>\n",
       "      <td>1</td>\n",
       "      <td>0</td>\n",
       "      <td>0</td>\n",
       "      <td>...</td>\n",
       "      <td>0</td>\n",
       "      <td>2</td>\n",
       "      <td>1</td>\n",
       "      <td>0</td>\n",
       "      <td>0</td>\n",
       "      <td>0</td>\n",
       "      <td>0</td>\n",
       "      <td>2</td>\n",
       "      <td>0</td>\n",
       "      <td>0</td>\n",
       "    </tr>\n",
       "  </tbody>\n",
       "</table>\n",
       "<p>5 rows × 720 columns</p>\n",
       "</div>"
      ],
      "text/plain": [
       "               CASE_ENQUIRY_ID                                           \\\n",
       "311_year                  2011                                            \n",
       "Model_category        Building Enviro Graffiti Housing Recycling-Pickup   \n",
       "parcel_num                                                                \n",
       "2.205664e+09                 0      0        0       0                1   \n",
       "2.205665e+09                 0      0        0       0                0   \n",
       "2.205665e+09                 0      0        0       0                0   \n",
       "2.205668e+09                 0      0        0       0                0   \n",
       "2.205669e+09                 0      0        0       0                0   \n",
       "\n",
       "                                                                ...     \\\n",
       "311_year                                          2012          ...      \n",
       "Model_category Street-Sidewalk Trees excluded Building Enviro   ...      \n",
       "parcel_num                                                      ...      \n",
       "2.205664e+09                 0     0        0        0      0   ...      \n",
       "2.205665e+09                 0     0        1        0      0   ...      \n",
       "2.205665e+09                 0     0        0        0      0   ...      \n",
       "2.205668e+09                 0     0        0        0      0   ...      \n",
       "2.205669e+09                 0     0        1        0      0   ...      \n",
       "\n",
       "               Total_count                                            \\\n",
       "311_year              2015              2016                           \n",
       "Model_category       Trees excluded Building Enviro Graffiti Housing   \n",
       "parcel_num                                                             \n",
       "2.205664e+09             0        0        0      0        0       0   \n",
       "2.205665e+09             0        0        0      0        0       0   \n",
       "2.205665e+09             0        1        0      0        0       0   \n",
       "2.205668e+09             0        0        0      1        0       0   \n",
       "2.205669e+09             0        2        1      0        0       0   \n",
       "\n",
       "                                                                \n",
       "311_year                                                        \n",
       "Model_category Recycling-Pickup Street-Sidewalk Trees excluded  \n",
       "parcel_num                                                      \n",
       "2.205664e+09                  0               0     0        0  \n",
       "2.205665e+09                  0               0     0        0  \n",
       "2.205665e+09                  0               0     0        0  \n",
       "2.205668e+09                  0               1     0        1  \n",
       "2.205669e+09                  0               2     0        0  \n",
       "\n",
       "[5 rows x 720 columns]"
      ]
     },
     "execution_count": 34,
     "metadata": {},
     "output_type": "execute_result"
    }
   ],
   "source": [
    "b311_gb2.tail(5)"
   ]
  },
  {
   "cell_type": "code",
   "execution_count": 37,
   "metadata": {
    "collapsed": false
   },
   "outputs": [
    {
     "data": {
      "text/plain": [
       "(100489, 720)"
      ]
     },
     "execution_count": 37,
     "metadata": {},
     "output_type": "execute_result"
    }
   ],
   "source": [
    "b311_gb2.shape"
   ]
  },
  {
   "cell_type": "code",
   "execution_count": null,
   "metadata": {
    "collapsed": false
   },
   "outputs": [],
   "source": []
  },
  {
   "cell_type": "code",
   "execution_count": 36,
   "metadata": {
    "collapsed": true
   },
   "outputs": [],
   "source": [
    "b311_gb2.to_csv('/Users/DavidStier/Downloads/GB311bigtest2.csv')"
   ]
  },
  {
   "cell_type": "markdown",
   "metadata": {},
   "source": [
    "###  Made slight edits to file in excel : removed multi-index, changed col. names for patsy, removed 'duplicate' count data (because data was only 'count' of calls the individual column counted didn't matter"
   ]
  },
  {
   "cell_type": "code",
   "execution_count": 58,
   "metadata": {
    "collapsed": false
   },
   "outputs": [],
   "source": [
    "b311_gb2_backin = pd.read_csv('/Users/DavidStier/Documents/Python and Data Science/DSI Class/Final Project/Datasets/Audit Trail Datasets/GB311bigtest(reduced).csv')"
   ]
  },
  {
   "cell_type": "code",
   "execution_count": 60,
   "metadata": {
    "collapsed": false
   },
   "outputs": [
    {
     "data": {
      "text/html": [
       "<div>\n",
       "<table border=\"1\" class=\"dataframe\">\n",
       "  <thead>\n",
       "    <tr style=\"text-align: right;\">\n",
       "      <th></th>\n",
       "      <th>Property_ID</th>\n",
       "      <th>Thr12011to2013_Building</th>\n",
       "      <th>Thr12011to2013_Enviro</th>\n",
       "      <th>Thr12011to2013_Graffiti</th>\n",
       "      <th>Thr12011to2013_Housing</th>\n",
       "      <th>Thr12011to2013_Recycling-Pickup</th>\n",
       "      <th>Thr12011to2013_Street-Sidewalk</th>\n",
       "      <th>Thr12011to2013_Trees</th>\n",
       "      <th>Thr12011to2013_excluded</th>\n",
       "      <th>Thr12014to2015_Building</th>\n",
       "      <th>...</th>\n",
       "      <th>Thr12015_Trees</th>\n",
       "      <th>Thr12015_excluded</th>\n",
       "      <th>Thr12016_Building</th>\n",
       "      <th>Thr12016_Enviro</th>\n",
       "      <th>Thr12016_Graffiti</th>\n",
       "      <th>Thr12016_Housing</th>\n",
       "      <th>Thr12016_Recycling-Pickup</th>\n",
       "      <th>Thr12016_Street-Sidewalk</th>\n",
       "      <th>Thr12016_Trees</th>\n",
       "      <th>Thr12016_excluded</th>\n",
       "    </tr>\n",
       "  </thead>\n",
       "  <tbody>\n",
       "    <tr>\n",
       "      <th>0</th>\n",
       "      <td>1</td>\n",
       "      <td>0</td>\n",
       "      <td>2</td>\n",
       "      <td>0</td>\n",
       "      <td>0</td>\n",
       "      <td>0</td>\n",
       "      <td>5</td>\n",
       "      <td>0</td>\n",
       "      <td>5</td>\n",
       "      <td>0</td>\n",
       "      <td>...</td>\n",
       "      <td>0</td>\n",
       "      <td>5</td>\n",
       "      <td>0</td>\n",
       "      <td>0</td>\n",
       "      <td>0</td>\n",
       "      <td>0</td>\n",
       "      <td>0</td>\n",
       "      <td>0</td>\n",
       "      <td>0</td>\n",
       "      <td>0</td>\n",
       "    </tr>\n",
       "    <tr>\n",
       "      <th>1</th>\n",
       "      <td>2</td>\n",
       "      <td>0</td>\n",
       "      <td>0</td>\n",
       "      <td>0</td>\n",
       "      <td>0</td>\n",
       "      <td>0</td>\n",
       "      <td>1</td>\n",
       "      <td>0</td>\n",
       "      <td>0</td>\n",
       "      <td>0</td>\n",
       "      <td>...</td>\n",
       "      <td>0</td>\n",
       "      <td>0</td>\n",
       "      <td>0</td>\n",
       "      <td>0</td>\n",
       "      <td>0</td>\n",
       "      <td>0</td>\n",
       "      <td>0</td>\n",
       "      <td>1</td>\n",
       "      <td>0</td>\n",
       "      <td>0</td>\n",
       "    </tr>\n",
       "    <tr>\n",
       "      <th>2</th>\n",
       "      <td>3</td>\n",
       "      <td>0</td>\n",
       "      <td>1</td>\n",
       "      <td>0</td>\n",
       "      <td>0</td>\n",
       "      <td>0</td>\n",
       "      <td>10</td>\n",
       "      <td>0</td>\n",
       "      <td>11</td>\n",
       "      <td>0</td>\n",
       "      <td>...</td>\n",
       "      <td>0</td>\n",
       "      <td>6</td>\n",
       "      <td>0</td>\n",
       "      <td>0</td>\n",
       "      <td>0</td>\n",
       "      <td>0</td>\n",
       "      <td>0</td>\n",
       "      <td>0</td>\n",
       "      <td>0</td>\n",
       "      <td>0</td>\n",
       "    </tr>\n",
       "    <tr>\n",
       "      <th>3</th>\n",
       "      <td>4</td>\n",
       "      <td>0</td>\n",
       "      <td>1</td>\n",
       "      <td>0</td>\n",
       "      <td>0</td>\n",
       "      <td>0</td>\n",
       "      <td>1</td>\n",
       "      <td>0</td>\n",
       "      <td>1</td>\n",
       "      <td>0</td>\n",
       "      <td>...</td>\n",
       "      <td>0</td>\n",
       "      <td>4</td>\n",
       "      <td>0</td>\n",
       "      <td>0</td>\n",
       "      <td>0</td>\n",
       "      <td>0</td>\n",
       "      <td>0</td>\n",
       "      <td>0</td>\n",
       "      <td>0</td>\n",
       "      <td>0</td>\n",
       "    </tr>\n",
       "    <tr>\n",
       "      <th>4</th>\n",
       "      <td>5</td>\n",
       "      <td>0</td>\n",
       "      <td>9</td>\n",
       "      <td>0</td>\n",
       "      <td>0</td>\n",
       "      <td>0</td>\n",
       "      <td>4</td>\n",
       "      <td>0</td>\n",
       "      <td>19</td>\n",
       "      <td>1</td>\n",
       "      <td>...</td>\n",
       "      <td>0</td>\n",
       "      <td>3</td>\n",
       "      <td>0</td>\n",
       "      <td>0</td>\n",
       "      <td>0</td>\n",
       "      <td>0</td>\n",
       "      <td>0</td>\n",
       "      <td>0</td>\n",
       "      <td>0</td>\n",
       "      <td>0</td>\n",
       "    </tr>\n",
       "  </tbody>\n",
       "</table>\n",
       "<p>5 rows × 65 columns</p>\n",
       "</div>"
      ],
      "text/plain": [
       "   Property_ID  Thr12011to2013_Building  Thr12011to2013_Enviro  \\\n",
       "0            1                        0                      2   \n",
       "1            2                        0                      0   \n",
       "2            3                        0                      1   \n",
       "3            4                        0                      1   \n",
       "4            5                        0                      9   \n",
       "\n",
       "   Thr12011to2013_Graffiti  Thr12011to2013_Housing  \\\n",
       "0                        0                       0   \n",
       "1                        0                       0   \n",
       "2                        0                       0   \n",
       "3                        0                       0   \n",
       "4                        0                       0   \n",
       "\n",
       "   Thr12011to2013_Recycling-Pickup  Thr12011to2013_Street-Sidewalk  \\\n",
       "0                                0                               5   \n",
       "1                                0                               1   \n",
       "2                                0                              10   \n",
       "3                                0                               1   \n",
       "4                                0                               4   \n",
       "\n",
       "   Thr12011to2013_Trees  Thr12011to2013_excluded  Thr12014to2015_Building  \\\n",
       "0                     0                        5                        0   \n",
       "1                     0                        0                        0   \n",
       "2                     0                       11                        0   \n",
       "3                     0                        1                        0   \n",
       "4                     0                       19                        1   \n",
       "\n",
       "         ...          Thr12015_Trees  Thr12015_excluded  Thr12016_Building  \\\n",
       "0        ...                       0                  5                  0   \n",
       "1        ...                       0                  0                  0   \n",
       "2        ...                       0                  6                  0   \n",
       "3        ...                       0                  4                  0   \n",
       "4        ...                       0                  3                  0   \n",
       "\n",
       "   Thr12016_Enviro  Thr12016_Graffiti  Thr12016_Housing  \\\n",
       "0                0                  0                 0   \n",
       "1                0                  0                 0   \n",
       "2                0                  0                 0   \n",
       "3                0                  0                 0   \n",
       "4                0                  0                 0   \n",
       "\n",
       "   Thr12016_Recycling-Pickup  Thr12016_Street-Sidewalk  Thr12016_Trees  \\\n",
       "0                          0                         0               0   \n",
       "1                          0                         1               0   \n",
       "2                          0                         0               0   \n",
       "3                          0                         0               0   \n",
       "4                          0                         0               0   \n",
       "\n",
       "   Thr12016_excluded  \n",
       "0                  0  \n",
       "1                  0  \n",
       "2                  0  \n",
       "3                  0  \n",
       "4                  0  \n",
       "\n",
       "[5 rows x 65 columns]"
      ]
     },
     "execution_count": 60,
     "metadata": {},
     "output_type": "execute_result"
    }
   ],
   "source": [
    "b311_gb2_backin[0:5][0:25]"
   ]
  },
  {
   "cell_type": "code",
   "execution_count": 61,
   "metadata": {
    "collapsed": false
   },
   "outputs": [
    {
     "data": {
      "text/plain": [
       "(132296, 65)"
      ]
     },
     "execution_count": 61,
     "metadata": {},
     "output_type": "execute_result"
    }
   ],
   "source": [
    "b311_gb2_backin.shape"
   ]
  },
  {
   "cell_type": "markdown",
   "metadata": {},
   "source": [
    "## Now can import the file (GB311bigtest(reduced)) and join to model dataframe"
   ]
  },
  {
   "cell_type": "code",
   "execution_count": null,
   "metadata": {
    "collapsed": true
   },
   "outputs": [],
   "source": []
  }
 ],
 "metadata": {
  "anaconda-cloud": {},
  "kernelspec": {
   "display_name": "Python [dsi]",
   "language": "python",
   "name": "Python [dsi]"
  },
  "language_info": {
   "codemirror_mode": {
    "name": "ipython",
    "version": 2
   },
   "file_extension": ".py",
   "mimetype": "text/x-python",
   "name": "python",
   "nbconvert_exporter": "python",
   "pygments_lexer": "ipython2",
   "version": "2.7.12"
  }
 },
 "nbformat": 4,
 "nbformat_minor": 0
}
